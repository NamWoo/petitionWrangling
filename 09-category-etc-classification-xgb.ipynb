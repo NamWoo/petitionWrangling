{
 "cells": [
  {
   "cell_type": "markdown",
   "metadata": {},
   "source": [
    "# 국민청원 데이터로 청원 카테고리 분류하기\n",
    "### 기존 분류에 기타 카테고리를 다른 카테고리로 예측하는 코드 추가\n",
    "### XGBoost로 예측 추가\n",
    "* 청와대 국민청원 : https://www1.president.go.kr/petitions\n",
    "* 학습세트의 카테고리를 바탕으로 테스트 세트의 청원 카테고리를 분류해 봅니다.\n",
    "* `기타`로 설정된 카테고리를 텍스트 데이터로 예측해서 보정해 주고 다시 카테고리를 예측해 봅니다."
   ]
  },
  {
   "cell_type": "markdown",
   "metadata": {},
   "source": [
    "1. 데이터 전처리\n",
    "1. 기타 청원과 아닌 것 나누기\n",
    "    1. 단어 벡터화(BOW, TF-IDF)\n",
    "    1. 기타 청원 분류하기(RF)\n",
    "1. 예측값을 category_pred 컬럼에 넣어주기\n",
    "1. 학습세트와 테스트세트를 7:3으로 임의로 나누기\n",
    "1. 단어 벡터화(BOW, TF-IDF)\n",
    "1. 분류기 설정하기(RF, XGB)\n",
    "1. 분류기로 학습시키기(RF, XGB)\n",
    "1. label 데이터를 예측한 category_pred 로 사용하기\n",
    "1. 학습의 정확도 보기(RF, XGB)\n",
    "1. 테스트 데이터 예측하기(RF, XGB)\n",
    "1. 실제 데이터와 예측결과의 차이를 보기(RF, XGB)"
   ]
  },
  {
   "cell_type": "code",
   "execution_count": 1,
   "metadata": {},
   "outputs": [],
   "source": [
    "import warnings\n",
    "warnings.filterwarnings('ignore')"
   ]
  },
  {
   "cell_type": "code",
   "execution_count": 2,
   "metadata": {},
   "outputs": [
    {
     "name": "stdout",
     "output_type": "stream",
     "text": [
      "0.21.0\n",
      "1.14.0\n"
     ]
    }
   ],
   "source": [
    "import pandas as pd\n",
    "import numpy as np\n",
    "import re\n",
    "print(pd.__version__)\n",
    "print(np.__version__)"
   ]
  },
  {
   "cell_type": "markdown",
   "metadata": {},
   "source": [
    "# 데이터 로드하기"
   ]
  },
  {
   "cell_type": "code",
   "execution_count": 3,
   "metadata": {},
   "outputs": [
    {
     "data": {
      "text/plain": [
       "(210424, 8)"
      ]
     },
     "execution_count": 3,
     "metadata": {},
     "output_type": "execute_result"
    }
   ],
   "source": [
    "# 크롤링해 온 국민청원 데이터를 판다스를 통해 읽어옵니다.\n",
    "petitions = pd.read_csv('data/petition.csv', parse_dates=['start', 'end'])\n",
    "# 데이터의 크기가 어느정도인지 봅니다.\n",
    "petitions.shape"
   ]
  },
  {
   "cell_type": "code",
   "execution_count": 4,
   "metadata": {},
   "outputs": [
    {
     "name": "stdout",
     "output_type": "stream",
     "text": [
      "<class 'pandas.core.frame.DataFrame'>\n",
      "RangeIndex: 210424 entries, 0 to 210423\n",
      "Data columns (total 8 columns):\n",
      "article_id    210424 non-null int64\n",
      "start         210424 non-null datetime64[ns]\n",
      "end           210424 non-null datetime64[ns]\n",
      "answered      210424 non-null int64\n",
      "votes         210424 non-null int64\n",
      "category      210424 non-null object\n",
      "title         210424 non-null object\n",
      "content       210423 non-null object\n",
      "dtypes: datetime64[ns](2), int64(3), object(3)\n",
      "memory usage: 12.8+ MB\n"
     ]
    }
   ],
   "source": [
    "petitions.info()"
   ]
  },
  {
   "cell_type": "code",
   "execution_count": 5,
   "metadata": {},
   "outputs": [
    {
     "data": {
      "text/html": [
       "<div>\n",
       "<style scoped>\n",
       "    .dataframe tbody tr th:only-of-type {\n",
       "        vertical-align: middle;\n",
       "    }\n",
       "\n",
       "    .dataframe tbody tr th {\n",
       "        vertical-align: top;\n",
       "    }\n",
       "\n",
       "    .dataframe thead th {\n",
       "        text-align: right;\n",
       "    }\n",
       "</style>\n",
       "<table border=\"1\" class=\"dataframe\">\n",
       "  <thead>\n",
       "    <tr style=\"text-align: right;\">\n",
       "      <th></th>\n",
       "      <th>article_id</th>\n",
       "      <th>answered</th>\n",
       "      <th>votes</th>\n",
       "    </tr>\n",
       "  </thead>\n",
       "  <tbody>\n",
       "    <tr>\n",
       "      <th>count</th>\n",
       "      <td>210424.000000</td>\n",
       "      <td>210424.000000</td>\n",
       "      <td>210424.000000</td>\n",
       "    </tr>\n",
       "    <tr>\n",
       "      <th>mean</th>\n",
       "      <td>126356.643358</td>\n",
       "      <td>0.000128</td>\n",
       "      <td>146.814508</td>\n",
       "    </tr>\n",
       "    <tr>\n",
       "      <th>std</th>\n",
       "      <td>79120.580606</td>\n",
       "      <td>0.011327</td>\n",
       "      <td>4595.002647</td>\n",
       "    </tr>\n",
       "    <tr>\n",
       "      <th>min</th>\n",
       "      <td>21.000000</td>\n",
       "      <td>0.000000</td>\n",
       "      <td>0.000000</td>\n",
       "    </tr>\n",
       "    <tr>\n",
       "      <th>25%</th>\n",
       "      <td>54617.750000</td>\n",
       "      <td>0.000000</td>\n",
       "      <td>1.000000</td>\n",
       "    </tr>\n",
       "    <tr>\n",
       "      <th>50%</th>\n",
       "      <td>126121.500000</td>\n",
       "      <td>0.000000</td>\n",
       "      <td>3.000000</td>\n",
       "    </tr>\n",
       "    <tr>\n",
       "      <th>75%</th>\n",
       "      <td>192984.500000</td>\n",
       "      <td>0.000000</td>\n",
       "      <td>10.000000</td>\n",
       "    </tr>\n",
       "    <tr>\n",
       "      <th>max</th>\n",
       "      <td>271767.000000</td>\n",
       "      <td>1.000000</td>\n",
       "      <td>714875.000000</td>\n",
       "    </tr>\n",
       "  </tbody>\n",
       "</table>\n",
       "</div>"
      ],
      "text/plain": [
       "          article_id       answered          votes\n",
       "count  210424.000000  210424.000000  210424.000000\n",
       "mean   126356.643358       0.000128     146.814508\n",
       "std     79120.580606       0.011327    4595.002647\n",
       "min        21.000000       0.000000       0.000000\n",
       "25%     54617.750000       0.000000       1.000000\n",
       "50%    126121.500000       0.000000       3.000000\n",
       "75%    192984.500000       0.000000      10.000000\n",
       "max    271767.000000       1.000000  714875.000000"
      ]
     },
     "execution_count": 5,
     "metadata": {},
     "output_type": "execute_result"
    }
   ],
   "source": [
    "petitions.describe()"
   ]
  },
  {
   "cell_type": "code",
   "execution_count": 6,
   "metadata": {},
   "outputs": [
    {
     "data": {
      "text/plain": [
       "(1844, 8)"
      ]
     },
     "execution_count": 6,
     "metadata": {},
     "output_type": "execute_result"
    }
   ],
   "source": [
    "# 전체 데이터 중 투표가 1000건 이상인 데이터를 기준으로 가져옵니다. 아웃라이어 데이터 제거를 위해 10만건 이상 데이터도 제거합니다.\n",
    "df = petitions.loc[(petitions['votes'] > 1000)].copy()\n",
    "df.shape"
   ]
  },
  {
   "cell_type": "code",
   "execution_count": 7,
   "metadata": {},
   "outputs": [
    {
     "data": {
      "text/html": [
       "<div>\n",
       "<style scoped>\n",
       "    .dataframe tbody tr th:only-of-type {\n",
       "        vertical-align: middle;\n",
       "    }\n",
       "\n",
       "    .dataframe tbody tr th {\n",
       "        vertical-align: top;\n",
       "    }\n",
       "\n",
       "    .dataframe thead th {\n",
       "        text-align: right;\n",
       "    }\n",
       "</style>\n",
       "<table border=\"1\" class=\"dataframe\">\n",
       "  <thead>\n",
       "    <tr style=\"text-align: right;\">\n",
       "      <th></th>\n",
       "      <th>article_id</th>\n",
       "      <th>answered</th>\n",
       "      <th>votes</th>\n",
       "    </tr>\n",
       "  </thead>\n",
       "  <tbody>\n",
       "    <tr>\n",
       "      <th>count</th>\n",
       "      <td>1844.000000</td>\n",
       "      <td>1844.000000</td>\n",
       "      <td>1844.000000</td>\n",
       "    </tr>\n",
       "    <tr>\n",
       "      <th>mean</th>\n",
       "      <td>140920.610087</td>\n",
       "      <td>0.014642</td>\n",
       "      <td>14733.243492</td>\n",
       "    </tr>\n",
       "    <tr>\n",
       "      <th>std</th>\n",
       "      <td>77224.394082</td>\n",
       "      <td>0.120148</td>\n",
       "      <td>46855.752473</td>\n",
       "    </tr>\n",
       "    <tr>\n",
       "      <th>min</th>\n",
       "      <td>28.000000</td>\n",
       "      <td>0.000000</td>\n",
       "      <td>1002.000000</td>\n",
       "    </tr>\n",
       "    <tr>\n",
       "      <th>25%</th>\n",
       "      <td>70855.000000</td>\n",
       "      <td>0.000000</td>\n",
       "      <td>1585.750000</td>\n",
       "    </tr>\n",
       "    <tr>\n",
       "      <th>50%</th>\n",
       "      <td>148907.000000</td>\n",
       "      <td>0.000000</td>\n",
       "      <td>2870.000000</td>\n",
       "    </tr>\n",
       "    <tr>\n",
       "      <th>75%</th>\n",
       "      <td>207837.000000</td>\n",
       "      <td>0.000000</td>\n",
       "      <td>7527.250000</td>\n",
       "    </tr>\n",
       "    <tr>\n",
       "      <th>max</th>\n",
       "      <td>271763.000000</td>\n",
       "      <td>1.000000</td>\n",
       "      <td>714875.000000</td>\n",
       "    </tr>\n",
       "  </tbody>\n",
       "</table>\n",
       "</div>"
      ],
      "text/plain": [
       "          article_id     answered          votes\n",
       "count    1844.000000  1844.000000    1844.000000\n",
       "mean   140920.610087     0.014642   14733.243492\n",
       "std     77224.394082     0.120148   46855.752473\n",
       "min        28.000000     0.000000    1002.000000\n",
       "25%     70855.000000     0.000000    1585.750000\n",
       "50%    148907.000000     0.000000    2870.000000\n",
       "75%    207837.000000     0.000000    7527.250000\n",
       "max    271763.000000     1.000000  714875.000000"
      ]
     },
     "execution_count": 7,
     "metadata": {},
     "output_type": "execute_result"
    }
   ],
   "source": [
    "df.describe()"
   ]
  },
  {
   "cell_type": "code",
   "execution_count": 8,
   "metadata": {},
   "outputs": [
    {
     "data": {
      "text/plain": [
       "인권/성평등         246\n",
       "보건복지           190\n",
       "육아/교육          182\n",
       "안전/환경          176\n",
       "정치개혁           171\n",
       "기타             146\n",
       "문화/예술/체육/언론    134\n",
       "교통/건축/국토       133\n",
       "행정              91\n",
       "일자리             83\n",
       "외교/통일/국방        77\n",
       "반려동물            70\n",
       "경제민주화           70\n",
       "미래              30\n",
       "성장동력            20\n",
       "저출산/고령화대책       14\n",
       "농산어촌            11\n",
       "Name: category, dtype: int64"
      ]
     },
     "execution_count": 8,
     "metadata": {},
     "output_type": "execute_result"
    }
   ],
   "source": [
    "category_count = df['category'].value_counts()\n",
    "category_count"
   ]
  },
  {
   "cell_type": "code",
   "execution_count": 9,
   "metadata": {},
   "outputs": [
    {
     "data": {
      "text/plain": [
       "<matplotlib.axes._subplots.AxesSubplot at 0x11322ebe0>"
      ]
     },
     "execution_count": 9,
     "metadata": {},
     "output_type": "execute_result"
    },
    {
     "data": {
      "image/png": "[encoded data removed]",
      "text/plain": [
       "<matplotlib.figure.Figure at 0x1109badd8>"
      ]
     },
     "metadata": {},
     "output_type": "display_data"
    }
   ],
   "source": [
    "%matplotlib inline \n",
    "import matplotlib.pyplot as plt\n",
    "\n",
    "plt.rcParams[\"font.family\"] = 'NanumBarunGothic'\n",
    "category_count.plot(kind='bar')"
   ]
  },
  {
   "cell_type": "code",
   "execution_count": 10,
   "metadata": {},
   "outputs": [
    {
     "data": {
      "text/plain": [
       "<matplotlib.axes._subplots.AxesSubplot at 0x1132d67f0>"
      ]
     },
     "execution_count": 10,
     "metadata": {},
     "output_type": "execute_result"
    },
    {
     "data": {
      "image/png": "[encoded data removed]",
      "text/plain": [
       "<matplotlib.figure.Figure at 0x114be4d68>"
      ]
     },
     "metadata": {},
     "output_type": "display_data"
    }
   ],
   "source": [
    "df['votes'].hist(bins=100)"
   ]
  },
  {
   "cell_type": "code",
   "execution_count": 11,
   "metadata": {},
   "outputs": [],
   "source": [
    "# 예측값과 실제값 비교를 위해 컬럼을 하나 더 생성합니다.\n",
    "df['category_pred'] = df['category'].copy()"
   ]
  },
  {
   "cell_type": "code",
   "execution_count": 12,
   "metadata": {},
   "outputs": [
    {
     "data": {
      "text/html": [
       "<div>\n",
       "<style scoped>\n",
       "    .dataframe tbody tr th:only-of-type {\n",
       "        vertical-align: middle;\n",
       "    }\n",
       "\n",
       "    .dataframe tbody tr th {\n",
       "        vertical-align: top;\n",
       "    }\n",
       "\n",
       "    .dataframe thead th {\n",
       "        text-align: right;\n",
       "    }\n",
       "</style>\n",
       "<table border=\"1\" class=\"dataframe\">\n",
       "  <thead>\n",
       "    <tr style=\"text-align: right;\">\n",
       "      <th></th>\n",
       "      <th>article_id</th>\n",
       "      <th>start</th>\n",
       "      <th>end</th>\n",
       "      <th>answered</th>\n",
       "      <th>votes</th>\n",
       "      <th>category</th>\n",
       "      <th>title</th>\n",
       "      <th>content</th>\n",
       "      <th>category_pred</th>\n",
       "    </tr>\n",
       "  </thead>\n",
       "  <tbody>\n",
       "    <tr>\n",
       "      <th>7</th>\n",
       "      <td>28</td>\n",
       "      <td>2017-08-19</td>\n",
       "      <td>2017-08-26</td>\n",
       "      <td>0</td>\n",
       "      <td>2137</td>\n",
       "      <td>경제민주화</td>\n",
       "      <td>소액주주를 보호해주십시오</td>\n",
       "      <td>**  존경하옵는 문재인대통령님께\\n저는 중국원양자원이라는 KOSPI상장사의 소액 ...</td>\n",
       "      <td>경제민주화</td>\n",
       "    </tr>\n",
       "    <tr>\n",
       "      <th>21</th>\n",
       "      <td>43</td>\n",
       "      <td>2017-08-19</td>\n",
       "      <td>2017-09-18</td>\n",
       "      <td>0</td>\n",
       "      <td>11293</td>\n",
       "      <td>육아/교육</td>\n",
       "      <td>기간제 교사의 정규직화를 반대합니다.</td>\n",
       "      <td>대통령님, 안녕하세요. 저는 임용을 준비하고 수험생입니다. 처음 기간제 정규직화 된...</td>\n",
       "      <td>육아/교육</td>\n",
       "    </tr>\n",
       "    <tr>\n",
       "      <th>24</th>\n",
       "      <td>46</td>\n",
       "      <td>2017-08-19</td>\n",
       "      <td>2017-09-18</td>\n",
       "      <td>0</td>\n",
       "      <td>1933</td>\n",
       "      <td>육아/교육</td>\n",
       "      <td>기간제교사의 정규직화를 반대합니다.</td>\n",
       "      <td>대통령님, 안녕하세요. 저는 임용을 준비하고 수험생입니다. 처음 기간제 정규직화 된...</td>\n",
       "      <td>육아/교육</td>\n",
       "    </tr>\n",
       "    <tr>\n",
       "      <th>28</th>\n",
       "      <td>50</td>\n",
       "      <td>2017-08-19</td>\n",
       "      <td>2017-10-18</td>\n",
       "      <td>0</td>\n",
       "      <td>1251</td>\n",
       "      <td>일자리</td>\n",
       "      <td>치과위생사 국가고시 날짜 변경 억울합니다</td>\n",
       "      <td>안녕하십니까? 대통령님 간단하게 제소개 부터 하겠습니다. 저는 치위생과 3학년 학생...</td>\n",
       "      <td>일자리</td>\n",
       "    </tr>\n",
       "    <tr>\n",
       "      <th>38</th>\n",
       "      <td>61</td>\n",
       "      <td>2017-08-19</td>\n",
       "      <td>2017-08-26</td>\n",
       "      <td>0</td>\n",
       "      <td>1185</td>\n",
       "      <td>일자리</td>\n",
       "      <td>영어회화전문강사제도는 유지되어야합니다.</td>\n",
       "      <td>1. 영전강의고용안정을 원합니다\\n2.1년단위계약직으로 임신 출산육아 매우 곤란합니...</td>\n",
       "      <td>일자리</td>\n",
       "    </tr>\n",
       "  </tbody>\n",
       "</table>\n",
       "</div>"
      ],
      "text/plain": [
       "    article_id      start        end  answered  votes category  \\\n",
       "7           28 2017-08-19 2017-08-26         0   2137    경제민주화   \n",
       "21          43 2017-08-19 2017-09-18         0  11293    육아/교육   \n",
       "24          46 2017-08-19 2017-09-18         0   1933    육아/교육   \n",
       "28          50 2017-08-19 2017-10-18         0   1251      일자리   \n",
       "38          61 2017-08-19 2017-08-26         0   1185      일자리   \n",
       "\n",
       "                     title                                            content  \\\n",
       "7            소액주주를 보호해주십시오  **  존경하옵는 문재인대통령님께\\n저는 중국원양자원이라는 KOSPI상장사의 소액 ...   \n",
       "21    기간제 교사의 정규직화를 반대합니다.  대통령님, 안녕하세요. 저는 임용을 준비하고 수험생입니다. 처음 기간제 정규직화 된...   \n",
       "24     기간제교사의 정규직화를 반대합니다.  대통령님, 안녕하세요. 저는 임용을 준비하고 수험생입니다. 처음 기간제 정규직화 된...   \n",
       "28  치과위생사 국가고시 날짜 변경 억울합니다  안녕하십니까? 대통령님 간단하게 제소개 부터 하겠습니다. 저는 치위생과 3학년 학생...   \n",
       "38   영어회화전문강사제도는 유지되어야합니다.  1. 영전강의고용안정을 원합니다\\n2.1년단위계약직으로 임신 출산육아 매우 곤란합니...   \n",
       "\n",
       "   category_pred  \n",
       "7          경제민주화  \n",
       "21         육아/교육  \n",
       "24         육아/교육  \n",
       "28           일자리  \n",
       "38           일자리  "
      ]
     },
     "execution_count": 12,
     "metadata": {},
     "output_type": "execute_result"
    }
   ],
   "source": [
    "df.head()"
   ]
  },
  {
   "cell_type": "code",
   "execution_count": 13,
   "metadata": {},
   "outputs": [
    {
     "data": {
      "text/plain": [
       "7"
      ]
     },
     "execution_count": 13,
     "metadata": {},
     "output_type": "execute_result"
    }
   ],
   "source": [
    "# 첫 번째 인덱스를 가져와 봅니다.\n",
    "sample_index = 7\n",
    "sample_index"
   ]
  },
  {
   "cell_type": "code",
   "execution_count": 14,
   "metadata": {},
   "outputs": [
    {
     "data": {
      "text/plain": [
       "'소액주주를 보호해주십시오'"
      ]
     },
     "execution_count": 14,
     "metadata": {},
     "output_type": "execute_result"
    }
   ],
   "source": [
    "sample_title = df['title'][sample_index]\n",
    "sample_title"
   ]
  },
  {
   "cell_type": "code",
   "execution_count": 15,
   "metadata": {},
   "outputs": [
    {
     "data": {
      "text/plain": [
       "'**  존경하옵는 문재인대통령님께\\\\n저는 중국원양자원이라는 KOSPI상장사의 소액 주주입니다. 중국원양자원(이하 중원)은 이번 재회계감사에서 의견거절이라는 감사인 판단이 내려져 꿈에도 생각못한 상장폐지를 목전에 두고 있습니다.\\\\n상장폐지가되면 국내에 상장하여 천문학적인 금액을 취득하여 회사의 규모를 키우고 개인자산을 불린 후 자신의 지분도  다 팔아서 이득을 챙긴 중국인 장화리 사장은 정리매매때 휴지조각의 비용으로 자신의 지분을 다시 사들이고 대주주로서의 지위를 다시 획득하여 온전히 자신의 기업으로 만들수 있습니다.\\\\n결국 한국 국민들의 피땀어린 투자금으로 중국인 사장의 부를 채워주지만 이에 대해 한국의 금융당국 및 상장과 운영의 주체인 거래소는 누구도 이에대한 책임없이 이를 그냥 덮어버리고만 말것입니다.\\\\n이로인해 약 2만 5천의 국내소액주주는 피눈물을 흘리며 고통속에 살게 될 것입니다.\\\\n주식투자는 개인의 판단하에 이루어지는 것이나 투자에 대한 개인의 책임을 묻기전에 그 과정은 규정과 상식에 맞게 공정하고 정의로워야 할 것입니다. 이는 존경하는 문대통령님의 말씀이라 가슴깊이 새기고 있었으나 현재 우리나라의 금융 시스템, 특히 거래소와 회계감사는 그렇지 못한 것 같습니다.\\\\n이렇게 생각하게된 이유는 이번 회계감사의 주된 의견거절의 이유 때문입니다\\\\n이번 신한회계법인의 추측적이고 터무니없는 의견거절로 전재산이 한순간에 물거품으로 사라질 위기에 처한 본인을 비롯한 많은 사람들이 죽음이라는 극단적인 선택앞에 내몰려져 억울함과 원통함에 피눈물을 흘리고 있습니다. .\\\\n기업의 사업성이나 계속 존속여부를 점검하는 감사자인 회계법인은 오직 밝혀진 사실과 그에 따른 증거만을 근거로 공정하게 기업의 존속여부에 대한 의견을 내야하고 유추할 경우에도 당연히 관련 법이나 판례에 근거하여야 합니다.\\\\n그러나 신한회계법인은 법또는 제도권으로 확정되지 않은 추정사항을 의견거절의\\'결정적 이유\\'로 명시하였는바 이는 감사자의 \\'의견거절\\'에 따른 참혹한 결과로 볼때 25000명의 국민들과 그 가족들은 공정한 감사결과라 절대로 인정할수 없습니다.\\\\n이런 고통의 원인은 법 제도나 규정에 근거를 두지 않고 자의적인 추측에 따라 작성, 발표한 감사인의 감사보고서 \"의견 거절\" 때문입니다. 한국 증권거래소에 상장된 중국원양자원에 투자한 우리 국민 25,000명과 수많은 가족들은 부당한 감사인의 의견 거절로 절망에 처하고 삶의 의욕과 희망을 모두 잃어가고 있습니다.\\\\n분명 투자는 개개인의 책임입니다.\\\\n그런데 최근 언론을 통해 중대하게 다루어졌듯이 국민 노후를 책임지는 국민연금 역시 증권 시장의 공정성과 투명성에 크게 의존하고 있습니다. 때문에 증권 시장의 공정성과 투명성이 확보되지 않으면, 증권시장에 의존하여 국민의 노후를 책임지는 국민연금 역시 국민의 재산을 지켜낼 수 없고 결국에는 이리저리 부당하게 뜯겨나가서 몇 줌 안 되는 푼돈만 국민들에게 남을 것입니다. 마찬가지로 은행, 증권, 보험사를 통해 어떤 형태로든 금융 상품에 가입되어 있는 수많은 금융 소비자 역시 이런 불공정한 금융 질서의 피해자가 될 수밖에 없습니다. 이런 심대한 피해를 입힐 수 있는 증권시장의 부당함이 우리 금융시장에 새로운 전례로 남게 될 일을 앞두고 있습니다. 한 번 이런 불공정성이 뿌리내리면 그 부당함은 우리나라 금융 시장에서 독버섯처럼 세력을 뻗어나갈 것입니다. 국민 2만 5천 명의 재산이 몰수되도록 하는 회계 감사 법인의 부당한 감사 의견이 개인 투자자 2만 5천 명들의 피눈물로만 끝나지 않을 이유가 여기에 있습니다.\\\\n기업 회계 기록의 적정성이나 회사의 계속 존속 여부를 점검하는 회계 감사 법인은 오직 밝혀진 사실과 이를 뒷받침하는 증거를 근거로 회계 장부가 공정하게 기록되었는지 의견을 표명해야 하고, 추정이 필요할 경우에도 회계 기준에서 규정하고 있는 방법을 준수해야 한다고 명시되어 있습니다. 왜냐하면 회계 감사 의견 자체가 기업의 사활을 결정지을 수 있는 대출 가능 여부, 회사채 발행 가능 여부, 증권 시장에서 상장 유지와 상장 폐지에 있어서 결정적이기 때문입니다.\\\\n그러나 신한회계법인은 어떤 규정이나 법에도 근거를 두지 않고 추측과 예단을 감사 의견 거절의 \\'결정적 근거\\'로 명시하였는 바, 이는 감사인의 \\'의견거절\\'로 인해 25,000명의 재산이 부당한 상장 폐지로 몰수되는 참혹한 결과에 비추어 볼 때 너무도 무책임하며 법적 근거를 갖추지 못한 심각하게 불공정한 처사로 25,000명의 국민들과 그 가족들은 적법한 감사 결과로 절대 인정할 수 없습니다.\\\\n감사인 (신한회계법인)이 감사 의견을 \"거절\"로 표명한 근거는 3가지입니다.\\\\n(1) 증권선물위원회의 올 해 7월 정례 회의에서 회사 대표이사를 검찰에 고발하기로 결의한 것.\\\\n(2) 우발부채와 소송사건이 재무제표에 미칠 영향에 대하여 충분한 감사 증거를 회사에서 제공하지 않았다는 것.\\\\n(3) 유동부채가 유동자산보다 1,282,797,603 HKD 많고 (1,999억 원) 자본금이 222,176,074 HKD 잠식 (346억 원)되었다는 것.\\\\n사유의 부당함을 하나씩 짚어보겠습니다.\\\\n의견 거절 사유 (1)은 증권선물위원회 회의에서 중국원양자원 대표이사 고발을 1달 전 (7월 19일) 결의한 것을 감사 의견 거절의 근거로 내세웠습니다. 2011년부터 매년 2차례씩 회사 내부 서류를 샅샅히 들여다보며 매 반기와 연말 감사를 직접 수행하고 총 12차례에 걸쳐 회계 장부가 적정하게 작성되었다고 적정 의견을 표명했던 회계 감사인이 (신한회계법인) 법원의 유죄 판결도 아니고 검찰의 기소도 아닌 \\'검찰 고발 결의\\'를 1달 전에 증권선물위원회가 했던 것을 사유로 작년 말 기준 작성되었던 회사의 회계 장부를 믿지 못하는 이유라고 내세웠습니다.\\\\n2011년부터 매년 2차례씩 회계 장부와 증빙 서류를 샅샅히 확인하고 조사, 검토한 회계 법인이 손에 넣고 직접 눈으로 확인했던 그 많은 증빙 서류들은 놔둔 채, 상급 감독기관의 회의에서 대표이사 검찰에 고발 결의 사항을 감사 의견 거절의 근거로 삼은 것입니다. 지난 6년 동안 12차례의 감사 과정에 입수했던 수 많은 회계 서류로는 감사 \"의견 거절\"을 표명할 수 없었지만, 상급 감독기관에서 대표이사 검찰 고발을 결의한 결정을 사유로 감사 의견 거절을 낸 것에 주목해주시기 바랍니다.\\\\n더구나 우리나라 증권 시장의 전례를 보았을 때 대표이사가 검찰에 고발되어 실제로 3억 원의 벌금형을 선고받은 셀트리온의 경우 회사의 감사 의견에는 전혀 영향이 없었던 점에서 감사인의 의견 거절 사유 (1)은 법이나 규정에 전혀 근거를 두지 않은 내용입니다.\\\\n의견 거절 사유 (2) 역시 회사 (법인)에 대한 우발부채 및 소송사건이 아닌 회사의 대표이사 개인에 대한 우발부채와 소송사건을 문제 삼은 것으로, 회사 측과 감사인 (신한회계법인)이 각각 회사가 있는 외국 현지 로펌을 선임해 의견서를 제출받은 결과, 회사 측 로펌에서 문제가 없다는 의견을 낸 바 있습니다.\\\\n의견 거절 사유 (3)은 자본잠식 (자본잠식률 12%)이 회계 감사 의견 표명과는 무관함에도 불구하고 감사 의견 거절 사유로 내세웠습니다. 한 편 KRX 한국거래소에서는 자본잠식률 50% 이상 2년 연속 유지될 경우를 상장 폐지 사유로 규정하고 있습니다. 감사 의견 거절 사유로 12%의 자본잠식을 내세우는 것은 어디에서도 근거를 찾을 수 없는 처사입니다. 지금도 코스닥 시장에는 53개사의 부분 자본 잠식 회사들이 등록되어 있습니다.\\\\n또한 올 해 4월에는 유동부채의 유동자산 초과액이 1,999억 원에서 85억 원으로 줄어드는 후속 사건이 있었습니다. 그런데 감사인은 감사 시점 7개월 뒤인 올 7월에 생긴 후속 사건은 감사 의견 거절 사유로 전면에 내세우면서도 그보다 3달 앞서 있었던 후속 사건은 감사 의견에 전혀 반영하지 않고 있습니다. 규정에 맞지 않는 근거를 내세우면서 그마저도 형평성을 크게 잃은, 부당한 감사 의견입니다.\\\\n국내 주주 25,000명의 재산 합계 수 천억 원이 하루 아침에 없어질 상황에 놓인 중국원양자원의 상장 폐지 여부는 감사인의 감사 의견에 의해 결정됩니다. 감사인 신한회계법인은 2011년부터 6년 동안 의심의 눈초리로 국내의 통상적인 회계 감사보다 훨씬 엄격하게 감사를 수행해왔고, 그 엄격한 잣대에도 회사의 회계 장부에서는 오점이 발견되지 않았습니다. 그런데 지난 6년 동안의 감사에서 수집했던 증거로는 \"감사 의견 거절\" 표명을 하지 못했던 감사인이 법이나 제도에 근거하지 않은 부당한 의견 거절 표명으로 국내 투자자 25,000명의 생계를 사지에 몰아넣고 있습니다.\\\\n회사는 현재 지난 약 3년간 선원의 파업과 어업조황의 악화 및 낮은 어가로 인해 좋은 실적을 못내었고 동시에 이러한 악조건속에서 선단수를 늘리는 모험을 감행해 더 적자폭이 늘어났습니다. 그러나 현재 어가가 회복되고 있고 늘어난 조업선단이 자리잡아  장화리사장은 올 하반기부터는 500억 이상의 순이익을 자신하고 그에따른 순이익의 20% 배당을 기대하고 있었으며 또한, 우리나라를 포함 전세계적으로 원양어업의 환경이 좋아지고 있으며,\\\\n원양업체들의 매출및 이익이 전년대비 향상되고 있습니다.\\\\n이런 와중에 이러한 부적절하고 정당하지 못하며 형평에 맞지않는 재감사 결과로 인해 상장주체인 거래소에서 대한민국에 상장시킨 “중국원양자원” 이라는 회사에\\\\n원양어업의 발전 가능성을 보고 투자한, 수십년간 성실히 살면서 아끼고 아껴서\\\\n모은 소액주주들의 소중한 재산이 한순간에 휴지조각이 될 현실에 처해 너무나도 가슴이 아프며, 소액주주들의 삶 자체가 존폐위기에 놓여 있습니다.\\\\n거래소의 심리 제도는 날선 칼날처럼 예리해야 하지만 한편으로는 투명성(공정성)과 보편성(정당성), 형평성을 유지하여 미래의 성장성이 인정되는 기업이 도태되거나 어느한쪽이 일방적으로 억울하게 피해을 당하는 일이 없도록 하는 방패의 역할도 함께 수행해야 한다고 생각 합니다.\\\\n중국원양자원 에서 과거에 일어났던 일련의 사건에 대해서만 집중하고 미래에 그려나갈 모습들에 대해서는 상대적으로 등한시 특히나, 투자자들의 권익과 입장에\\\\n대해서는 가장 후순위로 밀어놓고 이에 대한 투자자들의 의견이나 읍소에선 아랑곳하지 않는다면, 대다수의 국민들은 누굴믿고 투자를 하겠습니까.\\\\n현재 상장폐지제도에서 “투자자보호” 라고 하는 기치에 맞게 진정한 투자자보호를\\\\n위하여 공정하고 형평성있는 심사가 이루어질수 있도록 간청 드립니다.\\\\n또한, 무엇보다 재감사결과에 대한 공정한 정정을 원하며\\\\n만에하나 이루어지지않는다면\\\\n최소한 대한민국 국민인 소액주주들의 피해를 최소화하기위해 거래소 당국자분들께서 개선기간을 1년이상 다시 부여해주시는 융통성을 발휘해주시기를 바랍니다.\\\\n1년이상의 개선기간 부여로 인해 국민의 어떠한 추가적인 다른 피해는 없으면서 회사가 약속한 이익의 개선이 이루어지기를 바랄수 있고 최악의 경우 회사의 실적이 돌이킬수 없게되더라도 주총에서 장화리 사장의 해임등 안을 모색해서 국부의 유출을 막을 수 있기 때문입니다. 대한민국의 투자자를 위한 거래소라면 최소한의 억울한 투자자 피해를 막기위한 이러한 결정은 당연히 이뤄져야할 것이라고 믿습니다.\\\\n부디 한 소시민의 눈물어린 목소리에 귀기울여 주시고 대통령님이 바라시는 정의로운 사회에 맞는 판단을 해 주실것을 온 마음을 다해 부탁드립니다.\\\\n긴글 읽어주셔서 감사합니다.'"
      ]
     },
     "execution_count": 15,
     "metadata": {},
     "output_type": "execute_result"
    }
   ],
   "source": [
    "sample_content = petitions['content'][sample_index]\n",
    "sample_content"
   ]
  },
  {
   "cell_type": "markdown",
   "metadata": {},
   "source": [
    "# 전처리 하기 "
   ]
  },
  {
   "cell_type": "code",
   "execution_count": 16,
   "metadata": {},
   "outputs": [],
   "source": [
    "def preprocessing(text):\n",
    "    # 개행문자 제거\n",
    "    text= str(text)\n",
    "    text = re.sub('\\\\\\\\n', ' ', text)\n",
    "    # 특수문자 제거\n",
    "    # 특수문자나 이모티콘 등은 때로는 의미를 갖기도 하지만 여기에서는 제거했습니다.\n",
    "    # text = re.sub('[?.,;:|\\)*~`’!^\\-_+<>@\\#$%&-=#}※]', '', text)\n",
    "    # 한글, 영문, 숫자만 남기고 모두 제거하도록 합니다.\n",
    "    # text = re.sub('[^가-힣ㄱ-ㅎㅏ-ㅣa-zA-Z0-9]', ' ', text)\n",
    "    # 한글, 영문만 남기고 모두 제거하도록 합니다.\n",
    "    text = re.sub('[^가-힣ㄱ-ㅎㅏ-ㅣa-zA-Z]', ' ', text)\n",
    "    return text"
   ]
  },
  {
   "cell_type": "code",
   "execution_count": 17,
   "metadata": {},
   "outputs": [],
   "source": [
    "# 불용어 제거\n",
    "def remove_stopwords(text):\n",
    "    tokens = text.split(' ')\n",
    "    stops = ['수', '그', '있는', '있습니다','년도', '합니다', '하는', '및', '제', '할', '하고', '더', '대한', '한', '그리고', '월', '저는', '없는', '입니다', '등', '일', '많은', '이런', '것은', '왜','같은', '같습니다', '없습니다', '위해', '한다']\n",
    "    meaningful_words = [w for w in tokens if not w in stops]\n",
    "    return ' '.join(meaningful_words)"
   ]
  },
  {
   "cell_type": "code",
   "execution_count": 18,
   "metadata": {},
   "outputs": [],
   "source": [
    "# 샘플데이터에 적용\n",
    "pre_sample_content = preprocessing(sample_content)"
   ]
  },
  {
   "cell_type": "code",
   "execution_count": 19,
   "metadata": {},
   "outputs": [],
   "source": [
    "pre_sample_content = remove_stopwords(pre_sample_content)"
   ]
  },
  {
   "cell_type": "code",
   "execution_count": 20,
   "metadata": {},
   "outputs": [
    {
     "data": {
      "text/plain": [
       "'    존경하옵는 문재인대통령님께 중국원양자원이라는 KOSPI상장사의 소액 주주입니다  중국원양자원 이하 중원 은 이번 재회계감사에서 의견거절이라는 감사인 판단이 내려져 꿈에도 생각못한 상장폐지를 목전에 두고  상장폐지가되면 국내에 상장하여 천문학적인 금액을 취득하여 회사의 규모를 키우고 개인자산을 불린 후 자신의 지분도  다 팔아서 이득을 챙긴 중국인 장화리 사장은 정리매매때 휴지조각의 비용으로 자신의 지분을 다시 사들이고 대주주로서의 지위를 다시 획득하여 온전히 자신의 기업으로 만들수  결국 한국 국민들의 피땀어린 투자금으로 중국인 사장의 부를 채워주지만 이에 대해 한국의 금융당국 상장과 운영의 주체인 거래소는 누구도 이에대한 책임없이 이를 그냥 덮어버리고만 말것입니다  이로인해 약  만  천의 국내소액주주는 피눈물을 흘리며 고통속에 살게 될 것입니다  주식투자는 개인의 판단하에 이루어지는 것이나 투자에 개인의 책임을 묻기전에 과정은 규정과 상식에 맞게 공정하고 정의로워야 것입니다  이는 존경하는 문대통령님의 말씀이라 가슴깊이 새기고 있었으나 현재 우리나라의 금융 시스템  특히 거래소와 회계감사는 그렇지 못한 것  이렇게 생각하게된 이유는 이번 회계감사의 주된 의견거절의 이유 때문입니다 이번 신한회계법인의 추측적이고 터무니없는 의견거절로 전재산이 한순간에 물거품으로 사라질 위기에 처한 본인을 비롯한 사람들이 죽음이라는 극단적인 선택앞에 내몰려져 억울함과 원통함에 피눈물을 흘리고    기업의 사업성이나 계속 존속여부를 점검하는 감사자인 회계법인은 오직 밝혀진 사실과 그에 따른 증거만을 근거로 공정하게 기업의 존속여부에 의견을 내야하고 유추할 경우에도 당연히 관련 법이나 판례에 근거하여야  그러나 신한회계법인은 법또는 제도권으로 확정되지 않은 추정사항을 의견거절의 결정적 이유 로 명시하였는바 이는 감사자의  의견거절 에 따른 참혹한 결과로 볼때      명의 국민들과 가족들은 공정한 감사결과라 절대로 인정할수  고통의 원인은 법 제도나 규정에 근거를 두지 않고 자의적인 추측에 따라 작성  발표한 감사인의 감사보고서  의견 거절  때문입니다  한국 증권거래소에 상장된 중국원양자원에 투자한 우리 국민       명과 수많은 가족들은 부당한 감사인의 의견 거절로 절망에 처하고 삶의 의욕과 희망을 모두 잃어가고  분명 투자는 개개인의 책임입니다  그런데 최근 언론을 통해 중대하게 다루어졌듯이 국민 노후를 책임지는 국민연금 역시 증권 시장의 공정성과 투명성에 크게 의존하고  때문에 증권 시장의 공정성과 투명성이 확보되지 않으면  증권시장에 의존하여 국민의 노후를 책임지는 국민연금 역시 국민의 재산을 지켜낼 없고 결국에는 이리저리 부당하게 뜯겨나가서 몇 줌 안 되는 푼돈만 국민들에게 남을 것입니다  마찬가지로 은행  증권  보험사를 통해 어떤 형태로든 금융 상품에 가입되어 수많은 금융 소비자 역시 불공정한 금융 질서의 피해자가 될 수밖에  심대한 피해를 입힐 증권시장의 부당함이 우리 금융시장에 새로운 전례로 남게 될 일을 앞두고  번 불공정성이 뿌리내리면 부당함은 우리나라 금융 시장에서 독버섯처럼 세력을 뻗어나갈 것입니다  국민  만  천 명의 재산이 몰수되도록 회계 감사 법인의 부당한 감사 의견이 개인 투자자  만  천 명들의 피눈물로만 끝나지 않을 이유가 여기에  기업 회계 기록의 적정성이나 회사의 계속 존속 여부를 점검하는 회계 감사 법인은 오직 밝혀진 사실과 이를 뒷받침하는 증거를 근거로 회계 장부가 공정하게 기록되었는지 의견을 표명해야  추정이 필요할 경우에도 회계 기준에서 규정하고 방법을 준수해야 한다고 명시되어  왜냐하면 회계 감사 의견 자체가 기업의 사활을 결정지을 대출 가능 여부  회사채 발행 가능 여부  증권 시장에서 상장 유지와 상장 폐지에 있어서 결정적이기 때문입니다  그러나 신한회계법인은 어떤 규정이나 법에도 근거를 두지 않고 추측과 예단을 감사 의견 거절의  결정적 근거 로 명시하였는 바  이는 감사인의  의견거절 로 인해       명의 재산이 부당한 상장 폐지로 몰수되는 참혹한 결과에 비추어 볼 때 너무도 무책임하며 법적 근거를 갖추지 못한 심각하게 불공정한 처사로       명의 국민들과 가족들은 적법한 감사 결과로 절대 인정할  감사인  신한회계법인 이 감사 의견을  거절 로 표명한 근거는  가지입니다      증권선물위원회의 올 해  정례 회의에서 회사 대표이사를 검찰에 고발하기로 결의한 것      우발부채와 소송사건이 재무제표에 미칠 영향에 대하여 충분한 감사 증거를 회사에서 제공하지 않았다는 것      유동부채가 유동자산보다               HKD 많고       억 원  자본금이             HKD 잠식     억 원 되었다는 것  사유의 부당함을 하나씩 짚어보겠습니다  의견 거절 사유    은 증권선물위원회 회의에서 중국원양자원 대표이사 고발을  달 전      결의한 것을 감사 의견 거절의 근거로 내세웠습니다      년부터 매년  차례씩 회사 내부 서류를 샅샅히 들여다보며 매 반기와 연말 감사를 직접 수행하고 총   차례에 걸쳐 회계 장부가 적정하게 작성되었다고 적정 의견을 표명했던 회계 감사인이  신한회계법인  법원의 유죄 판결도 아니고 검찰의 기소도 아닌  검찰 고발 결의 를  달 전에 증권선물위원회가 했던 것을 사유로 작년 말 기준 작성되었던 회사의 회계 장부를 믿지 못하는 이유라고 내세웠습니다      년부터 매년  차례씩 회계 장부와 증빙 서류를 샅샅히 확인하고 조사  검토한 회계 법인이 손에 넣고 직접 눈으로 확인했던 증빙 서류들은 놔둔 채  상급 감독기관의 회의에서 대표이사 검찰에 고발 결의 사항을 감사 의견 거절의 근거로 삼은 것입니다  지난  년 동안   차례의 감사 과정에 입수했던 회계 서류로는 감사  의견 거절 을 표명할 없었지만  상급 감독기관에서 대표이사 검찰 고발을 결의한 결정을 사유로 감사 의견 거절을 낸 것에 주목해주시기 바랍니다  더구나 우리나라 증권 시장의 전례를 보았을 때 대표이사가 검찰에 고발되어 실제로  억 원의 벌금형을 선고받은 셀트리온의 경우 회사의 감사 의견에는 전혀 영향이 없었던 점에서 감사인의 의견 거절 사유    은 법이나 규정에 전혀 근거를 두지 않은 내용입니다  의견 거절 사유     역시 회사  법인 에 우발부채 소송사건이 아닌 회사의 대표이사 개인에 우발부채와 소송사건을 문제 삼은 것으로  회사 측과 감사인  신한회계법인 이 각각 회사가 외국 현지 로펌을 선임해 의견서를 제출받은 결과  회사 측 로펌에서 문제가 없다는 의견을 낸 바  의견 거절 사유    은 자본잠식  자본잠식률     이 회계 감사 의견 표명과는 무관함에도 불구하고 감사 의견 거절 사유로 내세웠습니다  편 KRX 한국거래소에서는 자본잠식률     이상  년 연속 유지될 경우를 상장 폐지 사유로 규정하고  감사 의견 거절 사유로    의 자본잠식을 내세우는 어디에서도 근거를 찾을 처사입니다  지금도 코스닥 시장에는   개사의 부분 자본 잠식 회사들이 등록되어  또한 올 해  월에는 유동부채의 유동자산 초과액이      억 원에서   억 원으로 줄어드는 후속 사건이 있었습니다  그런데 감사인은 감사 시점  개월 뒤인 올  월에 생긴 후속 사건은 감사 의견 거절 사유로 전면에 내세우면서도 그보다  달 앞서 있었던 후속 사건은 감사 의견에 전혀 반영하지 않고  규정에 맞지 않는 근거를 내세우면서 그마저도 형평성을 크게 잃은  부당한 감사 의견입니다  국내 주주       명의 재산 합계 천억 원이 하루 아침에 없어질 상황에 놓인 중국원양자원의 상장 폐지 여부는 감사인의 감사 의견에 의해 결정됩니다  감사인 신한회계법인은     년부터  년 동안 의심의 눈초리로 국내의 통상적인 회계 감사보다 훨씬 엄격하게 감사를 수행해왔고  엄격한 잣대에도 회사의 회계 장부에서는 오점이 발견되지 않았습니다  그런데 지난  년 동안의 감사에서 수집했던 증거로는  감사 의견 거절  표명을 하지 못했던 감사인이 법이나 제도에 근거하지 않은 부당한 의견 거절 표명으로 국내 투자자       명의 생계를 사지에 몰아넣고  회사는 현재 지난 약  년간 선원의 파업과 어업조황의 악화 낮은 어가로 인해 좋은 실적을 못내었고 동시에 이러한 악조건속에서 선단수를 늘리는 모험을 감행해 적자폭이 늘어났습니다  그러나 현재 어가가 회복되고 있고 늘어난 조업선단이 자리잡아  장화리사장은 올 하반기부터는    억 이상의 순이익을 자신하고 그에따른 순이익의     배당을 기대하고 있었으며 또한  우리나라를 포함 전세계적으로 원양어업의 환경이 좋아지고 있으며  원양업체들의 매출및 이익이 전년대비 향상되고  와중에 이러한 부적절하고 정당하지 못하며 형평에 맞지않는 재감사 결과로 인해 상장주체인 거래소에서 대한민국에 상장시킨  중국원양자원  이라는 회사에 원양어업의 발전 가능성을 보고 투자한  수십년간 성실히 살면서 아끼고 아껴서 모은 소액주주들의 소중한 재산이 한순간에 휴지조각이 될 현실에 처해 너무나도 가슴이 아프며  소액주주들의 삶 자체가 존폐위기에 놓여  거래소의 심리 제도는 날선 칼날처럼 예리해야 하지만 한편으로는 투명성 공정성 과 보편성 정당성   형평성을 유지하여 미래의 성장성이 인정되는 기업이 도태되거나 어느한쪽이 일방적으로 억울하게 피해을 당하는 일이 없도록 방패의 역할도 함께 수행해야 한다고 생각  중국원양자원 에서 과거에 일어났던 일련의 사건에 대해서만 집중하고 미래에 그려나갈 모습들에 대해서는 상대적으로 등한시 특히나  투자자들의 권익과 입장에 대해서는 가장 후순위로 밀어놓고 이에 투자자들의 의견이나 읍소에선 아랑곳하지 않는다면  대다수의 국민들은 누굴믿고 투자를 하겠습니까  현재 상장폐지제도에서  투자자보호  라고 기치에 맞게 진정한 투자자보호를 위하여 공정하고 형평성있는 심사가 이루어질수 있도록 간청 드립니다  또한  무엇보다 재감사결과에 공정한 정정을 원하며 만에하나 이루어지지않는다면 최소한 대한민국 국민인 소액주주들의 피해를 최소화하기위해 거래소 당국자분들께서 개선기간을  년이상 다시 부여해주시는 융통성을 발휘해주시기를 바랍니다   년이상의 개선기간 부여로 인해 국민의 어떠한 추가적인 다른 피해는 없으면서 회사가 약속한 이익의 개선이 이루어지기를 바랄수 있고 최악의 경우 회사의 실적이 돌이킬수 없게되더라도 주총에서 장화리 사장의 해임등 안을 모색해서 국부의 유출을 막을 있기 때문입니다  대한민국의 투자자를 위한 거래소라면 최소한의 억울한 투자자 피해를 막기위한 이러한 결정은 당연히 이뤄져야할 것이라고 믿습니다  부디 소시민의 눈물어린 목소리에 귀기울여 주시고 대통령님이 바라시는 정의로운 사회에 맞는 판단을 해 주실것을 온 마음을 다해 부탁드립니다  긴글 읽어주셔서 감사합니다 '"
      ]
     },
     "execution_count": 20,
     "metadata": {},
     "output_type": "execute_result"
    }
   ],
   "source": [
    "pre_sample_content"
   ]
  },
  {
   "cell_type": "code",
   "execution_count": 21,
   "metadata": {},
   "outputs": [
    {
     "name": "stdout",
     "output_type": "stream",
     "text": [
      "CPU times: user 264 ms, sys: 8.1 ms, total: 272 ms\n",
      "Wall time: 296 ms\n"
     ]
    }
   ],
   "source": [
    "%time df['content_preprocessing'] = df['content'].apply(preprocessing)"
   ]
  },
  {
   "cell_type": "code",
   "execution_count": 22,
   "metadata": {},
   "outputs": [
    {
     "name": "stdout",
     "output_type": "stream",
     "text": [
      "CPU times: user 468 ms, sys: 11.3 ms, total: 479 ms\n",
      "Wall time: 526 ms\n"
     ]
    }
   ],
   "source": [
    "%time df['content_preprocessing2'] = df['content_preprocessing'].apply(remove_stopwords)"
   ]
  },
  {
   "cell_type": "markdown",
   "metadata": {},
   "source": [
    "# 기계학습으로 기타 제거하기\n",
    "* 기타로 분류된 청원중에 특정 카테고리로 분류해 주면 좀 더 정확도가 높아질 것이라는 가설을 세워봅니다.\n",
    "* 따라서 기타로 분류된 청원을 다른 청원을 바탕으로 학습시켜 분류해 봅니다."
   ]
  },
  {
   "cell_type": "code",
   "execution_count": 23,
   "metadata": {},
   "outputs": [],
   "source": [
    "df['category_pred'] = df['category'].copy()"
   ]
  },
  {
   "cell_type": "code",
   "execution_count": 24,
   "metadata": {},
   "outputs": [
    {
     "name": "stdout",
     "output_type": "stream",
     "text": [
      "(1698, 11)\n",
      "(146, 11)\n"
     ]
    }
   ],
   "source": [
    "df_not_etc = df.loc[df['category'] != '기타'].copy()\n",
    "df_etc = df.loc[df['category'] == '기타'].copy()\n",
    "print(df_not_etc.shape)\n",
    "print(df_etc.shape)"
   ]
  },
  {
   "cell_type": "markdown",
   "metadata": {},
   "source": [
    "## 기타 청원 분류하기 벡터화\n",
    "* tfidf 를 사용해 벡터화 "
   ]
  },
  {
   "cell_type": "code",
   "execution_count": 25,
   "metadata": {},
   "outputs": [],
   "source": [
    "from sklearn.feature_extraction.text import CountVectorizer"
   ]
  },
  {
   "cell_type": "code",
   "execution_count": 26,
   "metadata": {},
   "outputs": [
    {
     "data": {
      "text/plain": [
       "CountVectorizer(analyzer='word', binary=False, decode_error='strict',\n",
       "        dtype=<class 'numpy.int64'>, encoding='utf-8', input='content',\n",
       "        lowercase=True, max_df=1.0, max_features=2000, min_df=2,\n",
       "        ngram_range=(1, 9), preprocessor=None,\n",
       "        stop_words=['and', 'article', 'html', '수', '현', '있는', '있습니다', '그', '년도', '합니다', '하는', '및', '제', '할', '하고', '더', '대한', '한', '그리고', '월', '저는', '없는', '입니다', '등', '일', '많은', '이런', '것은', '왜', '같은', '같습니다', '없습니다', '위해', '한다'],\n",
       "        strip_accents=None, token_pattern='(?u)\\\\b\\\\w\\\\w+\\\\b',\n",
       "        tokenizer=None, vocabulary=None)"
      ]
     },
     "execution_count": 26,
     "metadata": {},
     "output_type": "execute_result"
    }
   ],
   "source": [
    "stops = ['and', 'article', 'html', '수', '현', '있는', '있습니다', '그', '년도', '합니다', '하는', '및', '제', '할', '하고', '더', '대한', '한', '그리고', '월', '저는', '없는', '입니다', '등', '일', '많은', '이런', '것은', '왜','같은', '같습니다', '없습니다', '위해', '한다']\n",
    "vectorizer = CountVectorizer(analyzer = 'word', # 캐릭터 단위로 벡터화 할 수도 있습니다.\n",
    "                             tokenizer = None, # 토크나이저를 따로 지정해 줄 수도 있습니다.\n",
    "                             preprocessor = None, # 전처리 도구\n",
    "                             stop_words = stops, # 불용어 nltk등의 도구를 사용할 수도 있습니다.\n",
    "                             min_df = 2, # 토큰이 나타날 최소 문서 개수로 오타나 자주 나오지 않는 특수한 전문용어 제거에 좋다. \n",
    "                             ngram_range=(1, 9), # BOW의 단위를 1~3개로 지정합니다.\n",
    "                             max_features = 2000 # 만들 피처의 수, 단어의 수가 된다.\n",
    "                            )\n",
    "vectorizer"
   ]
  },
  {
   "cell_type": "code",
   "execution_count": 27,
   "metadata": {},
   "outputs": [
    {
     "name": "stdout",
     "output_type": "stream",
     "text": [
      "CPU times: user 18.8 s, sys: 1.09 s, total: 19.9 s\n",
      "Wall time: 21.7 s\n"
     ]
    }
   ],
   "source": [
    "%%time \n",
    "df_not_etc_vector = vectorizer.fit_transform(df_not_etc['content_preprocessing2'])\n",
    "df_not_etc_vector.shape"
   ]
  },
  {
   "cell_type": "code",
   "execution_count": 28,
   "metadata": {},
   "outputs": [
    {
     "name": "stdout",
     "output_type": "stream",
     "text": [
      "CPU times: user 1.62 s, sys: 68.4 ms, total: 1.68 s\n",
      "Wall time: 1.69 s\n"
     ]
    }
   ],
   "source": [
    "%%time \n",
    "df_etc_vector = vectorizer.fit_transform(df_etc['content_preprocessing2'])\n",
    "df_etc_vector.shape"
   ]
  },
  {
   "cell_type": "code",
   "execution_count": 29,
   "metadata": {},
   "outputs": [
    {
     "data": {
      "text/plain": [
       "TfidfTransformer(norm='l2', smooth_idf=False, sublinear_tf=False,\n",
       "         use_idf=True)"
      ]
     },
     "execution_count": 29,
     "metadata": {},
     "output_type": "execute_result"
    }
   ],
   "source": [
    "from sklearn.feature_extraction.text import TfidfTransformer\n",
    "transformer = TfidfTransformer(smooth_idf=False)\n",
    "transformer"
   ]
  },
  {
   "cell_type": "code",
   "execution_count": 30,
   "metadata": {},
   "outputs": [
    {
     "name": "stdout",
     "output_type": "stream",
     "text": [
      "CPU times: user 5.38 ms, sys: 3.19 ms, total: 8.57 ms\n",
      "Wall time: 7.51 ms\n"
     ]
    }
   ],
   "source": [
    "%%time \n",
    "df_not_etc_tfidf = transformer.fit_transform(df_not_etc_vector)\n",
    "df_not_etc_tfidf.shape"
   ]
  },
  {
   "cell_type": "code",
   "execution_count": 31,
   "metadata": {},
   "outputs": [
    {
     "name": "stdout",
     "output_type": "stream",
     "text": [
      "CPU times: user 2.58 ms, sys: 1.6 ms, total: 4.18 ms\n",
      "Wall time: 2.57 ms\n"
     ]
    }
   ],
   "source": [
    "%%time \n",
    "df_etc_tfidf = transformer.fit_transform(df_etc_vector)\n",
    "df_etc_tfidf.shape"
   ]
  },
  {
   "cell_type": "markdown",
   "metadata": {},
   "source": [
    "## 기타 청원 분류하기"
   ]
  },
  {
   "cell_type": "code",
   "execution_count": 32,
   "metadata": {},
   "outputs": [
    {
     "data": {
      "text/plain": [
       "RandomForestClassifier(bootstrap=True, class_weight=None, criterion='gini',\n",
       "            max_depth=None, max_features='auto', max_leaf_nodes=None,\n",
       "            min_impurity_decrease=0.0, min_impurity_split=None,\n",
       "            min_samples_leaf=1, min_samples_split=2,\n",
       "            min_weight_fraction_leaf=0.0, n_estimators=100, n_jobs=-1,\n",
       "            oob_score=False, random_state=2018, verbose=0,\n",
       "            warm_start=False)"
      ]
     },
     "execution_count": 32,
     "metadata": {},
     "output_type": "execute_result"
    }
   ],
   "source": [
    "from sklearn.ensemble import RandomForestClassifier\n",
    "\n",
    "# 랜덤포레스트 분류기를 사용\n",
    "forest = RandomForestClassifier(\n",
    "    n_estimators = 100, n_jobs = -1, random_state=2018)\n",
    "forest"
   ]
  },
  {
   "cell_type": "code",
   "execution_count": 33,
   "metadata": {},
   "outputs": [
    {
     "name": "stdout",
     "output_type": "stream",
     "text": [
      "CPU times: user 2.67 s, sys: 58.1 ms, total: 2.73 s\n",
      "Wall time: 950 ms\n"
     ]
    }
   ],
   "source": [
    "# 학습에 사용할 y_label 을 넣어줍니다.\n",
    "# 어떤 분야의 청원인지 예측할 것이기 때문에 category를 넣어줍니다.\n",
    "y_label = df_not_etc['category']\n",
    "%time forest = forest.fit(df_not_etc_tfidf, y_label)"
   ]
  },
  {
   "cell_type": "code",
   "execution_count": 34,
   "metadata": {},
   "outputs": [
    {
     "data": {
      "text/plain": [
       "array(['인권/성평등', '외교/통일/국방', '교통/건축/국토'], dtype=object)"
      ]
     },
     "execution_count": 34,
     "metadata": {},
     "output_type": "execute_result"
    }
   ],
   "source": [
    "# 테스트 데이터를 넣고 예측합니다.\n",
    "y_pred = forest.predict(df_etc_tfidf)\n",
    "y_pred[:3]"
   ]
  },
  {
   "cell_type": "code",
   "execution_count": 35,
   "metadata": {},
   "outputs": [
    {
     "data": {
      "text/plain": [
       "육아/교육          38\n",
       "인권/성평등         31\n",
       "안전/환경          17\n",
       "보건복지           15\n",
       "정치개혁           14\n",
       "경제민주화          10\n",
       "교통/건축/국토       10\n",
       "일자리             5\n",
       "외교/통일/국방        2\n",
       "문화/예술/체육/언론     2\n",
       "반려동물            2\n",
       "Name: category_pred, dtype: int64"
      ]
     },
     "execution_count": 35,
     "metadata": {},
     "output_type": "execute_result"
    }
   ],
   "source": [
    "df_etc['category_pred'] = y_pred\n",
    "df_etc['category_pred'].value_counts()"
   ]
  },
  {
   "cell_type": "markdown",
   "metadata": {},
   "source": [
    "## 기타 청원 분류 결과의 일부를 미리보기"
   ]
  },
  {
   "cell_type": "code",
   "execution_count": 36,
   "metadata": {},
   "outputs": [
    {
     "data": {
      "text/html": [
       "<div>\n",
       "<style scoped>\n",
       "    .dataframe tbody tr th:only-of-type {\n",
       "        vertical-align: middle;\n",
       "    }\n",
       "\n",
       "    .dataframe tbody tr th {\n",
       "        vertical-align: top;\n",
       "    }\n",
       "\n",
       "    .dataframe thead th {\n",
       "        text-align: right;\n",
       "    }\n",
       "</style>\n",
       "<table border=\"1\" class=\"dataframe\">\n",
       "  <thead>\n",
       "    <tr style=\"text-align: right;\">\n",
       "      <th></th>\n",
       "      <th>votes</th>\n",
       "      <th>title</th>\n",
       "      <th>content</th>\n",
       "      <th>category</th>\n",
       "      <th>category_pred</th>\n",
       "    </tr>\n",
       "  </thead>\n",
       "  <tbody>\n",
       "    <tr>\n",
       "      <th>345</th>\n",
       "      <td>1126</td>\n",
       "      <td>문재인 대통령 기념 시계도 판매하라.</td>\n",
       "      <td>문재인 대통령 싸인이 들어간 기념 시계를 판매용으로 전환하여 주세요. SNS상의 국...</td>\n",
       "      <td>기타</td>\n",
       "      <td>인권/성평등</td>\n",
       "    </tr>\n",
       "    <tr>\n",
       "      <th>487</th>\n",
       "      <td>2749</td>\n",
       "      <td>2017년 10월 원천세 신고기한 및 9월분 전자세금계산서 발행기한일을 10월 13...</td>\n",
       "      <td>2017년 추석연휴 및 10월 2일 임시공휴일 지정이 확정됨에 따라 10월 초에 법...</td>\n",
       "      <td>기타</td>\n",
       "      <td>외교/통일/국방</td>\n",
       "    </tr>\n",
       "    <tr>\n",
       "      <th>12747</th>\n",
       "      <td>1841</td>\n",
       "      <td>억울한죽음으로 돌아가신 고 이길연집배원의 순직을요구합니다</td>\n",
       "      <td>9월5일 서광주우체국에 근속중이신 고 이길연집배원 저희아버지가 자택에서 홀로목숨을끈...</td>\n",
       "      <td>기타</td>\n",
       "      <td>교통/건축/국토</td>\n",
       "    </tr>\n",
       "    <tr>\n",
       "      <th>15456</th>\n",
       "      <td>1705</td>\n",
       "      <td>화훼도매시장 출입에 대한 출입증 발급을 청원합니다</td>\n",
       "      <td>화훼쪽에 종사하고 있는 사람입니다\\n김영란법이 터지고 나서 뉴스를 보면 양재화훼시장...</td>\n",
       "      <td>기타</td>\n",
       "      <td>인권/성평등</td>\n",
       "    </tr>\n",
       "    <tr>\n",
       "      <th>17150</th>\n",
       "      <td>1078</td>\n",
       "      <td>TNS홀딩스 강태욱 대표 사기 횡령 사건 해결을 부탁드립니다.</td>\n",
       "      <td>안녕하세요\\n영등포구에 거주하는 30살 직장인입니다.\\n2014년부터 알고지낸 재무...</td>\n",
       "      <td>기타</td>\n",
       "      <td>육아/교육</td>\n",
       "    </tr>\n",
       "    <tr>\n",
       "      <th>19072</th>\n",
       "      <td>123530</td>\n",
       "      <td>'일간베스트'사이트를 폐지해주세요</td>\n",
       "      <td>국민들을 불편하게하고, 주변에 민폐를 끼치기로 유명한 일베는 사회적이슈로도 자주 떠...</td>\n",
       "      <td>기타</td>\n",
       "      <td>안전/환경</td>\n",
       "    </tr>\n",
       "    <tr>\n",
       "      <th>22162</th>\n",
       "      <td>2452</td>\n",
       "      <td>경찰들의 성교육 이수 및 가중처벌</td>\n",
       "      <td>최근 경찰의 성폭행 성추행 성희롱등 그 주체가 범죄를 다루고 있는 경찰이된 사건들이...</td>\n",
       "      <td>기타</td>\n",
       "      <td>인권/성평등</td>\n",
       "    </tr>\n",
       "    <tr>\n",
       "      <th>22375</th>\n",
       "      <td>2684</td>\n",
       "      <td>튜닝카 법 개정</td>\n",
       "      <td>차량튜닝에대한 법 개정이 필요할것같습니다. 요즘 튜닝사업이 확대되는 시대 입니다. ...</td>\n",
       "      <td>기타</td>\n",
       "      <td>안전/환경</td>\n",
       "    </tr>\n",
       "    <tr>\n",
       "      <th>22551</th>\n",
       "      <td>2278</td>\n",
       "      <td>을지대학교병원지부 노동조합 파업사태 해결 촉구</td>\n",
       "      <td>문재인 대통령께\\n안녕하세요 대통령님, 저는 대전 을지대학교병원에 근무하는 병원노동...</td>\n",
       "      <td>기타</td>\n",
       "      <td>보건복지</td>\n",
       "    </tr>\n",
       "    <tr>\n",
       "      <th>23292</th>\n",
       "      <td>1470</td>\n",
       "      <td>우리나라 법은 도대체 누구를 위한 법입니까 법 개선과 피해자를 위한 제도마련이 필요...</td>\n",
       "      <td>안녕하세요 .\\n오늘도 국민들을 위해 나라에 힘써주시느라 너무나 고생이 많으십니다....</td>\n",
       "      <td>기타</td>\n",
       "      <td>육아/교육</td>\n",
       "    </tr>\n",
       "  </tbody>\n",
       "</table>\n",
       "</div>"
      ],
      "text/plain": [
       "        votes                                              title  \\\n",
       "345      1126                               문재인 대통령 기념 시계도 판매하라.   \n",
       "487      2749  2017년 10월 원천세 신고기한 및 9월분 전자세금계산서 발행기한일을 10월 13...   \n",
       "12747    1841                    억울한죽음으로 돌아가신 고 이길연집배원의 순직을요구합니다   \n",
       "15456    1705                        화훼도매시장 출입에 대한 출입증 발급을 청원합니다   \n",
       "17150    1078                 TNS홀딩스 강태욱 대표 사기 횡령 사건 해결을 부탁드립니다.   \n",
       "19072  123530                                 '일간베스트'사이트를 폐지해주세요   \n",
       "22162    2452                                 경찰들의 성교육 이수 및 가중처벌   \n",
       "22375    2684                                           튜닝카 법 개정   \n",
       "22551    2278                          을지대학교병원지부 노동조합 파업사태 해결 촉구   \n",
       "23292    1470  우리나라 법은 도대체 누구를 위한 법입니까 법 개선과 피해자를 위한 제도마련이 필요...   \n",
       "\n",
       "                                                 content category  \\\n",
       "345    문재인 대통령 싸인이 들어간 기념 시계를 판매용으로 전환하여 주세요. SNS상의 국...       기타   \n",
       "487    2017년 추석연휴 및 10월 2일 임시공휴일 지정이 확정됨에 따라 10월 초에 법...       기타   \n",
       "12747  9월5일 서광주우체국에 근속중이신 고 이길연집배원 저희아버지가 자택에서 홀로목숨을끈...       기타   \n",
       "15456  화훼쪽에 종사하고 있는 사람입니다\\n김영란법이 터지고 나서 뉴스를 보면 양재화훼시장...       기타   \n",
       "17150  안녕하세요\\n영등포구에 거주하는 30살 직장인입니다.\\n2014년부터 알고지낸 재무...       기타   \n",
       "19072  국민들을 불편하게하고, 주변에 민폐를 끼치기로 유명한 일베는 사회적이슈로도 자주 떠...       기타   \n",
       "22162  최근 경찰의 성폭행 성추행 성희롱등 그 주체가 범죄를 다루고 있는 경찰이된 사건들이...       기타   \n",
       "22375  차량튜닝에대한 법 개정이 필요할것같습니다. 요즘 튜닝사업이 확대되는 시대 입니다. ...       기타   \n",
       "22551  문재인 대통령께\\n안녕하세요 대통령님, 저는 대전 을지대학교병원에 근무하는 병원노동...       기타   \n",
       "23292  안녕하세요 .\\n오늘도 국민들을 위해 나라에 힘써주시느라 너무나 고생이 많으십니다....       기타   \n",
       "\n",
       "      category_pred  \n",
       "345          인권/성평등  \n",
       "487        외교/통일/국방  \n",
       "12747      교통/건축/국토  \n",
       "15456        인권/성평등  \n",
       "17150         육아/교육  \n",
       "19072         안전/환경  \n",
       "22162        인권/성평등  \n",
       "22375         안전/환경  \n",
       "22551          보건복지  \n",
       "23292         육아/교육  "
      ]
     },
     "execution_count": 36,
     "metadata": {},
     "output_type": "execute_result"
    }
   ],
   "source": [
    "df_etc[['votes', 'title', 'content', 'category', 'category_pred']].head(10)"
   ]
  },
  {
   "cell_type": "markdown",
   "metadata": {},
   "source": [
    "## 기타 카테고리로 분류한 데이터를 다시 합쳐 줍니다. "
   ]
  },
  {
   "cell_type": "code",
   "execution_count": 37,
   "metadata": {},
   "outputs": [
    {
     "data": {
      "text/plain": [
       "(1844, 11)"
      ]
     },
     "execution_count": 37,
     "metadata": {},
     "output_type": "execute_result"
    }
   ],
   "source": [
    "df2 = pd.concat([df_not_etc, df_etc])\n",
    "df2.shape"
   ]
  },
  {
   "cell_type": "code",
   "execution_count": 38,
   "metadata": {},
   "outputs": [
    {
     "data": {
      "text/plain": [
       "인권/성평등         277\n",
       "육아/교육          220\n",
       "보건복지           205\n",
       "안전/환경          193\n",
       "정치개혁           185\n",
       "교통/건축/국토       143\n",
       "문화/예술/체육/언론    136\n",
       "행정              91\n",
       "일자리             88\n",
       "경제민주화           80\n",
       "외교/통일/국방        79\n",
       "반려동물            72\n",
       "미래              30\n",
       "성장동력            20\n",
       "저출산/고령화대책       14\n",
       "농산어촌            11\n",
       "Name: category_pred, dtype: int64"
      ]
     },
     "execution_count": 38,
     "metadata": {},
     "output_type": "execute_result"
    }
   ],
   "source": [
    "df2['category_pred'].value_counts()"
   ]
  },
  {
   "cell_type": "markdown",
   "metadata": {},
   "source": [
    "# 학습세트와 테스트세트 만들기\n",
    "* 학습세트와 테스트세트를 7:3의 비율로 나눠 줍니다."
   ]
  },
  {
   "cell_type": "code",
   "execution_count": 39,
   "metadata": {},
   "outputs": [
    {
     "data": {
      "text/plain": [
       "(1844, 11)"
      ]
     },
     "execution_count": 39,
     "metadata": {},
     "output_type": "execute_result"
    }
   ],
   "source": [
    "df2.shape"
   ]
  },
  {
   "cell_type": "code",
   "execution_count": 40,
   "metadata": {},
   "outputs": [
    {
     "data": {
      "text/plain": [
       "1290"
      ]
     },
     "execution_count": 40,
     "metadata": {},
     "output_type": "execute_result"
    }
   ],
   "source": [
    "split_count = int(df2.shape[0] * 0.7)\n",
    "split_count"
   ]
  },
  {
   "cell_type": "code",
   "execution_count": 41,
   "metadata": {},
   "outputs": [
    {
     "data": {
      "text/plain": [
       "(1290, 11)"
      ]
     },
     "execution_count": 41,
     "metadata": {},
     "output_type": "execute_result"
    }
   ],
   "source": [
    "df_train = df2[:split_count].copy()\n",
    "df_train.shape"
   ]
  },
  {
   "cell_type": "code",
   "execution_count": 42,
   "metadata": {},
   "outputs": [
    {
     "data": {
      "text/html": [
       "<div>\n",
       "<style scoped>\n",
       "    .dataframe tbody tr th:only-of-type {\n",
       "        vertical-align: middle;\n",
       "    }\n",
       "\n",
       "    .dataframe tbody tr th {\n",
       "        vertical-align: top;\n",
       "    }\n",
       "\n",
       "    .dataframe thead th {\n",
       "        text-align: right;\n",
       "    }\n",
       "</style>\n",
       "<table border=\"1\" class=\"dataframe\">\n",
       "  <thead>\n",
       "    <tr style=\"text-align: right;\">\n",
       "      <th></th>\n",
       "      <th>article_id</th>\n",
       "      <th>start</th>\n",
       "      <th>end</th>\n",
       "      <th>answered</th>\n",
       "      <th>votes</th>\n",
       "      <th>category</th>\n",
       "      <th>title</th>\n",
       "      <th>content</th>\n",
       "      <th>category_pred</th>\n",
       "      <th>content_preprocessing</th>\n",
       "      <th>content_preprocessing2</th>\n",
       "    </tr>\n",
       "  </thead>\n",
       "  <tbody>\n",
       "    <tr>\n",
       "      <th>7</th>\n",
       "      <td>28</td>\n",
       "      <td>2017-08-19</td>\n",
       "      <td>2017-08-26</td>\n",
       "      <td>0</td>\n",
       "      <td>2137</td>\n",
       "      <td>경제민주화</td>\n",
       "      <td>소액주주를 보호해주십시오</td>\n",
       "      <td>**  존경하옵는 문재인대통령님께\\n저는 중국원양자원이라는 KOSPI상장사의 소액 ...</td>\n",
       "      <td>경제민주화</td>\n",
       "      <td>존경하옵는 문재인대통령님께 저는 중국원양자원이라는 KOSPI상장사의 소액 주...</td>\n",
       "      <td>존경하옵는 문재인대통령님께 중국원양자원이라는 KOSPI상장사의 소액 주주입니...</td>\n",
       "    </tr>\n",
       "    <tr>\n",
       "      <th>21</th>\n",
       "      <td>43</td>\n",
       "      <td>2017-08-19</td>\n",
       "      <td>2017-09-18</td>\n",
       "      <td>0</td>\n",
       "      <td>11293</td>\n",
       "      <td>육아/교육</td>\n",
       "      <td>기간제 교사의 정규직화를 반대합니다.</td>\n",
       "      <td>대통령님, 안녕하세요. 저는 임용을 준비하고 수험생입니다. 처음 기간제 정규직화 된...</td>\n",
       "      <td>육아/교육</td>\n",
       "      <td>대통령님  안녕하세요  저는 임용을 준비하고 수험생입니다  처음 기간제 정규직화 된...</td>\n",
       "      <td>대통령님  안녕하세요  임용을 준비하고 수험생입니다  처음 기간제 정규직화 된다고 ...</td>\n",
       "    </tr>\n",
       "    <tr>\n",
       "      <th>24</th>\n",
       "      <td>46</td>\n",
       "      <td>2017-08-19</td>\n",
       "      <td>2017-09-18</td>\n",
       "      <td>0</td>\n",
       "      <td>1933</td>\n",
       "      <td>육아/교육</td>\n",
       "      <td>기간제교사의 정규직화를 반대합니다.</td>\n",
       "      <td>대통령님, 안녕하세요. 저는 임용을 준비하고 수험생입니다. 처음 기간제 정규직화 된...</td>\n",
       "      <td>육아/교육</td>\n",
       "      <td>대통령님  안녕하세요  저는 임용을 준비하고 수험생입니다  처음 기간제 정규직화 된...</td>\n",
       "      <td>대통령님  안녕하세요  임용을 준비하고 수험생입니다  처음 기간제 정규직화 된다고 ...</td>\n",
       "    </tr>\n",
       "    <tr>\n",
       "      <th>28</th>\n",
       "      <td>50</td>\n",
       "      <td>2017-08-19</td>\n",
       "      <td>2017-10-18</td>\n",
       "      <td>0</td>\n",
       "      <td>1251</td>\n",
       "      <td>일자리</td>\n",
       "      <td>치과위생사 국가고시 날짜 변경 억울합니다</td>\n",
       "      <td>안녕하십니까? 대통령님 간단하게 제소개 부터 하겠습니다. 저는 치위생과 3학년 학생...</td>\n",
       "      <td>일자리</td>\n",
       "      <td>안녕하십니까  대통령님 간단하게 제소개 부터 하겠습니다  저는 치위생과  학년 학생...</td>\n",
       "      <td>안녕하십니까  대통령님 간단하게 제소개 부터 하겠습니다  치위생과  학년 학생입니다...</td>\n",
       "    </tr>\n",
       "    <tr>\n",
       "      <th>38</th>\n",
       "      <td>61</td>\n",
       "      <td>2017-08-19</td>\n",
       "      <td>2017-08-26</td>\n",
       "      <td>0</td>\n",
       "      <td>1185</td>\n",
       "      <td>일자리</td>\n",
       "      <td>영어회화전문강사제도는 유지되어야합니다.</td>\n",
       "      <td>1. 영전강의고용안정을 원합니다\\n2.1년단위계약직으로 임신 출산육아 매우 곤란합니...</td>\n",
       "      <td>일자리</td>\n",
       "      <td>영전강의고용안정을 원합니다    년단위계약직으로 임신 출산육아 매우 곤란합니다...</td>\n",
       "      <td>영전강의고용안정을 원합니다    년단위계약직으로 임신 출산육아 매우 곤란합니다...</td>\n",
       "    </tr>\n",
       "  </tbody>\n",
       "</table>\n",
       "</div>"
      ],
      "text/plain": [
       "    article_id      start        end  answered  votes category  \\\n",
       "7           28 2017-08-19 2017-08-26         0   2137    경제민주화   \n",
       "21          43 2017-08-19 2017-09-18         0  11293    육아/교육   \n",
       "24          46 2017-08-19 2017-09-18         0   1933    육아/교육   \n",
       "28          50 2017-08-19 2017-10-18         0   1251      일자리   \n",
       "38          61 2017-08-19 2017-08-26         0   1185      일자리   \n",
       "\n",
       "                     title                                            content  \\\n",
       "7            소액주주를 보호해주십시오  **  존경하옵는 문재인대통령님께\\n저는 중국원양자원이라는 KOSPI상장사의 소액 ...   \n",
       "21    기간제 교사의 정규직화를 반대합니다.  대통령님, 안녕하세요. 저는 임용을 준비하고 수험생입니다. 처음 기간제 정규직화 된...   \n",
       "24     기간제교사의 정규직화를 반대합니다.  대통령님, 안녕하세요. 저는 임용을 준비하고 수험생입니다. 처음 기간제 정규직화 된...   \n",
       "28  치과위생사 국가고시 날짜 변경 억울합니다  안녕하십니까? 대통령님 간단하게 제소개 부터 하겠습니다. 저는 치위생과 3학년 학생...   \n",
       "38   영어회화전문강사제도는 유지되어야합니다.  1. 영전강의고용안정을 원합니다\\n2.1년단위계약직으로 임신 출산육아 매우 곤란합니...   \n",
       "\n",
       "   category_pred                              content_preprocessing  \\\n",
       "7          경제민주화      존경하옵는 문재인대통령님께 저는 중국원양자원이라는 KOSPI상장사의 소액 주...   \n",
       "21         육아/교육  대통령님  안녕하세요  저는 임용을 준비하고 수험생입니다  처음 기간제 정규직화 된...   \n",
       "24         육아/교육  대통령님  안녕하세요  저는 임용을 준비하고 수험생입니다  처음 기간제 정규직화 된...   \n",
       "28           일자리  안녕하십니까  대통령님 간단하게 제소개 부터 하겠습니다  저는 치위생과  학년 학생...   \n",
       "38           일자리     영전강의고용안정을 원합니다    년단위계약직으로 임신 출산육아 매우 곤란합니다...   \n",
       "\n",
       "                               content_preprocessing2  \n",
       "7       존경하옵는 문재인대통령님께 중국원양자원이라는 KOSPI상장사의 소액 주주입니...  \n",
       "21  대통령님  안녕하세요  임용을 준비하고 수험생입니다  처음 기간제 정규직화 된다고 ...  \n",
       "24  대통령님  안녕하세요  임용을 준비하고 수험생입니다  처음 기간제 정규직화 된다고 ...  \n",
       "28  안녕하십니까  대통령님 간단하게 제소개 부터 하겠습니다  치위생과  학년 학생입니다...  \n",
       "38     영전강의고용안정을 원합니다    년단위계약직으로 임신 출산육아 매우 곤란합니다...  "
      ]
     },
     "execution_count": 42,
     "metadata": {},
     "output_type": "execute_result"
    }
   ],
   "source": [
    "df_train.head()"
   ]
  },
  {
   "cell_type": "code",
   "execution_count": 43,
   "metadata": {},
   "outputs": [
    {
     "data": {
      "text/plain": [
       "7           존경하옵는 문재인대통령님께 중국원양자원이라는 KOSPI상장사의 소액 주주입니...\n",
       "21      대통령님  안녕하세요  임용을 준비하고 수험생입니다  처음 기간제 정규직화 된다고 ...\n",
       "24      대통령님  안녕하세요  임용을 준비하고 수험생입니다  처음 기간제 정규직화 된다고 ...\n",
       "28      안녕하십니까  대통령님 간단하게 제소개 부터 하겠습니다  치위생과  학년 학생입니다...\n",
       "38         영전강의고용안정을 원합니다    년단위계약직으로 임신 출산육아 매우 곤란합니다...\n",
       "46        대 초반에 수능 다시 공부해서 교대에 다니고 교대생입니다  회사에 다니다 교사의...\n",
       "48      대통령님께서 대선 후보이시던 시절 충격적인 기사를 접했습니다  영양사 단체 행사에서...\n",
       "52      기회의 사다리이자 가장 공정한 수능 상대평가 유지와 정시확대를 원합니다 사걱세나 전...\n",
       "66      문재인정부 출범    일을 맞이하는 기자회견이   청와대에서 열리고 지지율은 여전히...\n",
       "81      중등학교 현직교사입니다  중등교사 가티오를  본 후 충격을 받고 글을 쓰게 되었습니...\n",
       "83      이명박 정부에서는 영어회화전문강사  스포츠 강사 제도를 만들었습니다  영어와 체육의...\n",
       "88      여가부 산하 해바라기센터 심리치료사의 부적절한 자격 요건 에 규정 수정 강화가 필요...\n",
       "90      이명박 정부에서는 영어회화전문강사  스포츠 강사 제도를 만들었습니다  영어와 체육의...\n",
       "102     대통령님 취임 이후 어려운 상황 속에서도 원만한 국정 운영을 해 주신 점 국민의 사...\n",
       "261     안녕하세요  현재 서울시민이자 직장생활   년 만에 첫 내집을 경기도 구리에 장만하...\n",
       "315     먼져 대통령님 이하 여러 장관님들 국민들 피땀흘리시느라 정말 고생이 많으십니다  다...\n",
       "359     안녕하십니까  대통령님 현재 경기도체육회 내 시군체육회 소속에 생활체육지도자 저희가...\n",
       "360     기회는 평등하게  과정은 공정하게  결과는 정의롭게   대통령님 안녕하세요  유치원...\n",
       "421     안녕하세요  남양주 별내신도시에 사는 주민입니다  동서고속철도와 관련하여 정차역으로...\n",
       "433     학교급식은 학생의 건전한 심신의 발달과 국민 식생활 개선에 기여하기 위한 목적으로 ...\n",
       "437     학교에는 교과를 가르치는 교사와 전문영역별 비교과교사  행정직원 교직원 또는 학생을...\n",
       "439     대통령님께 제안합니다  초등교원임용절벽 문제 해결을 위한 단기적인 대책을 수립하도록...\n",
       "471     존경하는 대통령님  유아교육을 전공하고 보육현장을   년이상 지키며 어린이집을 운영...\n",
       "486         당시 헬기 사격 전투기 대기 명령에 정부 차원의 특별조사를 지시한 문 대통령...\n",
       "495     서울 노원구 상계동에 위치한  꿈동산 유치원 의 폐원을 막아주세요  지난     년...\n",
       "502     보건복지부에서 올해   월부터 난임부부를 위한 난임 시술비 제반 비용에 건강보험을 ...\n",
       "517     다산신도시 총연합회는 행정구역 개편에 관련하여 입주예정자들의 의견 수렴하여  안정된...\n",
       "546     안녕하세요 존경하는 문재인 대통령님  이번     부동산 대책 중  투기지역  년 ...\n",
       "552     안녕하십니까   나라다운 나라 라는 캐치프레이즈 catch phrase 를 사랑하는...\n",
       "570     안녕하십니까  현재 병원에서 영양사로 근무하고   살 여자입니다  대학교  년제를 ...\n",
       "591     안녕하세요  트럭캠퍼는 해외에서 이미 보편화 된 레저문화의 자리를 차지하고  일반캠...\n",
       "607     존경하는 문재인 대통령님께  먼저  대통령님의 당선으로 촛불집회로 대변되는  국민주...\n",
       "656     문화체육관광부 도서관정책기획단의 공공도서관 사서 배치 기준 안 에 열심히 묵묵히 국...\n",
       "710     국방부는 군개혁과 북한미사일 위협등의 안보문제 외교부는 위안부문제 대북문제 FTA ...\n",
       "721     현재 여성가족부장관의 소양과 철학을 가지고 문재인정부의 비젼과 구상을 구현하기엔 한...\n",
       "750         보육료는    이상 인상되어야   안녕하십니까  부산에서 민간어린이집을   ...\n",
       "771     참여정부 시절 신분당선 사업은 애초 용산에서 호매실까지 사업성 지수가  이 넘었던 ...\n",
       "782     시간선택제 채용형 공무원입니다   급 공채 공무원이지요    일반공무원과 채용으로 ...\n",
       "802     채용형 시간선택제 공무원의 공무원연금 가입을 청원합니다  채용형 시간선택제 공무원은...\n",
       "827     이륜차의 헌법상 보장된 통행의 자유 보장과 관련 법 개선을 청원드립니다  여러차례 ...\n",
       "871     우리나라에선 아주 나중엔 모병으로 방향을 잡을지는 모르겠으나 지금 현 상황은 주적 ...\n",
       "987     혹시 산업폐기물 매립장을 아시나요  서산 지곡면에 들어온다고하는 산업폐기물매립장이요...\n",
       "1007     기 이상의 말기 암환자들은 항암신약의 급여화를 기다리는 수년간 약만 바라보다 세상...\n",
       "1129    수도권 거주의   세 남자이며 부모님과 대학생두아이와 부인과 살고 가장입니다  년전...\n",
       "1139    안녕하십니까   문재인대통령님   여년을 공무원신분 과 계급 순경 경정 을 빼앗긴채...\n",
       "1141    현재 진행중인  인가구 여성 임대주택    지원 정책 폐지를 요청합니다  국가가 나...\n",
       "1226    나라다운 나라 어린이집다운 어린이집     콩쥐팥쥐이야기 콩쥐는 누더기옷만 입고 밭...\n",
       "1296     청원경찰법  조의 위헌성과 합리적인 입법제안         청원경찰의 근로 권 행...\n",
       "1372    보셨겠지만 베스트청원에 여성징병 관련청원이 올라올 정도로 역차별에 대해 불만을 느끼...\n",
       "1412    요즘 농촌 총각덜은    결혼하믄    만원 받아간담시롱  거 결혼이 머 대수라고 ...\n",
       "Name: content_preprocessing2, dtype: object"
      ]
     },
     "execution_count": 43,
     "metadata": {},
     "output_type": "execute_result"
    }
   ],
   "source": [
    "df_train['content_preprocessing2'].head(50)"
   ]
  },
  {
   "cell_type": "code",
   "execution_count": 44,
   "metadata": {},
   "outputs": [
    {
     "data": {
      "text/plain": [
       "(554, 11)"
      ]
     },
     "execution_count": 44,
     "metadata": {},
     "output_type": "execute_result"
    }
   ],
   "source": [
    "df_test = df2[split_count:].copy()\n",
    "df_test.shape"
   ]
  },
  {
   "cell_type": "code",
   "execution_count": 45,
   "metadata": {},
   "outputs": [
    {
     "data": {
      "text/html": [
       "<div>\n",
       "<style scoped>\n",
       "    .dataframe tbody tr th:only-of-type {\n",
       "        vertical-align: middle;\n",
       "    }\n",
       "\n",
       "    .dataframe tbody tr th {\n",
       "        vertical-align: top;\n",
       "    }\n",
       "\n",
       "    .dataframe thead th {\n",
       "        text-align: right;\n",
       "    }\n",
       "</style>\n",
       "<table border=\"1\" class=\"dataframe\">\n",
       "  <thead>\n",
       "    <tr style=\"text-align: right;\">\n",
       "      <th></th>\n",
       "      <th>article_id</th>\n",
       "      <th>start</th>\n",
       "      <th>end</th>\n",
       "      <th>answered</th>\n",
       "      <th>votes</th>\n",
       "      <th>category</th>\n",
       "      <th>title</th>\n",
       "      <th>content</th>\n",
       "      <th>category_pred</th>\n",
       "      <th>content_preprocessing</th>\n",
       "      <th>content_preprocessing2</th>\n",
       "    </tr>\n",
       "  </thead>\n",
       "  <tbody>\n",
       "    <tr>\n",
       "      <th>169200</th>\n",
       "      <td>209713</td>\n",
       "      <td>2018-04-23</td>\n",
       "      <td>2018-05-23</td>\n",
       "      <td>0</td>\n",
       "      <td>1045</td>\n",
       "      <td>일자리</td>\n",
       "      <td>학습지회사들의 다단계적 업무횡포 / 갑질 철저히 조사해주시기 바랍니다.</td>\n",
       "      <td>안녕하세요.\\n학습지 회사에 근무하고 있는 와이프를 둔 일반 직장인 30대 남성입니...</td>\n",
       "      <td>일자리</td>\n",
       "      <td>안녕하세요  학습지 회사에 근무하고 있는 와이프를 둔 일반 직장인   대 남성입니다...</td>\n",
       "      <td>안녕하세요  학습지 회사에 근무하고 와이프를 둔 일반 직장인   대 남성입니다  요...</td>\n",
       "    </tr>\n",
       "    <tr>\n",
       "      <th>169240</th>\n",
       "      <td>209760</td>\n",
       "      <td>2018-04-23</td>\n",
       "      <td>2018-05-23</td>\n",
       "      <td>0</td>\n",
       "      <td>1631</td>\n",
       "      <td>일자리</td>\n",
       "      <td>카드사 '갑'질 때문에 일자리 잃게 생겼어요</td>\n",
       "      <td>안녕하세요 ‘카드기단말기’ 설치 회사에 근무하는 사람입니다.\\n카드 가맹점 가입 절...</td>\n",
       "      <td>일자리</td>\n",
       "      <td>안녕하세요  카드기단말기  설치 회사에 근무하는 사람입니다  카드 가맹점 가입 절차...</td>\n",
       "      <td>안녕하세요  카드기단말기  설치 회사에 근무하는 사람입니다  카드 가맹점 가입 절차...</td>\n",
       "    </tr>\n",
       "    <tr>\n",
       "      <th>169422</th>\n",
       "      <td>209990</td>\n",
       "      <td>2018-04-23</td>\n",
       "      <td>2018-05-23</td>\n",
       "      <td>0</td>\n",
       "      <td>3084</td>\n",
       "      <td>정치개혁</td>\n",
       "      <td>혜경궁김씨에 대한 검찰과 경찰의 적극적 수사를 촉구합니다.</td>\n",
       "      <td>20여일전에 트위터에서 발생했던 소위 \"혜경궁김씨\"에 대한\\n경찰과 검찰의 적극적이...</td>\n",
       "      <td>정치개혁</td>\n",
       "      <td>여일전에 트위터에서 발생했던 소위  혜경궁김씨 에 대한 경찰과 검찰의 적극적이고...</td>\n",
       "      <td>여일전에 트위터에서 발생했던 소위  혜경궁김씨 에 경찰과 검찰의 적극적이고 조속...</td>\n",
       "    </tr>\n",
       "    <tr>\n",
       "      <th>169433</th>\n",
       "      <td>210001</td>\n",
       "      <td>2018-04-23</td>\n",
       "      <td>2018-05-23</td>\n",
       "      <td>0</td>\n",
       "      <td>2464</td>\n",
       "      <td>교통/건축/국토</td>\n",
       "      <td>7호선은 경기북부의 생명선 입니다.</td>\n",
       "      <td>10년이 넘는 세월동안\\n피땀어린 눈물로 7호선 유치에\\n경기북부의 시민들은 온힘을...</td>\n",
       "      <td>교통/건축/국토</td>\n",
       "      <td>년이 넘는 세월동안 피땀어린 눈물로  호선 유치에 경기북부의 시민들은 온힘을 쏟...</td>\n",
       "      <td>년이 넘는 세월동안 피땀어린 눈물로  호선 유치에 경기북부의 시민들은 온힘을 쏟...</td>\n",
       "    </tr>\n",
       "    <tr>\n",
       "      <th>169459</th>\n",
       "      <td>210030</td>\n",
       "      <td>2018-04-23</td>\n",
       "      <td>2018-05-23</td>\n",
       "      <td>0</td>\n",
       "      <td>8190</td>\n",
       "      <td>보건복지</td>\n",
       "      <td>중증환자 5년지원 이상 연장</td>\n",
       "      <td>안녕하세요.\\n저는 8년전 유방암진단받고 아직도 복약 및 투병중입니다.\\n처음 암에...</td>\n",
       "      <td>보건복지</td>\n",
       "      <td>안녕하세요  저는  년전 유방암진단받고 아직도 복약 및 투병중입니다  처음 암에 걸...</td>\n",
       "      <td>안녕하세요   년전 유방암진단받고 아직도 복약 투병중입니다  처음 암에 걸리면   ...</td>\n",
       "    </tr>\n",
       "  </tbody>\n",
       "</table>\n",
       "</div>"
      ],
      "text/plain": [
       "        article_id      start        end  answered  votes  category  \\\n",
       "169200      209713 2018-04-23 2018-05-23         0   1045       일자리   \n",
       "169240      209760 2018-04-23 2018-05-23         0   1631       일자리   \n",
       "169422      209990 2018-04-23 2018-05-23         0   3084      정치개혁   \n",
       "169433      210001 2018-04-23 2018-05-23         0   2464  교통/건축/국토   \n",
       "169459      210030 2018-04-23 2018-05-23         0   8190      보건복지   \n",
       "\n",
       "                                          title  \\\n",
       "169200  학습지회사들의 다단계적 업무횡포 / 갑질 철저히 조사해주시기 바랍니다.   \n",
       "169240                 카드사 '갑'질 때문에 일자리 잃게 생겼어요   \n",
       "169422         혜경궁김씨에 대한 검찰과 경찰의 적극적 수사를 촉구합니다.   \n",
       "169433                      7호선은 경기북부의 생명선 입니다.   \n",
       "169459                          중증환자 5년지원 이상 연장   \n",
       "\n",
       "                                                  content category_pred  \\\n",
       "169200  안녕하세요.\\n학습지 회사에 근무하고 있는 와이프를 둔 일반 직장인 30대 남성입니...           일자리   \n",
       "169240  안녕하세요 ‘카드기단말기’ 설치 회사에 근무하는 사람입니다.\\n카드 가맹점 가입 절...           일자리   \n",
       "169422  20여일전에 트위터에서 발생했던 소위 \"혜경궁김씨\"에 대한\\n경찰과 검찰의 적극적이...          정치개혁   \n",
       "169433  10년이 넘는 세월동안\\n피땀어린 눈물로 7호선 유치에\\n경기북부의 시민들은 온힘을...      교통/건축/국토   \n",
       "169459  안녕하세요.\\n저는 8년전 유방암진단받고 아직도 복약 및 투병중입니다.\\n처음 암에...          보건복지   \n",
       "\n",
       "                                    content_preprocessing  \\\n",
       "169200  안녕하세요  학습지 회사에 근무하고 있는 와이프를 둔 일반 직장인   대 남성입니다...   \n",
       "169240  안녕하세요  카드기단말기  설치 회사에 근무하는 사람입니다  카드 가맹점 가입 절차...   \n",
       "169422    여일전에 트위터에서 발생했던 소위  혜경궁김씨 에 대한 경찰과 검찰의 적극적이고...   \n",
       "169433    년이 넘는 세월동안 피땀어린 눈물로  호선 유치에 경기북부의 시민들은 온힘을 쏟...   \n",
       "169459  안녕하세요  저는  년전 유방암진단받고 아직도 복약 및 투병중입니다  처음 암에 걸...   \n",
       "\n",
       "                                   content_preprocessing2  \n",
       "169200  안녕하세요  학습지 회사에 근무하고 와이프를 둔 일반 직장인   대 남성입니다  요...  \n",
       "169240  안녕하세요  카드기단말기  설치 회사에 근무하는 사람입니다  카드 가맹점 가입 절차...  \n",
       "169422    여일전에 트위터에서 발생했던 소위  혜경궁김씨 에 경찰과 검찰의 적극적이고 조속...  \n",
       "169433    년이 넘는 세월동안 피땀어린 눈물로  호선 유치에 경기북부의 시민들은 온힘을 쏟...  \n",
       "169459  안녕하세요   년전 유방암진단받고 아직도 복약 투병중입니다  처음 암에 걸리면   ...  "
      ]
     },
     "execution_count": 45,
     "metadata": {},
     "output_type": "execute_result"
    }
   ],
   "source": [
    "df_test.head()"
   ]
  },
  {
   "cell_type": "markdown",
   "metadata": {},
   "source": [
    "## 카테고리 "
   ]
  },
  {
   "cell_type": "markdown",
   "metadata": {},
   "source": [
    "* 예측한 카테고리의 비율을 봅니다."
   ]
  },
  {
   "cell_type": "code",
   "execution_count": 46,
   "metadata": {},
   "outputs": [
    {
     "data": {
      "text/html": [
       "<div>\n",
       "<style scoped>\n",
       "    .dataframe tbody tr th:only-of-type {\n",
       "        vertical-align: middle;\n",
       "    }\n",
       "\n",
       "    .dataframe tbody tr th {\n",
       "        vertical-align: top;\n",
       "    }\n",
       "\n",
       "    .dataframe thead th {\n",
       "        text-align: right;\n",
       "    }\n",
       "</style>\n",
       "<table border=\"1\" class=\"dataframe\">\n",
       "  <thead>\n",
       "    <tr style=\"text-align: right;\">\n",
       "      <th></th>\n",
       "      <th>청원수</th>\n",
       "      <th>청원비율</th>\n",
       "    </tr>\n",
       "  </thead>\n",
       "  <tbody>\n",
       "    <tr>\n",
       "      <th>인권/성평등</th>\n",
       "      <td>277</td>\n",
       "      <td>0.150217</td>\n",
       "    </tr>\n",
       "    <tr>\n",
       "      <th>육아/교육</th>\n",
       "      <td>220</td>\n",
       "      <td>0.119306</td>\n",
       "    </tr>\n",
       "    <tr>\n",
       "      <th>보건복지</th>\n",
       "      <td>205</td>\n",
       "      <td>0.111171</td>\n",
       "    </tr>\n",
       "    <tr>\n",
       "      <th>안전/환경</th>\n",
       "      <td>193</td>\n",
       "      <td>0.104664</td>\n",
       "    </tr>\n",
       "    <tr>\n",
       "      <th>정치개혁</th>\n",
       "      <td>185</td>\n",
       "      <td>0.100325</td>\n",
       "    </tr>\n",
       "    <tr>\n",
       "      <th>교통/건축/국토</th>\n",
       "      <td>143</td>\n",
       "      <td>0.077549</td>\n",
       "    </tr>\n",
       "    <tr>\n",
       "      <th>문화/예술/체육/언론</th>\n",
       "      <td>136</td>\n",
       "      <td>0.073753</td>\n",
       "    </tr>\n",
       "    <tr>\n",
       "      <th>행정</th>\n",
       "      <td>91</td>\n",
       "      <td>0.049349</td>\n",
       "    </tr>\n",
       "    <tr>\n",
       "      <th>일자리</th>\n",
       "      <td>88</td>\n",
       "      <td>0.047722</td>\n",
       "    </tr>\n",
       "    <tr>\n",
       "      <th>경제민주화</th>\n",
       "      <td>80</td>\n",
       "      <td>0.043384</td>\n",
       "    </tr>\n",
       "    <tr>\n",
       "      <th>외교/통일/국방</th>\n",
       "      <td>79</td>\n",
       "      <td>0.042842</td>\n",
       "    </tr>\n",
       "    <tr>\n",
       "      <th>반려동물</th>\n",
       "      <td>72</td>\n",
       "      <td>0.039046</td>\n",
       "    </tr>\n",
       "    <tr>\n",
       "      <th>미래</th>\n",
       "      <td>30</td>\n",
       "      <td>0.016269</td>\n",
       "    </tr>\n",
       "    <tr>\n",
       "      <th>성장동력</th>\n",
       "      <td>20</td>\n",
       "      <td>0.010846</td>\n",
       "    </tr>\n",
       "    <tr>\n",
       "      <th>저출산/고령화대책</th>\n",
       "      <td>14</td>\n",
       "      <td>0.007592</td>\n",
       "    </tr>\n",
       "    <tr>\n",
       "      <th>농산어촌</th>\n",
       "      <td>11</td>\n",
       "      <td>0.005965</td>\n",
       "    </tr>\n",
       "  </tbody>\n",
       "</table>\n",
       "</div>"
      ],
      "text/plain": [
       "             청원수      청원비율\n",
       "인권/성평등       277  0.150217\n",
       "육아/교육        220  0.119306\n",
       "보건복지         205  0.111171\n",
       "안전/환경        193  0.104664\n",
       "정치개혁         185  0.100325\n",
       "교통/건축/국토     143  0.077549\n",
       "문화/예술/체육/언론  136  0.073753\n",
       "행정            91  0.049349\n",
       "일자리           88  0.047722\n",
       "경제민주화         80  0.043384\n",
       "외교/통일/국방      79  0.042842\n",
       "반려동물          72  0.039046\n",
       "미래            30  0.016269\n",
       "성장동력          20  0.010846\n",
       "저출산/고령화대책     14  0.007592\n",
       "농산어촌          11  0.005965"
      ]
     },
     "execution_count": 46,
     "metadata": {},
     "output_type": "execute_result"
    }
   ],
   "source": [
    "df_category_value = pd.DataFrame(df2['category_pred'].value_counts())\n",
    "df_category_percent = pd.DataFrame(df2['category_pred'].value_counts(normalize=True))\n",
    "df_category = df_category_value.merge(df_category_percent, left_index=True, right_index=True)\n",
    "df_category.columns = ['청원수', '청원비율']\n",
    "df_category"
   ]
  },
  {
   "cell_type": "markdown",
   "metadata": {},
   "source": [
    "## 학습데이터의 카테고리"
   ]
  },
  {
   "cell_type": "code",
   "execution_count": 47,
   "metadata": {},
   "outputs": [
    {
     "data": {
      "text/html": [
       "<div>\n",
       "<style scoped>\n",
       "    .dataframe tbody tr th:only-of-type {\n",
       "        vertical-align: middle;\n",
       "    }\n",
       "\n",
       "    .dataframe tbody tr th {\n",
       "        vertical-align: top;\n",
       "    }\n",
       "\n",
       "    .dataframe thead th {\n",
       "        text-align: right;\n",
       "    }\n",
       "</style>\n",
       "<table border=\"1\" class=\"dataframe\">\n",
       "  <thead>\n",
       "    <tr style=\"text-align: right;\">\n",
       "      <th></th>\n",
       "      <th>청원수</th>\n",
       "      <th>청원비율</th>\n",
       "    </tr>\n",
       "  </thead>\n",
       "  <tbody>\n",
       "    <tr>\n",
       "      <th>인권/성평등</th>\n",
       "      <td>164</td>\n",
       "      <td>0.127132</td>\n",
       "    </tr>\n",
       "    <tr>\n",
       "      <th>보건복지</th>\n",
       "      <td>154</td>\n",
       "      <td>0.119380</td>\n",
       "    </tr>\n",
       "    <tr>\n",
       "      <th>육아/교육</th>\n",
       "      <td>143</td>\n",
       "      <td>0.110853</td>\n",
       "    </tr>\n",
       "    <tr>\n",
       "      <th>안전/환경</th>\n",
       "      <td>131</td>\n",
       "      <td>0.101550</td>\n",
       "    </tr>\n",
       "    <tr>\n",
       "      <th>정치개혁</th>\n",
       "      <td>119</td>\n",
       "      <td>0.092248</td>\n",
       "    </tr>\n",
       "    <tr>\n",
       "      <th>문화/예술/체육/언론</th>\n",
       "      <td>119</td>\n",
       "      <td>0.092248</td>\n",
       "    </tr>\n",
       "    <tr>\n",
       "      <th>교통/건축/국토</th>\n",
       "      <td>104</td>\n",
       "      <td>0.080620</td>\n",
       "    </tr>\n",
       "    <tr>\n",
       "      <th>행정</th>\n",
       "      <td>67</td>\n",
       "      <td>0.051938</td>\n",
       "    </tr>\n",
       "    <tr>\n",
       "      <th>일자리</th>\n",
       "      <td>66</td>\n",
       "      <td>0.051163</td>\n",
       "    </tr>\n",
       "    <tr>\n",
       "      <th>외교/통일/국방</th>\n",
       "      <td>56</td>\n",
       "      <td>0.043411</td>\n",
       "    </tr>\n",
       "    <tr>\n",
       "      <th>반려동물</th>\n",
       "      <td>52</td>\n",
       "      <td>0.040310</td>\n",
       "    </tr>\n",
       "    <tr>\n",
       "      <th>경제민주화</th>\n",
       "      <td>51</td>\n",
       "      <td>0.039535</td>\n",
       "    </tr>\n",
       "    <tr>\n",
       "      <th>미래</th>\n",
       "      <td>27</td>\n",
       "      <td>0.020930</td>\n",
       "    </tr>\n",
       "    <tr>\n",
       "      <th>성장동력</th>\n",
       "      <td>17</td>\n",
       "      <td>0.013178</td>\n",
       "    </tr>\n",
       "    <tr>\n",
       "      <th>농산어촌</th>\n",
       "      <td>10</td>\n",
       "      <td>0.007752</td>\n",
       "    </tr>\n",
       "    <tr>\n",
       "      <th>저출산/고령화대책</th>\n",
       "      <td>10</td>\n",
       "      <td>0.007752</td>\n",
       "    </tr>\n",
       "  </tbody>\n",
       "</table>\n",
       "</div>"
      ],
      "text/plain": [
       "             청원수      청원비율\n",
       "인권/성평등       164  0.127132\n",
       "보건복지         154  0.119380\n",
       "육아/교육        143  0.110853\n",
       "안전/환경        131  0.101550\n",
       "정치개혁         119  0.092248\n",
       "문화/예술/체육/언론  119  0.092248\n",
       "교통/건축/국토     104  0.080620\n",
       "행정            67  0.051938\n",
       "일자리           66  0.051163\n",
       "외교/통일/국방      56  0.043411\n",
       "반려동물          52  0.040310\n",
       "경제민주화         51  0.039535\n",
       "미래            27  0.020930\n",
       "성장동력          17  0.013178\n",
       "농산어촌          10  0.007752\n",
       "저출산/고령화대책     10  0.007752"
      ]
     },
     "execution_count": 47,
     "metadata": {},
     "output_type": "execute_result"
    }
   ],
   "source": [
    "df_train_category_value = pd.DataFrame(df_train['category'].value_counts())\n",
    "df_train_category_percent = pd.DataFrame(df_train['category'].value_counts(normalize=True))\n",
    "df_train_category = df_train_category_value.merge(df_train_category_percent, left_index=True, right_index=True)\n",
    "df_train_category.columns = ['청원수', '청원비율']\n",
    "df_train_category"
   ]
  },
  {
   "cell_type": "markdown",
   "metadata": {},
   "source": [
    "## 테스트 데이터의 카테고리"
   ]
  },
  {
   "cell_type": "code",
   "execution_count": 48,
   "metadata": {},
   "outputs": [
    {
     "data": {
      "text/html": [
       "<div>\n",
       "<style scoped>\n",
       "    .dataframe tbody tr th:only-of-type {\n",
       "        vertical-align: middle;\n",
       "    }\n",
       "\n",
       "    .dataframe tbody tr th {\n",
       "        vertical-align: top;\n",
       "    }\n",
       "\n",
       "    .dataframe thead th {\n",
       "        text-align: right;\n",
       "    }\n",
       "</style>\n",
       "<table border=\"1\" class=\"dataframe\">\n",
       "  <thead>\n",
       "    <tr style=\"text-align: right;\">\n",
       "      <th></th>\n",
       "      <th>청원수</th>\n",
       "      <th>청원비율</th>\n",
       "    </tr>\n",
       "  </thead>\n",
       "  <tbody>\n",
       "    <tr>\n",
       "      <th>기타</th>\n",
       "      <td>146</td>\n",
       "      <td>0.263538</td>\n",
       "    </tr>\n",
       "    <tr>\n",
       "      <th>인권/성평등</th>\n",
       "      <td>82</td>\n",
       "      <td>0.148014</td>\n",
       "    </tr>\n",
       "    <tr>\n",
       "      <th>정치개혁</th>\n",
       "      <td>52</td>\n",
       "      <td>0.093863</td>\n",
       "    </tr>\n",
       "    <tr>\n",
       "      <th>안전/환경</th>\n",
       "      <td>45</td>\n",
       "      <td>0.081227</td>\n",
       "    </tr>\n",
       "    <tr>\n",
       "      <th>육아/교육</th>\n",
       "      <td>39</td>\n",
       "      <td>0.070397</td>\n",
       "    </tr>\n",
       "    <tr>\n",
       "      <th>보건복지</th>\n",
       "      <td>36</td>\n",
       "      <td>0.064982</td>\n",
       "    </tr>\n",
       "    <tr>\n",
       "      <th>교통/건축/국토</th>\n",
       "      <td>29</td>\n",
       "      <td>0.052347</td>\n",
       "    </tr>\n",
       "    <tr>\n",
       "      <th>행정</th>\n",
       "      <td>24</td>\n",
       "      <td>0.043321</td>\n",
       "    </tr>\n",
       "    <tr>\n",
       "      <th>외교/통일/국방</th>\n",
       "      <td>21</td>\n",
       "      <td>0.037906</td>\n",
       "    </tr>\n",
       "    <tr>\n",
       "      <th>경제민주화</th>\n",
       "      <td>19</td>\n",
       "      <td>0.034296</td>\n",
       "    </tr>\n",
       "    <tr>\n",
       "      <th>반려동물</th>\n",
       "      <td>18</td>\n",
       "      <td>0.032491</td>\n",
       "    </tr>\n",
       "    <tr>\n",
       "      <th>일자리</th>\n",
       "      <td>17</td>\n",
       "      <td>0.030686</td>\n",
       "    </tr>\n",
       "    <tr>\n",
       "      <th>문화/예술/체육/언론</th>\n",
       "      <td>15</td>\n",
       "      <td>0.027076</td>\n",
       "    </tr>\n",
       "    <tr>\n",
       "      <th>저출산/고령화대책</th>\n",
       "      <td>4</td>\n",
       "      <td>0.007220</td>\n",
       "    </tr>\n",
       "    <tr>\n",
       "      <th>성장동력</th>\n",
       "      <td>3</td>\n",
       "      <td>0.005415</td>\n",
       "    </tr>\n",
       "    <tr>\n",
       "      <th>미래</th>\n",
       "      <td>3</td>\n",
       "      <td>0.005415</td>\n",
       "    </tr>\n",
       "    <tr>\n",
       "      <th>농산어촌</th>\n",
       "      <td>1</td>\n",
       "      <td>0.001805</td>\n",
       "    </tr>\n",
       "  </tbody>\n",
       "</table>\n",
       "</div>"
      ],
      "text/plain": [
       "             청원수      청원비율\n",
       "기타           146  0.263538\n",
       "인권/성평등        82  0.148014\n",
       "정치개혁          52  0.093863\n",
       "안전/환경         45  0.081227\n",
       "육아/교육         39  0.070397\n",
       "보건복지          36  0.064982\n",
       "교통/건축/국토      29  0.052347\n",
       "행정            24  0.043321\n",
       "외교/통일/국방      21  0.037906\n",
       "경제민주화         19  0.034296\n",
       "반려동물          18  0.032491\n",
       "일자리           17  0.030686\n",
       "문화/예술/체육/언론   15  0.027076\n",
       "저출산/고령화대책      4  0.007220\n",
       "성장동력           3  0.005415\n",
       "미래             3  0.005415\n",
       "농산어촌           1  0.001805"
      ]
     },
     "execution_count": 48,
     "metadata": {},
     "output_type": "execute_result"
    }
   ],
   "source": [
    "df_test_category_value = pd.DataFrame(df_test['category'].value_counts())\n",
    "df_test_category_percent = pd.DataFrame(df_test['category'].value_counts(normalize=True))\n",
    "df_test_category = df_test_category_value.merge(df_test_category_percent, left_index=True, right_index=True)\n",
    "df_test_category.columns = ['청원수', '청원비율']\n",
    "df_test_category"
   ]
  },
  {
   "cell_type": "code",
   "execution_count": 49,
   "metadata": {},
   "outputs": [
    {
     "data": {
      "text/plain": [
       "<matplotlib.axes._subplots.AxesSubplot at 0x137344e80>"
      ]
     },
     "execution_count": 49,
     "metadata": {},
     "output_type": "execute_result"
    },
    {
     "data": {
      "image/png": "[encoded data removed]",
      "text/plain": [
       "<matplotlib.figure.Figure at 0x134213fd0>"
      ]
     },
     "metadata": {},
     "output_type": "display_data"
    },
    {
     "data": {
      "image/png": "[encoded data removed]",
      "text/plain": [
       "<matplotlib.figure.Figure at 0x11b70c390>"
      ]
     },
     "metadata": {},
     "output_type": "display_data"
    }
   ],
   "source": [
    "df_train_category_value.plot(kind='bar')\n",
    "df_test_category_value.plot(kind='bar')"
   ]
  },
  {
   "cell_type": "markdown",
   "metadata": {},
   "source": [
    "# 단어 벡터화 하기"
   ]
  },
  {
   "cell_type": "code",
   "execution_count": 50,
   "metadata": {},
   "outputs": [
    {
     "data": {
      "text/plain": [
       "CountVectorizer(analyzer='word', binary=False, decode_error='strict',\n",
       "        dtype=<class 'numpy.int64'>, encoding='utf-8', input='content',\n",
       "        lowercase=True, max_df=1.0, max_features=2000, min_df=2,\n",
       "        ngram_range=(1, 3), preprocessor=None,\n",
       "        stop_words=['and', 'article', 'html', '수', '현', '있는', '있습니다', '그', '년도', '합니다', '하는', '및', '제', '할', '하고', '더', '대한', '한', '그리고', '월', '저는', '없는', '입니다', '등', '일', '많은', '이런', '것은', '왜', '같은', '같습니다', '없습니다', '위해', '한다'],\n",
       "        strip_accents=None, token_pattern='(?u)\\\\b\\\\w\\\\w+\\\\b',\n",
       "        tokenizer=None, vocabulary=None)"
      ]
     },
     "execution_count": 50,
     "metadata": {},
     "output_type": "execute_result"
    }
   ],
   "source": [
    "from sklearn.feature_extraction.text import CountVectorizer\n",
    "\n",
    "stops = ['and', 'article', 'html', '수', '현', '있는', '있습니다', '그', '년도', '합니다', '하는', '및', '제', '할', '하고', '더', '대한', '한', '그리고', '월', '저는', '없는', '입니다', '등', '일', '많은', '이런', '것은', '왜','같은', '같습니다', '없습니다', '위해', '한다']\n",
    "vectorizer = CountVectorizer(analyzer = 'word', # 캐릭터 단위로 벡터화 할 수도 있습니다.\n",
    "                             tokenizer = None, # 토크나이저를 따로 지정해 줄 수도 있습니다.\n",
    "                             preprocessor = None, # 전처리 도구\n",
    "                             stop_words = stops, # 불용어 nltk등의 도구를 사용할 수도 있습니다.\n",
    "                             min_df = 2, # 토큰이 나타날 최소 문서 개수로 오타나 자주 나오지 않는 특수한 전문용어 제거에 좋다. \n",
    "                             ngram_range=(1, 3), # BOW의 단위를 1~3개로 지정합니다.\n",
    "                             max_features = 2000 # 만들 피처의 수, 단어의 수가 된다.\n",
    "                            )\n",
    "vectorizer"
   ]
  },
  {
   "cell_type": "code",
   "execution_count": 51,
   "metadata": {},
   "outputs": [
    {
     "name": "stdout",
     "output_type": "stream",
     "text": [
      "CPU times: user 3.42 s, sys: 55 ms, total: 3.48 s\n",
      "Wall time: 3.48 s\n"
     ]
    }
   ],
   "source": [
    "%%time \n",
    "train_feature_vector = vectorizer.fit_transform(df_train['content_preprocessing2'])\n",
    "train_feature_vector.shape"
   ]
  },
  {
   "cell_type": "code",
   "execution_count": 52,
   "metadata": {},
   "outputs": [
    {
     "name": "stdout",
     "output_type": "stream",
     "text": [
      "CPU times: user 1.62 s, sys: 26.4 ms, total: 1.65 s\n",
      "Wall time: 1.65 s\n"
     ]
    }
   ],
   "source": [
    "%%time \n",
    "test_feature_vector = vectorizer.fit_transform(df_test['content_preprocessing2'])\n",
    "test_feature_vector.shape"
   ]
  },
  {
   "cell_type": "code",
   "execution_count": 53,
   "metadata": {},
   "outputs": [
    {
     "name": "stdout",
     "output_type": "stream",
     "text": [
      "2000\n"
     ]
    },
    {
     "data": {
      "text/plain": [
       "['aid',\n",
       " 'articleview',\n",
       " 'articleview idxno',\n",
       " 'be',\n",
       " 'cd',\n",
       " 'co',\n",
       " 'co kr',\n",
       " 'co kr news',\n",
       " 'com',\n",
       " 'com main']"
      ]
     },
     "execution_count": 53,
     "metadata": {},
     "output_type": "execute_result"
    }
   ],
   "source": [
    "vocab = vectorizer.get_feature_names()\n",
    "print(len(vocab))\n",
    "vocab[:10]"
   ]
  },
  {
   "cell_type": "code",
   "execution_count": 54,
   "metadata": {},
   "outputs": [
    {
     "data": {
      "text/html": [
       "<div>\n",
       "<style scoped>\n",
       "    .dataframe tbody tr th:only-of-type {\n",
       "        vertical-align: middle;\n",
       "    }\n",
       "\n",
       "    .dataframe tbody tr th {\n",
       "        vertical-align: top;\n",
       "    }\n",
       "\n",
       "    .dataframe thead th {\n",
       "        text-align: right;\n",
       "    }\n",
       "</style>\n",
       "<table border=\"1\" class=\"dataframe\">\n",
       "  <thead>\n",
       "    <tr style=\"text-align: right;\">\n",
       "      <th></th>\n",
       "      <th>aid</th>\n",
       "      <th>articleview</th>\n",
       "      <th>articleview idxno</th>\n",
       "      <th>be</th>\n",
       "      <th>cd</th>\n",
       "      <th>co</th>\n",
       "      <th>co kr</th>\n",
       "      <th>co kr news</th>\n",
       "      <th>com</th>\n",
       "      <th>com main</th>\n",
       "      <th>...</th>\n",
       "      <th>후에도</th>\n",
       "      <th>훨씬</th>\n",
       "      <th>휴게시간</th>\n",
       "      <th>휴게시간을</th>\n",
       "      <th>희망을</th>\n",
       "      <th>힘든</th>\n",
       "      <th>힘들게</th>\n",
       "      <th>힘들어</th>\n",
       "      <th>힘을</th>\n",
       "      <th>힘이</th>\n",
       "    </tr>\n",
       "  </thead>\n",
       "  <tbody>\n",
       "    <tr>\n",
       "      <th>0</th>\n",
       "      <td>41</td>\n",
       "      <td>45</td>\n",
       "      <td>45</td>\n",
       "      <td>100</td>\n",
       "      <td>94</td>\n",
       "      <td>49</td>\n",
       "      <td>165</td>\n",
       "      <td>37</td>\n",
       "      <td>35</td>\n",
       "      <td>21</td>\n",
       "      <td>...</td>\n",
       "      <td>45</td>\n",
       "      <td>29</td>\n",
       "      <td>74</td>\n",
       "      <td>43</td>\n",
       "      <td>23</td>\n",
       "      <td>21</td>\n",
       "      <td>23</td>\n",
       "      <td>22</td>\n",
       "      <td>52</td>\n",
       "      <td>34</td>\n",
       "    </tr>\n",
       "  </tbody>\n",
       "</table>\n",
       "<p>1 rows × 2000 columns</p>\n",
       "</div>"
      ],
      "text/plain": [
       "   aid  articleview  articleview idxno   be  cd  co  co kr  co kr news  com  \\\n",
       "0   41           45                 45  100  94  49    165          37   35   \n",
       "\n",
       "   com main ...  후에도  훨씬  휴게시간  휴게시간을  희망을  힘든  힘들게  힘들어  힘을  힘이  \n",
       "0        21 ...   45  29    74     43   23  21   23   22  52  34  \n",
       "\n",
       "[1 rows x 2000 columns]"
      ]
     },
     "execution_count": 54,
     "metadata": {},
     "output_type": "execute_result"
    }
   ],
   "source": [
    "dist = np.sum(train_feature_vector, axis=0)\n",
    "\n",
    "pd.DataFrame(dist, columns=vocab)"
   ]
  },
  {
   "cell_type": "code",
   "execution_count": 55,
   "metadata": {},
   "outputs": [
    {
     "data": {
      "text/plain": [
       "TfidfTransformer(norm='l2', smooth_idf=False, sublinear_tf=False,\n",
       "         use_idf=True)"
      ]
     },
     "execution_count": 55,
     "metadata": {},
     "output_type": "execute_result"
    }
   ],
   "source": [
    "from sklearn.feature_extraction.text import TfidfTransformer\n",
    "transformer = TfidfTransformer(smooth_idf=False)\n",
    "transformer"
   ]
  },
  {
   "cell_type": "code",
   "execution_count": 56,
   "metadata": {},
   "outputs": [
    {
     "name": "stdout",
     "output_type": "stream",
     "text": [
      "CPU times: user 5.33 ms, sys: 2.2 ms, total: 7.53 ms\n",
      "Wall time: 5.69 ms\n"
     ]
    }
   ],
   "source": [
    "%%time \n",
    "train_feature_tfidf = transformer.fit_transform(train_feature_vector)\n",
    "train_feature_tfidf.shape"
   ]
  },
  {
   "cell_type": "code",
   "execution_count": 57,
   "metadata": {},
   "outputs": [
    {
     "name": "stdout",
     "output_type": "stream",
     "text": [
      "CPU times: user 3.65 ms, sys: 1.93 ms, total: 5.58 ms\n",
      "Wall time: 4.06 ms\n"
     ]
    }
   ],
   "source": [
    "%%time \n",
    "test_feature_tfidf = transformer.fit_transform(test_feature_vector)\n",
    "test_feature_tfidf.shape"
   ]
  },
  {
   "cell_type": "code",
   "execution_count": 58,
   "metadata": {},
   "outputs": [
    {
     "data": {
      "text/plain": [
       "(554, 2000)"
      ]
     },
     "execution_count": 58,
     "metadata": {},
     "output_type": "execute_result"
    }
   ],
   "source": [
    "test_feature_tfidf.shape"
   ]
  },
  {
   "cell_type": "code",
   "execution_count": 59,
   "metadata": {},
   "outputs": [
    {
     "data": {
      "text/plain": [
       "{'aid': 1,\n",
       " 'articleview': 1,\n",
       " 'articleview idxno': 1,\n",
       " 'be': 1,\n",
       " 'cd': 1,\n",
       " 'co': 1,\n",
       " 'co kr': 1,\n",
       " 'co kr news': 1,\n",
       " 'com': 1,\n",
       " 'com main': 1,\n",
       " 'com main read': 1,\n",
       " 'com news': 1,\n",
       " 'com view': 1,\n",
       " 'daum': 1,\n",
       " 'daum net': 1,\n",
       " 'do': 1,\n",
       " 'http': 1,\n",
       " 'http media': 1,\n",
       " 'http media daum': 1,\n",
       " 'http news': 1,\n",
       " 'http news naver': 1,\n",
       " 'http www': 1,\n",
       " 'https': 1,\n",
       " 'https www': 1,\n",
       " 'https youtu': 1,\n",
       " 'https youtu be': 1,\n",
       " 'id': 1,\n",
       " 'idxno': 1,\n",
       " 'it': 1,\n",
       " 'kc인증': 1}"
      ]
     },
     "execution_count": 59,
     "metadata": {},
     "output_type": "execute_result"
    }
   ],
   "source": [
    "from collections import Counter\n",
    "dict(Counter(vocab).most_common(30))"
   ]
  },
  {
   "cell_type": "markdown",
   "metadata": {},
   "source": [
    "## 예측한 카테고리를 label로 사용하기"
   ]
  },
  {
   "cell_type": "code",
   "execution_count": 60,
   "metadata": {},
   "outputs": [],
   "source": [
    "# 학습에 사용할 y_label 을 넣어줍니다. 기타를 제거한 카테고리 데이터를 사용합니다.\n",
    "y_label = df_train['category_pred']"
   ]
  },
  {
   "cell_type": "markdown",
   "metadata": {},
   "source": [
    "# 랜덤 포레스트로 학습시키기\n",
    "* 공식문서 : http://scikit-learn.org/stable/modules/generated/sklearn.ensemble.RandomForestClassifier.html"
   ]
  },
  {
   "cell_type": "code",
   "execution_count": 61,
   "metadata": {},
   "outputs": [
    {
     "data": {
      "text/plain": [
       "RandomForestClassifier(bootstrap=True, class_weight=None, criterion='gini',\n",
       "            max_depth=None, max_features='auto', max_leaf_nodes=None,\n",
       "            min_impurity_decrease=0.0, min_impurity_split=None,\n",
       "            min_samples_leaf=1, min_samples_split=2,\n",
       "            min_weight_fraction_leaf=0.0, n_estimators=100, n_jobs=-1,\n",
       "            oob_score=False, random_state=2018, verbose=0,\n",
       "            warm_start=False)"
      ]
     },
     "execution_count": 61,
     "metadata": {},
     "output_type": "execute_result"
    }
   ],
   "source": [
    "from sklearn.ensemble import RandomForestClassifier\n",
    "\n",
    "# 랜덤포레스트 분류기를 사용\n",
    "forest = RandomForestClassifier(\n",
    "    n_estimators = 100, n_jobs = -1, random_state=2018)\n",
    "forest"
   ]
  },
  {
   "cell_type": "code",
   "execution_count": 62,
   "metadata": {},
   "outputs": [
    {
     "name": "stdout",
     "output_type": "stream",
     "text": [
      "CPU times: user 1.78 s, sys: 47.8 ms, total: 1.83 s\n",
      "Wall time: 745 ms\n"
     ]
    }
   ],
   "source": [
    "# 어떤 분야의 청원인지 예측할 것이기 때문에 category를 넣어줍니다.\n",
    "%time forest = forest.fit(train_feature_tfidf, y_label)"
   ]
  },
  {
   "cell_type": "markdown",
   "metadata": {},
   "source": [
    "## XGBoost로 학습시키기"
   ]
  },
  {
   "cell_type": "code",
   "execution_count": 63,
   "metadata": {},
   "outputs": [
    {
     "data": {
      "text/plain": [
       "XGBClassifier(base_score=0.5, booster='gbtree', colsample_bylevel=1,\n",
       "       colsample_bytree=1, eta=1, gamma=0, learning_rate=1.0,\n",
       "       max_delta_step=1, max_depth=6, min_child_weight=1, missing=None,\n",
       "       n_estimators=10, n_jobs=1, nthread=-1, objective='binary:logistic',\n",
       "       random_state=0, reg_alpha=0, reg_lambda=1, scale_pos_weight=1,\n",
       "       seed=2018, silent=True, subsample=1)"
      ]
     },
     "execution_count": 63,
     "metadata": {},
     "output_type": "execute_result"
    }
   ],
   "source": [
    "import xgboost as xgb\n",
    "\n",
    "# XGBoost Parameters http://xgboost.readthedocs.io/en/latest/parameter.html\n",
    "xgb = xgb.XGBClassifier(n_estimators=10,\n",
    "                          max_depth=6,\n",
    "                          learning_rate=1.0,\n",
    "                          max_delta_step=1,\n",
    "                          eta = 1,\n",
    "                          nthread=-1,\n",
    "                          seed=2018)\n",
    "xgb"
   ]
  },
  {
   "cell_type": "code",
   "execution_count": 64,
   "metadata": {},
   "outputs": [
    {
     "name": "stdout",
     "output_type": "stream",
     "text": [
      "CPU times: user 5.54 s, sys: 218 ms, total: 5.76 s\n",
      "Wall time: 1.77 s\n"
     ]
    },
    {
     "data": {
      "text/plain": [
       "XGBClassifier(base_score=0.5, booster='gbtree', colsample_bylevel=1,\n",
       "       colsample_bytree=1, eta=1, gamma=0, learning_rate=1.0,\n",
       "       max_delta_step=1, max_depth=6, min_child_weight=1, missing=None,\n",
       "       n_estimators=10, n_jobs=1, nthread=-1, objective='multi:softprob',\n",
       "       random_state=0, reg_alpha=0, reg_lambda=1, scale_pos_weight=1,\n",
       "       seed=2018, silent=True, subsample=1)"
      ]
     },
     "execution_count": 64,
     "metadata": {},
     "output_type": "execute_result"
    }
   ],
   "source": [
    "%time xgb.fit(train_feature_tfidf, y_label)"
   ]
  },
  {
   "cell_type": "markdown",
   "metadata": {},
   "source": [
    "# 학습이 잘 되었는지 평가하기\n",
    "\n",
    "시험공부에 비유해 보면, \n",
    "1. 기출문제를 모은다\n",
    "2. 공부한다\n",
    "3. 시험본다\n",
    "\n",
    "여기에서 2번 단계를 하는 여러 전략이 있을텐데요, 기출문제를 모두 외워버리면 과연 내가 실제 시험을 잘 치룰 수 있을지 아니면 공부를 더 해야할지 판단하기가 애매합니다. 괜찮은 전략 중 하나는 기출문제 중 일부를 임의로 뽑아내서 공부하고(training set을 이용한 학습), 나머지 기출문제를 풀어보며 내가 얼마나 잘 푸는지 평가를 해보는겁니다(validation set을 통해 학습의 성과를 검증). 잘 된다 싶으면 시험을 볼 준비가 된 것입니다(실전 투입).\n",
    "\n",
    "\n",
    "기출문제를 몽땅 외우면 기출문제 내에서는 100점을 받겠지만(overfitting), 실전에서도 그러한 성적을 가두리라 기대하기 어렵습니다."
   ]
  },
  {
   "cell_type": "markdown",
   "metadata": {},
   "source": [
    "## RF 평가"
   ]
  },
  {
   "cell_type": "code",
   "execution_count": 65,
   "metadata": {},
   "outputs": [
    {
     "name": "stdout",
     "output_type": "stream",
     "text": [
      "CPU times: user 141 ms, sys: 46.9 ms, total: 188 ms\n",
      "Wall time: 2.74 s\n"
     ]
    },
    {
     "data": {
      "text/plain": [
       "array([0.47286822, 0.41472868, 0.44186047, 0.40697674, 0.41860465])"
      ]
     },
     "execution_count": 65,
     "metadata": {},
     "output_type": "execute_result"
    }
   ],
   "source": [
    "from sklearn.model_selection import KFold\n",
    "from sklearn.model_selection import cross_val_score\n",
    "k_fold = KFold(n_splits=5, shuffle=True, random_state=0)\n",
    "\n",
    "scoring = 'accuracy'\n",
    "%time score = cross_val_score(forest, train_feature_vector, y_label, cv=k_fold, n_jobs=-1, scoring=scoring)\n",
    "score"
   ]
  },
  {
   "cell_type": "code",
   "execution_count": 66,
   "metadata": {},
   "outputs": [
    {
     "data": {
      "text/plain": [
       "43.1"
      ]
     },
     "execution_count": 66,
     "metadata": {},
     "output_type": "execute_result"
    }
   ],
   "source": [
    "round(np.mean(score)*100,2)"
   ]
  },
  {
   "cell_type": "markdown",
   "metadata": {},
   "source": [
    "## xgb 평가"
   ]
  },
  {
   "cell_type": "code",
   "execution_count": 67,
   "metadata": {},
   "outputs": [
    {
     "name": "stderr",
     "output_type": "stream",
     "text": [
      "/Users/corazzon/codes/jupyter/lib/python3.6/site-packages/sklearn/preprocessing/label.py:151: DeprecationWarning: The truth value of an empty array is ambiguous. Returning False, but in future this will result in an error. Use `array.size > 0` to check that an array is not empty.\n",
      "  if diff:\n",
      "/Users/corazzon/codes/jupyter/lib/python3.6/site-packages/sklearn/preprocessing/label.py:151: DeprecationWarning: The truth value of an empty array is ambiguous. Returning False, but in future this will result in an error. Use `array.size > 0` to check that an array is not empty.\n",
      "  if diff:\n"
     ]
    },
    {
     "name": "stdout",
     "output_type": "stream",
     "text": [
      "CPU times: user 10.3 s, sys: 689 ms, total: 11 s\n",
      "Wall time: 4.56 s\n",
      "33.43\n"
     ]
    },
    {
     "name": "stderr",
     "output_type": "stream",
     "text": [
      "/Users/corazzon/codes/jupyter/lib/python3.6/site-packages/sklearn/preprocessing/label.py:151: DeprecationWarning: The truth value of an empty array is ambiguous. Returning False, but in future this will result in an error. Use `array.size > 0` to check that an array is not empty.\n",
      "  if diff:\n"
     ]
    }
   ],
   "source": [
    "%time score_xgb = cross_val_score(xgb, train_feature_tfidf, y_label, scoring=\"accuracy\").mean()\n",
    "print(round(np.mean(score_xgb)*100,2))"
   ]
  },
  {
   "cell_type": "markdown",
   "metadata": {},
   "source": [
    "# 예측\n",
    "## RF"
   ]
  },
  {
   "cell_type": "code",
   "execution_count": 68,
   "metadata": {},
   "outputs": [
    {
     "data": {
      "text/plain": [
       "array(['인권/성평등', '인권/성평등', '육아/교육'], dtype=object)"
      ]
     },
     "execution_count": 68,
     "metadata": {},
     "output_type": "execute_result"
    }
   ],
   "source": [
    "# 테스트 데이터를 넣고 예측합니다.\n",
    "y_pred = forest.predict(test_feature_vector)\n",
    "y_pred[:3]"
   ]
  },
  {
   "cell_type": "code",
   "execution_count": 69,
   "metadata": {},
   "outputs": [
    {
     "data": {
      "text/plain": [
       "(554,)"
      ]
     },
     "execution_count": 69,
     "metadata": {},
     "output_type": "execute_result"
    }
   ],
   "source": [
    "y_pred.shape"
   ]
  },
  {
   "cell_type": "markdown",
   "metadata": {},
   "source": [
    "## XGB"
   ]
  },
  {
   "cell_type": "code",
   "execution_count": 70,
   "metadata": {},
   "outputs": [
    {
     "name": "stderr",
     "output_type": "stream",
     "text": [
      "/Users/corazzon/codes/jupyter/lib/python3.6/site-packages/sklearn/preprocessing/label.py:151: DeprecationWarning: The truth value of an empty array is ambiguous. Returning False, but in future this will result in an error. Use `array.size > 0` to check that an array is not empty.\n",
      "  if diff:\n"
     ]
    }
   ],
   "source": [
    "y_pred_xgb = xgb.predict(test_feature_tfidf)"
   ]
  },
  {
   "cell_type": "code",
   "execution_count": 71,
   "metadata": {},
   "outputs": [
    {
     "name": "stdout",
     "output_type": "stream",
     "text": [
      "(554,)\n"
     ]
    },
    {
     "data": {
      "text/plain": [
       "array(['육아/교육', '보건복지', '육아/교육', '인권/성평등', '안전/환경'], dtype=object)"
      ]
     },
     "execution_count": 71,
     "metadata": {},
     "output_type": "execute_result"
    }
   ],
   "source": [
    "print(y_pred_xgb.shape)\n",
    "df_test['category_pred_xgb'] = y_pred_xgb\n",
    "y_pred_xgb[:5]"
   ]
  },
  {
   "cell_type": "code",
   "execution_count": 72,
   "metadata": {},
   "outputs": [
    {
     "data": {
      "text/html": [
       "<div>\n",
       "<style scoped>\n",
       "    .dataframe tbody tr th:only-of-type {\n",
       "        vertical-align: middle;\n",
       "    }\n",
       "\n",
       "    .dataframe tbody tr th {\n",
       "        vertical-align: top;\n",
       "    }\n",
       "\n",
       "    .dataframe thead th {\n",
       "        text-align: right;\n",
       "    }\n",
       "</style>\n",
       "<table border=\"1\" class=\"dataframe\">\n",
       "  <thead>\n",
       "    <tr style=\"text-align: right;\">\n",
       "      <th></th>\n",
       "      <th>category_pred</th>\n",
       "    </tr>\n",
       "  </thead>\n",
       "  <tbody>\n",
       "    <tr>\n",
       "      <th>0</th>\n",
       "      <td>인권/성평등</td>\n",
       "    </tr>\n",
       "    <tr>\n",
       "      <th>1</th>\n",
       "      <td>인권/성평등</td>\n",
       "    </tr>\n",
       "    <tr>\n",
       "      <th>2</th>\n",
       "      <td>육아/교육</td>\n",
       "    </tr>\n",
       "    <tr>\n",
       "      <th>3</th>\n",
       "      <td>경제민주화</td>\n",
       "    </tr>\n",
       "    <tr>\n",
       "      <th>4</th>\n",
       "      <td>안전/환경</td>\n",
       "    </tr>\n",
       "  </tbody>\n",
       "</table>\n",
       "</div>"
      ],
      "text/plain": [
       "  category_pred\n",
       "0        인권/성평등\n",
       "1        인권/성평등\n",
       "2         육아/교육\n",
       "3         경제민주화\n",
       "4         안전/환경"
      ]
     },
     "execution_count": 72,
     "metadata": {},
     "output_type": "execute_result"
    }
   ],
   "source": [
    "# 예측 결과를 저장하기 위해 데이터프레임에 담아 줍니다.\n",
    "output = pd.DataFrame(data={'category_pred':y_pred})\n",
    "output.head()"
   ]
  },
  {
   "cell_type": "markdown",
   "metadata": {},
   "source": [
    "### RF로 예측한 카테고리"
   ]
  },
  {
   "cell_type": "code",
   "execution_count": 73,
   "metadata": {},
   "outputs": [
    {
     "data": {
      "text/plain": [
       "육아/교육          179\n",
       "안전/환경           94\n",
       "보건복지            67\n",
       "인권/성평등          62\n",
       "문화/예술/체육/언론     46\n",
       "교통/건축/국토        30\n",
       "정치개혁            26\n",
       "반려동물            19\n",
       "외교/통일/국방        13\n",
       "경제민주화           11\n",
       "일자리              5\n",
       "미래               2\n",
       "Name: category_pred, dtype: int64"
      ]
     },
     "execution_count": 73,
     "metadata": {},
     "output_type": "execute_result"
    }
   ],
   "source": [
    "# 0과 1이 어떻게 집계 되었는지 확인합니다.\n",
    "# 실제 데이터에는 답변 대상 건이 있는데 없는 것으로 예측되었\n",
    "output['category_pred'].value_counts()"
   ]
  },
  {
   "cell_type": "markdown",
   "metadata": {},
   "source": [
    "### XGB로 예측한 카테고리"
   ]
  },
  {
   "cell_type": "code",
   "execution_count": 74,
   "metadata": {},
   "outputs": [
    {
     "data": {
      "text/plain": [
       "인권/성평등         109\n",
       "육아/교육           93\n",
       "안전/환경           84\n",
       "문화/예술/체육/언론     63\n",
       "보건복지            55\n",
       "정치개혁            47\n",
       "교통/건축/국토        42\n",
       "반려동물            19\n",
       "경제민주화           15\n",
       "일자리             12\n",
       "행정               9\n",
       "외교/통일/국방         5\n",
       "미래               1\n",
       "Name: category_pred_xgb, dtype: int64"
      ]
     },
     "execution_count": 74,
     "metadata": {},
     "output_type": "execute_result"
    }
   ],
   "source": [
    "df_test['category_pred_xgb'].value_counts()"
   ]
  },
  {
   "cell_type": "code",
   "execution_count": 75,
   "metadata": {},
   "outputs": [],
   "source": [
    "df_test['category_pred'] = y_pred"
   ]
  },
  {
   "cell_type": "code",
   "execution_count": 76,
   "metadata": {},
   "outputs": [
    {
     "data": {
      "text/html": [
       "<div>\n",
       "<style scoped>\n",
       "    .dataframe tbody tr th:only-of-type {\n",
       "        vertical-align: middle;\n",
       "    }\n",
       "\n",
       "    .dataframe tbody tr th {\n",
       "        vertical-align: top;\n",
       "    }\n",
       "\n",
       "    .dataframe thead th {\n",
       "        text-align: right;\n",
       "    }\n",
       "</style>\n",
       "<table border=\"1\" class=\"dataframe\">\n",
       "  <thead>\n",
       "    <tr style=\"text-align: right;\">\n",
       "      <th></th>\n",
       "      <th>article_id</th>\n",
       "      <th>start</th>\n",
       "      <th>end</th>\n",
       "      <th>answered</th>\n",
       "      <th>votes</th>\n",
       "      <th>category</th>\n",
       "      <th>title</th>\n",
       "      <th>content</th>\n",
       "      <th>category_pred</th>\n",
       "      <th>content_preprocessing</th>\n",
       "      <th>content_preprocessing2</th>\n",
       "      <th>category_pred_xgb</th>\n",
       "      <th>pred_diff</th>\n",
       "    </tr>\n",
       "  </thead>\n",
       "  <tbody>\n",
       "    <tr>\n",
       "      <th>169200</th>\n",
       "      <td>209713</td>\n",
       "      <td>2018-04-23</td>\n",
       "      <td>2018-05-23</td>\n",
       "      <td>0</td>\n",
       "      <td>1045</td>\n",
       "      <td>일자리</td>\n",
       "      <td>학습지회사들의 다단계적 업무횡포 / 갑질 철저히 조사해주시기 바랍니다.</td>\n",
       "      <td>안녕하세요.\\n학습지 회사에 근무하고 있는 와이프를 둔 일반 직장인 30대 남성입니...</td>\n",
       "      <td>인권/성평등</td>\n",
       "      <td>안녕하세요  학습지 회사에 근무하고 있는 와이프를 둔 일반 직장인   대 남성입니다...</td>\n",
       "      <td>안녕하세요  학습지 회사에 근무하고 와이프를 둔 일반 직장인   대 남성입니다  요...</td>\n",
       "      <td>육아/교육</td>\n",
       "      <td>0</td>\n",
       "    </tr>\n",
       "    <tr>\n",
       "      <th>169240</th>\n",
       "      <td>209760</td>\n",
       "      <td>2018-04-23</td>\n",
       "      <td>2018-05-23</td>\n",
       "      <td>0</td>\n",
       "      <td>1631</td>\n",
       "      <td>일자리</td>\n",
       "      <td>카드사 '갑'질 때문에 일자리 잃게 생겼어요</td>\n",
       "      <td>안녕하세요 ‘카드기단말기’ 설치 회사에 근무하는 사람입니다.\\n카드 가맹점 가입 절...</td>\n",
       "      <td>인권/성평등</td>\n",
       "      <td>안녕하세요  카드기단말기  설치 회사에 근무하는 사람입니다  카드 가맹점 가입 절차...</td>\n",
       "      <td>안녕하세요  카드기단말기  설치 회사에 근무하는 사람입니다  카드 가맹점 가입 절차...</td>\n",
       "      <td>보건복지</td>\n",
       "      <td>0</td>\n",
       "    </tr>\n",
       "    <tr>\n",
       "      <th>169422</th>\n",
       "      <td>209990</td>\n",
       "      <td>2018-04-23</td>\n",
       "      <td>2018-05-23</td>\n",
       "      <td>0</td>\n",
       "      <td>3084</td>\n",
       "      <td>정치개혁</td>\n",
       "      <td>혜경궁김씨에 대한 검찰과 경찰의 적극적 수사를 촉구합니다.</td>\n",
       "      <td>20여일전에 트위터에서 발생했던 소위 \"혜경궁김씨\"에 대한\\n경찰과 검찰의 적극적이...</td>\n",
       "      <td>육아/교육</td>\n",
       "      <td>여일전에 트위터에서 발생했던 소위  혜경궁김씨 에 대한 경찰과 검찰의 적극적이고...</td>\n",
       "      <td>여일전에 트위터에서 발생했던 소위  혜경궁김씨 에 경찰과 검찰의 적극적이고 조속...</td>\n",
       "      <td>육아/교육</td>\n",
       "      <td>0</td>\n",
       "    </tr>\n",
       "  </tbody>\n",
       "</table>\n",
       "</div>"
      ],
      "text/plain": [
       "        article_id      start        end  answered  votes category  \\\n",
       "169200      209713 2018-04-23 2018-05-23         0   1045      일자리   \n",
       "169240      209760 2018-04-23 2018-05-23         0   1631      일자리   \n",
       "169422      209990 2018-04-23 2018-05-23         0   3084     정치개혁   \n",
       "\n",
       "                                          title  \\\n",
       "169200  학습지회사들의 다단계적 업무횡포 / 갑질 철저히 조사해주시기 바랍니다.   \n",
       "169240                 카드사 '갑'질 때문에 일자리 잃게 생겼어요   \n",
       "169422         혜경궁김씨에 대한 검찰과 경찰의 적극적 수사를 촉구합니다.   \n",
       "\n",
       "                                                  content category_pred  \\\n",
       "169200  안녕하세요.\\n학습지 회사에 근무하고 있는 와이프를 둔 일반 직장인 30대 남성입니...        인권/성평등   \n",
       "169240  안녕하세요 ‘카드기단말기’ 설치 회사에 근무하는 사람입니다.\\n카드 가맹점 가입 절...        인권/성평등   \n",
       "169422  20여일전에 트위터에서 발생했던 소위 \"혜경궁김씨\"에 대한\\n경찰과 검찰의 적극적이...         육아/교육   \n",
       "\n",
       "                                    content_preprocessing  \\\n",
       "169200  안녕하세요  학습지 회사에 근무하고 있는 와이프를 둔 일반 직장인   대 남성입니다...   \n",
       "169240  안녕하세요  카드기단말기  설치 회사에 근무하는 사람입니다  카드 가맹점 가입 절차...   \n",
       "169422    여일전에 트위터에서 발생했던 소위  혜경궁김씨 에 대한 경찰과 검찰의 적극적이고...   \n",
       "\n",
       "                                   content_preprocessing2 category_pred_xgb  \\\n",
       "169200  안녕하세요  학습지 회사에 근무하고 와이프를 둔 일반 직장인   대 남성입니다  요...             육아/교육   \n",
       "169240  안녕하세요  카드기단말기  설치 회사에 근무하는 사람입니다  카드 가맹점 가입 절차...              보건복지   \n",
       "169422    여일전에 트위터에서 발생했던 소위  혜경궁김씨 에 경찰과 검찰의 적극적이고 조속...             육아/교육   \n",
       "\n",
       "        pred_diff  \n",
       "169200          0  \n",
       "169240          0  \n",
       "169422          0  "
      ]
     },
     "execution_count": 76,
     "metadata": {},
     "output_type": "execute_result"
    }
   ],
   "source": [
    "df_test['pred_diff'] = 0\n",
    "df_test['pred_diff'] = (df_test['category'] == df_test['category_pred'] ) == 1\n",
    "df_test['pred_diff'] = df_test['pred_diff'].astype(int)\n",
    "df_test.head(3)"
   ]
  },
  {
   "cell_type": "code",
   "execution_count": 77,
   "metadata": {},
   "outputs": [
    {
     "data": {
      "text/html": [
       "<div>\n",
       "<style scoped>\n",
       "    .dataframe tbody tr th:only-of-type {\n",
       "        vertical-align: middle;\n",
       "    }\n",
       "\n",
       "    .dataframe tbody tr th {\n",
       "        vertical-align: top;\n",
       "    }\n",
       "\n",
       "    .dataframe thead th {\n",
       "        text-align: right;\n",
       "    }\n",
       "</style>\n",
       "<table border=\"1\" class=\"dataframe\">\n",
       "  <thead>\n",
       "    <tr style=\"text-align: right;\">\n",
       "      <th></th>\n",
       "      <th>article_id</th>\n",
       "      <th>start</th>\n",
       "      <th>end</th>\n",
       "      <th>answered</th>\n",
       "      <th>votes</th>\n",
       "      <th>category</th>\n",
       "      <th>title</th>\n",
       "      <th>content</th>\n",
       "      <th>category_pred</th>\n",
       "      <th>content_preprocessing</th>\n",
       "      <th>content_preprocessing2</th>\n",
       "      <th>category_pred_xgb</th>\n",
       "      <th>pred_diff</th>\n",
       "      <th>pred_diff_xgb</th>\n",
       "    </tr>\n",
       "  </thead>\n",
       "  <tbody>\n",
       "    <tr>\n",
       "      <th>169200</th>\n",
       "      <td>209713</td>\n",
       "      <td>2018-04-23</td>\n",
       "      <td>2018-05-23</td>\n",
       "      <td>0</td>\n",
       "      <td>1045</td>\n",
       "      <td>일자리</td>\n",
       "      <td>학습지회사들의 다단계적 업무횡포 / 갑질 철저히 조사해주시기 바랍니다.</td>\n",
       "      <td>안녕하세요.\\n학습지 회사에 근무하고 있는 와이프를 둔 일반 직장인 30대 남성입니...</td>\n",
       "      <td>인권/성평등</td>\n",
       "      <td>안녕하세요  학습지 회사에 근무하고 있는 와이프를 둔 일반 직장인   대 남성입니다...</td>\n",
       "      <td>안녕하세요  학습지 회사에 근무하고 와이프를 둔 일반 직장인   대 남성입니다  요...</td>\n",
       "      <td>육아/교육</td>\n",
       "      <td>0</td>\n",
       "      <td>0</td>\n",
       "    </tr>\n",
       "    <tr>\n",
       "      <th>169240</th>\n",
       "      <td>209760</td>\n",
       "      <td>2018-04-23</td>\n",
       "      <td>2018-05-23</td>\n",
       "      <td>0</td>\n",
       "      <td>1631</td>\n",
       "      <td>일자리</td>\n",
       "      <td>카드사 '갑'질 때문에 일자리 잃게 생겼어요</td>\n",
       "      <td>안녕하세요 ‘카드기단말기’ 설치 회사에 근무하는 사람입니다.\\n카드 가맹점 가입 절...</td>\n",
       "      <td>인권/성평등</td>\n",
       "      <td>안녕하세요  카드기단말기  설치 회사에 근무하는 사람입니다  카드 가맹점 가입 절차...</td>\n",
       "      <td>안녕하세요  카드기단말기  설치 회사에 근무하는 사람입니다  카드 가맹점 가입 절차...</td>\n",
       "      <td>보건복지</td>\n",
       "      <td>0</td>\n",
       "      <td>0</td>\n",
       "    </tr>\n",
       "    <tr>\n",
       "      <th>169422</th>\n",
       "      <td>209990</td>\n",
       "      <td>2018-04-23</td>\n",
       "      <td>2018-05-23</td>\n",
       "      <td>0</td>\n",
       "      <td>3084</td>\n",
       "      <td>정치개혁</td>\n",
       "      <td>혜경궁김씨에 대한 검찰과 경찰의 적극적 수사를 촉구합니다.</td>\n",
       "      <td>20여일전에 트위터에서 발생했던 소위 \"혜경궁김씨\"에 대한\\n경찰과 검찰의 적극적이...</td>\n",
       "      <td>육아/교육</td>\n",
       "      <td>여일전에 트위터에서 발생했던 소위  혜경궁김씨 에 대한 경찰과 검찰의 적극적이고...</td>\n",
       "      <td>여일전에 트위터에서 발생했던 소위  혜경궁김씨 에 경찰과 검찰의 적극적이고 조속...</td>\n",
       "      <td>육아/교육</td>\n",
       "      <td>0</td>\n",
       "      <td>0</td>\n",
       "    </tr>\n",
       "  </tbody>\n",
       "</table>\n",
       "</div>"
      ],
      "text/plain": [
       "        article_id      start        end  answered  votes category  \\\n",
       "169200      209713 2018-04-23 2018-05-23         0   1045      일자리   \n",
       "169240      209760 2018-04-23 2018-05-23         0   1631      일자리   \n",
       "169422      209990 2018-04-23 2018-05-23         0   3084     정치개혁   \n",
       "\n",
       "                                          title  \\\n",
       "169200  학습지회사들의 다단계적 업무횡포 / 갑질 철저히 조사해주시기 바랍니다.   \n",
       "169240                 카드사 '갑'질 때문에 일자리 잃게 생겼어요   \n",
       "169422         혜경궁김씨에 대한 검찰과 경찰의 적극적 수사를 촉구합니다.   \n",
       "\n",
       "                                                  content category_pred  \\\n",
       "169200  안녕하세요.\\n학습지 회사에 근무하고 있는 와이프를 둔 일반 직장인 30대 남성입니...        인권/성평등   \n",
       "169240  안녕하세요 ‘카드기단말기’ 설치 회사에 근무하는 사람입니다.\\n카드 가맹점 가입 절...        인권/성평등   \n",
       "169422  20여일전에 트위터에서 발생했던 소위 \"혜경궁김씨\"에 대한\\n경찰과 검찰의 적극적이...         육아/교육   \n",
       "\n",
       "                                    content_preprocessing  \\\n",
       "169200  안녕하세요  학습지 회사에 근무하고 있는 와이프를 둔 일반 직장인   대 남성입니다...   \n",
       "169240  안녕하세요  카드기단말기  설치 회사에 근무하는 사람입니다  카드 가맹점 가입 절차...   \n",
       "169422    여일전에 트위터에서 발생했던 소위  혜경궁김씨 에 대한 경찰과 검찰의 적극적이고...   \n",
       "\n",
       "                                   content_preprocessing2 category_pred_xgb  \\\n",
       "169200  안녕하세요  학습지 회사에 근무하고 와이프를 둔 일반 직장인   대 남성입니다  요...             육아/교육   \n",
       "169240  안녕하세요  카드기단말기  설치 회사에 근무하는 사람입니다  카드 가맹점 가입 절차...              보건복지   \n",
       "169422    여일전에 트위터에서 발생했던 소위  혜경궁김씨 에 경찰과 검찰의 적극적이고 조속...             육아/교육   \n",
       "\n",
       "        pred_diff  pred_diff_xgb  \n",
       "169200          0              0  \n",
       "169240          0              0  \n",
       "169422          0              0  "
      ]
     },
     "execution_count": 77,
     "metadata": {},
     "output_type": "execute_result"
    }
   ],
   "source": [
    "df_test['pred_diff_xgb'] = 0\n",
    "df_test['pred_diff_xgb'] = (df_test['category'] == df_test['category_pred_xgb'] ) == 1\n",
    "df_test['pred_diff_xgb'] = df_test['pred_diff_xgb'].astype(int)\n",
    "df_test.head(3)"
   ]
  },
  {
   "cell_type": "code",
   "execution_count": 78,
   "metadata": {},
   "outputs": [
    {
     "data": {
      "text/plain": [
       "0    507\n",
       "1     47\n",
       "Name: pred_diff, dtype: int64"
      ]
     },
     "execution_count": 78,
     "metadata": {},
     "output_type": "execute_result"
    }
   ],
   "source": [
    "# RF로 맞게 예측한 청원은 1, 틀린 예측은 0으로 표기되었습니다.\n",
    "pred_diff = df_test['pred_diff'].value_counts()\n",
    "pred_diff"
   ]
  },
  {
   "cell_type": "code",
   "execution_count": 79,
   "metadata": {},
   "outputs": [
    {
     "data": {
      "text/plain": [
       "0    495\n",
       "1     59\n",
       "Name: pred_diff_xgb, dtype: int64"
      ]
     },
     "execution_count": 79,
     "metadata": {},
     "output_type": "execute_result"
    }
   ],
   "source": [
    "# XGB로 맞게 예측한 청원은 1, 틀린 예측은 0으로 표기되었습니다.\n",
    "pred_diff_xgb = df_test['pred_diff_xgb'].value_counts()\n",
    "pred_diff_xgb"
   ]
  },
  {
   "cell_type": "code",
   "execution_count": 80,
   "metadata": {},
   "outputs": [
    {
     "name": "stdout",
     "output_type": "stream",
     "text": [
      "RF 전체 554건의 데이터 중 47건 예측\n"
     ]
    }
   ],
   "source": [
    "print('RF 전체 {}건의 데이터 중 {}건 예측'.format(y_pred.shape[0], pred_diff[1]))"
   ]
  },
  {
   "cell_type": "code",
   "execution_count": 81,
   "metadata": {},
   "outputs": [
    {
     "name": "stdout",
     "output_type": "stream",
     "text": [
      "XGB 전체 554건의 데이터 중 59건 예측\n"
     ]
    }
   ],
   "source": [
    "print('XGB 전체 {}건의 데이터 중 {}건 예측'.format(y_pred_xgb.shape[0], pred_diff_xgb[1]))"
   ]
  },
  {
   "cell_type": "code",
   "execution_count": 82,
   "metadata": {},
   "outputs": [
    {
     "name": "stdout",
     "output_type": "stream",
     "text": [
      "예측 비율 8.483754512635379\n"
     ]
    }
   ],
   "source": [
    "acc = ( pred_diff[1] / y_pred.shape[0] )*100 \n",
    "print('예측 비율 {}'.format(acc))"
   ]
  },
  {
   "cell_type": "code",
   "execution_count": 83,
   "metadata": {},
   "outputs": [
    {
     "name": "stdout",
     "output_type": "stream",
     "text": [
      "예측 비율 10.649819494584838\n"
     ]
    }
   ],
   "source": [
    "acc = ( pred_diff_xgb[1] / y_pred_xgb.shape[0] )*100 \n",
    "print('예측 비율 {}'.format(acc))"
   ]
  },
  {
   "cell_type": "code",
   "execution_count": 84,
   "metadata": {},
   "outputs": [
    {
     "data": {
      "text/html": [
       "<div>\n",
       "<style scoped>\n",
       "    .dataframe tbody tr th:only-of-type {\n",
       "        vertical-align: middle;\n",
       "    }\n",
       "\n",
       "    .dataframe tbody tr th {\n",
       "        vertical-align: top;\n",
       "    }\n",
       "\n",
       "    .dataframe thead th {\n",
       "        text-align: right;\n",
       "    }\n",
       "</style>\n",
       "<table border=\"1\" class=\"dataframe\">\n",
       "  <thead>\n",
       "    <tr style=\"text-align: right;\">\n",
       "      <th></th>\n",
       "      <th>article_id</th>\n",
       "      <th>start</th>\n",
       "      <th>end</th>\n",
       "      <th>answered</th>\n",
       "      <th>votes</th>\n",
       "      <th>category</th>\n",
       "      <th>title</th>\n",
       "      <th>content</th>\n",
       "      <th>category_pred</th>\n",
       "      <th>content_preprocessing</th>\n",
       "      <th>content_preprocessing2</th>\n",
       "      <th>category_pred_xgb</th>\n",
       "      <th>pred_diff</th>\n",
       "      <th>pred_diff_xgb</th>\n",
       "    </tr>\n",
       "  </thead>\n",
       "  <tbody>\n",
       "    <tr>\n",
       "      <th>169873</th>\n",
       "      <td>210558</td>\n",
       "      <td>2018-04-24</td>\n",
       "      <td>2018-05-24</td>\n",
       "      <td>0</td>\n",
       "      <td>1122</td>\n",
       "      <td>보건복지</td>\n",
       "      <td>집앞 패기물 처리장 왜? 건재한가요?</td>\n",
       "      <td>국민의 한 사람이자 남양주의 한 시민 으로써 처음으로 청원 게시판에 글을 올립니다....</td>\n",
       "      <td>보건복지</td>\n",
       "      <td>국민의 한 사람이자 남양주의 한 시민 으로써 처음으로 청원 게시판에 글을 올립니다 ...</td>\n",
       "      <td>국민의 사람이자 남양주의 시민 으로써 처음으로 청원 게시판에 글을 올립니다    년...</td>\n",
       "      <td>보건복지</td>\n",
       "      <td>1</td>\n",
       "      <td>1</td>\n",
       "    </tr>\n",
       "    <tr>\n",
       "      <th>171132</th>\n",
       "      <td>212170</td>\n",
       "      <td>2018-04-25</td>\n",
       "      <td>2018-05-25</td>\n",
       "      <td>0</td>\n",
       "      <td>78934</td>\n",
       "      <td>보건복지</td>\n",
       "      <td>말기암 암 환자의 마지막 희망, 면역항암제 급여화와 적응증 확대해주세요</td>\n",
       "      <td>저희 엄마는 말기 암 환자입니다.\\n병원에서 호스피스를 권유 받았었고\\n실오라기 같...</td>\n",
       "      <td>보건복지</td>\n",
       "      <td>저희 엄마는 말기 암 환자입니다  병원에서 호스피스를 권유 받았었고 실오라기 같은 ...</td>\n",
       "      <td>저희 엄마는 말기 암 환자입니다  병원에서 호스피스를 권유 받았었고 실오라기 희망으...</td>\n",
       "      <td>보건복지</td>\n",
       "      <td>1</td>\n",
       "      <td>1</td>\n",
       "    </tr>\n",
       "    <tr>\n",
       "      <th>171201</th>\n",
       "      <td>212254</td>\n",
       "      <td>2018-04-25</td>\n",
       "      <td>2018-05-25</td>\n",
       "      <td>0</td>\n",
       "      <td>8477</td>\n",
       "      <td>문화/예술/체육/언론</td>\n",
       "      <td>박지훈 번역가의 작품(번역)참여를 반대합니다</td>\n",
       "      <td>지금까지 영화에서 수많은 오역과 발번역을 하여 각종 비난과 퇴출운동이 일어나고 있는...</td>\n",
       "      <td>문화/예술/체육/언론</td>\n",
       "      <td>지금까지 영화에서 수많은 오역과 발번역을 하여 각종 비난과 퇴출운동이 일어나고 있는...</td>\n",
       "      <td>지금까지 영화에서 수많은 오역과 발번역을 하여 각종 비난과 퇴출운동이 일어나고 문제...</td>\n",
       "      <td>문화/예술/체육/언론</td>\n",
       "      <td>1</td>\n",
       "      <td>1</td>\n",
       "    </tr>\n",
       "    <tr>\n",
       "      <th>171961</th>\n",
       "      <td>213223</td>\n",
       "      <td>2018-04-27</td>\n",
       "      <td>2018-05-27</td>\n",
       "      <td>0</td>\n",
       "      <td>15318</td>\n",
       "      <td>반려동물</td>\n",
       "      <td>강아지공장 및 펫숍 운영 금지</td>\n",
       "      <td>반려동물을 키우시는 분들이나 동물에 관심이 있으신 분들이라면 누구나 한번쯤 들어봤을...</td>\n",
       "      <td>반려동물</td>\n",
       "      <td>반려동물을 키우시는 분들이나 동물에 관심이 있으신 분들이라면 누구나 한번쯤 들어봤을...</td>\n",
       "      <td>반려동물을 키우시는 분들이나 동물에 관심이 있으신 분들이라면 누구나 한번쯤 들어봤을...</td>\n",
       "      <td>반려동물</td>\n",
       "      <td>1</td>\n",
       "      <td>1</td>\n",
       "    </tr>\n",
       "    <tr>\n",
       "      <th>173437</th>\n",
       "      <td>215212</td>\n",
       "      <td>2018-04-29</td>\n",
       "      <td>2018-05-29</td>\n",
       "      <td>0</td>\n",
       "      <td>2173</td>\n",
       "      <td>반려동물</td>\n",
       "      <td>성동구청 길고양이 어울쉼터 철거.이전 반대합니다</td>\n",
       "      <td>2017년2월14일 강동구청 성안별관 옥상에 3개월 미만의 고양이나 돌봄이 필요한 ...</td>\n",
       "      <td>반려동물</td>\n",
       "      <td>년 월  일 강동구청 성안별관 옥상에  개월 미만의 고양이나 돌봄이 필요한 ...</td>\n",
       "      <td>년  강동구청 성안별관 옥상에  개월 미만의 고양이나 돌봄이 필요한 다친 고...</td>\n",
       "      <td>반려동물</td>\n",
       "      <td>1</td>\n",
       "      <td>1</td>\n",
       "    </tr>\n",
       "  </tbody>\n",
       "</table>\n",
       "</div>"
      ],
      "text/plain": [
       "        article_id      start        end  answered  votes     category  \\\n",
       "169873      210558 2018-04-24 2018-05-24         0   1122         보건복지   \n",
       "171132      212170 2018-04-25 2018-05-25         0  78934         보건복지   \n",
       "171201      212254 2018-04-25 2018-05-25         0   8477  문화/예술/체육/언론   \n",
       "171961      213223 2018-04-27 2018-05-27         0  15318         반려동물   \n",
       "173437      215212 2018-04-29 2018-05-29         0   2173         반려동물   \n",
       "\n",
       "                                          title  \\\n",
       "169873                     집앞 패기물 처리장 왜? 건재한가요?   \n",
       "171132  말기암 암 환자의 마지막 희망, 면역항암제 급여화와 적응증 확대해주세요   \n",
       "171201                 박지훈 번역가의 작품(번역)참여를 반대합니다   \n",
       "171961                         강아지공장 및 펫숍 운영 금지   \n",
       "173437               성동구청 길고양이 어울쉼터 철거.이전 반대합니다   \n",
       "\n",
       "                                                  content category_pred  \\\n",
       "169873  국민의 한 사람이자 남양주의 한 시민 으로써 처음으로 청원 게시판에 글을 올립니다....          보건복지   \n",
       "171132  저희 엄마는 말기 암 환자입니다.\\n병원에서 호스피스를 권유 받았었고\\n실오라기 같...          보건복지   \n",
       "171201  지금까지 영화에서 수많은 오역과 발번역을 하여 각종 비난과 퇴출운동이 일어나고 있는...   문화/예술/체육/언론   \n",
       "171961  반려동물을 키우시는 분들이나 동물에 관심이 있으신 분들이라면 누구나 한번쯤 들어봤을...          반려동물   \n",
       "173437  2017년2월14일 강동구청 성안별관 옥상에 3개월 미만의 고양이나 돌봄이 필요한 ...          반려동물   \n",
       "\n",
       "                                    content_preprocessing  \\\n",
       "169873  국민의 한 사람이자 남양주의 한 시민 으로써 처음으로 청원 게시판에 글을 올립니다 ...   \n",
       "171132  저희 엄마는 말기 암 환자입니다  병원에서 호스피스를 권유 받았었고 실오라기 같은 ...   \n",
       "171201  지금까지 영화에서 수많은 오역과 발번역을 하여 각종 비난과 퇴출운동이 일어나고 있는...   \n",
       "171961  반려동물을 키우시는 분들이나 동물에 관심이 있으신 분들이라면 누구나 한번쯤 들어봤을...   \n",
       "173437      년 월  일 강동구청 성안별관 옥상에  개월 미만의 고양이나 돌봄이 필요한 ...   \n",
       "\n",
       "                                   content_preprocessing2 category_pred_xgb  \\\n",
       "169873  국민의 사람이자 남양주의 시민 으로써 처음으로 청원 게시판에 글을 올립니다    년...              보건복지   \n",
       "171132  저희 엄마는 말기 암 환자입니다  병원에서 호스피스를 권유 받았었고 실오라기 희망으...              보건복지   \n",
       "171201  지금까지 영화에서 수많은 오역과 발번역을 하여 각종 비난과 퇴출운동이 일어나고 문제...       문화/예술/체육/언론   \n",
       "171961  반려동물을 키우시는 분들이나 동물에 관심이 있으신 분들이라면 누구나 한번쯤 들어봤을...              반려동물   \n",
       "173437      년  강동구청 성안별관 옥상에  개월 미만의 고양이나 돌봄이 필요한 다친 고...              반려동물   \n",
       "\n",
       "        pred_diff  pred_diff_xgb  \n",
       "169873          1              1  \n",
       "171132          1              1  \n",
       "171201          1              1  \n",
       "171961          1              1  \n",
       "173437          1              1  "
      ]
     },
     "execution_count": 84,
     "metadata": {},
     "output_type": "execute_result"
    }
   ],
   "source": [
    "# 제대로 예측한 카테고리 데이터를 봅니다.\n",
    "predict_correct = df_test.loc[df_test['pred_diff'] == 1]\n",
    "predict_correct.head()"
   ]
  },
  {
   "cell_type": "code",
   "execution_count": 85,
   "metadata": {},
   "outputs": [
    {
     "data": {
      "text/html": [
       "<div>\n",
       "<style scoped>\n",
       "    .dataframe tbody tr th:only-of-type {\n",
       "        vertical-align: middle;\n",
       "    }\n",
       "\n",
       "    .dataframe tbody tr th {\n",
       "        vertical-align: top;\n",
       "    }\n",
       "\n",
       "    .dataframe thead th {\n",
       "        text-align: right;\n",
       "    }\n",
       "</style>\n",
       "<table border=\"1\" class=\"dataframe\">\n",
       "  <thead>\n",
       "    <tr style=\"text-align: right;\">\n",
       "      <th></th>\n",
       "      <th>article_id</th>\n",
       "      <th>start</th>\n",
       "      <th>end</th>\n",
       "      <th>answered</th>\n",
       "      <th>votes</th>\n",
       "      <th>category</th>\n",
       "      <th>title</th>\n",
       "      <th>content</th>\n",
       "      <th>category_pred</th>\n",
       "      <th>content_preprocessing</th>\n",
       "      <th>content_preprocessing2</th>\n",
       "      <th>category_pred_xgb</th>\n",
       "      <th>pred_diff</th>\n",
       "      <th>pred_diff_xgb</th>\n",
       "    </tr>\n",
       "  </thead>\n",
       "  <tbody>\n",
       "    <tr>\n",
       "      <th>169200</th>\n",
       "      <td>209713</td>\n",
       "      <td>2018-04-23</td>\n",
       "      <td>2018-05-23</td>\n",
       "      <td>0</td>\n",
       "      <td>1045</td>\n",
       "      <td>일자리</td>\n",
       "      <td>학습지회사들의 다단계적 업무횡포 / 갑질 철저히 조사해주시기 바랍니다.</td>\n",
       "      <td>안녕하세요.\\n학습지 회사에 근무하고 있는 와이프를 둔 일반 직장인 30대 남성입니...</td>\n",
       "      <td>인권/성평등</td>\n",
       "      <td>안녕하세요  학습지 회사에 근무하고 있는 와이프를 둔 일반 직장인   대 남성입니다...</td>\n",
       "      <td>안녕하세요  학습지 회사에 근무하고 와이프를 둔 일반 직장인   대 남성입니다  요...</td>\n",
       "      <td>육아/교육</td>\n",
       "      <td>0</td>\n",
       "      <td>0</td>\n",
       "    </tr>\n",
       "    <tr>\n",
       "      <th>169240</th>\n",
       "      <td>209760</td>\n",
       "      <td>2018-04-23</td>\n",
       "      <td>2018-05-23</td>\n",
       "      <td>0</td>\n",
       "      <td>1631</td>\n",
       "      <td>일자리</td>\n",
       "      <td>카드사 '갑'질 때문에 일자리 잃게 생겼어요</td>\n",
       "      <td>안녕하세요 ‘카드기단말기’ 설치 회사에 근무하는 사람입니다.\\n카드 가맹점 가입 절...</td>\n",
       "      <td>인권/성평등</td>\n",
       "      <td>안녕하세요  카드기단말기  설치 회사에 근무하는 사람입니다  카드 가맹점 가입 절차...</td>\n",
       "      <td>안녕하세요  카드기단말기  설치 회사에 근무하는 사람입니다  카드 가맹점 가입 절차...</td>\n",
       "      <td>보건복지</td>\n",
       "      <td>0</td>\n",
       "      <td>0</td>\n",
       "    </tr>\n",
       "    <tr>\n",
       "      <th>169422</th>\n",
       "      <td>209990</td>\n",
       "      <td>2018-04-23</td>\n",
       "      <td>2018-05-23</td>\n",
       "      <td>0</td>\n",
       "      <td>3084</td>\n",
       "      <td>정치개혁</td>\n",
       "      <td>혜경궁김씨에 대한 검찰과 경찰의 적극적 수사를 촉구합니다.</td>\n",
       "      <td>20여일전에 트위터에서 발생했던 소위 \"혜경궁김씨\"에 대한\\n경찰과 검찰의 적극적이...</td>\n",
       "      <td>육아/교육</td>\n",
       "      <td>여일전에 트위터에서 발생했던 소위  혜경궁김씨 에 대한 경찰과 검찰의 적극적이고...</td>\n",
       "      <td>여일전에 트위터에서 발생했던 소위  혜경궁김씨 에 경찰과 검찰의 적극적이고 조속...</td>\n",
       "      <td>육아/교육</td>\n",
       "      <td>0</td>\n",
       "      <td>0</td>\n",
       "    </tr>\n",
       "    <tr>\n",
       "      <th>169433</th>\n",
       "      <td>210001</td>\n",
       "      <td>2018-04-23</td>\n",
       "      <td>2018-05-23</td>\n",
       "      <td>0</td>\n",
       "      <td>2464</td>\n",
       "      <td>교통/건축/국토</td>\n",
       "      <td>7호선은 경기북부의 생명선 입니다.</td>\n",
       "      <td>10년이 넘는 세월동안\\n피땀어린 눈물로 7호선 유치에\\n경기북부의 시민들은 온힘을...</td>\n",
       "      <td>경제민주화</td>\n",
       "      <td>년이 넘는 세월동안 피땀어린 눈물로  호선 유치에 경기북부의 시민들은 온힘을 쏟...</td>\n",
       "      <td>년이 넘는 세월동안 피땀어린 눈물로  호선 유치에 경기북부의 시민들은 온힘을 쏟...</td>\n",
       "      <td>인권/성평등</td>\n",
       "      <td>0</td>\n",
       "      <td>0</td>\n",
       "    </tr>\n",
       "    <tr>\n",
       "      <th>169459</th>\n",
       "      <td>210030</td>\n",
       "      <td>2018-04-23</td>\n",
       "      <td>2018-05-23</td>\n",
       "      <td>0</td>\n",
       "      <td>8190</td>\n",
       "      <td>보건복지</td>\n",
       "      <td>중증환자 5년지원 이상 연장</td>\n",
       "      <td>안녕하세요.\\n저는 8년전 유방암진단받고 아직도 복약 및 투병중입니다.\\n처음 암에...</td>\n",
       "      <td>안전/환경</td>\n",
       "      <td>안녕하세요  저는  년전 유방암진단받고 아직도 복약 및 투병중입니다  처음 암에 걸...</td>\n",
       "      <td>안녕하세요   년전 유방암진단받고 아직도 복약 투병중입니다  처음 암에 걸리면   ...</td>\n",
       "      <td>안전/환경</td>\n",
       "      <td>0</td>\n",
       "      <td>0</td>\n",
       "    </tr>\n",
       "  </tbody>\n",
       "</table>\n",
       "</div>"
      ],
      "text/plain": [
       "        article_id      start        end  answered  votes  category  \\\n",
       "169200      209713 2018-04-23 2018-05-23         0   1045       일자리   \n",
       "169240      209760 2018-04-23 2018-05-23         0   1631       일자리   \n",
       "169422      209990 2018-04-23 2018-05-23         0   3084      정치개혁   \n",
       "169433      210001 2018-04-23 2018-05-23         0   2464  교통/건축/국토   \n",
       "169459      210030 2018-04-23 2018-05-23         0   8190      보건복지   \n",
       "\n",
       "                                          title  \\\n",
       "169200  학습지회사들의 다단계적 업무횡포 / 갑질 철저히 조사해주시기 바랍니다.   \n",
       "169240                 카드사 '갑'질 때문에 일자리 잃게 생겼어요   \n",
       "169422         혜경궁김씨에 대한 검찰과 경찰의 적극적 수사를 촉구합니다.   \n",
       "169433                      7호선은 경기북부의 생명선 입니다.   \n",
       "169459                          중증환자 5년지원 이상 연장   \n",
       "\n",
       "                                                  content category_pred  \\\n",
       "169200  안녕하세요.\\n학습지 회사에 근무하고 있는 와이프를 둔 일반 직장인 30대 남성입니...        인권/성평등   \n",
       "169240  안녕하세요 ‘카드기단말기’ 설치 회사에 근무하는 사람입니다.\\n카드 가맹점 가입 절...        인권/성평등   \n",
       "169422  20여일전에 트위터에서 발생했던 소위 \"혜경궁김씨\"에 대한\\n경찰과 검찰의 적극적이...         육아/교육   \n",
       "169433  10년이 넘는 세월동안\\n피땀어린 눈물로 7호선 유치에\\n경기북부의 시민들은 온힘을...         경제민주화   \n",
       "169459  안녕하세요.\\n저는 8년전 유방암진단받고 아직도 복약 및 투병중입니다.\\n처음 암에...         안전/환경   \n",
       "\n",
       "                                    content_preprocessing  \\\n",
       "169200  안녕하세요  학습지 회사에 근무하고 있는 와이프를 둔 일반 직장인   대 남성입니다...   \n",
       "169240  안녕하세요  카드기단말기  설치 회사에 근무하는 사람입니다  카드 가맹점 가입 절차...   \n",
       "169422    여일전에 트위터에서 발생했던 소위  혜경궁김씨 에 대한 경찰과 검찰의 적극적이고...   \n",
       "169433    년이 넘는 세월동안 피땀어린 눈물로  호선 유치에 경기북부의 시민들은 온힘을 쏟...   \n",
       "169459  안녕하세요  저는  년전 유방암진단받고 아직도 복약 및 투병중입니다  처음 암에 걸...   \n",
       "\n",
       "                                   content_preprocessing2 category_pred_xgb  \\\n",
       "169200  안녕하세요  학습지 회사에 근무하고 와이프를 둔 일반 직장인   대 남성입니다  요...             육아/교육   \n",
       "169240  안녕하세요  카드기단말기  설치 회사에 근무하는 사람입니다  카드 가맹점 가입 절차...              보건복지   \n",
       "169422    여일전에 트위터에서 발생했던 소위  혜경궁김씨 에 경찰과 검찰의 적극적이고 조속...             육아/교육   \n",
       "169433    년이 넘는 세월동안 피땀어린 눈물로  호선 유치에 경기북부의 시민들은 온힘을 쏟...            인권/성평등   \n",
       "169459  안녕하세요   년전 유방암진단받고 아직도 복약 투병중입니다  처음 암에 걸리면   ...             안전/환경   \n",
       "\n",
       "        pred_diff  pred_diff_xgb  \n",
       "169200          0              0  \n",
       "169240          0              0  \n",
       "169422          0              0  \n",
       "169433          0              0  \n",
       "169459          0              0  "
      ]
     },
     "execution_count": 85,
     "metadata": {},
     "output_type": "execute_result"
    }
   ],
   "source": [
    "predict_incorrect = df_test.loc[df_test['pred_diff_xgb'] == 0].copy()\n",
    "predict_incorrect.head()"
   ]
  },
  {
   "cell_type": "code",
   "execution_count": 86,
   "metadata": {},
   "outputs": [
    {
     "data": {
      "text/plain": [
       "기타             146\n",
       "인권/성평등          67\n",
       "정치개혁            46\n",
       "안전/환경           36\n",
       "육아/교육           28\n",
       "보건복지            28\n",
       "교통/건축/국토        27\n",
       "행정              24\n",
       "외교/통일/국방        21\n",
       "경제민주화           18\n",
       "일자리             16\n",
       "문화/예술/체육/언론     14\n",
       "반려동물            13\n",
       "저출산/고령화대책        4\n",
       "성장동력             3\n",
       "미래               3\n",
       "농산어촌             1\n",
       "Name: category, dtype: int64"
      ]
     },
     "execution_count": 86,
     "metadata": {},
     "output_type": "execute_result"
    }
   ],
   "source": [
    "predict_incorrect_value = predict_incorrect['category'].value_counts()\n",
    "predict_incorrect_value"
   ]
  },
  {
   "cell_type": "code",
   "execution_count": 87,
   "metadata": {},
   "outputs": [
    {
     "data": {
      "text/plain": [
       "<matplotlib.axes._subplots.AxesSubplot at 0x1355a0588>"
      ]
     },
     "execution_count": 87,
     "metadata": {},
     "output_type": "execute_result"
    },
    {
     "data": {
      "image/png": "[encoded data removed]",
      "text/plain": [
       "<matplotlib.figure.Figure at 0x13732d3c8>"
      ]
     },
     "metadata": {},
     "output_type": "display_data"
    }
   ],
   "source": [
    "# 잘못 예측한 카테고리 중 인권/성평등 카테고리가 가장 많습니다.\n",
    "predict_incorrect_value.plot(kind='bar')"
   ]
  },
  {
   "cell_type": "markdown",
   "metadata": {},
   "source": [
    "# 왜 예측의 정확도가 낮을까요?\n",
    "* 청원을 입력하는 사람마다 카테고리 분류 기준이 정확하지 않은 것 같습니다.\n",
    "* 기타로 예측한 분류도 특정 카테고리로 분류해도 될 것으로 보여집니다."
   ]
  },
  {
   "cell_type": "code",
   "execution_count": 88,
   "metadata": {},
   "outputs": [
    {
     "data": {
      "text/html": [
       "<div>\n",
       "<style scoped>\n",
       "    .dataframe tbody tr th:only-of-type {\n",
       "        vertical-align: middle;\n",
       "    }\n",
       "\n",
       "    .dataframe tbody tr th {\n",
       "        vertical-align: top;\n",
       "    }\n",
       "\n",
       "    .dataframe thead th {\n",
       "        text-align: right;\n",
       "    }\n",
       "</style>\n",
       "<table border=\"1\" class=\"dataframe\">\n",
       "  <thead>\n",
       "    <tr style=\"text-align: right;\">\n",
       "      <th></th>\n",
       "      <th>category</th>\n",
       "      <th>category_pred</th>\n",
       "      <th>title</th>\n",
       "      <th>content</th>\n",
       "    </tr>\n",
       "  </thead>\n",
       "  <tbody>\n",
       "    <tr>\n",
       "      <th>169200</th>\n",
       "      <td>일자리</td>\n",
       "      <td>인권/성평등</td>\n",
       "      <td>학습지회사들의 다단계적 업무횡포 / 갑질 철저히 조사해주시기 바랍니다.</td>\n",
       "      <td>안녕하세요.\\n학습지 회사에 근무하고 있는 와이프를 둔 일반 직장인 30대 남성입니...</td>\n",
       "    </tr>\n",
       "    <tr>\n",
       "      <th>169240</th>\n",
       "      <td>일자리</td>\n",
       "      <td>인권/성평등</td>\n",
       "      <td>카드사 '갑'질 때문에 일자리 잃게 생겼어요</td>\n",
       "      <td>안녕하세요 ‘카드기단말기’ 설치 회사에 근무하는 사람입니다.\\n카드 가맹점 가입 절...</td>\n",
       "    </tr>\n",
       "    <tr>\n",
       "      <th>169422</th>\n",
       "      <td>정치개혁</td>\n",
       "      <td>육아/교육</td>\n",
       "      <td>혜경궁김씨에 대한 검찰과 경찰의 적극적 수사를 촉구합니다.</td>\n",
       "      <td>20여일전에 트위터에서 발생했던 소위 \"혜경궁김씨\"에 대한\\n경찰과 검찰의 적극적이...</td>\n",
       "    </tr>\n",
       "    <tr>\n",
       "      <th>169433</th>\n",
       "      <td>교통/건축/국토</td>\n",
       "      <td>경제민주화</td>\n",
       "      <td>7호선은 경기북부의 생명선 입니다.</td>\n",
       "      <td>10년이 넘는 세월동안\\n피땀어린 눈물로 7호선 유치에\\n경기북부의 시민들은 온힘을...</td>\n",
       "    </tr>\n",
       "    <tr>\n",
       "      <th>169459</th>\n",
       "      <td>보건복지</td>\n",
       "      <td>안전/환경</td>\n",
       "      <td>중증환자 5년지원 이상 연장</td>\n",
       "      <td>안녕하세요.\\n저는 8년전 유방암진단받고 아직도 복약 및 투병중입니다.\\n처음 암에...</td>\n",
       "    </tr>\n",
       "    <tr>\n",
       "      <th>169514</th>\n",
       "      <td>경제민주화</td>\n",
       "      <td>안전/환경</td>\n",
       "      <td>주휴수당</td>\n",
       "      <td>주휴수당 있는나라는 우리밖에 없습니다 주휴수당을 없에주세요</td>\n",
       "    </tr>\n",
       "    <tr>\n",
       "      <th>169609</th>\n",
       "      <td>안전/환경</td>\n",
       "      <td>교통/건축/국토</td>\n",
       "      <td>피해자를 모욕하고 폭력을 옹호한 동두천 소방관 '파면' 바랍니다.</td>\n",
       "      <td>“저거oo대녀 아니냐? 평생 소장급 야동임, 강추”라며 몰카 피해자를 모욕하고,\\n...</td>\n",
       "    </tr>\n",
       "    <tr>\n",
       "      <th>169643</th>\n",
       "      <td>안전/환경</td>\n",
       "      <td>정치개혁</td>\n",
       "      <td>세월호 희생자 수습에 힘쓴 민간 잠수사 지원에 대한 법안 통과를 촉구합니다.</td>\n",
       "      <td>세월호 희생자 수습에 힘쓴 민간 잠수사 지원에 대한 법안 통과를 촉구합니다.\\n물론...</td>\n",
       "    </tr>\n",
       "    <tr>\n",
       "      <th>169738</th>\n",
       "      <td>반려동물</td>\n",
       "      <td>안전/환경</td>\n",
       "      <td>대학내 불법 동물실험을 규제 해주세요</td>\n",
       "      <td>국내 연구 기관에서 동물실험을 하기 위해서는 정해진 절차와 법률을 따르도록 되어 있...</td>\n",
       "    </tr>\n",
       "    <tr>\n",
       "      <th>169772</th>\n",
       "      <td>보건복지</td>\n",
       "      <td>육아/교육</td>\n",
       "      <td>흡연보행에 대한 시행령 및 법안 진행을 청원합니다.</td>\n",
       "      <td>서울시에서 2017년 5월에 온라인 정책 공론장 데모크라시서울을 통해 시민 제안을 ...</td>\n",
       "    </tr>\n",
       "  </tbody>\n",
       "</table>\n",
       "</div>"
      ],
      "text/plain": [
       "        category category_pred                                       title  \\\n",
       "169200       일자리        인권/성평등     학습지회사들의 다단계적 업무횡포 / 갑질 철저히 조사해주시기 바랍니다.   \n",
       "169240       일자리        인권/성평등                    카드사 '갑'질 때문에 일자리 잃게 생겼어요   \n",
       "169422      정치개혁         육아/교육            혜경궁김씨에 대한 검찰과 경찰의 적극적 수사를 촉구합니다.   \n",
       "169433  교통/건축/국토         경제민주화                         7호선은 경기북부의 생명선 입니다.   \n",
       "169459      보건복지         안전/환경                             중증환자 5년지원 이상 연장   \n",
       "169514     경제민주화         안전/환경                                        주휴수당   \n",
       "169609     안전/환경      교통/건축/국토        피해자를 모욕하고 폭력을 옹호한 동두천 소방관 '파면' 바랍니다.   \n",
       "169643     안전/환경          정치개혁  세월호 희생자 수습에 힘쓴 민간 잠수사 지원에 대한 법안 통과를 촉구합니다.   \n",
       "169738      반려동물         안전/환경                        대학내 불법 동물실험을 규제 해주세요   \n",
       "169772      보건복지         육아/교육                흡연보행에 대한 시행령 및 법안 진행을 청원합니다.   \n",
       "\n",
       "                                                  content  \n",
       "169200  안녕하세요.\\n학습지 회사에 근무하고 있는 와이프를 둔 일반 직장인 30대 남성입니...  \n",
       "169240  안녕하세요 ‘카드기단말기’ 설치 회사에 근무하는 사람입니다.\\n카드 가맹점 가입 절...  \n",
       "169422  20여일전에 트위터에서 발생했던 소위 \"혜경궁김씨\"에 대한\\n경찰과 검찰의 적극적이...  \n",
       "169433  10년이 넘는 세월동안\\n피땀어린 눈물로 7호선 유치에\\n경기북부의 시민들은 온힘을...  \n",
       "169459  안녕하세요.\\n저는 8년전 유방암진단받고 아직도 복약 및 투병중입니다.\\n처음 암에...  \n",
       "169514                   주휴수당 있는나라는 우리밖에 없습니다 주휴수당을 없에주세요  \n",
       "169609  “저거oo대녀 아니냐? 평생 소장급 야동임, 강추”라며 몰카 피해자를 모욕하고,\\n...  \n",
       "169643  세월호 희생자 수습에 힘쓴 민간 잠수사 지원에 대한 법안 통과를 촉구합니다.\\n물론...  \n",
       "169738  국내 연구 기관에서 동물실험을 하기 위해서는 정해진 절차와 법률을 따르도록 되어 있...  \n",
       "169772  서울시에서 2017년 5월에 온라인 정책 공론장 데모크라시서울을 통해 시민 제안을 ...  "
      ]
     },
     "execution_count": 88,
     "metadata": {},
     "output_type": "execute_result"
    }
   ],
   "source": [
    "predict_incorrect[['category', 'category_pred', 'title', 'content']].head(10)"
   ]
  },
  {
   "cell_type": "markdown",
   "metadata": {},
   "source": [
    "## 원래 데이터 중 기타로 분류되었으나 분류기가 다르게 예측한 청원을 봅니다."
   ]
  },
  {
   "cell_type": "code",
   "execution_count": 89,
   "metadata": {},
   "outputs": [
    {
     "data": {
      "text/html": [
       "<div>\n",
       "<style scoped>\n",
       "    .dataframe tbody tr th:only-of-type {\n",
       "        vertical-align: middle;\n",
       "    }\n",
       "\n",
       "    .dataframe tbody tr th {\n",
       "        vertical-align: top;\n",
       "    }\n",
       "\n",
       "    .dataframe thead th {\n",
       "        text-align: right;\n",
       "    }\n",
       "</style>\n",
       "<table border=\"1\" class=\"dataframe\">\n",
       "  <thead>\n",
       "    <tr style=\"text-align: right;\">\n",
       "      <th></th>\n",
       "      <th>category</th>\n",
       "      <th>category_pred</th>\n",
       "      <th>title</th>\n",
       "      <th>content</th>\n",
       "    </tr>\n",
       "  </thead>\n",
       "  <tbody>\n",
       "    <tr>\n",
       "      <th>345</th>\n",
       "      <td>기타</td>\n",
       "      <td>보건복지</td>\n",
       "      <td>문재인 대통령 기념 시계도 판매하라.</td>\n",
       "      <td>문재인 대통령 싸인이 들어간 기념 시계를 판매용으로 전환하여 주세요. SNS상의 국...</td>\n",
       "    </tr>\n",
       "    <tr>\n",
       "      <th>487</th>\n",
       "      <td>기타</td>\n",
       "      <td>문화/예술/체육/언론</td>\n",
       "      <td>2017년 10월 원천세 신고기한 및 9월분 전자세금계산서 발행기한일을 10월 13...</td>\n",
       "      <td>2017년 추석연휴 및 10월 2일 임시공휴일 지정이 확정됨에 따라 10월 초에 법...</td>\n",
       "    </tr>\n",
       "    <tr>\n",
       "      <th>12747</th>\n",
       "      <td>기타</td>\n",
       "      <td>안전/환경</td>\n",
       "      <td>억울한죽음으로 돌아가신 고 이길연집배원의 순직을요구합니다</td>\n",
       "      <td>9월5일 서광주우체국에 근속중이신 고 이길연집배원 저희아버지가 자택에서 홀로목숨을끈...</td>\n",
       "    </tr>\n",
       "    <tr>\n",
       "      <th>15456</th>\n",
       "      <td>기타</td>\n",
       "      <td>육아/교육</td>\n",
       "      <td>화훼도매시장 출입에 대한 출입증 발급을 청원합니다</td>\n",
       "      <td>화훼쪽에 종사하고 있는 사람입니다\\n김영란법이 터지고 나서 뉴스를 보면 양재화훼시장...</td>\n",
       "    </tr>\n",
       "    <tr>\n",
       "      <th>17150</th>\n",
       "      <td>기타</td>\n",
       "      <td>육아/교육</td>\n",
       "      <td>TNS홀딩스 강태욱 대표 사기 횡령 사건 해결을 부탁드립니다.</td>\n",
       "      <td>안녕하세요\\n영등포구에 거주하는 30살 직장인입니다.\\n2014년부터 알고지낸 재무...</td>\n",
       "    </tr>\n",
       "    <tr>\n",
       "      <th>19072</th>\n",
       "      <td>기타</td>\n",
       "      <td>보건복지</td>\n",
       "      <td>'일간베스트'사이트를 폐지해주세요</td>\n",
       "      <td>국민들을 불편하게하고, 주변에 민폐를 끼치기로 유명한 일베는 사회적이슈로도 자주 떠...</td>\n",
       "    </tr>\n",
       "    <tr>\n",
       "      <th>22162</th>\n",
       "      <td>기타</td>\n",
       "      <td>안전/환경</td>\n",
       "      <td>경찰들의 성교육 이수 및 가중처벌</td>\n",
       "      <td>최근 경찰의 성폭행 성추행 성희롱등 그 주체가 범죄를 다루고 있는 경찰이된 사건들이...</td>\n",
       "    </tr>\n",
       "    <tr>\n",
       "      <th>22375</th>\n",
       "      <td>기타</td>\n",
       "      <td>문화/예술/체육/언론</td>\n",
       "      <td>튜닝카 법 개정</td>\n",
       "      <td>차량튜닝에대한 법 개정이 필요할것같습니다. 요즘 튜닝사업이 확대되는 시대 입니다. ...</td>\n",
       "    </tr>\n",
       "    <tr>\n",
       "      <th>22551</th>\n",
       "      <td>기타</td>\n",
       "      <td>안전/환경</td>\n",
       "      <td>을지대학교병원지부 노동조합 파업사태 해결 촉구</td>\n",
       "      <td>문재인 대통령께\\n안녕하세요 대통령님, 저는 대전 을지대학교병원에 근무하는 병원노동...</td>\n",
       "    </tr>\n",
       "    <tr>\n",
       "      <th>23292</th>\n",
       "      <td>기타</td>\n",
       "      <td>육아/교육</td>\n",
       "      <td>우리나라 법은 도대체 누구를 위한 법입니까 법 개선과 피해자를 위한 제도마련이 필요...</td>\n",
       "      <td>안녕하세요 .\\n오늘도 국민들을 위해 나라에 힘써주시느라 너무나 고생이 많으십니다....</td>\n",
       "    </tr>\n",
       "  </tbody>\n",
       "</table>\n",
       "</div>"
      ],
      "text/plain": [
       "      category category_pred  \\\n",
       "345         기타          보건복지   \n",
       "487         기타   문화/예술/체육/언론   \n",
       "12747       기타         안전/환경   \n",
       "15456       기타         육아/교육   \n",
       "17150       기타         육아/교육   \n",
       "19072       기타          보건복지   \n",
       "22162       기타         안전/환경   \n",
       "22375       기타   문화/예술/체육/언론   \n",
       "22551       기타         안전/환경   \n",
       "23292       기타         육아/교육   \n",
       "\n",
       "                                                   title  \\\n",
       "345                                 문재인 대통령 기념 시계도 판매하라.   \n",
       "487    2017년 10월 원천세 신고기한 및 9월분 전자세금계산서 발행기한일을 10월 13...   \n",
       "12747                    억울한죽음으로 돌아가신 고 이길연집배원의 순직을요구합니다   \n",
       "15456                        화훼도매시장 출입에 대한 출입증 발급을 청원합니다   \n",
       "17150                 TNS홀딩스 강태욱 대표 사기 횡령 사건 해결을 부탁드립니다.   \n",
       "19072                                 '일간베스트'사이트를 폐지해주세요   \n",
       "22162                                 경찰들의 성교육 이수 및 가중처벌   \n",
       "22375                                           튜닝카 법 개정   \n",
       "22551                          을지대학교병원지부 노동조합 파업사태 해결 촉구   \n",
       "23292  우리나라 법은 도대체 누구를 위한 법입니까 법 개선과 피해자를 위한 제도마련이 필요...   \n",
       "\n",
       "                                                 content  \n",
       "345    문재인 대통령 싸인이 들어간 기념 시계를 판매용으로 전환하여 주세요. SNS상의 국...  \n",
       "487    2017년 추석연휴 및 10월 2일 임시공휴일 지정이 확정됨에 따라 10월 초에 법...  \n",
       "12747  9월5일 서광주우체국에 근속중이신 고 이길연집배원 저희아버지가 자택에서 홀로목숨을끈...  \n",
       "15456  화훼쪽에 종사하고 있는 사람입니다\\n김영란법이 터지고 나서 뉴스를 보면 양재화훼시장...  \n",
       "17150  안녕하세요\\n영등포구에 거주하는 30살 직장인입니다.\\n2014년부터 알고지낸 재무...  \n",
       "19072  국민들을 불편하게하고, 주변에 민폐를 끼치기로 유명한 일베는 사회적이슈로도 자주 떠...  \n",
       "22162  최근 경찰의 성폭행 성추행 성희롱등 그 주체가 범죄를 다루고 있는 경찰이된 사건들이...  \n",
       "22375  차량튜닝에대한 법 개정이 필요할것같습니다. 요즘 튜닝사업이 확대되는 시대 입니다. ...  \n",
       "22551  문재인 대통령께\\n안녕하세요 대통령님, 저는 대전 을지대학교병원에 근무하는 병원노동...  \n",
       "23292  안녕하세요 .\\n오늘도 국민들을 위해 나라에 힘써주시느라 너무나 고생이 많으십니다....  "
      ]
     },
     "execution_count": 89,
     "metadata": {},
     "output_type": "execute_result"
    }
   ],
   "source": [
    "predict_incorrect_etc = predict_incorrect.loc[predict_incorrect['category'] == '기타'].copy()\n",
    "predict_incorrect_etc[['category', 'category_pred', 'title', 'content']].head(10)"
   ]
  },
  {
   "cell_type": "code",
   "execution_count": 90,
   "metadata": {},
   "outputs": [
    {
     "name": "stdout",
     "output_type": "stream",
     "text": [
      "예측 비율 8.483754512635379\n"
     ]
    }
   ],
   "source": [
    "acc = ( pred_diff[1] / y_pred.shape[0] )*100 \n",
    "print('예측 비율 {}'.format(acc))"
   ]
  },
  {
   "cell_type": "code",
   "execution_count": 91,
   "metadata": {},
   "outputs": [
    {
     "name": "stdout",
     "output_type": "stream",
     "text": [
      "예측 비율 10.649819494584838\n"
     ]
    }
   ],
   "source": [
    "acc = ( pred_diff_xgb[1] / y_pred_xgb.shape[0] )*100 \n",
    "print('예측 비율 {}'.format(acc))"
   ]
  },
  {
   "cell_type": "code",
   "execution_count": null,
   "metadata": {},
   "outputs": [],
   "source": []
  }
 ],
 "metadata": {
  "kernelspec": {
   "display_name": "Python 3",
   "language": "python",
   "name": "python3"
  },
  "language_info": {
   "codemirror_mode": {
    "name": "ipython",
    "version": 3
   },
   "file_extension": ".py",
   "mimetype": "text/x-python",
   "name": "python",
   "nbconvert_exporter": "python",
   "pygments_lexer": "ipython3",
   "version": "3.6.1"
  }
 },
 "nbformat": 4,
 "nbformat_minor": 2
}
