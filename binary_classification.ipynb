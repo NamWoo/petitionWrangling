{
 "cells": [
  {
   "cell_type": "markdown",
   "metadata": {},
   "source": [
    "# 국민청원 데이터로 이진 분류하기"
   ]
  },
  {
   "cell_type": "markdown",
   "metadata": {},
   "source": [
    "* 예제로 응답여부를 0과 1로 예측합니다.\n",
    "* 응답여부 외에도 청원의 카테고리를 예측하는 분류를 해볼 수도 있을것 같아요. \n",
    "* 이 예제를 참고하여 응답여부외에 청원내용으로 평균 이상의 투표를 받을 것인지 여부를 예측해 보면 좋겠습니다."
   ]
  },
  {
   "cell_type": "code",
   "execution_count": 1,
   "metadata": {},
   "outputs": [
    {
     "name": "stdout",
     "output_type": "stream",
     "text": [
      "0.21.0\n",
      "1.14.0\n"
     ]
    }
   ],
   "source": [
    "import pandas as pd\n",
    "import numpy as np\n",
    "import re\n",
    "print(pd.__version__)\n",
    "print(np.__version__)"
   ]
  },
  {
   "cell_type": "markdown",
   "metadata": {},
   "source": [
    "# 데이터 로드하기"
   ]
  },
  {
   "cell_type": "code",
   "execution_count": 2,
   "metadata": {},
   "outputs": [
    {
     "data": {
      "text/plain": [
       "(288497, 8)"
      ]
     },
     "execution_count": 2,
     "metadata": {},
     "output_type": "execute_result"
    }
   ],
   "source": [
    "# 크롤링해 온 국민청원 데이터를 판다스를 통해 읽어옵니다.\n",
    "petitions = pd.read_csv('data/petition.csv', parse_dates=['start', 'end'])\n",
    "# 데이터의 크기가 어느정도인지 봅니다.\n",
    "petitions.shape"
   ]
  },
  {
   "cell_type": "code",
   "execution_count": 3,
   "metadata": {},
   "outputs": [
    {
     "data": {
      "text/html": [
       "<div>\n",
       "<style scoped>\n",
       "    .dataframe tbody tr th:only-of-type {\n",
       "        vertical-align: middle;\n",
       "    }\n",
       "\n",
       "    .dataframe tbody tr th {\n",
       "        vertical-align: top;\n",
       "    }\n",
       "\n",
       "    .dataframe thead th {\n",
       "        text-align: right;\n",
       "    }\n",
       "</style>\n",
       "<table border=\"1\" class=\"dataframe\">\n",
       "  <thead>\n",
       "    <tr style=\"text-align: right;\">\n",
       "      <th></th>\n",
       "      <th>article_id</th>\n",
       "      <th>answered</th>\n",
       "      <th>votes</th>\n",
       "    </tr>\n",
       "  </thead>\n",
       "  <tbody>\n",
       "    <tr>\n",
       "      <th>count</th>\n",
       "      <td>288497.000000</td>\n",
       "      <td>288497.000000</td>\n",
       "      <td>288497.000000</td>\n",
       "    </tr>\n",
       "    <tr>\n",
       "      <th>mean</th>\n",
       "      <td>179694.142379</td>\n",
       "      <td>0.000094</td>\n",
       "      <td>141.316648</td>\n",
       "    </tr>\n",
       "    <tr>\n",
       "      <th>std</th>\n",
       "      <td>111681.785604</td>\n",
       "      <td>0.009674</td>\n",
       "      <td>4325.819120</td>\n",
       "    </tr>\n",
       "    <tr>\n",
       "      <th>min</th>\n",
       "      <td>21.000000</td>\n",
       "      <td>0.000000</td>\n",
       "      <td>0.000000</td>\n",
       "    </tr>\n",
       "    <tr>\n",
       "      <th>25%</th>\n",
       "      <td>77790.000000</td>\n",
       "      <td>0.000000</td>\n",
       "      <td>1.000000</td>\n",
       "    </tr>\n",
       "    <tr>\n",
       "      <th>50%</th>\n",
       "      <td>173385.000000</td>\n",
       "      <td>0.000000</td>\n",
       "      <td>4.000000</td>\n",
       "    </tr>\n",
       "    <tr>\n",
       "      <th>75%</th>\n",
       "      <td>279709.000000</td>\n",
       "      <td>0.000000</td>\n",
       "      <td>13.000000</td>\n",
       "    </tr>\n",
       "    <tr>\n",
       "      <th>max</th>\n",
       "      <td>375266.000000</td>\n",
       "      <td>1.000000</td>\n",
       "      <td>714875.000000</td>\n",
       "    </tr>\n",
       "  </tbody>\n",
       "</table>\n",
       "</div>"
      ],
      "text/plain": [
       "          article_id       answered          votes\n",
       "count  288497.000000  288497.000000  288497.000000\n",
       "mean   179694.142379       0.000094     141.316648\n",
       "std    111681.785604       0.009674    4325.819120\n",
       "min        21.000000       0.000000       0.000000\n",
       "25%     77790.000000       0.000000       1.000000\n",
       "50%    173385.000000       0.000000       4.000000\n",
       "75%    279709.000000       0.000000      13.000000\n",
       "max    375266.000000       1.000000  714875.000000"
      ]
     },
     "execution_count": 3,
     "metadata": {},
     "output_type": "execute_result"
    }
   ],
   "source": [
    "petitions.describe()"
   ]
  },
  {
   "cell_type": "code",
   "execution_count": 4,
   "metadata": {},
   "outputs": [
    {
     "data": {
      "text/plain": [
       "(12622, 8)"
      ]
     },
     "execution_count": 4,
     "metadata": {},
     "output_type": "execute_result"
    }
   ],
   "source": [
    "# 전체 데이터 중 투표가 1000건 이상인 데이터를 기준으로 가져옵니다. 아웃라이어 데이터 제거를 위해 20만건 이상 데이터도 제거합니다.\n",
    "petition_remove_outlier = petitions.loc[(petitions['votes'] > 100) & (petitions['votes'] < 10000)]\n",
    "petition_remove_outlier.shape"
   ]
  },
  {
   "cell_type": "code",
   "execution_count": 5,
   "metadata": {},
   "outputs": [],
   "source": [
    "df = petition_remove_outlier.copy()"
   ]
  },
  {
   "cell_type": "code",
   "execution_count": 6,
   "metadata": {},
   "outputs": [
    {
     "data": {
      "text/html": [
       "<div>\n",
       "<style scoped>\n",
       "    .dataframe tbody tr th:only-of-type {\n",
       "        vertical-align: middle;\n",
       "    }\n",
       "\n",
       "    .dataframe tbody tr th {\n",
       "        vertical-align: top;\n",
       "    }\n",
       "\n",
       "    .dataframe thead th {\n",
       "        text-align: right;\n",
       "    }\n",
       "</style>\n",
       "<table border=\"1\" class=\"dataframe\">\n",
       "  <thead>\n",
       "    <tr style=\"text-align: right;\">\n",
       "      <th></th>\n",
       "      <th>article_id</th>\n",
       "      <th>answered</th>\n",
       "      <th>votes</th>\n",
       "    </tr>\n",
       "  </thead>\n",
       "  <tbody>\n",
       "    <tr>\n",
       "      <th>count</th>\n",
       "      <td>12622.000000</td>\n",
       "      <td>12622.0</td>\n",
       "      <td>12622.000000</td>\n",
       "    </tr>\n",
       "    <tr>\n",
       "      <th>mean</th>\n",
       "      <td>204776.702662</td>\n",
       "      <td>0.0</td>\n",
       "      <td>699.214229</td>\n",
       "    </tr>\n",
       "    <tr>\n",
       "      <th>std</th>\n",
       "      <td>94316.590894</td>\n",
       "      <td>0.0</td>\n",
       "      <td>1302.058374</td>\n",
       "    </tr>\n",
       "    <tr>\n",
       "      <th>min</th>\n",
       "      <td>28.000000</td>\n",
       "      <td>0.0</td>\n",
       "      <td>101.000000</td>\n",
       "    </tr>\n",
       "    <tr>\n",
       "      <th>25%</th>\n",
       "      <td>139707.250000</td>\n",
       "      <td>0.0</td>\n",
       "      <td>143.000000</td>\n",
       "    </tr>\n",
       "    <tr>\n",
       "      <th>50%</th>\n",
       "      <td>208060.500000</td>\n",
       "      <td>0.0</td>\n",
       "      <td>230.000000</td>\n",
       "    </tr>\n",
       "    <tr>\n",
       "      <th>75%</th>\n",
       "      <td>283882.000000</td>\n",
       "      <td>0.0</td>\n",
       "      <td>554.000000</td>\n",
       "    </tr>\n",
       "    <tr>\n",
       "      <th>max</th>\n",
       "      <td>375187.000000</td>\n",
       "      <td>0.0</td>\n",
       "      <td>9988.000000</td>\n",
       "    </tr>\n",
       "  </tbody>\n",
       "</table>\n",
       "</div>"
      ],
      "text/plain": [
       "          article_id  answered         votes\n",
       "count   12622.000000   12622.0  12622.000000\n",
       "mean   204776.702662       0.0    699.214229\n",
       "std     94316.590894       0.0   1302.058374\n",
       "min        28.000000       0.0    101.000000\n",
       "25%    139707.250000       0.0    143.000000\n",
       "50%    208060.500000       0.0    230.000000\n",
       "75%    283882.000000       0.0    554.000000\n",
       "max    375187.000000       0.0   9988.000000"
      ]
     },
     "execution_count": 6,
     "metadata": {},
     "output_type": "execute_result"
    }
   ],
   "source": [
    "df.describe()"
   ]
  },
  {
   "cell_type": "markdown",
   "metadata": {},
   "source": [
    "# 이진분류 대상 정하기\n",
    "* 답변 여부에 대해 분류해보는 실습을 해볼까 했지만 표준편차가 너무 크고 모수가 적어 분류 데이터로 적합하지 않습니다."
   ]
  },
  {
   "cell_type": "code",
   "execution_count": 7,
   "metadata": {},
   "outputs": [
    {
     "data": {
      "text/plain": [
       "(0, 8)"
      ]
     },
     "execution_count": 7,
     "metadata": {},
     "output_type": "execute_result"
    }
   ],
   "source": [
    "# 답변대상건이 몇 건인지 봅니다. \n",
    "df.loc[df['answered'] == 1].shape"
   ]
  },
  {
   "cell_type": "code",
   "execution_count": 8,
   "metadata": {},
   "outputs": [
    {
     "data": {
      "text/plain": [
       "<matplotlib.axes._subplots.AxesSubplot at 0x1051e08d0>"
      ]
     },
     "execution_count": 8,
     "metadata": {},
     "output_type": "execute_result"
    },
    {
     "data": {
      "image/png": "[encoded data removed]",
      "text/plain": [
       "<matplotlib.figure.Figure at 0x115b2f978>"
      ]
     },
     "metadata": {},
     "output_type": "display_data"
    }
   ],
   "source": [
    "%matplotlib inline \n",
    "df['votes'].plot.hist()"
   ]
  },
  {
   "cell_type": "markdown",
   "metadata": {},
   "source": [
    "# 투표수를 평균보다 높게 혹은 적게 받는지 예측해 보기"
   ]
  },
  {
   "cell_type": "code",
   "execution_count": 9,
   "metadata": {},
   "outputs": [],
   "source": [
    "# 기본값을 0으로 세팅\n",
    "df['votes_pos_neg'] = 0"
   ]
  },
  {
   "cell_type": "code",
   "execution_count": 10,
   "metadata": {},
   "outputs": [
    {
     "data": {
      "text/plain": [
       "699.2142291237521"
      ]
     },
     "execution_count": 10,
     "metadata": {},
     "output_type": "execute_result"
    }
   ],
   "source": [
    "# 평균 투표수를 구해 옵니다.\n",
    "votes_mean = df['votes'].mean()\n",
    "votes_mean"
   ]
  },
  {
   "cell_type": "code",
   "execution_count": 11,
   "metadata": {},
   "outputs": [],
   "source": [
    "# 투표수가 평균을 넘으면 1로 다시 세팅합니다.\n",
    "df['votes_pos_neg'] = (df['votes'] > votes_mean) == 1"
   ]
  },
  {
   "cell_type": "code",
   "execution_count": 12,
   "metadata": {},
   "outputs": [],
   "source": [
    "# 타입을 boolean 에서 int로 변경해 줍니다.\n",
    "df['votes_pos_neg'] = df['votes_pos_neg'].astype(int)"
   ]
  },
  {
   "cell_type": "code",
   "execution_count": 13,
   "metadata": {},
   "outputs": [
    {
     "data": {
      "text/html": [
       "<div>\n",
       "<style scoped>\n",
       "    .dataframe tbody tr th:only-of-type {\n",
       "        vertical-align: middle;\n",
       "    }\n",
       "\n",
       "    .dataframe tbody tr th {\n",
       "        vertical-align: top;\n",
       "    }\n",
       "\n",
       "    .dataframe thead th {\n",
       "        text-align: right;\n",
       "    }\n",
       "</style>\n",
       "<table border=\"1\" class=\"dataframe\">\n",
       "  <thead>\n",
       "    <tr style=\"text-align: right;\">\n",
       "      <th></th>\n",
       "      <th>article_id</th>\n",
       "      <th>start</th>\n",
       "      <th>end</th>\n",
       "      <th>answered</th>\n",
       "      <th>votes</th>\n",
       "      <th>category</th>\n",
       "      <th>title</th>\n",
       "      <th>content</th>\n",
       "      <th>votes_pos_neg</th>\n",
       "    </tr>\n",
       "  </thead>\n",
       "  <tbody>\n",
       "    <tr>\n",
       "      <th>7</th>\n",
       "      <td>28</td>\n",
       "      <td>2017-08-19</td>\n",
       "      <td>2017-08-26</td>\n",
       "      <td>0</td>\n",
       "      <td>2137</td>\n",
       "      <td>경제민주화</td>\n",
       "      <td>소액주주를 보호해주십시오</td>\n",
       "      <td>**  존경하옵는 문재인대통령님께\\n저는 중국원양자원이라는 KOSPI상장사의 소액 ...</td>\n",
       "      <td>1</td>\n",
       "    </tr>\n",
       "    <tr>\n",
       "      <th>13</th>\n",
       "      <td>34</td>\n",
       "      <td>2017-08-19</td>\n",
       "      <td>2017-09-18</td>\n",
       "      <td>0</td>\n",
       "      <td>679</td>\n",
       "      <td>기타</td>\n",
       "      <td>『국가유공자 등 예우 및 지원에 관한법률』상「6.25전몰군경 자녀수당」의 불합리한 ...</td>\n",
       "      <td>(현황)\\n우리들 아버지께서는 67여년전 북의 남침으로 조국이 위기에 처했을 때 젊...</td>\n",
       "      <td>0</td>\n",
       "    </tr>\n",
       "    <tr>\n",
       "      <th>16</th>\n",
       "      <td>37</td>\n",
       "      <td>2017-08-19</td>\n",
       "      <td>2017-09-18</td>\n",
       "      <td>0</td>\n",
       "      <td>415</td>\n",
       "      <td>기타</td>\n",
       "      <td>황우석박사님 연구재개 허용 촉구합니다.</td>\n",
       "      <td>국민의 70% 이상이 황우석박사님을 응원하고 지지하고 있습니다.\\n*2007년 1월...</td>\n",
       "      <td>0</td>\n",
       "    </tr>\n",
       "    <tr>\n",
       "      <th>18</th>\n",
       "      <td>40</td>\n",
       "      <td>2017-08-19</td>\n",
       "      <td>2017-09-18</td>\n",
       "      <td>0</td>\n",
       "      <td>218</td>\n",
       "      <td>외교/통일/국방</td>\n",
       "      <td>국가유공자등 예우및 지우너에 관한 법률 시행령 개정</td>\n",
       "      <td>지금부터 67년전 1950년 6.25전쟁때 조국 대한민국이 위태로운 시점에 우리들 ...</td>\n",
       "      <td>0</td>\n",
       "    </tr>\n",
       "    <tr>\n",
       "      <th>19</th>\n",
       "      <td>41</td>\n",
       "      <td>2017-08-19</td>\n",
       "      <td>2017-09-18</td>\n",
       "      <td>0</td>\n",
       "      <td>227</td>\n",
       "      <td>외교/통일/국방</td>\n",
       "      <td>국가유공자등 예우및 지우너에 관한 법률 시행령 개정</td>\n",
       "      <td>지금부터 67년전 1950년 6.25전쟁때 조국 대한민국이 위태로운 시점에 우리들 ...</td>\n",
       "      <td>0</td>\n",
       "    </tr>\n",
       "  </tbody>\n",
       "</table>\n",
       "</div>"
      ],
      "text/plain": [
       "    article_id      start        end  answered  votes  category  \\\n",
       "7           28 2017-08-19 2017-08-26         0   2137     경제민주화   \n",
       "13          34 2017-08-19 2017-09-18         0    679        기타   \n",
       "16          37 2017-08-19 2017-09-18         0    415        기타   \n",
       "18          40 2017-08-19 2017-09-18         0    218  외교/통일/국방   \n",
       "19          41 2017-08-19 2017-09-18         0    227  외교/통일/국방   \n",
       "\n",
       "                                                title  \\\n",
       "7                                       소액주주를 보호해주십시오   \n",
       "13  『국가유공자 등 예우 및 지원에 관한법률』상「6.25전몰군경 자녀수당」의 불합리한 ...   \n",
       "16                              황우석박사님 연구재개 허용 촉구합니다.   \n",
       "18                       국가유공자등 예우및 지우너에 관한 법률 시행령 개정   \n",
       "19                       국가유공자등 예우및 지우너에 관한 법률 시행령 개정   \n",
       "\n",
       "                                              content  votes_pos_neg  \n",
       "7   **  존경하옵는 문재인대통령님께\\n저는 중국원양자원이라는 KOSPI상장사의 소액 ...              1  \n",
       "13  (현황)\\n우리들 아버지께서는 67여년전 북의 남침으로 조국이 위기에 처했을 때 젊...              0  \n",
       "16  국민의 70% 이상이 황우석박사님을 응원하고 지지하고 있습니다.\\n*2007년 1월...              0  \n",
       "18  지금부터 67년전 1950년 6.25전쟁때 조국 대한민국이 위태로운 시점에 우리들 ...              0  \n",
       "19  지금부터 67년전 1950년 6.25전쟁때 조국 대한민국이 위태로운 시점에 우리들 ...              0  "
      ]
     },
     "execution_count": 13,
     "metadata": {},
     "output_type": "execute_result"
    }
   ],
   "source": [
    "df.head()"
   ]
  },
  {
   "cell_type": "code",
   "execution_count": 14,
   "metadata": {},
   "outputs": [],
   "source": [
    "# 샘플로 보고 싶은 인덱스의 번호를 넣어주세요.\n",
    "sample_index = 38"
   ]
  },
  {
   "cell_type": "code",
   "execution_count": 15,
   "metadata": {},
   "outputs": [
    {
     "data": {
      "text/plain": [
       "'영어회화전문강사제도는 유지되어야합니다.'"
      ]
     },
     "execution_count": 15,
     "metadata": {},
     "output_type": "execute_result"
    }
   ],
   "source": [
    "sample_title = df['title'][sample_index]\n",
    "sample_title"
   ]
  },
  {
   "cell_type": "code",
   "execution_count": 16,
   "metadata": {},
   "outputs": [
    {
     "data": {
      "text/plain": [
       "'1. 영전강의고용안정을 원합니다\\\\n2.1년단위계약직으로 임신 출산육아 매우 곤란합니다\\\\n3. 성과급 호봉인정 상여금 급식비지원 전혀없으며 연봉인상 또한 없습니다\\\\n4.인권위의 무기직으로 전환 권고받았습니다\\\\n5.공공부문 비정규직 없애는건 문정부의 공약이며 이에따라 영전강만 제외하는것은 불공평합니다\\\\n저희는 정교사나 정규직을 원하는것이 아닙니다.\\\\n이 일을 계속 하길 희망할 뿐입니다.  문재인대통령님께선 일자리창출을 매우 중요하게 생각하셨습니다.  일자리창출 만큼 중요한것이 일자리 유지입니다.  창출만 하고 유지가 되지 않는다면 그저  형식적인 정책일 뿐입니다. 하루빨리 결과가 나와  안정된 마음으로 일하고 싶습니다.  감사합니다.'"
      ]
     },
     "execution_count": 16,
     "metadata": {},
     "output_type": "execute_result"
    }
   ],
   "source": [
    "sample_content = petitions['content'][sample_index]\n",
    "sample_content"
   ]
  },
  {
   "cell_type": "markdown",
   "metadata": {},
   "source": [
    "# 전처리 하기 "
   ]
  },
  {
   "cell_type": "code",
   "execution_count": 17,
   "metadata": {},
   "outputs": [],
   "source": [
    "def preprocessing(text):\n",
    "    # 개행문자 제거\n",
    "    text = re.sub('\\\\\\\\n', ' ', text)\n",
    "    # 특수문자 제거\n",
    "    # 특수문자나 이모티콘 등은 때로는 의미를 갖기도 하지만 여기에서는 제거했습니다.\n",
    "    # text = re.sub('[?.,;:|\\)*~`’!^\\-_+<>@\\#$%&-=#}※]', '', text)\n",
    "    # 한글, 영문, 숫자만 남기고 모두 제거하도록 합니다.\n",
    "    # text = re.sub('[^가-힣ㄱ-ㅎㅏ-ㅣa-zA-Z0-9]', ' ', text)\n",
    "    # 한글, 영문만 남기고 모두 제거하도록 합니다.\n",
    "    text = re.sub('[^가-힣ㄱ-ㅎㅏ-ㅣa-zA-Z]', ' ', text)\n",
    "    return text"
   ]
  },
  {
   "cell_type": "code",
   "execution_count": 18,
   "metadata": {},
   "outputs": [],
   "source": [
    "# 불용어 제거\n",
    "def remove_stopwords(text):\n",
    "    tokens = text.split(' ')\n",
    "    stops = ['안녕', '있습니다', '그', '년도', '안녕하세요', '하는', '및', '제', '할', '하고', '더', '대한', '한', '그리고', '월', '저는', '없는', '입니다', '등', '일', '많은', '이런', '것은', '왜','같은', '같습니다', '없습니다', '위해', '한다']\n",
    "    meaningful_words = [w for w in tokens if not w in stops]\n",
    "    return ' '.join(meaningful_words)"
   ]
  },
  {
   "cell_type": "code",
   "execution_count": 19,
   "metadata": {},
   "outputs": [],
   "source": [
    "# 샘플데이터에 적용\n",
    "pre_sample_content = preprocessing(sample_content)"
   ]
  },
  {
   "cell_type": "code",
   "execution_count": 20,
   "metadata": {},
   "outputs": [],
   "source": [
    "pre_sample_content = remove_stopwords(pre_sample_content)"
   ]
  },
  {
   "cell_type": "code",
   "execution_count": 21,
   "metadata": {},
   "outputs": [
    {
     "name": "stdout",
     "output_type": "stream",
     "text": [
      "CPU times: user 1.14 s, sys: 30 ms, total: 1.17 s\n",
      "Wall time: 1.35 s\n"
     ]
    }
   ],
   "source": [
    "%time df['content_preprocessing'] = df['content'].apply(preprocessing)"
   ]
  },
  {
   "cell_type": "code",
   "execution_count": 22,
   "metadata": {},
   "outputs": [
    {
     "name": "stdout",
     "output_type": "stream",
     "text": [
      "CPU times: user 1.79 s, sys: 35 ms, total: 1.83 s\n",
      "Wall time: 1.96 s\n"
     ]
    }
   ],
   "source": [
    "%time df['content_preprocessing2'] = df['content_preprocessing'].apply(remove_stopwords)"
   ]
  },
  {
   "cell_type": "markdown",
   "metadata": {},
   "source": [
    "# 학습세트와 테스트세트 만들기\n",
    "* 학습세트와 테스트세트를 7:3의 비율로 나눠 줍니다."
   ]
  },
  {
   "cell_type": "code",
   "execution_count": 23,
   "metadata": {},
   "outputs": [],
   "source": [
    "df = df.reindex()"
   ]
  },
  {
   "cell_type": "code",
   "execution_count": 24,
   "metadata": {},
   "outputs": [
    {
     "data": {
      "text/plain": [
       "(12622, 11)"
      ]
     },
     "execution_count": 24,
     "metadata": {},
     "output_type": "execute_result"
    }
   ],
   "source": [
    "df.shape"
   ]
  },
  {
   "cell_type": "code",
   "execution_count": 25,
   "metadata": {},
   "outputs": [
    {
     "data": {
      "text/plain": [
       "8835"
      ]
     },
     "execution_count": 25,
     "metadata": {},
     "output_type": "execute_result"
    }
   ],
   "source": [
    "split_count = int(df.shape[0] * 0.7)\n",
    "split_count"
   ]
  },
  {
   "cell_type": "code",
   "execution_count": 26,
   "metadata": {},
   "outputs": [
    {
     "data": {
      "text/plain": [
       "(8835, 11)"
      ]
     },
     "execution_count": 26,
     "metadata": {},
     "output_type": "execute_result"
    }
   ],
   "source": [
    "df_train = df[:split_count].copy()\n",
    "df_train.shape"
   ]
  },
  {
   "cell_type": "code",
   "execution_count": 27,
   "metadata": {},
   "outputs": [
    {
     "data": {
      "text/html": [
       "<div>\n",
       "<style scoped>\n",
       "    .dataframe tbody tr th:only-of-type {\n",
       "        vertical-align: middle;\n",
       "    }\n",
       "\n",
       "    .dataframe tbody tr th {\n",
       "        vertical-align: top;\n",
       "    }\n",
       "\n",
       "    .dataframe thead th {\n",
       "        text-align: right;\n",
       "    }\n",
       "</style>\n",
       "<table border=\"1\" class=\"dataframe\">\n",
       "  <thead>\n",
       "    <tr style=\"text-align: right;\">\n",
       "      <th></th>\n",
       "      <th>article_id</th>\n",
       "      <th>start</th>\n",
       "      <th>end</th>\n",
       "      <th>answered</th>\n",
       "      <th>votes</th>\n",
       "      <th>category</th>\n",
       "      <th>title</th>\n",
       "      <th>content</th>\n",
       "      <th>votes_pos_neg</th>\n",
       "      <th>content_preprocessing</th>\n",
       "      <th>content_preprocessing2</th>\n",
       "    </tr>\n",
       "  </thead>\n",
       "  <tbody>\n",
       "    <tr>\n",
       "      <th>7</th>\n",
       "      <td>28</td>\n",
       "      <td>2017-08-19</td>\n",
       "      <td>2017-08-26</td>\n",
       "      <td>0</td>\n",
       "      <td>2137</td>\n",
       "      <td>경제민주화</td>\n",
       "      <td>소액주주를 보호해주십시오</td>\n",
       "      <td>**  존경하옵는 문재인대통령님께\\n저는 중국원양자원이라는 KOSPI상장사의 소액 ...</td>\n",
       "      <td>1</td>\n",
       "      <td>존경하옵는 문재인대통령님께 저는 중국원양자원이라는 KOSPI상장사의 소액 주...</td>\n",
       "      <td>존경하옵는 문재인대통령님께 중국원양자원이라는 KOSPI상장사의 소액 주주입니...</td>\n",
       "    </tr>\n",
       "    <tr>\n",
       "      <th>13</th>\n",
       "      <td>34</td>\n",
       "      <td>2017-08-19</td>\n",
       "      <td>2017-09-18</td>\n",
       "      <td>0</td>\n",
       "      <td>679</td>\n",
       "      <td>기타</td>\n",
       "      <td>『국가유공자 등 예우 및 지원에 관한법률』상「6.25전몰군경 자녀수당」의 불합리한 ...</td>\n",
       "      <td>(현황)\\n우리들 아버지께서는 67여년전 북의 남침으로 조국이 위기에 처했을 때 젊...</td>\n",
       "      <td>0</td>\n",
       "      <td>현황  우리들 아버지께서는   여년전 북의 남침으로 조국이 위기에 처했을 때 젊은...</td>\n",
       "      <td>현황  우리들 아버지께서는   여년전 북의 남침으로 조국이 위기에 처했을 때 젊은...</td>\n",
       "    </tr>\n",
       "    <tr>\n",
       "      <th>16</th>\n",
       "      <td>37</td>\n",
       "      <td>2017-08-19</td>\n",
       "      <td>2017-09-18</td>\n",
       "      <td>0</td>\n",
       "      <td>415</td>\n",
       "      <td>기타</td>\n",
       "      <td>황우석박사님 연구재개 허용 촉구합니다.</td>\n",
       "      <td>국민의 70% 이상이 황우석박사님을 응원하고 지지하고 있습니다.\\n*2007년 1월...</td>\n",
       "      <td>0</td>\n",
       "      <td>국민의     이상이 황우석박사님을 응원하고 지지하고 있습니다       년  월 ...</td>\n",
       "      <td>국민의     이상이 황우석박사님을 응원하고 지지하고       년  중앙일보 여론...</td>\n",
       "    </tr>\n",
       "    <tr>\n",
       "      <th>18</th>\n",
       "      <td>40</td>\n",
       "      <td>2017-08-19</td>\n",
       "      <td>2017-09-18</td>\n",
       "      <td>0</td>\n",
       "      <td>218</td>\n",
       "      <td>외교/통일/국방</td>\n",
       "      <td>국가유공자등 예우및 지우너에 관한 법률 시행령 개정</td>\n",
       "      <td>지금부터 67년전 1950년 6.25전쟁때 조국 대한민국이 위태로운 시점에 우리들 ...</td>\n",
       "      <td>0</td>\n",
       "      <td>지금부터   년전     년     전쟁때 조국 대한민국이 위태로운 시점에 우리들 ...</td>\n",
       "      <td>지금부터   년전     년     전쟁때 조국 대한민국이 위태로운 시점에 우리들 ...</td>\n",
       "    </tr>\n",
       "    <tr>\n",
       "      <th>19</th>\n",
       "      <td>41</td>\n",
       "      <td>2017-08-19</td>\n",
       "      <td>2017-09-18</td>\n",
       "      <td>0</td>\n",
       "      <td>227</td>\n",
       "      <td>외교/통일/국방</td>\n",
       "      <td>국가유공자등 예우및 지우너에 관한 법률 시행령 개정</td>\n",
       "      <td>지금부터 67년전 1950년 6.25전쟁때 조국 대한민국이 위태로운 시점에 우리들 ...</td>\n",
       "      <td>0</td>\n",
       "      <td>지금부터   년전     년     전쟁때 조국 대한민국이 위태로운 시점에 우리들 ...</td>\n",
       "      <td>지금부터   년전     년     전쟁때 조국 대한민국이 위태로운 시점에 우리들 ...</td>\n",
       "    </tr>\n",
       "  </tbody>\n",
       "</table>\n",
       "</div>"
      ],
      "text/plain": [
       "    article_id      start        end  answered  votes  category  \\\n",
       "7           28 2017-08-19 2017-08-26         0   2137     경제민주화   \n",
       "13          34 2017-08-19 2017-09-18         0    679        기타   \n",
       "16          37 2017-08-19 2017-09-18         0    415        기타   \n",
       "18          40 2017-08-19 2017-09-18         0    218  외교/통일/국방   \n",
       "19          41 2017-08-19 2017-09-18         0    227  외교/통일/국방   \n",
       "\n",
       "                                                title  \\\n",
       "7                                       소액주주를 보호해주십시오   \n",
       "13  『국가유공자 등 예우 및 지원에 관한법률』상「6.25전몰군경 자녀수당」의 불합리한 ...   \n",
       "16                              황우석박사님 연구재개 허용 촉구합니다.   \n",
       "18                       국가유공자등 예우및 지우너에 관한 법률 시행령 개정   \n",
       "19                       국가유공자등 예우및 지우너에 관한 법률 시행령 개정   \n",
       "\n",
       "                                              content  votes_pos_neg  \\\n",
       "7   **  존경하옵는 문재인대통령님께\\n저는 중국원양자원이라는 KOSPI상장사의 소액 ...              1   \n",
       "13  (현황)\\n우리들 아버지께서는 67여년전 북의 남침으로 조국이 위기에 처했을 때 젊...              0   \n",
       "16  국민의 70% 이상이 황우석박사님을 응원하고 지지하고 있습니다.\\n*2007년 1월...              0   \n",
       "18  지금부터 67년전 1950년 6.25전쟁때 조국 대한민국이 위태로운 시점에 우리들 ...              0   \n",
       "19  지금부터 67년전 1950년 6.25전쟁때 조국 대한민국이 위태로운 시점에 우리들 ...              0   \n",
       "\n",
       "                                content_preprocessing  \\\n",
       "7       존경하옵는 문재인대통령님께 저는 중국원양자원이라는 KOSPI상장사의 소액 주...   \n",
       "13   현황  우리들 아버지께서는   여년전 북의 남침으로 조국이 위기에 처했을 때 젊은...   \n",
       "16  국민의     이상이 황우석박사님을 응원하고 지지하고 있습니다       년  월 ...   \n",
       "18  지금부터   년전     년     전쟁때 조국 대한민국이 위태로운 시점에 우리들 ...   \n",
       "19  지금부터   년전     년     전쟁때 조국 대한민국이 위태로운 시점에 우리들 ...   \n",
       "\n",
       "                               content_preprocessing2  \n",
       "7       존경하옵는 문재인대통령님께 중국원양자원이라는 KOSPI상장사의 소액 주주입니...  \n",
       "13   현황  우리들 아버지께서는   여년전 북의 남침으로 조국이 위기에 처했을 때 젊은...  \n",
       "16  국민의     이상이 황우석박사님을 응원하고 지지하고       년  중앙일보 여론...  \n",
       "18  지금부터   년전     년     전쟁때 조국 대한민국이 위태로운 시점에 우리들 ...  \n",
       "19  지금부터   년전     년     전쟁때 조국 대한민국이 위태로운 시점에 우리들 ...  "
      ]
     },
     "execution_count": 27,
     "metadata": {},
     "output_type": "execute_result"
    }
   ],
   "source": [
    "df_train.head()"
   ]
  },
  {
   "cell_type": "code",
   "execution_count": 28,
   "metadata": {},
   "outputs": [
    {
     "data": {
      "text/plain": [
       "(1870, 11)"
      ]
     },
     "execution_count": 28,
     "metadata": {},
     "output_type": "execute_result"
    }
   ],
   "source": [
    "# 학습 세트에서 투표수가 평균보다 많은 건\n",
    "df_train.loc[df_train['votes_pos_neg'] == 1].shape"
   ]
  },
  {
   "cell_type": "code",
   "execution_count": 29,
   "metadata": {},
   "outputs": [
    {
     "data": {
      "text/plain": [
       "(3787, 11)"
      ]
     },
     "execution_count": 29,
     "metadata": {},
     "output_type": "execute_result"
    }
   ],
   "source": [
    "df_test = df[split_count:].copy()\n",
    "df_test.shape"
   ]
  },
  {
   "cell_type": "code",
   "execution_count": 30,
   "metadata": {},
   "outputs": [
    {
     "data": {
      "text/html": [
       "<div>\n",
       "<style scoped>\n",
       "    .dataframe tbody tr th:only-of-type {\n",
       "        vertical-align: middle;\n",
       "    }\n",
       "\n",
       "    .dataframe tbody tr th {\n",
       "        vertical-align: top;\n",
       "    }\n",
       "\n",
       "    .dataframe thead th {\n",
       "        text-align: right;\n",
       "    }\n",
       "</style>\n",
       "<table border=\"1\" class=\"dataframe\">\n",
       "  <thead>\n",
       "    <tr style=\"text-align: right;\">\n",
       "      <th></th>\n",
       "      <th>article_id</th>\n",
       "      <th>start</th>\n",
       "      <th>end</th>\n",
       "      <th>answered</th>\n",
       "      <th>votes</th>\n",
       "      <th>category</th>\n",
       "      <th>title</th>\n",
       "      <th>content</th>\n",
       "      <th>votes_pos_neg</th>\n",
       "      <th>content_preprocessing</th>\n",
       "      <th>content_preprocessing2</th>\n",
       "    </tr>\n",
       "  </thead>\n",
       "  <tbody>\n",
       "    <tr>\n",
       "      <th>207904</th>\n",
       "      <td>268699</td>\n",
       "      <td>2018-06-11</td>\n",
       "      <td>2018-07-11</td>\n",
       "      <td>0</td>\n",
       "      <td>146</td>\n",
       "      <td>문화/예술/체육/언론</td>\n",
       "      <td>LG 트윈스 오지환 선수의 국가대표 발탁을 반대합니다</td>\n",
       "      <td>오지환 선수는 그동안 경찰청 팀에 입대하여 병역의 의무를 할 수  있었음에도 거부하...</td>\n",
       "      <td>0</td>\n",
       "      <td>오지환 선수는 그동안 경찰청 팀에 입대하여 병역의 의무를 할 수  있었음에도 거부하...</td>\n",
       "      <td>오지환 선수는 그동안 경찰청 팀에 입대하여 병역의 의무를 수  있었음에도 거부하였으...</td>\n",
       "    </tr>\n",
       "    <tr>\n",
       "      <th>207929</th>\n",
       "      <td>268729</td>\n",
       "      <td>2018-06-11</td>\n",
       "      <td>2018-07-11</td>\n",
       "      <td>0</td>\n",
       "      <td>194</td>\n",
       "      <td>행정</td>\n",
       "      <td>1.6 GDI 엔진결함 조사 과정과 결과를 공개해 주세요.</td>\n",
       "      <td>현대기아 자동차의 1.6 GDI 엔진결함 조사 과정과 결과를 공개해주시기 바랍니다....</td>\n",
       "      <td>0</td>\n",
       "      <td>현대기아 자동차의     GDI 엔진결함 조사 과정과 결과를 공개해주시기 바랍니다 ...</td>\n",
       "      <td>현대기아 자동차의     GDI 엔진결함 조사 과정과 결과를 공개해주시기 바랍니다 ...</td>\n",
       "    </tr>\n",
       "    <tr>\n",
       "      <th>207937</th>\n",
       "      <td>268738</td>\n",
       "      <td>2018-06-11</td>\n",
       "      <td>2018-07-11</td>\n",
       "      <td>0</td>\n",
       "      <td>3869</td>\n",
       "      <td>미래</td>\n",
       "      <td>정부가 암호화폐 투자하는 국민을 진심으로 걱정하고 있다면 해야 하는 것에 대한 청원</td>\n",
       "      <td>안녕하세요. 저는 40대 후반의 투자자입니다. 20대 후반부터 15년 정도 X-In...</td>\n",
       "      <td>1</td>\n",
       "      <td>안녕하세요  저는   대 후반의 투자자입니다    대 후반부터   년 정도 X In...</td>\n",
       "      <td>대 후반의 투자자입니다    대 후반부터   년 정도 X Internet  인...</td>\n",
       "    </tr>\n",
       "    <tr>\n",
       "      <th>207963</th>\n",
       "      <td>268771</td>\n",
       "      <td>2018-06-11</td>\n",
       "      <td>2018-07-11</td>\n",
       "      <td>0</td>\n",
       "      <td>209</td>\n",
       "      <td>인권/성평등</td>\n",
       "      <td>혜화역 시위에 관련된 것들을 청원합니다.</td>\n",
       "      <td>페미니스트들이 남녀성평등을 주장하며 남성혐오를 보여주고 있는 혜화역 시위는 유투브 ...</td>\n",
       "      <td>0</td>\n",
       "      <td>페미니스트들이 남녀성평등을 주장하며 남성혐오를 보여주고 있는 혜화역 시위는 유투브 ...</td>\n",
       "      <td>페미니스트들이 남녀성평등을 주장하며 남성혐오를 보여주고 있는 혜화역 시위는 유투브 ...</td>\n",
       "    </tr>\n",
       "    <tr>\n",
       "      <th>207974</th>\n",
       "      <td>268784</td>\n",
       "      <td>2018-06-11</td>\n",
       "      <td>2018-07-11</td>\n",
       "      <td>0</td>\n",
       "      <td>240</td>\n",
       "      <td>문화/예술/체육/언론</td>\n",
       "      <td>아시안게임 금메달리스트에게 주는 병역혜택 폐지 청원</td>\n",
       "      <td>국위선양이라는 이유로 올림픽 메달리스트와 아시안게임 금메달리스트 선수들에게 주어지는...</td>\n",
       "      <td>0</td>\n",
       "      <td>국위선양이라는 이유로 올림픽 메달리스트와 아시안게임 금메달리스트 선수들에게 주어지는...</td>\n",
       "      <td>국위선양이라는 이유로 올림픽 메달리스트와 아시안게임 금메달리스트 선수들에게 주어지는...</td>\n",
       "    </tr>\n",
       "  </tbody>\n",
       "</table>\n",
       "</div>"
      ],
      "text/plain": [
       "        article_id      start        end  answered  votes     category  \\\n",
       "207904      268699 2018-06-11 2018-07-11         0    146  문화/예술/체육/언론   \n",
       "207929      268729 2018-06-11 2018-07-11         0    194           행정   \n",
       "207937      268738 2018-06-11 2018-07-11         0   3869           미래   \n",
       "207963      268771 2018-06-11 2018-07-11         0    209       인권/성평등   \n",
       "207974      268784 2018-06-11 2018-07-11         0    240  문화/예술/체육/언론   \n",
       "\n",
       "                                                 title  \\\n",
       "207904                   LG 트윈스 오지환 선수의 국가대표 발탁을 반대합니다   \n",
       "207929                1.6 GDI 엔진결함 조사 과정과 결과를 공개해 주세요.   \n",
       "207937  정부가 암호화폐 투자하는 국민을 진심으로 걱정하고 있다면 해야 하는 것에 대한 청원   \n",
       "207963                          혜화역 시위에 관련된 것들을 청원합니다.   \n",
       "207974                    아시안게임 금메달리스트에게 주는 병역혜택 폐지 청원   \n",
       "\n",
       "                                                  content  votes_pos_neg  \\\n",
       "207904  오지환 선수는 그동안 경찰청 팀에 입대하여 병역의 의무를 할 수  있었음에도 거부하...              0   \n",
       "207929  현대기아 자동차의 1.6 GDI 엔진결함 조사 과정과 결과를 공개해주시기 바랍니다....              0   \n",
       "207937  안녕하세요. 저는 40대 후반의 투자자입니다. 20대 후반부터 15년 정도 X-In...              1   \n",
       "207963  페미니스트들이 남녀성평등을 주장하며 남성혐오를 보여주고 있는 혜화역 시위는 유투브 ...              0   \n",
       "207974  국위선양이라는 이유로 올림픽 메달리스트와 아시안게임 금메달리스트 선수들에게 주어지는...              0   \n",
       "\n",
       "                                    content_preprocessing  \\\n",
       "207904  오지환 선수는 그동안 경찰청 팀에 입대하여 병역의 의무를 할 수  있었음에도 거부하...   \n",
       "207929  현대기아 자동차의     GDI 엔진결함 조사 과정과 결과를 공개해주시기 바랍니다 ...   \n",
       "207937  안녕하세요  저는   대 후반의 투자자입니다    대 후반부터   년 정도 X In...   \n",
       "207963  페미니스트들이 남녀성평등을 주장하며 남성혐오를 보여주고 있는 혜화역 시위는 유투브 ...   \n",
       "207974  국위선양이라는 이유로 올림픽 메달리스트와 아시안게임 금메달리스트 선수들에게 주어지는...   \n",
       "\n",
       "                                   content_preprocessing2  \n",
       "207904  오지환 선수는 그동안 경찰청 팀에 입대하여 병역의 의무를 수  있었음에도 거부하였으...  \n",
       "207929  현대기아 자동차의     GDI 엔진결함 조사 과정과 결과를 공개해주시기 바랍니다 ...  \n",
       "207937     대 후반의 투자자입니다    대 후반부터   년 정도 X Internet  인...  \n",
       "207963  페미니스트들이 남녀성평등을 주장하며 남성혐오를 보여주고 있는 혜화역 시위는 유투브 ...  \n",
       "207974  국위선양이라는 이유로 올림픽 메달리스트와 아시안게임 금메달리스트 선수들에게 주어지는...  "
      ]
     },
     "execution_count": 30,
     "metadata": {},
     "output_type": "execute_result"
    }
   ],
   "source": [
    "df_test.head()"
   ]
  },
  {
   "cell_type": "code",
   "execution_count": 31,
   "metadata": {},
   "outputs": [
    {
     "data": {
      "text/plain": [
       "(738, 11)"
      ]
     },
     "execution_count": 31,
     "metadata": {},
     "output_type": "execute_result"
    }
   ],
   "source": [
    "# 테스트 세트에서 투표수가 평균보다 많은 건\n",
    "df_test.loc[df_test['votes_pos_neg'] == 1].shape"
   ]
  },
  {
   "cell_type": "markdown",
   "metadata": {},
   "source": [
    "# 단어 벡터화 하기"
   ]
  },
  {
   "cell_type": "code",
   "execution_count": 32,
   "metadata": {},
   "outputs": [
    {
     "data": {
      "text/plain": [
       "CountVectorizer(analyzer='word', binary=False, decode_error='strict',\n",
       "        dtype=<class 'numpy.int64'>, encoding='utf-8', input='content',\n",
       "        lowercase=True, max_df=1.0, max_features=2000, min_df=2,\n",
       "        ngram_range=(1, 3), preprocessor=None, stop_words=None,\n",
       "        strip_accents=None, token_pattern='(?u)\\\\b\\\\w\\\\w+\\\\b',\n",
       "        tokenizer=None, vocabulary=None)"
      ]
     },
     "execution_count": 32,
     "metadata": {},
     "output_type": "execute_result"
    }
   ],
   "source": [
    "from sklearn.feature_extraction.text import CountVectorizer\n",
    "\n",
    "vectorizer = CountVectorizer(analyzer = 'word', # 캐릭터 단위로 벡터화 할 수도 있습니다.\n",
    "                             tokenizer = None, # 토크나이저를 따로 지정해 줄 수도 있습니다.\n",
    "                             preprocessor = None, # 전처리 도구\n",
    "                             stop_words = None, # 불용어 nltk등의 도구를 사용할 수도 있습니다.\n",
    "                             min_df = 2, # 토큰이 나타날 최소 문서 개수로 오타나 자주 나오지 않는 특수한 전문용어 제거에 좋다. \n",
    "                             ngram_range=(1, 3), # BOW의 단위를 1~3개로 지정합니다.\n",
    "                             max_features = 2000 # 만들 피처의 수, 단어의 수가 된다.\n",
    "                            )\n",
    "vectorizer"
   ]
  },
  {
   "cell_type": "code",
   "execution_count": 33,
   "metadata": {},
   "outputs": [
    {
     "name": "stdout",
     "output_type": "stream",
     "text": [
      "CPU times: user 21.6 s, sys: 949 ms, total: 22.5 s\n",
      "Wall time: 23.8 s\n"
     ]
    }
   ],
   "source": [
    "%%time \n",
    "train_feature_vector = vectorizer.fit_transform(df_train['content_preprocessing2'])\n",
    "train_feature_vector.shape"
   ]
  },
  {
   "cell_type": "code",
   "execution_count": 34,
   "metadata": {},
   "outputs": [
    {
     "name": "stdout",
     "output_type": "stream",
     "text": [
      "CPU times: user 11.1 s, sys: 508 ms, total: 11.6 s\n",
      "Wall time: 12.5 s\n"
     ]
    }
   ],
   "source": [
    "%%time \n",
    "test_feature_vector = vectorizer.fit_transform(df_test['content_preprocessing2'])\n",
    "test_feature_vector.shape"
   ]
  },
  {
   "cell_type": "code",
   "execution_count": 35,
   "metadata": {},
   "outputs": [
    {
     "name": "stdout",
     "output_type": "stream",
     "text": [
      "2000\n"
     ]
    },
    {
     "data": {
      "text/plain": [
       "['aid',\n",
       " 'articleview',\n",
       " 'articleview html',\n",
       " 'articleview html idxno',\n",
       " 'bmw',\n",
       " 'cctv',\n",
       " 'cctv를',\n",
       " 'co',\n",
       " 'co kr',\n",
       " 'co kr news']"
      ]
     },
     "execution_count": 35,
     "metadata": {},
     "output_type": "execute_result"
    }
   ],
   "source": [
    "vocab = vectorizer.get_feature_names()\n",
    "print(len(vocab))\n",
    "vocab[:10]"
   ]
  },
  {
   "cell_type": "code",
   "execution_count": 36,
   "metadata": {},
   "outputs": [
    {
     "data": {
      "text/html": [
       "<div>\n",
       "<style scoped>\n",
       "    .dataframe tbody tr th:only-of-type {\n",
       "        vertical-align: middle;\n",
       "    }\n",
       "\n",
       "    .dataframe tbody tr th {\n",
       "        vertical-align: top;\n",
       "    }\n",
       "\n",
       "    .dataframe thead th {\n",
       "        text-align: right;\n",
       "    }\n",
       "</style>\n",
       "<table border=\"1\" class=\"dataframe\">\n",
       "  <thead>\n",
       "    <tr style=\"text-align: right;\">\n",
       "      <th></th>\n",
       "      <th>aid</th>\n",
       "      <th>articleview</th>\n",
       "      <th>articleview html</th>\n",
       "      <th>articleview html idxno</th>\n",
       "      <th>bmw</th>\n",
       "      <th>cctv</th>\n",
       "      <th>cctv를</th>\n",
       "      <th>co</th>\n",
       "      <th>co kr</th>\n",
       "      <th>co kr news</th>\n",
       "      <th>...</th>\n",
       "      <th>휴게시간을</th>\n",
       "      <th>희망을</th>\n",
       "      <th>힘든</th>\n",
       "      <th>힘들게</th>\n",
       "      <th>힘들고</th>\n",
       "      <th>힘들어</th>\n",
       "      <th>힘듭니다</th>\n",
       "      <th>힘없는</th>\n",
       "      <th>힘을</th>\n",
       "      <th>힘이</th>\n",
       "    </tr>\n",
       "  </thead>\n",
       "  <tbody>\n",
       "    <tr>\n",
       "      <th>0</th>\n",
       "      <td>115</td>\n",
       "      <td>159</td>\n",
       "      <td>96</td>\n",
       "      <td>295</td>\n",
       "      <td>280</td>\n",
       "      <td>120</td>\n",
       "      <td>556</td>\n",
       "      <td>85</td>\n",
       "      <td>95</td>\n",
       "      <td>90</td>\n",
       "      <td>...</td>\n",
       "      <td>216</td>\n",
       "      <td>184</td>\n",
       "      <td>292</td>\n",
       "      <td>202</td>\n",
       "      <td>86</td>\n",
       "      <td>98</td>\n",
       "      <td>100</td>\n",
       "      <td>149</td>\n",
       "      <td>256</td>\n",
       "      <td>152</td>\n",
       "    </tr>\n",
       "  </tbody>\n",
       "</table>\n",
       "<p>1 rows × 2000 columns</p>\n",
       "</div>"
      ],
      "text/plain": [
       "   aid  articleview  articleview html  articleview html idxno  bmw  cctv  \\\n",
       "0  115          159                96                     295  280   120   \n",
       "\n",
       "   cctv를  co  co kr  co kr news ...   휴게시간을  희망을   힘든  힘들게  힘들고  힘들어  힘듭니다  \\\n",
       "0    556  85     95          90 ...     216  184  292  202   86   98   100   \n",
       "\n",
       "   힘없는   힘을   힘이  \n",
       "0  149  256  152  \n",
       "\n",
       "[1 rows x 2000 columns]"
      ]
     },
     "execution_count": 36,
     "metadata": {},
     "output_type": "execute_result"
    }
   ],
   "source": [
    "dist = np.sum(train_feature_vector, axis=0)\n",
    "\n",
    "pd.DataFrame(dist, columns=vocab)"
   ]
  },
  {
   "cell_type": "code",
   "execution_count": 37,
   "metadata": {},
   "outputs": [
    {
     "data": {
      "text/plain": [
       "TfidfTransformer(norm='l2', smooth_idf=False, sublinear_tf=False,\n",
       "         use_idf=True)"
      ]
     },
     "execution_count": 37,
     "metadata": {},
     "output_type": "execute_result"
    }
   ],
   "source": [
    "from sklearn.feature_extraction.text import TfidfTransformer\n",
    "transformer = TfidfTransformer(smooth_idf=False)\n",
    "transformer"
   ]
  },
  {
   "cell_type": "code",
   "execution_count": 38,
   "metadata": {},
   "outputs": [
    {
     "name": "stdout",
     "output_type": "stream",
     "text": [
      "CPU times: user 18.2 ms, sys: 7.89 ms, total: 26.1 ms\n",
      "Wall time: 31.9 ms\n"
     ]
    }
   ],
   "source": [
    "%%time \n",
    "train_feature_tfidf = transformer.fit_transform(train_feature_vector)\n",
    "train_feature_tfidf.shape"
   ]
  },
  {
   "cell_type": "code",
   "execution_count": 39,
   "metadata": {},
   "outputs": [
    {
     "name": "stdout",
     "output_type": "stream",
     "text": [
      "CPU times: user 9.49 ms, sys: 3.31 ms, total: 12.8 ms\n",
      "Wall time: 11.3 ms\n"
     ]
    }
   ],
   "source": [
    "%%time \n",
    "test_feature_tfidf = transformer.fit_transform(test_feature_vector)\n",
    "test_feature_tfidf.shape"
   ]
  },
  {
   "cell_type": "code",
   "execution_count": 40,
   "metadata": {},
   "outputs": [
    {
     "data": {
      "text/plain": [
       "(3787, 2000)"
      ]
     },
     "execution_count": 40,
     "metadata": {},
     "output_type": "execute_result"
    }
   ],
   "source": [
    "test_feature_tfidf.shape"
   ]
  },
  {
   "cell_type": "markdown",
   "metadata": {},
   "source": [
    "# 랜덤 포레스트로 학습시키기\n",
    "* 공식문서 : http://scikit-learn.org/stable/modules/generated/sklearn.ensemble.RandomForestClassifier.html"
   ]
  },
  {
   "cell_type": "code",
   "execution_count": 41,
   "metadata": {},
   "outputs": [
    {
     "data": {
      "text/plain": [
       "RandomForestClassifier(bootstrap=True, class_weight=None, criterion='gini',\n",
       "            max_depth=None, max_features='auto', max_leaf_nodes=None,\n",
       "            min_impurity_decrease=0.0, min_impurity_split=None,\n",
       "            min_samples_leaf=1, min_samples_split=2,\n",
       "            min_weight_fraction_leaf=0.0, n_estimators=100, n_jobs=-1,\n",
       "            oob_score=False, random_state=2018, verbose=0,\n",
       "            warm_start=False)"
      ]
     },
     "execution_count": 41,
     "metadata": {},
     "output_type": "execute_result"
    }
   ],
   "source": [
    "from sklearn.ensemble import RandomForestClassifier\n",
    "\n",
    "# 랜덤포레스트 분류기를 사용\n",
    "forest = RandomForestClassifier(\n",
    "    n_estimators = 100, n_jobs = -1, random_state=2018)\n",
    "forest"
   ]
  },
  {
   "cell_type": "code",
   "execution_count": 42,
   "metadata": {},
   "outputs": [
    {
     "name": "stdout",
     "output_type": "stream",
     "text": [
      "CPU times: user 15.8 s, sys: 144 ms, total: 15.9 s\n",
      "Wall time: 6.42 s\n"
     ]
    }
   ],
   "source": [
    "# 학습에 사용할 y_label 을 넣어준다.\n",
    "y_label = df_train['votes_pos_neg']\n",
    "%time forest = forest.fit(train_feature_tfidf, y_label)"
   ]
  },
  {
   "cell_type": "markdown",
   "metadata": {},
   "source": [
    "# 평가하기"
   ]
  },
  {
   "cell_type": "code",
   "execution_count": 43,
   "metadata": {},
   "outputs": [
    {
     "data": {
      "text/plain": [
       "array([0.778721  , 0.8024901 , 0.78268251, 0.79173741, 0.77192982])"
      ]
     },
     "execution_count": 43,
     "metadata": {},
     "output_type": "execute_result"
    }
   ],
   "source": [
    "from sklearn.model_selection import KFold\n",
    "from sklearn.model_selection import cross_val_score\n",
    "k_fold = KFold(n_splits=5, shuffle=True, random_state=0)\n",
    "\n",
    "scoring = 'accuracy'\n",
    "score = cross_val_score(forest, train_feature_tfidf, y_label, cv=k_fold, n_jobs=-1, scoring=scoring)\n",
    "score"
   ]
  },
  {
   "cell_type": "code",
   "execution_count": 44,
   "metadata": {},
   "outputs": [
    {
     "data": {
      "text/plain": [
       "78.55"
      ]
     },
     "execution_count": 44,
     "metadata": {},
     "output_type": "execute_result"
    }
   ],
   "source": [
    "round(np.mean(score)*100,2)"
   ]
  },
  {
   "cell_type": "markdown",
   "metadata": {},
   "source": [
    "# 예측"
   ]
  },
  {
   "cell_type": "code",
   "execution_count": 45,
   "metadata": {},
   "outputs": [
    {
     "data": {
      "text/plain": [
       "array([0, 0, 0, 0, 0, 0, 0, 0, 0, 0])"
      ]
     },
     "execution_count": 45,
     "metadata": {},
     "output_type": "execute_result"
    }
   ],
   "source": [
    "# 테스트 데이터를 넣고 예측한다.\n",
    "y_pred = forest.predict(test_feature_tfidf)\n",
    "y_pred[:10]"
   ]
  },
  {
   "cell_type": "code",
   "execution_count": 46,
   "metadata": {},
   "outputs": [
    {
     "data": {
      "text/plain": [
       "(3787,)"
      ]
     },
     "execution_count": 46,
     "metadata": {},
     "output_type": "execute_result"
    }
   ],
   "source": [
    "y_pred.shape"
   ]
  },
  {
   "cell_type": "code",
   "execution_count": 47,
   "metadata": {},
   "outputs": [
    {
     "data": {
      "text/html": [
       "<div>\n",
       "<style scoped>\n",
       "    .dataframe tbody tr th:only-of-type {\n",
       "        vertical-align: middle;\n",
       "    }\n",
       "\n",
       "    .dataframe tbody tr th {\n",
       "        vertical-align: top;\n",
       "    }\n",
       "\n",
       "    .dataframe thead th {\n",
       "        text-align: right;\n",
       "    }\n",
       "</style>\n",
       "<table border=\"1\" class=\"dataframe\">\n",
       "  <thead>\n",
       "    <tr style=\"text-align: right;\">\n",
       "      <th></th>\n",
       "      <th>votes_pos_neg_pred</th>\n",
       "    </tr>\n",
       "  </thead>\n",
       "  <tbody>\n",
       "    <tr>\n",
       "      <th>0</th>\n",
       "      <td>0</td>\n",
       "    </tr>\n",
       "    <tr>\n",
       "      <th>1</th>\n",
       "      <td>0</td>\n",
       "    </tr>\n",
       "    <tr>\n",
       "      <th>2</th>\n",
       "      <td>0</td>\n",
       "    </tr>\n",
       "    <tr>\n",
       "      <th>3</th>\n",
       "      <td>0</td>\n",
       "    </tr>\n",
       "    <tr>\n",
       "      <th>4</th>\n",
       "      <td>0</td>\n",
       "    </tr>\n",
       "  </tbody>\n",
       "</table>\n",
       "</div>"
      ],
      "text/plain": [
       "   votes_pos_neg_pred\n",
       "0                   0\n",
       "1                   0\n",
       "2                   0\n",
       "3                   0\n",
       "4                   0"
      ]
     },
     "execution_count": 47,
     "metadata": {},
     "output_type": "execute_result"
    }
   ],
   "source": [
    "# 예측 결과를 저장하기 위해 데이터프레임에 담아 준다.\n",
    "output = pd.DataFrame(data={'votes_pos_neg_pred':y_pred})\n",
    "output.head()"
   ]
  },
  {
   "cell_type": "code",
   "execution_count": 48,
   "metadata": {},
   "outputs": [
    {
     "data": {
      "text/plain": [
       "0    3778\n",
       "1       9\n",
       "Name: votes_pos_neg_pred, dtype: int64"
      ]
     },
     "execution_count": 48,
     "metadata": {},
     "output_type": "execute_result"
    }
   ],
   "source": [
    "# 0과 1이 어떻게 집계 되었는지 확인한다.\n",
    "# 실제 데이터에는 답변 대상 건이 있는데 없는 것으로 예측되었다.\n",
    "output['votes_pos_neg_pred'].value_counts()"
   ]
  },
  {
   "cell_type": "code",
   "execution_count": 49,
   "metadata": {},
   "outputs": [],
   "source": [
    "df_test['votes_pos_neg_pred'] = y_pred"
   ]
  },
  {
   "cell_type": "code",
   "execution_count": 50,
   "metadata": {},
   "outputs": [
    {
     "data": {
      "text/html": [
       "<div>\n",
       "<style scoped>\n",
       "    .dataframe tbody tr th:only-of-type {\n",
       "        vertical-align: middle;\n",
       "    }\n",
       "\n",
       "    .dataframe tbody tr th {\n",
       "        vertical-align: top;\n",
       "    }\n",
       "\n",
       "    .dataframe thead th {\n",
       "        text-align: right;\n",
       "    }\n",
       "</style>\n",
       "<table border=\"1\" class=\"dataframe\">\n",
       "  <thead>\n",
       "    <tr style=\"text-align: right;\">\n",
       "      <th></th>\n",
       "      <th>article_id</th>\n",
       "      <th>start</th>\n",
       "      <th>end</th>\n",
       "      <th>answered</th>\n",
       "      <th>votes</th>\n",
       "      <th>category</th>\n",
       "      <th>title</th>\n",
       "      <th>content</th>\n",
       "      <th>votes_pos_neg</th>\n",
       "      <th>content_preprocessing</th>\n",
       "      <th>content_preprocessing2</th>\n",
       "      <th>votes_pos_neg_pred</th>\n",
       "      <th>pred_diff</th>\n",
       "    </tr>\n",
       "  </thead>\n",
       "  <tbody>\n",
       "    <tr>\n",
       "      <th>207904</th>\n",
       "      <td>268699</td>\n",
       "      <td>2018-06-11</td>\n",
       "      <td>2018-07-11</td>\n",
       "      <td>0</td>\n",
       "      <td>146</td>\n",
       "      <td>문화/예술/체육/언론</td>\n",
       "      <td>LG 트윈스 오지환 선수의 국가대표 발탁을 반대합니다</td>\n",
       "      <td>오지환 선수는 그동안 경찰청 팀에 입대하여 병역의 의무를 할 수  있었음에도 거부하...</td>\n",
       "      <td>0</td>\n",
       "      <td>오지환 선수는 그동안 경찰청 팀에 입대하여 병역의 의무를 할 수  있었음에도 거부하...</td>\n",
       "      <td>오지환 선수는 그동안 경찰청 팀에 입대하여 병역의 의무를 수  있었음에도 거부하였으...</td>\n",
       "      <td>0</td>\n",
       "      <td>0</td>\n",
       "    </tr>\n",
       "    <tr>\n",
       "      <th>207929</th>\n",
       "      <td>268729</td>\n",
       "      <td>2018-06-11</td>\n",
       "      <td>2018-07-11</td>\n",
       "      <td>0</td>\n",
       "      <td>194</td>\n",
       "      <td>행정</td>\n",
       "      <td>1.6 GDI 엔진결함 조사 과정과 결과를 공개해 주세요.</td>\n",
       "      <td>현대기아 자동차의 1.6 GDI 엔진결함 조사 과정과 결과를 공개해주시기 바랍니다....</td>\n",
       "      <td>0</td>\n",
       "      <td>현대기아 자동차의     GDI 엔진결함 조사 과정과 결과를 공개해주시기 바랍니다 ...</td>\n",
       "      <td>현대기아 자동차의     GDI 엔진결함 조사 과정과 결과를 공개해주시기 바랍니다 ...</td>\n",
       "      <td>0</td>\n",
       "      <td>0</td>\n",
       "    </tr>\n",
       "    <tr>\n",
       "      <th>207937</th>\n",
       "      <td>268738</td>\n",
       "      <td>2018-06-11</td>\n",
       "      <td>2018-07-11</td>\n",
       "      <td>0</td>\n",
       "      <td>3869</td>\n",
       "      <td>미래</td>\n",
       "      <td>정부가 암호화폐 투자하는 국민을 진심으로 걱정하고 있다면 해야 하는 것에 대한 청원</td>\n",
       "      <td>안녕하세요. 저는 40대 후반의 투자자입니다. 20대 후반부터 15년 정도 X-In...</td>\n",
       "      <td>1</td>\n",
       "      <td>안녕하세요  저는   대 후반의 투자자입니다    대 후반부터   년 정도 X In...</td>\n",
       "      <td>대 후반의 투자자입니다    대 후반부터   년 정도 X Internet  인...</td>\n",
       "      <td>0</td>\n",
       "      <td>1</td>\n",
       "    </tr>\n",
       "    <tr>\n",
       "      <th>207963</th>\n",
       "      <td>268771</td>\n",
       "      <td>2018-06-11</td>\n",
       "      <td>2018-07-11</td>\n",
       "      <td>0</td>\n",
       "      <td>209</td>\n",
       "      <td>인권/성평등</td>\n",
       "      <td>혜화역 시위에 관련된 것들을 청원합니다.</td>\n",
       "      <td>페미니스트들이 남녀성평등을 주장하며 남성혐오를 보여주고 있는 혜화역 시위는 유투브 ...</td>\n",
       "      <td>0</td>\n",
       "      <td>페미니스트들이 남녀성평등을 주장하며 남성혐오를 보여주고 있는 혜화역 시위는 유투브 ...</td>\n",
       "      <td>페미니스트들이 남녀성평등을 주장하며 남성혐오를 보여주고 있는 혜화역 시위는 유투브 ...</td>\n",
       "      <td>0</td>\n",
       "      <td>0</td>\n",
       "    </tr>\n",
       "    <tr>\n",
       "      <th>207974</th>\n",
       "      <td>268784</td>\n",
       "      <td>2018-06-11</td>\n",
       "      <td>2018-07-11</td>\n",
       "      <td>0</td>\n",
       "      <td>240</td>\n",
       "      <td>문화/예술/체육/언론</td>\n",
       "      <td>아시안게임 금메달리스트에게 주는 병역혜택 폐지 청원</td>\n",
       "      <td>국위선양이라는 이유로 올림픽 메달리스트와 아시안게임 금메달리스트 선수들에게 주어지는...</td>\n",
       "      <td>0</td>\n",
       "      <td>국위선양이라는 이유로 올림픽 메달리스트와 아시안게임 금메달리스트 선수들에게 주어지는...</td>\n",
       "      <td>국위선양이라는 이유로 올림픽 메달리스트와 아시안게임 금메달리스트 선수들에게 주어지는...</td>\n",
       "      <td>0</td>\n",
       "      <td>0</td>\n",
       "    </tr>\n",
       "  </tbody>\n",
       "</table>\n",
       "</div>"
      ],
      "text/plain": [
       "        article_id      start        end  answered  votes     category  \\\n",
       "207904      268699 2018-06-11 2018-07-11         0    146  문화/예술/체육/언론   \n",
       "207929      268729 2018-06-11 2018-07-11         0    194           행정   \n",
       "207937      268738 2018-06-11 2018-07-11         0   3869           미래   \n",
       "207963      268771 2018-06-11 2018-07-11         0    209       인권/성평등   \n",
       "207974      268784 2018-06-11 2018-07-11         0    240  문화/예술/체육/언론   \n",
       "\n",
       "                                                 title  \\\n",
       "207904                   LG 트윈스 오지환 선수의 국가대표 발탁을 반대합니다   \n",
       "207929                1.6 GDI 엔진결함 조사 과정과 결과를 공개해 주세요.   \n",
       "207937  정부가 암호화폐 투자하는 국민을 진심으로 걱정하고 있다면 해야 하는 것에 대한 청원   \n",
       "207963                          혜화역 시위에 관련된 것들을 청원합니다.   \n",
       "207974                    아시안게임 금메달리스트에게 주는 병역혜택 폐지 청원   \n",
       "\n",
       "                                                  content  votes_pos_neg  \\\n",
       "207904  오지환 선수는 그동안 경찰청 팀에 입대하여 병역의 의무를 할 수  있었음에도 거부하...              0   \n",
       "207929  현대기아 자동차의 1.6 GDI 엔진결함 조사 과정과 결과를 공개해주시기 바랍니다....              0   \n",
       "207937  안녕하세요. 저는 40대 후반의 투자자입니다. 20대 후반부터 15년 정도 X-In...              1   \n",
       "207963  페미니스트들이 남녀성평등을 주장하며 남성혐오를 보여주고 있는 혜화역 시위는 유투브 ...              0   \n",
       "207974  국위선양이라는 이유로 올림픽 메달리스트와 아시안게임 금메달리스트 선수들에게 주어지는...              0   \n",
       "\n",
       "                                    content_preprocessing  \\\n",
       "207904  오지환 선수는 그동안 경찰청 팀에 입대하여 병역의 의무를 할 수  있었음에도 거부하...   \n",
       "207929  현대기아 자동차의     GDI 엔진결함 조사 과정과 결과를 공개해주시기 바랍니다 ...   \n",
       "207937  안녕하세요  저는   대 후반의 투자자입니다    대 후반부터   년 정도 X In...   \n",
       "207963  페미니스트들이 남녀성평등을 주장하며 남성혐오를 보여주고 있는 혜화역 시위는 유투브 ...   \n",
       "207974  국위선양이라는 이유로 올림픽 메달리스트와 아시안게임 금메달리스트 선수들에게 주어지는...   \n",
       "\n",
       "                                   content_preprocessing2  votes_pos_neg_pred  \\\n",
       "207904  오지환 선수는 그동안 경찰청 팀에 입대하여 병역의 의무를 수  있었음에도 거부하였으...                   0   \n",
       "207929  현대기아 자동차의     GDI 엔진결함 조사 과정과 결과를 공개해주시기 바랍니다 ...                   0   \n",
       "207937     대 후반의 투자자입니다    대 후반부터   년 정도 X Internet  인...                   0   \n",
       "207963  페미니스트들이 남녀성평등을 주장하며 남성혐오를 보여주고 있는 혜화역 시위는 유투브 ...                   0   \n",
       "207974  국위선양이라는 이유로 올림픽 메달리스트와 아시안게임 금메달리스트 선수들에게 주어지는...                   0   \n",
       "\n",
       "        pred_diff  \n",
       "207904          0  \n",
       "207929          0  \n",
       "207937          1  \n",
       "207963          0  \n",
       "207974          0  "
      ]
     },
     "execution_count": 50,
     "metadata": {},
     "output_type": "execute_result"
    }
   ],
   "source": [
    "df_test['pred_diff'] = df_test['votes_pos_neg'] - df_test['votes_pos_neg_pred']\n",
    "df_test.head()"
   ]
  },
  {
   "cell_type": "code",
   "execution_count": 51,
   "metadata": {},
   "outputs": [
    {
     "data": {
      "text/plain": [
       " 0    3040\n",
       " 1     738\n",
       "-1       9\n",
       "Name: pred_diff, dtype: int64"
      ]
     },
     "execution_count": 51,
     "metadata": {},
     "output_type": "execute_result"
    }
   ],
   "source": [
    "pred_diff = df_test['pred_diff'].value_counts()\n",
    "pred_diff"
   ]
  },
  {
   "cell_type": "code",
   "execution_count": 52,
   "metadata": {},
   "outputs": [
    {
     "name": "stdout",
     "output_type": "stream",
     "text": [
      "전체 3787건의 데이터 중 3040건 예측\n"
     ]
    }
   ],
   "source": [
    "print('전체 {}건의 데이터 중 {}건 예측'.format(y_pred.shape[0], pred_diff[0]))"
   ]
  },
  {
   "cell_type": "code",
   "execution_count": 53,
   "metadata": {},
   "outputs": [
    {
     "name": "stdout",
     "output_type": "stream",
     "text": [
      "예측 비율 80.27462371270134\n"
     ]
    }
   ],
   "source": [
    "acc = ( pred_diff[0] / y_pred.shape[0] ) *100 \n",
    "print('예측 비율 {}'.format(acc))"
   ]
  },
  {
   "cell_type": "code",
   "execution_count": null,
   "metadata": {},
   "outputs": [],
   "source": []
  }
 ],
 "metadata": {
  "kernelspec": {
   "display_name": "Python 3",
   "language": "python",
   "name": "python3"
  },
  "language_info": {
   "codemirror_mode": {
    "name": "ipython",
    "version": 3
   },
   "file_extension": ".py",
   "mimetype": "text/x-python",
   "name": "python",
   "nbconvert_exporter": "python",
   "pygments_lexer": "ipython3",
   "version": "3.6.1"
  }
 },
 "nbformat": 4,
 "nbformat_minor": 2
}
