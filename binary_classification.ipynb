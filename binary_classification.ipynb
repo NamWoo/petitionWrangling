{
 "cells": [
  {
   "cell_type": "markdown",
   "metadata": {},
   "source": [
    "# 국민청원 데이터로 이진 분류하기"
   ]
  },
  {
   "cell_type": "markdown",
   "metadata": {},
   "source": [
    "* 예제로 응답여부를 0과 1로 예측합니다.\n",
    "* 응답여부 외에도 청원의 카테고리를 예측하는 분류를 해볼 수도 있을것 같아요. \n",
    "* 이 예제를 참고하여 응답여부외에 청원내용으로 평균 이상의 투표를 받을 것인지 여부를 예측해 보면 좋겠습니다."
   ]
  },
  {
   "cell_type": "code",
   "execution_count": 1,
   "metadata": {},
   "outputs": [
    {
     "name": "stdout",
     "output_type": "stream",
     "text": [
      "0.21.0\n",
      "1.14.0\n"
     ]
    }
   ],
   "source": [
    "import pandas as pd\n",
    "import numpy as np\n",
    "import re\n",
    "print(pd.__version__)\n",
    "print(np.__version__)"
   ]
  },
  {
   "cell_type": "markdown",
   "metadata": {},
   "source": [
    "# 데이터 로드하기"
   ]
  },
  {
   "cell_type": "code",
   "execution_count": 2,
   "metadata": {},
   "outputs": [
    {
     "data": {
      "text/plain": [
       "(210424, 8)"
      ]
     },
     "execution_count": 2,
     "metadata": {},
     "output_type": "execute_result"
    }
   ],
   "source": [
    "# 크롤링해 온 국민청원 데이터를 판다스를 통해 읽어옵니다.\n",
    "petitions = pd.read_csv('data/petition.csv', parse_dates=['start', 'end'])\n",
    "# 데이터의 크기가 어느정도인지 봅니다.\n",
    "petitions.shape"
   ]
  },
  {
   "cell_type": "code",
   "execution_count": 3,
   "metadata": {},
   "outputs": [
    {
     "data": {
      "text/html": [
       "<div>\n",
       "<style scoped>\n",
       "    .dataframe tbody tr th:only-of-type {\n",
       "        vertical-align: middle;\n",
       "    }\n",
       "\n",
       "    .dataframe tbody tr th {\n",
       "        vertical-align: top;\n",
       "    }\n",
       "\n",
       "    .dataframe thead th {\n",
       "        text-align: right;\n",
       "    }\n",
       "</style>\n",
       "<table border=\"1\" class=\"dataframe\">\n",
       "  <thead>\n",
       "    <tr style=\"text-align: right;\">\n",
       "      <th></th>\n",
       "      <th>article_id</th>\n",
       "      <th>answered</th>\n",
       "      <th>votes</th>\n",
       "    </tr>\n",
       "  </thead>\n",
       "  <tbody>\n",
       "    <tr>\n",
       "      <th>count</th>\n",
       "      <td>210424.000000</td>\n",
       "      <td>210424.000000</td>\n",
       "      <td>210424.000000</td>\n",
       "    </tr>\n",
       "    <tr>\n",
       "      <th>mean</th>\n",
       "      <td>126356.643358</td>\n",
       "      <td>0.000128</td>\n",
       "      <td>146.814508</td>\n",
       "    </tr>\n",
       "    <tr>\n",
       "      <th>std</th>\n",
       "      <td>79120.580606</td>\n",
       "      <td>0.011327</td>\n",
       "      <td>4595.002647</td>\n",
       "    </tr>\n",
       "    <tr>\n",
       "      <th>min</th>\n",
       "      <td>21.000000</td>\n",
       "      <td>0.000000</td>\n",
       "      <td>0.000000</td>\n",
       "    </tr>\n",
       "    <tr>\n",
       "      <th>25%</th>\n",
       "      <td>54617.750000</td>\n",
       "      <td>0.000000</td>\n",
       "      <td>1.000000</td>\n",
       "    </tr>\n",
       "    <tr>\n",
       "      <th>50%</th>\n",
       "      <td>126121.500000</td>\n",
       "      <td>0.000000</td>\n",
       "      <td>3.000000</td>\n",
       "    </tr>\n",
       "    <tr>\n",
       "      <th>75%</th>\n",
       "      <td>192984.500000</td>\n",
       "      <td>0.000000</td>\n",
       "      <td>10.000000</td>\n",
       "    </tr>\n",
       "    <tr>\n",
       "      <th>max</th>\n",
       "      <td>271767.000000</td>\n",
       "      <td>1.000000</td>\n",
       "      <td>714875.000000</td>\n",
       "    </tr>\n",
       "  </tbody>\n",
       "</table>\n",
       "</div>"
      ],
      "text/plain": [
       "          article_id       answered          votes\n",
       "count  210424.000000  210424.000000  210424.000000\n",
       "mean   126356.643358       0.000128     146.814508\n",
       "std     79120.580606       0.011327    4595.002647\n",
       "min        21.000000       0.000000       0.000000\n",
       "25%     54617.750000       0.000000       1.000000\n",
       "50%    126121.500000       0.000000       3.000000\n",
       "75%    192984.500000       0.000000      10.000000\n",
       "max    271767.000000       1.000000  714875.000000"
      ]
     },
     "execution_count": 3,
     "metadata": {},
     "output_type": "execute_result"
    }
   ],
   "source": [
    "petitions.describe()"
   ]
  },
  {
   "cell_type": "code",
   "execution_count": 4,
   "metadata": {},
   "outputs": [
    {
     "data": {
      "text/plain": [
       "(8967, 8)"
      ]
     },
     "execution_count": 4,
     "metadata": {},
     "output_type": "execute_result"
    }
   ],
   "source": [
    "# 전체 데이터 중 투표가 1000건 이상인 데이터를 기준으로 가져옵니다. 아웃라이어 데이터 제거를 위해 20만건 이상 데이터도 제거합니다.\n",
    "petition_remove_outlier = petitions.loc[(petitions['votes'] > 100) & (petitions['votes'] < 10000)]\n",
    "petition_remove_outlier.shape"
   ]
  },
  {
   "cell_type": "code",
   "execution_count": 5,
   "metadata": {},
   "outputs": [],
   "source": [
    "df = petition_remove_outlier.copy()"
   ]
  },
  {
   "cell_type": "code",
   "execution_count": 6,
   "metadata": {},
   "outputs": [
    {
     "data": {
      "text/html": [
       "<div>\n",
       "<style scoped>\n",
       "    .dataframe tbody tr th:only-of-type {\n",
       "        vertical-align: middle;\n",
       "    }\n",
       "\n",
       "    .dataframe tbody tr th {\n",
       "        vertical-align: top;\n",
       "    }\n",
       "\n",
       "    .dataframe thead th {\n",
       "        text-align: right;\n",
       "    }\n",
       "</style>\n",
       "<table border=\"1\" class=\"dataframe\">\n",
       "  <thead>\n",
       "    <tr style=\"text-align: right;\">\n",
       "      <th></th>\n",
       "      <th>article_id</th>\n",
       "      <th>answered</th>\n",
       "      <th>votes</th>\n",
       "    </tr>\n",
       "  </thead>\n",
       "  <tbody>\n",
       "    <tr>\n",
       "      <th>count</th>\n",
       "      <td>8967.000000</td>\n",
       "      <td>8967.0</td>\n",
       "      <td>8967.000000</td>\n",
       "    </tr>\n",
       "    <tr>\n",
       "      <th>mean</th>\n",
       "      <td>159248.267425</td>\n",
       "      <td>0.0</td>\n",
       "      <td>718.720085</td>\n",
       "    </tr>\n",
       "    <tr>\n",
       "      <th>std</th>\n",
       "      <td>71006.266735</td>\n",
       "      <td>0.0</td>\n",
       "      <td>1330.500093</td>\n",
       "    </tr>\n",
       "    <tr>\n",
       "      <th>min</th>\n",
       "      <td>28.000000</td>\n",
       "      <td>0.0</td>\n",
       "      <td>101.000000</td>\n",
       "    </tr>\n",
       "    <tr>\n",
       "      <th>25%</th>\n",
       "      <td>110169.000000</td>\n",
       "      <td>0.0</td>\n",
       "      <td>146.000000</td>\n",
       "    </tr>\n",
       "    <tr>\n",
       "      <th>50%</th>\n",
       "      <td>174560.000000</td>\n",
       "      <td>0.0</td>\n",
       "      <td>237.000000</td>\n",
       "    </tr>\n",
       "    <tr>\n",
       "      <th>75%</th>\n",
       "      <td>214746.000000</td>\n",
       "      <td>0.0</td>\n",
       "      <td>571.000000</td>\n",
       "    </tr>\n",
       "    <tr>\n",
       "      <th>max</th>\n",
       "      <td>271763.000000</td>\n",
       "      <td>0.0</td>\n",
       "      <td>9988.000000</td>\n",
       "    </tr>\n",
       "  </tbody>\n",
       "</table>\n",
       "</div>"
      ],
      "text/plain": [
       "          article_id  answered        votes\n",
       "count    8967.000000    8967.0  8967.000000\n",
       "mean   159248.267425       0.0   718.720085\n",
       "std     71006.266735       0.0  1330.500093\n",
       "min        28.000000       0.0   101.000000\n",
       "25%    110169.000000       0.0   146.000000\n",
       "50%    174560.000000       0.0   237.000000\n",
       "75%    214746.000000       0.0   571.000000\n",
       "max    271763.000000       0.0  9988.000000"
      ]
     },
     "execution_count": 6,
     "metadata": {},
     "output_type": "execute_result"
    }
   ],
   "source": [
    "df.describe()"
   ]
  },
  {
   "cell_type": "markdown",
   "metadata": {},
   "source": [
    "# 이진분류 대상 정하기\n",
    "* 답변 여부에 대해 분류해보는 실습을 해볼까 했지만 표준편차가 너무 크고 모수가 적어 분류 데이터로 적합하지 않습니다."
   ]
  },
  {
   "cell_type": "code",
   "execution_count": 7,
   "metadata": {},
   "outputs": [
    {
     "data": {
      "text/plain": [
       "(0, 8)"
      ]
     },
     "execution_count": 7,
     "metadata": {},
     "output_type": "execute_result"
    }
   ],
   "source": [
    "# 답변대상건이 몇 건인지 봅니다. \n",
    "df.loc[df['answered'] == 1].shape"
   ]
  },
  {
   "cell_type": "code",
   "execution_count": 8,
   "metadata": {},
   "outputs": [
    {
     "data": {
      "text/plain": [
       "<matplotlib.axes._subplots.AxesSubplot at 0x1052fb748>"
      ]
     },
     "execution_count": 8,
     "metadata": {},
     "output_type": "execute_result"
    },
    {
     "data": {
      "image/png": "[encoded data removed]",
      "text/plain": [
       "<matplotlib.figure.Figure at 0x114fd6fd0>"
      ]
     },
     "metadata": {},
     "output_type": "display_data"
    }
   ],
   "source": [
    "%matplotlib inline \n",
    "df['votes'].plot.hist()"
   ]
  },
  {
   "cell_type": "markdown",
   "metadata": {},
   "source": [
    "# 투표수를 평균보다 높게 혹은 적게 받는지 예측해 보기"
   ]
  },
  {
   "cell_type": "code",
   "execution_count": 9,
   "metadata": {},
   "outputs": [],
   "source": [
    "# 기본값을 0으로 세팅\n",
    "df['votes_pos_neg'] = 0"
   ]
  },
  {
   "cell_type": "code",
   "execution_count": 10,
   "metadata": {},
   "outputs": [
    {
     "data": {
      "text/plain": [
       "718.7200847552135"
      ]
     },
     "execution_count": 10,
     "metadata": {},
     "output_type": "execute_result"
    }
   ],
   "source": [
    "# 평균 투표수를 구해 옵니다.\n",
    "votes_mean = df['votes'].mean()\n",
    "votes_mean"
   ]
  },
  {
   "cell_type": "code",
   "execution_count": 11,
   "metadata": {},
   "outputs": [],
   "source": [
    "# 투표수가 평균을 넘으면 1로 다시 세팅합니다.\n",
    "df['votes_pos_neg'] = (df['votes'] > votes_mean) == 1"
   ]
  },
  {
   "cell_type": "code",
   "execution_count": 12,
   "metadata": {},
   "outputs": [],
   "source": [
    "# 타입을 boolean 에서 int로 변경해 줍니다.\n",
    "df['votes_pos_neg'] = df['votes_pos_neg'].astype(int)"
   ]
  },
  {
   "cell_type": "code",
   "execution_count": 13,
   "metadata": {},
   "outputs": [
    {
     "data": {
      "text/html": [
       "<div>\n",
       "<style scoped>\n",
       "    .dataframe tbody tr th:only-of-type {\n",
       "        vertical-align: middle;\n",
       "    }\n",
       "\n",
       "    .dataframe tbody tr th {\n",
       "        vertical-align: top;\n",
       "    }\n",
       "\n",
       "    .dataframe thead th {\n",
       "        text-align: right;\n",
       "    }\n",
       "</style>\n",
       "<table border=\"1\" class=\"dataframe\">\n",
       "  <thead>\n",
       "    <tr style=\"text-align: right;\">\n",
       "      <th></th>\n",
       "      <th>article_id</th>\n",
       "      <th>start</th>\n",
       "      <th>end</th>\n",
       "      <th>answered</th>\n",
       "      <th>votes</th>\n",
       "      <th>category</th>\n",
       "      <th>title</th>\n",
       "      <th>content</th>\n",
       "      <th>votes_pos_neg</th>\n",
       "    </tr>\n",
       "  </thead>\n",
       "  <tbody>\n",
       "    <tr>\n",
       "      <th>7</th>\n",
       "      <td>28</td>\n",
       "      <td>2017-08-19</td>\n",
       "      <td>2017-08-26</td>\n",
       "      <td>0</td>\n",
       "      <td>2137</td>\n",
       "      <td>경제민주화</td>\n",
       "      <td>소액주주를 보호해주십시오</td>\n",
       "      <td>**  존경하옵는 문재인대통령님께\\n저는 중국원양자원이라는 KOSPI상장사의 소액 ...</td>\n",
       "      <td>1</td>\n",
       "    </tr>\n",
       "    <tr>\n",
       "      <th>13</th>\n",
       "      <td>34</td>\n",
       "      <td>2017-08-19</td>\n",
       "      <td>2017-09-18</td>\n",
       "      <td>0</td>\n",
       "      <td>679</td>\n",
       "      <td>기타</td>\n",
       "      <td>『국가유공자 등 예우 및 지원에 관한법률』상「6.25전몰군경 자녀수당」의 불합리한 ...</td>\n",
       "      <td>(현황)\\n우리들 아버지께서는 67여년전 북의 남침으로 조국이 위기에 처했을 때 젊...</td>\n",
       "      <td>0</td>\n",
       "    </tr>\n",
       "    <tr>\n",
       "      <th>16</th>\n",
       "      <td>37</td>\n",
       "      <td>2017-08-19</td>\n",
       "      <td>2017-09-18</td>\n",
       "      <td>0</td>\n",
       "      <td>415</td>\n",
       "      <td>기타</td>\n",
       "      <td>황우석박사님 연구재개 허용 촉구합니다.</td>\n",
       "      <td>국민의 70% 이상이 황우석박사님을 응원하고 지지하고 있습니다.\\n*2007년 1월...</td>\n",
       "      <td>0</td>\n",
       "    </tr>\n",
       "    <tr>\n",
       "      <th>18</th>\n",
       "      <td>40</td>\n",
       "      <td>2017-08-19</td>\n",
       "      <td>2017-09-18</td>\n",
       "      <td>0</td>\n",
       "      <td>218</td>\n",
       "      <td>외교/통일/국방</td>\n",
       "      <td>국가유공자등 예우및 지우너에 관한 법률 시행령 개정</td>\n",
       "      <td>지금부터 67년전 1950년 6.25전쟁때 조국 대한민국이 위태로운 시점에 우리들 ...</td>\n",
       "      <td>0</td>\n",
       "    </tr>\n",
       "    <tr>\n",
       "      <th>19</th>\n",
       "      <td>41</td>\n",
       "      <td>2017-08-19</td>\n",
       "      <td>2017-09-18</td>\n",
       "      <td>0</td>\n",
       "      <td>227</td>\n",
       "      <td>외교/통일/국방</td>\n",
       "      <td>국가유공자등 예우및 지우너에 관한 법률 시행령 개정</td>\n",
       "      <td>지금부터 67년전 1950년 6.25전쟁때 조국 대한민국이 위태로운 시점에 우리들 ...</td>\n",
       "      <td>0</td>\n",
       "    </tr>\n",
       "  </tbody>\n",
       "</table>\n",
       "</div>"
      ],
      "text/plain": [
       "    article_id      start        end  answered  votes  category  \\\n",
       "7           28 2017-08-19 2017-08-26         0   2137     경제민주화   \n",
       "13          34 2017-08-19 2017-09-18         0    679        기타   \n",
       "16          37 2017-08-19 2017-09-18         0    415        기타   \n",
       "18          40 2017-08-19 2017-09-18         0    218  외교/통일/국방   \n",
       "19          41 2017-08-19 2017-09-18         0    227  외교/통일/국방   \n",
       "\n",
       "                                                title  \\\n",
       "7                                       소액주주를 보호해주십시오   \n",
       "13  『국가유공자 등 예우 및 지원에 관한법률』상「6.25전몰군경 자녀수당」의 불합리한 ...   \n",
       "16                              황우석박사님 연구재개 허용 촉구합니다.   \n",
       "18                       국가유공자등 예우및 지우너에 관한 법률 시행령 개정   \n",
       "19                       국가유공자등 예우및 지우너에 관한 법률 시행령 개정   \n",
       "\n",
       "                                              content  votes_pos_neg  \n",
       "7   **  존경하옵는 문재인대통령님께\\n저는 중국원양자원이라는 KOSPI상장사의 소액 ...              1  \n",
       "13  (현황)\\n우리들 아버지께서는 67여년전 북의 남침으로 조국이 위기에 처했을 때 젊...              0  \n",
       "16  국민의 70% 이상이 황우석박사님을 응원하고 지지하고 있습니다.\\n*2007년 1월...              0  \n",
       "18  지금부터 67년전 1950년 6.25전쟁때 조국 대한민국이 위태로운 시점에 우리들 ...              0  \n",
       "19  지금부터 67년전 1950년 6.25전쟁때 조국 대한민국이 위태로운 시점에 우리들 ...              0  "
      ]
     },
     "execution_count": 13,
     "metadata": {},
     "output_type": "execute_result"
    }
   ],
   "source": [
    "df.head()"
   ]
  },
  {
   "cell_type": "code",
   "execution_count": 14,
   "metadata": {},
   "outputs": [],
   "source": [
    "# 샘플로 보고 싶은 인덱스의 번호를 넣어주세요.\n",
    "sample_index = 38"
   ]
  },
  {
   "cell_type": "code",
   "execution_count": 15,
   "metadata": {},
   "outputs": [
    {
     "data": {
      "text/plain": [
       "'영어회화전문강사제도는 유지되어야합니다.'"
      ]
     },
     "execution_count": 15,
     "metadata": {},
     "output_type": "execute_result"
    }
   ],
   "source": [
    "sample_title = df['title'][sample_index]\n",
    "sample_title"
   ]
  },
  {
   "cell_type": "code",
   "execution_count": 16,
   "metadata": {},
   "outputs": [
    {
     "data": {
      "text/plain": [
       "'1. 영전강의고용안정을 원합니다\\\\n2.1년단위계약직으로 임신 출산육아 매우 곤란합니다\\\\n3. 성과급 호봉인정 상여금 급식비지원 전혀없으며 연봉인상 또한 없습니다\\\\n4.인권위의 무기직으로 전환 권고받았습니다\\\\n5.공공부문 비정규직 없애는건 문정부의 공약이며 이에따라 영전강만 제외하는것은 불공평합니다\\\\n저희는 정교사나 정규직을 원하는것이 아닙니다.\\\\n이 일을 계속 하길 희망할 뿐입니다.  문재인대통령님께선 일자리창출을 매우 중요하게 생각하셨습니다.  일자리창출 만큼 중요한것이 일자리 유지입니다.  창출만 하고 유지가 되지 않는다면 그저  형식적인 정책일 뿐입니다. 하루빨리 결과가 나와  안정된 마음으로 일하고 싶습니다.  감사합니다.'"
      ]
     },
     "execution_count": 16,
     "metadata": {},
     "output_type": "execute_result"
    }
   ],
   "source": [
    "sample_content = petitions['content'][sample_index]\n",
    "sample_content"
   ]
  },
  {
   "cell_type": "markdown",
   "metadata": {},
   "source": [
    "# 전처리 하기 "
   ]
  },
  {
   "cell_type": "code",
   "execution_count": 17,
   "metadata": {},
   "outputs": [],
   "source": [
    "def preprocessing(text):\n",
    "    # 개행문자 제거\n",
    "    text = re.sub('\\\\\\\\n', ' ', text)\n",
    "    # 특수문자 제거\n",
    "    # 특수문자나 이모티콘 등은 때로는 의미를 갖기도 하지만 여기에서는 제거했습니다.\n",
    "    # text = re.sub('[?.,;:|\\)*~`’!^\\-_+<>@\\#$%&-=#}※]', '', text)\n",
    "    # 한글, 영문, 숫자만 남기고 모두 제거하도록 합니다.\n",
    "    # text = re.sub('[^가-힣ㄱ-ㅎㅏ-ㅣa-zA-Z0-9]', ' ', text)\n",
    "    # 한글, 영문만 남기고 모두 제거하도록 합니다.\n",
    "    text = re.sub('[^가-힣ㄱ-ㅎㅏ-ㅣa-zA-Z]', ' ', text)\n",
    "    return text"
   ]
  },
  {
   "cell_type": "code",
   "execution_count": 18,
   "metadata": {},
   "outputs": [],
   "source": [
    "# 불용어 제거\n",
    "def remove_stopwords(text):\n",
    "    tokens = text.split(' ')\n",
    "    stops = ['안녕', '있습니다', '그', '년도', '안녕하세요', '하는', '및', '제', '할', '하고', '더', '대한', '한', '그리고', '월', '저는', '없는', '입니다', '등', '일', '많은', '이런', '것은', '왜','같은', '같습니다', '없습니다', '위해', '한다']\n",
    "    meaningful_words = [w for w in tokens if not w in stops]\n",
    "    return ' '.join(meaningful_words)"
   ]
  },
  {
   "cell_type": "code",
   "execution_count": 19,
   "metadata": {},
   "outputs": [],
   "source": [
    "# 샘플데이터에 적용\n",
    "pre_sample_content = preprocessing(sample_content)"
   ]
  },
  {
   "cell_type": "code",
   "execution_count": 20,
   "metadata": {},
   "outputs": [],
   "source": [
    "pre_sample_content = remove_stopwords(pre_sample_content)"
   ]
  },
  {
   "cell_type": "code",
   "execution_count": 21,
   "metadata": {},
   "outputs": [
    {
     "name": "stdout",
     "output_type": "stream",
     "text": [
      "CPU times: user 590 ms, sys: 9.04 ms, total: 599 ms\n",
      "Wall time: 604 ms\n"
     ]
    }
   ],
   "source": [
    "%time df['content_preprocessing'] = df['content'].apply(preprocessing)"
   ]
  },
  {
   "cell_type": "code",
   "execution_count": 22,
   "metadata": {},
   "outputs": [
    {
     "name": "stdout",
     "output_type": "stream",
     "text": [
      "CPU times: user 1.04 s, sys: 10.2 ms, total: 1.05 s\n",
      "Wall time: 1.06 s\n"
     ]
    }
   ],
   "source": [
    "%time df['content_preprocessing2'] = df['content_preprocessing'].apply(remove_stopwords)"
   ]
  },
  {
   "cell_type": "markdown",
   "metadata": {},
   "source": [
    "# 학습세트와 테스트세트 만들기\n",
    "* 학습세트와 테스트세트를 7:3의 비율로 나눠 줍니다."
   ]
  },
  {
   "cell_type": "code",
   "execution_count": 23,
   "metadata": {},
   "outputs": [],
   "source": [
    "df = df.reindex()"
   ]
  },
  {
   "cell_type": "code",
   "execution_count": 24,
   "metadata": {},
   "outputs": [
    {
     "data": {
      "text/plain": [
       "(8967, 11)"
      ]
     },
     "execution_count": 24,
     "metadata": {},
     "output_type": "execute_result"
    }
   ],
   "source": [
    "df.shape"
   ]
  },
  {
   "cell_type": "code",
   "execution_count": 25,
   "metadata": {},
   "outputs": [
    {
     "data": {
      "text/plain": [
       "6276"
      ]
     },
     "execution_count": 25,
     "metadata": {},
     "output_type": "execute_result"
    }
   ],
   "source": [
    "split_count = int(df.shape[0] * 0.7)\n",
    "split_count"
   ]
  },
  {
   "cell_type": "code",
   "execution_count": 26,
   "metadata": {},
   "outputs": [
    {
     "data": {
      "text/plain": [
       "(6276, 11)"
      ]
     },
     "execution_count": 26,
     "metadata": {},
     "output_type": "execute_result"
    }
   ],
   "source": [
    "df_train = df[:split_count].copy()\n",
    "df_train.shape"
   ]
  },
  {
   "cell_type": "code",
   "execution_count": 27,
   "metadata": {},
   "outputs": [
    {
     "data": {
      "text/html": [
       "<div>\n",
       "<style scoped>\n",
       "    .dataframe tbody tr th:only-of-type {\n",
       "        vertical-align: middle;\n",
       "    }\n",
       "\n",
       "    .dataframe tbody tr th {\n",
       "        vertical-align: top;\n",
       "    }\n",
       "\n",
       "    .dataframe thead th {\n",
       "        text-align: right;\n",
       "    }\n",
       "</style>\n",
       "<table border=\"1\" class=\"dataframe\">\n",
       "  <thead>\n",
       "    <tr style=\"text-align: right;\">\n",
       "      <th></th>\n",
       "      <th>article_id</th>\n",
       "      <th>start</th>\n",
       "      <th>end</th>\n",
       "      <th>answered</th>\n",
       "      <th>votes</th>\n",
       "      <th>category</th>\n",
       "      <th>title</th>\n",
       "      <th>content</th>\n",
       "      <th>votes_pos_neg</th>\n",
       "      <th>content_preprocessing</th>\n",
       "      <th>content_preprocessing2</th>\n",
       "    </tr>\n",
       "  </thead>\n",
       "  <tbody>\n",
       "    <tr>\n",
       "      <th>7</th>\n",
       "      <td>28</td>\n",
       "      <td>2017-08-19</td>\n",
       "      <td>2017-08-26</td>\n",
       "      <td>0</td>\n",
       "      <td>2137</td>\n",
       "      <td>경제민주화</td>\n",
       "      <td>소액주주를 보호해주십시오</td>\n",
       "      <td>**  존경하옵는 문재인대통령님께\\n저는 중국원양자원이라는 KOSPI상장사의 소액 ...</td>\n",
       "      <td>1</td>\n",
       "      <td>존경하옵는 문재인대통령님께 저는 중국원양자원이라는 KOSPI상장사의 소액 주...</td>\n",
       "      <td>존경하옵는 문재인대통령님께 중국원양자원이라는 KOSPI상장사의 소액 주주입니...</td>\n",
       "    </tr>\n",
       "    <tr>\n",
       "      <th>13</th>\n",
       "      <td>34</td>\n",
       "      <td>2017-08-19</td>\n",
       "      <td>2017-09-18</td>\n",
       "      <td>0</td>\n",
       "      <td>679</td>\n",
       "      <td>기타</td>\n",
       "      <td>『국가유공자 등 예우 및 지원에 관한법률』상「6.25전몰군경 자녀수당」의 불합리한 ...</td>\n",
       "      <td>(현황)\\n우리들 아버지께서는 67여년전 북의 남침으로 조국이 위기에 처했을 때 젊...</td>\n",
       "      <td>0</td>\n",
       "      <td>현황  우리들 아버지께서는   여년전 북의 남침으로 조국이 위기에 처했을 때 젊은...</td>\n",
       "      <td>현황  우리들 아버지께서는   여년전 북의 남침으로 조국이 위기에 처했을 때 젊은...</td>\n",
       "    </tr>\n",
       "    <tr>\n",
       "      <th>16</th>\n",
       "      <td>37</td>\n",
       "      <td>2017-08-19</td>\n",
       "      <td>2017-09-18</td>\n",
       "      <td>0</td>\n",
       "      <td>415</td>\n",
       "      <td>기타</td>\n",
       "      <td>황우석박사님 연구재개 허용 촉구합니다.</td>\n",
       "      <td>국민의 70% 이상이 황우석박사님을 응원하고 지지하고 있습니다.\\n*2007년 1월...</td>\n",
       "      <td>0</td>\n",
       "      <td>국민의     이상이 황우석박사님을 응원하고 지지하고 있습니다       년  월 ...</td>\n",
       "      <td>국민의     이상이 황우석박사님을 응원하고 지지하고       년  중앙일보 여론...</td>\n",
       "    </tr>\n",
       "    <tr>\n",
       "      <th>18</th>\n",
       "      <td>40</td>\n",
       "      <td>2017-08-19</td>\n",
       "      <td>2017-09-18</td>\n",
       "      <td>0</td>\n",
       "      <td>218</td>\n",
       "      <td>외교/통일/국방</td>\n",
       "      <td>국가유공자등 예우및 지우너에 관한 법률 시행령 개정</td>\n",
       "      <td>지금부터 67년전 1950년 6.25전쟁때 조국 대한민국이 위태로운 시점에 우리들 ...</td>\n",
       "      <td>0</td>\n",
       "      <td>지금부터   년전     년     전쟁때 조국 대한민국이 위태로운 시점에 우리들 ...</td>\n",
       "      <td>지금부터   년전     년     전쟁때 조국 대한민국이 위태로운 시점에 우리들 ...</td>\n",
       "    </tr>\n",
       "    <tr>\n",
       "      <th>19</th>\n",
       "      <td>41</td>\n",
       "      <td>2017-08-19</td>\n",
       "      <td>2017-09-18</td>\n",
       "      <td>0</td>\n",
       "      <td>227</td>\n",
       "      <td>외교/통일/국방</td>\n",
       "      <td>국가유공자등 예우및 지우너에 관한 법률 시행령 개정</td>\n",
       "      <td>지금부터 67년전 1950년 6.25전쟁때 조국 대한민국이 위태로운 시점에 우리들 ...</td>\n",
       "      <td>0</td>\n",
       "      <td>지금부터   년전     년     전쟁때 조국 대한민국이 위태로운 시점에 우리들 ...</td>\n",
       "      <td>지금부터   년전     년     전쟁때 조국 대한민국이 위태로운 시점에 우리들 ...</td>\n",
       "    </tr>\n",
       "  </tbody>\n",
       "</table>\n",
       "</div>"
      ],
      "text/plain": [
       "    article_id      start        end  answered  votes  category  \\\n",
       "7           28 2017-08-19 2017-08-26         0   2137     경제민주화   \n",
       "13          34 2017-08-19 2017-09-18         0    679        기타   \n",
       "16          37 2017-08-19 2017-09-18         0    415        기타   \n",
       "18          40 2017-08-19 2017-09-18         0    218  외교/통일/국방   \n",
       "19          41 2017-08-19 2017-09-18         0    227  외교/통일/국방   \n",
       "\n",
       "                                                title  \\\n",
       "7                                       소액주주를 보호해주십시오   \n",
       "13  『국가유공자 등 예우 및 지원에 관한법률』상「6.25전몰군경 자녀수당」의 불합리한 ...   \n",
       "16                              황우석박사님 연구재개 허용 촉구합니다.   \n",
       "18                       국가유공자등 예우및 지우너에 관한 법률 시행령 개정   \n",
       "19                       국가유공자등 예우및 지우너에 관한 법률 시행령 개정   \n",
       "\n",
       "                                              content  votes_pos_neg  \\\n",
       "7   **  존경하옵는 문재인대통령님께\\n저는 중국원양자원이라는 KOSPI상장사의 소액 ...              1   \n",
       "13  (현황)\\n우리들 아버지께서는 67여년전 북의 남침으로 조국이 위기에 처했을 때 젊...              0   \n",
       "16  국민의 70% 이상이 황우석박사님을 응원하고 지지하고 있습니다.\\n*2007년 1월...              0   \n",
       "18  지금부터 67년전 1950년 6.25전쟁때 조국 대한민국이 위태로운 시점에 우리들 ...              0   \n",
       "19  지금부터 67년전 1950년 6.25전쟁때 조국 대한민국이 위태로운 시점에 우리들 ...              0   \n",
       "\n",
       "                                content_preprocessing  \\\n",
       "7       존경하옵는 문재인대통령님께 저는 중국원양자원이라는 KOSPI상장사의 소액 주...   \n",
       "13   현황  우리들 아버지께서는   여년전 북의 남침으로 조국이 위기에 처했을 때 젊은...   \n",
       "16  국민의     이상이 황우석박사님을 응원하고 지지하고 있습니다       년  월 ...   \n",
       "18  지금부터   년전     년     전쟁때 조국 대한민국이 위태로운 시점에 우리들 ...   \n",
       "19  지금부터   년전     년     전쟁때 조국 대한민국이 위태로운 시점에 우리들 ...   \n",
       "\n",
       "                               content_preprocessing2  \n",
       "7       존경하옵는 문재인대통령님께 중국원양자원이라는 KOSPI상장사의 소액 주주입니...  \n",
       "13   현황  우리들 아버지께서는   여년전 북의 남침으로 조국이 위기에 처했을 때 젊은...  \n",
       "16  국민의     이상이 황우석박사님을 응원하고 지지하고       년  중앙일보 여론...  \n",
       "18  지금부터   년전     년     전쟁때 조국 대한민국이 위태로운 시점에 우리들 ...  \n",
       "19  지금부터   년전     년     전쟁때 조국 대한민국이 위태로운 시점에 우리들 ...  "
      ]
     },
     "execution_count": 27,
     "metadata": {},
     "output_type": "execute_result"
    }
   ],
   "source": [
    "df_train.head()"
   ]
  },
  {
   "cell_type": "code",
   "execution_count": 28,
   "metadata": {},
   "outputs": [
    {
     "data": {
      "text/plain": [
       "(1392, 11)"
      ]
     },
     "execution_count": 28,
     "metadata": {},
     "output_type": "execute_result"
    }
   ],
   "source": [
    "# 학습 세트에서 투표수가 평균보다 많은 건\n",
    "df_train.loc[df_train['votes_pos_neg'] == 1].shape"
   ]
  },
  {
   "cell_type": "code",
   "execution_count": 29,
   "metadata": {},
   "outputs": [
    {
     "data": {
      "text/plain": [
       "(2691, 11)"
      ]
     },
     "execution_count": 29,
     "metadata": {},
     "output_type": "execute_result"
    }
   ],
   "source": [
    "df_test = df[split_count:].copy()\n",
    "df_test.shape"
   ]
  },
  {
   "cell_type": "code",
   "execution_count": 30,
   "metadata": {},
   "outputs": [
    {
     "data": {
      "text/html": [
       "<div>\n",
       "<style scoped>\n",
       "    .dataframe tbody tr th:only-of-type {\n",
       "        vertical-align: middle;\n",
       "    }\n",
       "\n",
       "    .dataframe tbody tr th {\n",
       "        vertical-align: top;\n",
       "    }\n",
       "\n",
       "    .dataframe thead th {\n",
       "        text-align: right;\n",
       "    }\n",
       "</style>\n",
       "<table border=\"1\" class=\"dataframe\">\n",
       "  <thead>\n",
       "    <tr style=\"text-align: right;\">\n",
       "      <th></th>\n",
       "      <th>article_id</th>\n",
       "      <th>start</th>\n",
       "      <th>end</th>\n",
       "      <th>answered</th>\n",
       "      <th>votes</th>\n",
       "      <th>category</th>\n",
       "      <th>title</th>\n",
       "      <th>content</th>\n",
       "      <th>votes_pos_neg</th>\n",
       "      <th>content_preprocessing</th>\n",
       "      <th>content_preprocessing2</th>\n",
       "    </tr>\n",
       "  </thead>\n",
       "  <tbody>\n",
       "    <tr>\n",
       "      <th>167702</th>\n",
       "      <td>207749</td>\n",
       "      <td>2018-04-20</td>\n",
       "      <td>2018-05-20</td>\n",
       "      <td>0</td>\n",
       "      <td>343</td>\n",
       "      <td>기타</td>\n",
       "      <td>조선일보 tv조선 폐간</td>\n",
       "      <td>조선일보는  친일언론으로 출발해 국가가 바로가는 일에 늘 언론의 역할을  져버린 채...</td>\n",
       "      <td>0</td>\n",
       "      <td>조선일보는  친일언론으로 출발해 국가가 바로가는 일에 늘 언론의 역할을  져버린 채...</td>\n",
       "      <td>조선일보는  친일언론으로 출발해 국가가 바로가는 일에 늘 언론의 역할을  져버린 채...</td>\n",
       "    </tr>\n",
       "    <tr>\n",
       "      <th>167704</th>\n",
       "      <td>207751</td>\n",
       "      <td>2018-04-20</td>\n",
       "      <td>2018-05-20</td>\n",
       "      <td>0</td>\n",
       "      <td>330</td>\n",
       "      <td>행정</td>\n",
       "      <td>한국지엠 국민 혈세 투입금지 . 법정관리 검토해주세요</td>\n",
       "      <td>한국 GM의 국민 혈세를 투입하지말고\\n미국 GM 본사에서의 자금지원이 있도록 이끌...</td>\n",
       "      <td>0</td>\n",
       "      <td>한국 GM의 국민 혈세를 투입하지말고 미국 GM 본사에서의 자금지원이 있도록 이끌어...</td>\n",
       "      <td>한국 GM의 국민 혈세를 투입하지말고 미국 GM 본사에서의 자금지원이 있도록 이끌어...</td>\n",
       "    </tr>\n",
       "    <tr>\n",
       "      <th>167713</th>\n",
       "      <td>207765</td>\n",
       "      <td>2018-04-20</td>\n",
       "      <td>2018-05-20</td>\n",
       "      <td>0</td>\n",
       "      <td>363</td>\n",
       "      <td>경제민주화</td>\n",
       "      <td>국민을 울린 씨그널엔터테인먼트 기업에 대해 아시나요?</td>\n",
       "      <td>대통령님 코스닥 상장사인 씨그널엔터테인먼트라는 연예 기획사가 있습니다\\n이기업은 그...</td>\n",
       "      <td>0</td>\n",
       "      <td>대통령님 코스닥 상장사인 씨그널엔터테인먼트라는 연예 기획사가 있습니다 이기업은 그동...</td>\n",
       "      <td>대통령님 코스닥 상장사인 씨그널엔터테인먼트라는 연예 기획사가 이기업은 그동안 수년간...</td>\n",
       "    </tr>\n",
       "    <tr>\n",
       "      <th>167721</th>\n",
       "      <td>207778</td>\n",
       "      <td>2018-04-21</td>\n",
       "      <td>2018-05-21</td>\n",
       "      <td>0</td>\n",
       "      <td>706</td>\n",
       "      <td>문화/예술/체육/언론</td>\n",
       "      <td>문화 예술계 성폭력 가해자에 대한 국가 지원을 철회해 주십시오.</td>\n",
       "      <td>존경하는 문재인 대통령님께.\\n안녕하세요. 저는 지난 2월 극단 목화 오태석 연출의...</td>\n",
       "      <td>0</td>\n",
       "      <td>존경하는 문재인 대통령님께  안녕하세요  저는 지난  월 극단 목화 오태석 연출의 ...</td>\n",
       "      <td>존경하는 문재인 대통령님께   지난  극단 목화 오태석 연출의 성추행 사실을 met...</td>\n",
       "    </tr>\n",
       "    <tr>\n",
       "      <th>167724</th>\n",
       "      <td>207805</td>\n",
       "      <td>2018-04-21</td>\n",
       "      <td>2018-05-21</td>\n",
       "      <td>0</td>\n",
       "      <td>128</td>\n",
       "      <td>보건복지</td>\n",
       "      <td>흡연카페 합법화 및 전국에 흡연부스 설치를 청원합니다.</td>\n",
       "      <td>저는 비흡연자이며, 4살 딸 아이의 엄마입니다.\\n아이의 아빤 흡연자입니다.\\n담배...</td>\n",
       "      <td>0</td>\n",
       "      <td>저는 비흡연자이며   살 딸 아이의 엄마입니다  아이의 아빤 흡연자입니다  담배 인...</td>\n",
       "      <td>비흡연자이며   살 딸 아이의 엄마입니다  아이의 아빤 흡연자입니다  담배 인상으로...</td>\n",
       "    </tr>\n",
       "  </tbody>\n",
       "</table>\n",
       "</div>"
      ],
      "text/plain": [
       "        article_id      start        end  answered  votes     category  \\\n",
       "167702      207749 2018-04-20 2018-05-20         0    343           기타   \n",
       "167704      207751 2018-04-20 2018-05-20         0    330           행정   \n",
       "167713      207765 2018-04-20 2018-05-20         0    363        경제민주화   \n",
       "167721      207778 2018-04-21 2018-05-21         0    706  문화/예술/체육/언론   \n",
       "167724      207805 2018-04-21 2018-05-21         0    128         보건복지   \n",
       "\n",
       "                                      title  \\\n",
       "167702                         조선일보 tv조선 폐간   \n",
       "167704        한국지엠 국민 혈세 투입금지 . 법정관리 검토해주세요   \n",
       "167713        국민을 울린 씨그널엔터테인먼트 기업에 대해 아시나요?   \n",
       "167721  문화 예술계 성폭력 가해자에 대한 국가 지원을 철회해 주십시오.   \n",
       "167724       흡연카페 합법화 및 전국에 흡연부스 설치를 청원합니다.   \n",
       "\n",
       "                                                  content  votes_pos_neg  \\\n",
       "167702  조선일보는  친일언론으로 출발해 국가가 바로가는 일에 늘 언론의 역할을  져버린 채...              0   \n",
       "167704  한국 GM의 국민 혈세를 투입하지말고\\n미국 GM 본사에서의 자금지원이 있도록 이끌...              0   \n",
       "167713  대통령님 코스닥 상장사인 씨그널엔터테인먼트라는 연예 기획사가 있습니다\\n이기업은 그...              0   \n",
       "167721  존경하는 문재인 대통령님께.\\n안녕하세요. 저는 지난 2월 극단 목화 오태석 연출의...              0   \n",
       "167724  저는 비흡연자이며, 4살 딸 아이의 엄마입니다.\\n아이의 아빤 흡연자입니다.\\n담배...              0   \n",
       "\n",
       "                                    content_preprocessing  \\\n",
       "167702  조선일보는  친일언론으로 출발해 국가가 바로가는 일에 늘 언론의 역할을  져버린 채...   \n",
       "167704  한국 GM의 국민 혈세를 투입하지말고 미국 GM 본사에서의 자금지원이 있도록 이끌어...   \n",
       "167713  대통령님 코스닥 상장사인 씨그널엔터테인먼트라는 연예 기획사가 있습니다 이기업은 그동...   \n",
       "167721  존경하는 문재인 대통령님께  안녕하세요  저는 지난  월 극단 목화 오태석 연출의 ...   \n",
       "167724  저는 비흡연자이며   살 딸 아이의 엄마입니다  아이의 아빤 흡연자입니다  담배 인...   \n",
       "\n",
       "                                   content_preprocessing2  \n",
       "167702  조선일보는  친일언론으로 출발해 국가가 바로가는 일에 늘 언론의 역할을  져버린 채...  \n",
       "167704  한국 GM의 국민 혈세를 투입하지말고 미국 GM 본사에서의 자금지원이 있도록 이끌어...  \n",
       "167713  대통령님 코스닥 상장사인 씨그널엔터테인먼트라는 연예 기획사가 이기업은 그동안 수년간...  \n",
       "167721  존경하는 문재인 대통령님께   지난  극단 목화 오태석 연출의 성추행 사실을 met...  \n",
       "167724  비흡연자이며   살 딸 아이의 엄마입니다  아이의 아빤 흡연자입니다  담배 인상으로...  "
      ]
     },
     "execution_count": 30,
     "metadata": {},
     "output_type": "execute_result"
    }
   ],
   "source": [
    "df_test.head()"
   ]
  },
  {
   "cell_type": "code",
   "execution_count": 31,
   "metadata": {},
   "outputs": [
    {
     "data": {
      "text/plain": [
       "(464, 11)"
      ]
     },
     "execution_count": 31,
     "metadata": {},
     "output_type": "execute_result"
    }
   ],
   "source": [
    "# 테스트 세트에서 투표수가 평균보다 많은 건\n",
    "df_test.loc[df_test['votes_pos_neg'] == 1].shape"
   ]
  },
  {
   "cell_type": "markdown",
   "metadata": {},
   "source": [
    "# 단어 벡터화 하기"
   ]
  },
  {
   "cell_type": "code",
   "execution_count": 32,
   "metadata": {},
   "outputs": [
    {
     "data": {
      "text/plain": [
       "CountVectorizer(analyzer='word', binary=False, decode_error='strict',\n",
       "        dtype=<class 'numpy.int64'>, encoding='utf-8', input='content',\n",
       "        lowercase=True, max_df=1.0, max_features=2000, min_df=2,\n",
       "        ngram_range=(1, 3), preprocessor=None, stop_words=None,\n",
       "        strip_accents=None, token_pattern='(?u)\\\\b\\\\w\\\\w+\\\\b',\n",
       "        tokenizer=None, vocabulary=None)"
      ]
     },
     "execution_count": 32,
     "metadata": {},
     "output_type": "execute_result"
    }
   ],
   "source": [
    "from sklearn.feature_extraction.text import CountVectorizer\n",
    "\n",
    "vectorizer = CountVectorizer(analyzer = 'word', # 캐릭터 단위로 벡터화 할 수도 있습니다.\n",
    "                             tokenizer = None, # 토크나이저를 따로 지정해 줄 수도 있습니다.\n",
    "                             preprocessor = None, # 전처리 도구\n",
    "                             stop_words = None, # 불용어 nltk등의 도구를 사용할 수도 있습니다.\n",
    "                             min_df = 2, # 토큰이 나타날 최소 문서 개수로 오타나 자주 나오지 않는 특수한 전문용어 제거에 좋다. \n",
    "                             ngram_range=(1, 3), # BOW의 단위를 1~3개로 지정합니다.\n",
    "                             max_features = 2000 # 만들 피처의 수, 단어의 수가 된다.\n",
    "                            )\n",
    "vectorizer"
   ]
  },
  {
   "cell_type": "code",
   "execution_count": 33,
   "metadata": {},
   "outputs": [
    {
     "name": "stdout",
     "output_type": "stream",
     "text": [
      "CPU times: user 12.2 s, sys: 537 ms, total: 12.8 s\n",
      "Wall time: 12.9 s\n"
     ]
    }
   ],
   "source": [
    "%%time \n",
    "train_feature_vector = vectorizer.fit_transform(df_train['content_preprocessing2'])\n",
    "train_feature_vector.shape"
   ]
  },
  {
   "cell_type": "code",
   "execution_count": 34,
   "metadata": {},
   "outputs": [
    {
     "name": "stdout",
     "output_type": "stream",
     "text": [
      "CPU times: user 6.04 s, sys: 284 ms, total: 6.32 s\n",
      "Wall time: 6.5 s\n"
     ]
    }
   ],
   "source": [
    "%%time \n",
    "test_feature_vector = vectorizer.fit_transform(df_test['content_preprocessing2'])\n",
    "test_feature_vector.shape"
   ]
  },
  {
   "cell_type": "code",
   "execution_count": 35,
   "metadata": {},
   "outputs": [
    {
     "name": "stdout",
     "output_type": "stream",
     "text": [
      "2000\n"
     ]
    },
    {
     "data": {
      "text/plain": [
       "['aid',\n",
       " 'cctv',\n",
       " 'cctv를',\n",
       " 'co',\n",
       " 'co kr',\n",
       " 'co kr news',\n",
       " 'com',\n",
       " 'com main',\n",
       " 'com watch',\n",
       " 'daum']"
      ]
     },
     "execution_count": 35,
     "metadata": {},
     "output_type": "execute_result"
    }
   ],
   "source": [
    "vocab = vectorizer.get_feature_names()\n",
    "print(len(vocab))\n",
    "vocab[:10]"
   ]
  },
  {
   "cell_type": "code",
   "execution_count": 36,
   "metadata": {},
   "outputs": [
    {
     "data": {
      "text/html": [
       "<div>\n",
       "<style scoped>\n",
       "    .dataframe tbody tr th:only-of-type {\n",
       "        vertical-align: middle;\n",
       "    }\n",
       "\n",
       "    .dataframe tbody tr th {\n",
       "        vertical-align: top;\n",
       "    }\n",
       "\n",
       "    .dataframe thead th {\n",
       "        text-align: right;\n",
       "    }\n",
       "</style>\n",
       "<table border=\"1\" class=\"dataframe\">\n",
       "  <thead>\n",
       "    <tr style=\"text-align: right;\">\n",
       "      <th></th>\n",
       "      <th>aid</th>\n",
       "      <th>cctv</th>\n",
       "      <th>cctv를</th>\n",
       "      <th>co</th>\n",
       "      <th>co kr</th>\n",
       "      <th>co kr news</th>\n",
       "      <th>com</th>\n",
       "      <th>com main</th>\n",
       "      <th>com watch</th>\n",
       "      <th>daum</th>\n",
       "      <th>...</th>\n",
       "      <th>훨씬</th>\n",
       "      <th>휴게시간</th>\n",
       "      <th>휴게시간을</th>\n",
       "      <th>희망을</th>\n",
       "      <th>힘든</th>\n",
       "      <th>힘들게</th>\n",
       "      <th>힘들어</th>\n",
       "      <th>힘없는</th>\n",
       "      <th>힘을</th>\n",
       "      <th>힘이</th>\n",
       "    </tr>\n",
       "  </thead>\n",
       "  <tbody>\n",
       "    <tr>\n",
       "      <th>0</th>\n",
       "      <td>82</td>\n",
       "      <td>155</td>\n",
       "      <td>77</td>\n",
       "      <td>216</td>\n",
       "      <td>203</td>\n",
       "      <td>83</td>\n",
       "      <td>377</td>\n",
       "      <td>69</td>\n",
       "      <td>66</td>\n",
       "      <td>82</td>\n",
       "      <td>...</td>\n",
       "      <td>159</td>\n",
       "      <td>155</td>\n",
       "      <td>220</td>\n",
       "      <td>151</td>\n",
       "      <td>69</td>\n",
       "      <td>66</td>\n",
       "      <td>83</td>\n",
       "      <td>110</td>\n",
       "      <td>166</td>\n",
       "      <td>110</td>\n",
       "    </tr>\n",
       "  </tbody>\n",
       "</table>\n",
       "<p>1 rows × 2000 columns</p>\n",
       "</div>"
      ],
      "text/plain": [
       "   aid  cctv  cctv를   co  co kr  co kr news  com  com main  com watch  daum  \\\n",
       "0   82   155     77  216    203          83  377        69         66    82   \n",
       "\n",
       "  ...    훨씬  휴게시간  휴게시간을  희망을  힘든  힘들게  힘들어  힘없는   힘을   힘이  \n",
       "0 ...   159   155    220  151  69   66   83  110  166  110  \n",
       "\n",
       "[1 rows x 2000 columns]"
      ]
     },
     "execution_count": 36,
     "metadata": {},
     "output_type": "execute_result"
    }
   ],
   "source": [
    "dist = np.sum(train_feature_vector, axis=0)\n",
    "\n",
    "pd.DataFrame(dist, columns=vocab)"
   ]
  },
  {
   "cell_type": "code",
   "execution_count": 37,
   "metadata": {},
   "outputs": [
    {
     "data": {
      "text/plain": [
       "TfidfTransformer(norm='l2', smooth_idf=False, sublinear_tf=False,\n",
       "         use_idf=True)"
      ]
     },
     "execution_count": 37,
     "metadata": {},
     "output_type": "execute_result"
    }
   ],
   "source": [
    "from sklearn.feature_extraction.text import TfidfTransformer\n",
    "transformer = TfidfTransformer(smooth_idf=False)\n",
    "transformer"
   ]
  },
  {
   "cell_type": "code",
   "execution_count": 38,
   "metadata": {},
   "outputs": [
    {
     "name": "stdout",
     "output_type": "stream",
     "text": [
      "CPU times: user 15.2 ms, sys: 6.86 ms, total: 22.1 ms\n",
      "Wall time: 26.3 ms\n"
     ]
    }
   ],
   "source": [
    "%%time \n",
    "train_feature_tfidf = transformer.fit_transform(train_feature_vector)\n",
    "train_feature_tfidf.shape"
   ]
  },
  {
   "cell_type": "code",
   "execution_count": 39,
   "metadata": {},
   "outputs": [
    {
     "name": "stdout",
     "output_type": "stream",
     "text": [
      "CPU times: user 8.09 ms, sys: 3.38 ms, total: 11.5 ms\n",
      "Wall time: 9.37 ms\n"
     ]
    }
   ],
   "source": [
    "%%time \n",
    "test_feature_tfidf = transformer.fit_transform(test_feature_vector)\n",
    "test_feature_tfidf.shape"
   ]
  },
  {
   "cell_type": "code",
   "execution_count": 40,
   "metadata": {},
   "outputs": [
    {
     "data": {
      "text/plain": [
       "(2691, 2000)"
      ]
     },
     "execution_count": 40,
     "metadata": {},
     "output_type": "execute_result"
    }
   ],
   "source": [
    "test_feature_tfidf.shape"
   ]
  },
  {
   "cell_type": "markdown",
   "metadata": {},
   "source": [
    "# 랜덤 포레스트로 학습시키기\n",
    "* 공식문서 : http://scikit-learn.org/stable/modules/generated/sklearn.ensemble.RandomForestClassifier.html"
   ]
  },
  {
   "cell_type": "code",
   "execution_count": 41,
   "metadata": {},
   "outputs": [
    {
     "data": {
      "text/plain": [
       "RandomForestClassifier(bootstrap=True, class_weight=None, criterion='gini',\n",
       "            max_depth=None, max_features='auto', max_leaf_nodes=None,\n",
       "            min_impurity_decrease=0.0, min_impurity_split=None,\n",
       "            min_samples_leaf=1, min_samples_split=2,\n",
       "            min_weight_fraction_leaf=0.0, n_estimators=100, n_jobs=-1,\n",
       "            oob_score=False, random_state=2018, verbose=0,\n",
       "            warm_start=False)"
      ]
     },
     "execution_count": 41,
     "metadata": {},
     "output_type": "execute_result"
    }
   ],
   "source": [
    "from sklearn.ensemble import RandomForestClassifier\n",
    "\n",
    "# 랜덤포레스트 분류기를 사용\n",
    "forest = RandomForestClassifier(\n",
    "    n_estimators = 100, n_jobs = -1, random_state=2018)\n",
    "forest"
   ]
  },
  {
   "cell_type": "code",
   "execution_count": 42,
   "metadata": {},
   "outputs": [
    {
     "name": "stdout",
     "output_type": "stream",
     "text": [
      "CPU times: user 9.29 s, sys: 81.8 ms, total: 9.37 s\n",
      "Wall time: 3.32 s\n"
     ]
    }
   ],
   "source": [
    "# 학습에 사용할 y_label 을 넣어준다.\n",
    "y_label = df_train['votes_pos_neg']\n",
    "%time forest = forest.fit(train_feature_tfidf, y_label)"
   ]
  },
  {
   "cell_type": "markdown",
   "metadata": {},
   "source": [
    "# 평가하기"
   ]
  },
  {
   "cell_type": "code",
   "execution_count": 43,
   "metadata": {},
   "outputs": [
    {
     "data": {
      "text/plain": [
       "array([0.78980892, 0.78645418, 0.77450199, 0.77131474, 0.7561753 ])"
      ]
     },
     "execution_count": 43,
     "metadata": {},
     "output_type": "execute_result"
    }
   ],
   "source": [
    "from sklearn.model_selection import KFold\n",
    "from sklearn.model_selection import cross_val_score\n",
    "k_fold = KFold(n_splits=5, shuffle=True, random_state=0)\n",
    "\n",
    "scoring = 'accuracy'\n",
    "score = cross_val_score(forest, train_feature_tfidf, y_label, cv=k_fold, n_jobs=-1, scoring=scoring)\n",
    "score"
   ]
  },
  {
   "cell_type": "code",
   "execution_count": 44,
   "metadata": {},
   "outputs": [
    {
     "data": {
      "text/plain": [
       "77.57"
      ]
     },
     "execution_count": 44,
     "metadata": {},
     "output_type": "execute_result"
    }
   ],
   "source": [
    "round(np.mean(score)*100,2)"
   ]
  },
  {
   "cell_type": "markdown",
   "metadata": {},
   "source": [
    "# 예측"
   ]
  },
  {
   "cell_type": "code",
   "execution_count": 45,
   "metadata": {},
   "outputs": [
    {
     "data": {
      "text/plain": [
       "array([0, 0, 0, 0, 0, 0, 0, 0, 0, 0])"
      ]
     },
     "execution_count": 45,
     "metadata": {},
     "output_type": "execute_result"
    }
   ],
   "source": [
    "# 테스트 데이터를 넣고 예측한다.\n",
    "y_pred = forest.predict(test_feature_tfidf)\n",
    "y_pred[:10]"
   ]
  },
  {
   "cell_type": "code",
   "execution_count": 46,
   "metadata": {},
   "outputs": [
    {
     "data": {
      "text/plain": [
       "(2691,)"
      ]
     },
     "execution_count": 46,
     "metadata": {},
     "output_type": "execute_result"
    }
   ],
   "source": [
    "y_pred.shape"
   ]
  },
  {
   "cell_type": "code",
   "execution_count": 47,
   "metadata": {},
   "outputs": [
    {
     "data": {
      "text/html": [
       "<div>\n",
       "<style scoped>\n",
       "    .dataframe tbody tr th:only-of-type {\n",
       "        vertical-align: middle;\n",
       "    }\n",
       "\n",
       "    .dataframe tbody tr th {\n",
       "        vertical-align: top;\n",
       "    }\n",
       "\n",
       "    .dataframe thead th {\n",
       "        text-align: right;\n",
       "    }\n",
       "</style>\n",
       "<table border=\"1\" class=\"dataframe\">\n",
       "  <thead>\n",
       "    <tr style=\"text-align: right;\">\n",
       "      <th></th>\n",
       "      <th>votes_pos_neg_pred</th>\n",
       "    </tr>\n",
       "  </thead>\n",
       "  <tbody>\n",
       "    <tr>\n",
       "      <th>0</th>\n",
       "      <td>0</td>\n",
       "    </tr>\n",
       "    <tr>\n",
       "      <th>1</th>\n",
       "      <td>0</td>\n",
       "    </tr>\n",
       "    <tr>\n",
       "      <th>2</th>\n",
       "      <td>0</td>\n",
       "    </tr>\n",
       "    <tr>\n",
       "      <th>3</th>\n",
       "      <td>0</td>\n",
       "    </tr>\n",
       "    <tr>\n",
       "      <th>4</th>\n",
       "      <td>0</td>\n",
       "    </tr>\n",
       "  </tbody>\n",
       "</table>\n",
       "</div>"
      ],
      "text/plain": [
       "   votes_pos_neg_pred\n",
       "0                   0\n",
       "1                   0\n",
       "2                   0\n",
       "3                   0\n",
       "4                   0"
      ]
     },
     "execution_count": 47,
     "metadata": {},
     "output_type": "execute_result"
    }
   ],
   "source": [
    "# 예측 결과를 저장하기 위해 데이터프레임에 담아 준다.\n",
    "output = pd.DataFrame(data={'votes_pos_neg_pred':y_pred})\n",
    "output.head()"
   ]
  },
  {
   "cell_type": "code",
   "execution_count": 48,
   "metadata": {},
   "outputs": [
    {
     "data": {
      "text/plain": [
       "0    2677\n",
       "1      14\n",
       "Name: votes_pos_neg_pred, dtype: int64"
      ]
     },
     "execution_count": 48,
     "metadata": {},
     "output_type": "execute_result"
    }
   ],
   "source": [
    "# 0과 1이 어떻게 집계 되었는지 확인한다.\n",
    "# 실제 데이터에는 답변 대상 건이 있는데 없는 것으로 예측되었다.\n",
    "output['votes_pos_neg_pred'].value_counts()"
   ]
  },
  {
   "cell_type": "code",
   "execution_count": 49,
   "metadata": {},
   "outputs": [],
   "source": [
    "df_test['votes_pos_neg_pred'] = y_pred"
   ]
  },
  {
   "cell_type": "code",
   "execution_count": 50,
   "metadata": {},
   "outputs": [
    {
     "data": {
      "text/html": [
       "<div>\n",
       "<style scoped>\n",
       "    .dataframe tbody tr th:only-of-type {\n",
       "        vertical-align: middle;\n",
       "    }\n",
       "\n",
       "    .dataframe tbody tr th {\n",
       "        vertical-align: top;\n",
       "    }\n",
       "\n",
       "    .dataframe thead th {\n",
       "        text-align: right;\n",
       "    }\n",
       "</style>\n",
       "<table border=\"1\" class=\"dataframe\">\n",
       "  <thead>\n",
       "    <tr style=\"text-align: right;\">\n",
       "      <th></th>\n",
       "      <th>article_id</th>\n",
       "      <th>start</th>\n",
       "      <th>end</th>\n",
       "      <th>answered</th>\n",
       "      <th>votes</th>\n",
       "      <th>category</th>\n",
       "      <th>title</th>\n",
       "      <th>content</th>\n",
       "      <th>votes_pos_neg</th>\n",
       "      <th>content_preprocessing</th>\n",
       "      <th>content_preprocessing2</th>\n",
       "      <th>votes_pos_neg_pred</th>\n",
       "      <th>pred_diff</th>\n",
       "    </tr>\n",
       "  </thead>\n",
       "  <tbody>\n",
       "    <tr>\n",
       "      <th>167702</th>\n",
       "      <td>207749</td>\n",
       "      <td>2018-04-20</td>\n",
       "      <td>2018-05-20</td>\n",
       "      <td>0</td>\n",
       "      <td>343</td>\n",
       "      <td>기타</td>\n",
       "      <td>조선일보 tv조선 폐간</td>\n",
       "      <td>조선일보는  친일언론으로 출발해 국가가 바로가는 일에 늘 언론의 역할을  져버린 채...</td>\n",
       "      <td>0</td>\n",
       "      <td>조선일보는  친일언론으로 출발해 국가가 바로가는 일에 늘 언론의 역할을  져버린 채...</td>\n",
       "      <td>조선일보는  친일언론으로 출발해 국가가 바로가는 일에 늘 언론의 역할을  져버린 채...</td>\n",
       "      <td>0</td>\n",
       "      <td>0</td>\n",
       "    </tr>\n",
       "    <tr>\n",
       "      <th>167704</th>\n",
       "      <td>207751</td>\n",
       "      <td>2018-04-20</td>\n",
       "      <td>2018-05-20</td>\n",
       "      <td>0</td>\n",
       "      <td>330</td>\n",
       "      <td>행정</td>\n",
       "      <td>한국지엠 국민 혈세 투입금지 . 법정관리 검토해주세요</td>\n",
       "      <td>한국 GM의 국민 혈세를 투입하지말고\\n미국 GM 본사에서의 자금지원이 있도록 이끌...</td>\n",
       "      <td>0</td>\n",
       "      <td>한국 GM의 국민 혈세를 투입하지말고 미국 GM 본사에서의 자금지원이 있도록 이끌어...</td>\n",
       "      <td>한국 GM의 국민 혈세를 투입하지말고 미국 GM 본사에서의 자금지원이 있도록 이끌어...</td>\n",
       "      <td>0</td>\n",
       "      <td>0</td>\n",
       "    </tr>\n",
       "    <tr>\n",
       "      <th>167713</th>\n",
       "      <td>207765</td>\n",
       "      <td>2018-04-20</td>\n",
       "      <td>2018-05-20</td>\n",
       "      <td>0</td>\n",
       "      <td>363</td>\n",
       "      <td>경제민주화</td>\n",
       "      <td>국민을 울린 씨그널엔터테인먼트 기업에 대해 아시나요?</td>\n",
       "      <td>대통령님 코스닥 상장사인 씨그널엔터테인먼트라는 연예 기획사가 있습니다\\n이기업은 그...</td>\n",
       "      <td>0</td>\n",
       "      <td>대통령님 코스닥 상장사인 씨그널엔터테인먼트라는 연예 기획사가 있습니다 이기업은 그동...</td>\n",
       "      <td>대통령님 코스닥 상장사인 씨그널엔터테인먼트라는 연예 기획사가 이기업은 그동안 수년간...</td>\n",
       "      <td>0</td>\n",
       "      <td>0</td>\n",
       "    </tr>\n",
       "    <tr>\n",
       "      <th>167721</th>\n",
       "      <td>207778</td>\n",
       "      <td>2018-04-21</td>\n",
       "      <td>2018-05-21</td>\n",
       "      <td>0</td>\n",
       "      <td>706</td>\n",
       "      <td>문화/예술/체육/언론</td>\n",
       "      <td>문화 예술계 성폭력 가해자에 대한 국가 지원을 철회해 주십시오.</td>\n",
       "      <td>존경하는 문재인 대통령님께.\\n안녕하세요. 저는 지난 2월 극단 목화 오태석 연출의...</td>\n",
       "      <td>0</td>\n",
       "      <td>존경하는 문재인 대통령님께  안녕하세요  저는 지난  월 극단 목화 오태석 연출의 ...</td>\n",
       "      <td>존경하는 문재인 대통령님께   지난  극단 목화 오태석 연출의 성추행 사실을 met...</td>\n",
       "      <td>0</td>\n",
       "      <td>0</td>\n",
       "    </tr>\n",
       "    <tr>\n",
       "      <th>167724</th>\n",
       "      <td>207805</td>\n",
       "      <td>2018-04-21</td>\n",
       "      <td>2018-05-21</td>\n",
       "      <td>0</td>\n",
       "      <td>128</td>\n",
       "      <td>보건복지</td>\n",
       "      <td>흡연카페 합법화 및 전국에 흡연부스 설치를 청원합니다.</td>\n",
       "      <td>저는 비흡연자이며, 4살 딸 아이의 엄마입니다.\\n아이의 아빤 흡연자입니다.\\n담배...</td>\n",
       "      <td>0</td>\n",
       "      <td>저는 비흡연자이며   살 딸 아이의 엄마입니다  아이의 아빤 흡연자입니다  담배 인...</td>\n",
       "      <td>비흡연자이며   살 딸 아이의 엄마입니다  아이의 아빤 흡연자입니다  담배 인상으로...</td>\n",
       "      <td>0</td>\n",
       "      <td>0</td>\n",
       "    </tr>\n",
       "  </tbody>\n",
       "</table>\n",
       "</div>"
      ],
      "text/plain": [
       "        article_id      start        end  answered  votes     category  \\\n",
       "167702      207749 2018-04-20 2018-05-20         0    343           기타   \n",
       "167704      207751 2018-04-20 2018-05-20         0    330           행정   \n",
       "167713      207765 2018-04-20 2018-05-20         0    363        경제민주화   \n",
       "167721      207778 2018-04-21 2018-05-21         0    706  문화/예술/체육/언론   \n",
       "167724      207805 2018-04-21 2018-05-21         0    128         보건복지   \n",
       "\n",
       "                                      title  \\\n",
       "167702                         조선일보 tv조선 폐간   \n",
       "167704        한국지엠 국민 혈세 투입금지 . 법정관리 검토해주세요   \n",
       "167713        국민을 울린 씨그널엔터테인먼트 기업에 대해 아시나요?   \n",
       "167721  문화 예술계 성폭력 가해자에 대한 국가 지원을 철회해 주십시오.   \n",
       "167724       흡연카페 합법화 및 전국에 흡연부스 설치를 청원합니다.   \n",
       "\n",
       "                                                  content  votes_pos_neg  \\\n",
       "167702  조선일보는  친일언론으로 출발해 국가가 바로가는 일에 늘 언론의 역할을  져버린 채...              0   \n",
       "167704  한국 GM의 국민 혈세를 투입하지말고\\n미국 GM 본사에서의 자금지원이 있도록 이끌...              0   \n",
       "167713  대통령님 코스닥 상장사인 씨그널엔터테인먼트라는 연예 기획사가 있습니다\\n이기업은 그...              0   \n",
       "167721  존경하는 문재인 대통령님께.\\n안녕하세요. 저는 지난 2월 극단 목화 오태석 연출의...              0   \n",
       "167724  저는 비흡연자이며, 4살 딸 아이의 엄마입니다.\\n아이의 아빤 흡연자입니다.\\n담배...              0   \n",
       "\n",
       "                                    content_preprocessing  \\\n",
       "167702  조선일보는  친일언론으로 출발해 국가가 바로가는 일에 늘 언론의 역할을  져버린 채...   \n",
       "167704  한국 GM의 국민 혈세를 투입하지말고 미국 GM 본사에서의 자금지원이 있도록 이끌어...   \n",
       "167713  대통령님 코스닥 상장사인 씨그널엔터테인먼트라는 연예 기획사가 있습니다 이기업은 그동...   \n",
       "167721  존경하는 문재인 대통령님께  안녕하세요  저는 지난  월 극단 목화 오태석 연출의 ...   \n",
       "167724  저는 비흡연자이며   살 딸 아이의 엄마입니다  아이의 아빤 흡연자입니다  담배 인...   \n",
       "\n",
       "                                   content_preprocessing2  votes_pos_neg_pred  \\\n",
       "167702  조선일보는  친일언론으로 출발해 국가가 바로가는 일에 늘 언론의 역할을  져버린 채...                   0   \n",
       "167704  한국 GM의 국민 혈세를 투입하지말고 미국 GM 본사에서의 자금지원이 있도록 이끌어...                   0   \n",
       "167713  대통령님 코스닥 상장사인 씨그널엔터테인먼트라는 연예 기획사가 이기업은 그동안 수년간...                   0   \n",
       "167721  존경하는 문재인 대통령님께   지난  극단 목화 오태석 연출의 성추행 사실을 met...                   0   \n",
       "167724  비흡연자이며   살 딸 아이의 엄마입니다  아이의 아빤 흡연자입니다  담배 인상으로...                   0   \n",
       "\n",
       "        pred_diff  \n",
       "167702          0  \n",
       "167704          0  \n",
       "167713          0  \n",
       "167721          0  \n",
       "167724          0  "
      ]
     },
     "execution_count": 50,
     "metadata": {},
     "output_type": "execute_result"
    }
   ],
   "source": [
    "df_test['pred_diff'] = df_test['votes_pos_neg'] - df_test['votes_pos_neg_pred']\n",
    "df_test.head()"
   ]
  },
  {
   "cell_type": "code",
   "execution_count": 51,
   "metadata": {},
   "outputs": [
    {
     "data": {
      "text/plain": [
       " 0    2213\n",
       " 1     464\n",
       "-1      14\n",
       "Name: pred_diff, dtype: int64"
      ]
     },
     "execution_count": 51,
     "metadata": {},
     "output_type": "execute_result"
    }
   ],
   "source": [
    "pred_diff = df_test['pred_diff'].value_counts()\n",
    "pred_diff"
   ]
  },
  {
   "cell_type": "code",
   "execution_count": 52,
   "metadata": {},
   "outputs": [
    {
     "name": "stdout",
     "output_type": "stream",
     "text": [
      "전체 2691건의 데이터 중 2213건 예측\n"
     ]
    }
   ],
   "source": [
    "print('전체 {}건의 데이터 중 {}건 예측'.format(y_pred.shape[0], pred_diff[0]))"
   ]
  },
  {
   "cell_type": "code",
   "execution_count": 53,
   "metadata": {},
   "outputs": [
    {
     "name": "stdout",
     "output_type": "stream",
     "text": [
      "예측 비율 82.23708658491266\n"
     ]
    }
   ],
   "source": [
    "acc = ( pred_diff[0] / y_pred.shape[0] ) *100 \n",
    "print('예측 비율 {}'.format(acc))"
   ]
  },
  {
   "cell_type": "code",
   "execution_count": null,
   "metadata": {},
   "outputs": [],
   "source": []
  }
 ],
 "metadata": {
  "kernelspec": {
   "display_name": "Python 3",
   "language": "python",
   "name": "python3"
  },
  "language_info": {
   "codemirror_mode": {
    "name": "ipython",
    "version": 3
   },
   "file_extension": ".py",
   "mimetype": "text/x-python",
   "name": "python",
   "nbconvert_exporter": "python",
   "pygments_lexer": "ipython3",
   "version": "3.6.1"
  }
 },
 "nbformat": 4,
 "nbformat_minor": 2
}
