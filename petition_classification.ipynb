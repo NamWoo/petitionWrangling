{
 "cells": [
  {
   "cell_type": "markdown",
   "metadata": {},
   "source": [
    "# 국민청원 데이터로 청원 카테고리 분류하기\n",
    "* 청와대 국민청원 : https://www1.president.go.kr/petitions\n",
    "\n",
    "> 학습세트의 카테고리를 바탕으로 테스트 세트의 청원 카테고리를 분류해 봅니다."
   ]
  },
  {
   "cell_type": "markdown",
   "metadata": {},
   "source": [
    "1. 학습세트와 테스트세트를 7:3으로 임의로 나누기\n",
    "1. 데이터 전처리\n",
    "1. 단어 벡터화(BOW, TF-IDF)\n",
    "1. 분류기 설정하기(Random Forest)\n",
    "1. 분류기로 학습시키기\n",
    "1. 학습의 정확도 보기\n",
    "1. 테스트 데이터 예측하기\n",
    "1. 실제 데이터와 예측결과의 차이를 보기"
   ]
  },
  {
   "cell_type": "code",
   "execution_count": 1,
   "metadata": {},
   "outputs": [
    {
     "name": "stdout",
     "output_type": "stream",
     "text": [
      "0.21.0\n",
      "1.14.0\n"
     ]
    }
   ],
   "source": [
    "import pandas as pd\n",
    "import numpy as np\n",
    "import re\n",
    "print(pd.__version__)\n",
    "print(np.__version__)"
   ]
  },
  {
   "cell_type": "markdown",
   "metadata": {},
   "source": [
    "# 데이터 로드하기"
   ]
  },
  {
   "cell_type": "code",
   "execution_count": 2,
   "metadata": {},
   "outputs": [
    {
     "data": {
      "text/plain": [
       "(192387, 8)"
      ]
     },
     "execution_count": 2,
     "metadata": {},
     "output_type": "execute_result"
    }
   ],
   "source": [
    "# 크롤링해 온 국민청원 데이터를 판다스를 통해 읽어옵니다.\n",
    "petitions = pd.read_csv('data/petition.csv', parse_dates=['start', 'end'])\n",
    "# 데이터의 크기가 어느정도인지 봅니다.\n",
    "petitions.shape"
   ]
  },
  {
   "cell_type": "code",
   "execution_count": 3,
   "metadata": {},
   "outputs": [
    {
     "data": {
      "text/html": [
       "<div>\n",
       "<style scoped>\n",
       "    .dataframe tbody tr th:only-of-type {\n",
       "        vertical-align: middle;\n",
       "    }\n",
       "\n",
       "    .dataframe tbody tr th {\n",
       "        vertical-align: top;\n",
       "    }\n",
       "\n",
       "    .dataframe thead th {\n",
       "        text-align: right;\n",
       "    }\n",
       "</style>\n",
       "<table border=\"1\" class=\"dataframe\">\n",
       "  <thead>\n",
       "    <tr style=\"text-align: right;\">\n",
       "      <th></th>\n",
       "      <th>article_id</th>\n",
       "      <th>answered</th>\n",
       "      <th>votes</th>\n",
       "    </tr>\n",
       "  </thead>\n",
       "  <tbody>\n",
       "    <tr>\n",
       "      <th>count</th>\n",
       "      <td>192387.000000</td>\n",
       "      <td>192387.000000</td>\n",
       "      <td>192387.000000</td>\n",
       "    </tr>\n",
       "    <tr>\n",
       "      <th>mean</th>\n",
       "      <td>113937.905035</td>\n",
       "      <td>0.000135</td>\n",
       "      <td>145.026748</td>\n",
       "    </tr>\n",
       "    <tr>\n",
       "      <th>std</th>\n",
       "      <td>70999.561497</td>\n",
       "      <td>0.011624</td>\n",
       "      <td>4382.942031</td>\n",
       "    </tr>\n",
       "    <tr>\n",
       "      <th>min</th>\n",
       "      <td>21.000000</td>\n",
       "      <td>0.000000</td>\n",
       "      <td>0.000000</td>\n",
       "    </tr>\n",
       "    <tr>\n",
       "      <th>25%</th>\n",
       "      <td>49908.500000</td>\n",
       "      <td>0.000000</td>\n",
       "      <td>1.000000</td>\n",
       "    </tr>\n",
       "    <tr>\n",
       "      <th>50%</th>\n",
       "      <td>111144.000000</td>\n",
       "      <td>0.000000</td>\n",
       "      <td>3.000000</td>\n",
       "    </tr>\n",
       "    <tr>\n",
       "      <th>75%</th>\n",
       "      <td>173456.500000</td>\n",
       "      <td>0.000000</td>\n",
       "      <td>10.000000</td>\n",
       "    </tr>\n",
       "    <tr>\n",
       "      <th>max</th>\n",
       "      <td>242902.000000</td>\n",
       "      <td>1.000000</td>\n",
       "      <td>615354.000000</td>\n",
       "    </tr>\n",
       "  </tbody>\n",
       "</table>\n",
       "</div>"
      ],
      "text/plain": [
       "          article_id       answered          votes\n",
       "count  192387.000000  192387.000000  192387.000000\n",
       "mean   113937.905035       0.000135     145.026748\n",
       "std     70999.561497       0.011624    4382.942031\n",
       "min        21.000000       0.000000       0.000000\n",
       "25%     49908.500000       0.000000       1.000000\n",
       "50%    111144.000000       0.000000       3.000000\n",
       "75%    173456.500000       0.000000      10.000000\n",
       "max    242902.000000       1.000000  615354.000000"
      ]
     },
     "execution_count": 3,
     "metadata": {},
     "output_type": "execute_result"
    }
   ],
   "source": [
    "petitions.describe()"
   ]
  },
  {
   "cell_type": "code",
   "execution_count": 4,
   "metadata": {},
   "outputs": [
    {
     "data": {
      "text/plain": [
       "(1687, 8)"
      ]
     },
     "execution_count": 4,
     "metadata": {},
     "output_type": "execute_result"
    }
   ],
   "source": [
    "# 전체 데이터 중 투표가 1000건 이상인 데이터를 기준으로 가져옵니다.\n",
    "df = petitions.loc[(petitions['votes'] > 1000)].copy()\n",
    "df.shape"
   ]
  },
  {
   "cell_type": "code",
   "execution_count": 5,
   "metadata": {},
   "outputs": [
    {
     "data": {
      "text/html": [
       "<div>\n",
       "<style scoped>\n",
       "    .dataframe tbody tr th:only-of-type {\n",
       "        vertical-align: middle;\n",
       "    }\n",
       "\n",
       "    .dataframe tbody tr th {\n",
       "        vertical-align: top;\n",
       "    }\n",
       "\n",
       "    .dataframe thead th {\n",
       "        text-align: right;\n",
       "    }\n",
       "</style>\n",
       "<table border=\"1\" class=\"dataframe\">\n",
       "  <thead>\n",
       "    <tr style=\"text-align: right;\">\n",
       "      <th></th>\n",
       "      <th>article_id</th>\n",
       "      <th>answered</th>\n",
       "      <th>votes</th>\n",
       "    </tr>\n",
       "  </thead>\n",
       "  <tbody>\n",
       "    <tr>\n",
       "      <th>count</th>\n",
       "      <td>1687.000000</td>\n",
       "      <td>1687.000000</td>\n",
       "      <td>1687.000000</td>\n",
       "    </tr>\n",
       "    <tr>\n",
       "      <th>mean</th>\n",
       "      <td>129882.737404</td>\n",
       "      <td>0.015412</td>\n",
       "      <td>14519.085359</td>\n",
       "    </tr>\n",
       "    <tr>\n",
       "      <th>std</th>\n",
       "      <td>71267.473739</td>\n",
       "      <td>0.123221</td>\n",
       "      <td>44530.991294</td>\n",
       "    </tr>\n",
       "    <tr>\n",
       "      <th>min</th>\n",
       "      <td>28.000000</td>\n",
       "      <td>0.000000</td>\n",
       "      <td>1002.000000</td>\n",
       "    </tr>\n",
       "    <tr>\n",
       "      <th>25%</th>\n",
       "      <td>65556.500000</td>\n",
       "      <td>0.000000</td>\n",
       "      <td>1585.500000</td>\n",
       "    </tr>\n",
       "    <tr>\n",
       "      <th>50%</th>\n",
       "      <td>139835.000000</td>\n",
       "      <td>0.000000</td>\n",
       "      <td>2862.000000</td>\n",
       "    </tr>\n",
       "    <tr>\n",
       "      <th>75%</th>\n",
       "      <td>188582.500000</td>\n",
       "      <td>0.000000</td>\n",
       "      <td>7637.500000</td>\n",
       "    </tr>\n",
       "    <tr>\n",
       "      <th>max</th>\n",
       "      <td>242889.000000</td>\n",
       "      <td>1.000000</td>\n",
       "      <td>615354.000000</td>\n",
       "    </tr>\n",
       "  </tbody>\n",
       "</table>\n",
       "</div>"
      ],
      "text/plain": [
       "          article_id     answered          votes\n",
       "count    1687.000000  1687.000000    1687.000000\n",
       "mean   129882.737404     0.015412   14519.085359\n",
       "std     71267.473739     0.123221   44530.991294\n",
       "min        28.000000     0.000000    1002.000000\n",
       "25%     65556.500000     0.000000    1585.500000\n",
       "50%    139835.000000     0.000000    2862.000000\n",
       "75%    188582.500000     0.000000    7637.500000\n",
       "max    242889.000000     1.000000  615354.000000"
      ]
     },
     "execution_count": 5,
     "metadata": {},
     "output_type": "execute_result"
    }
   ],
   "source": [
    "df.describe()"
   ]
  },
  {
   "cell_type": "code",
   "execution_count": 6,
   "metadata": {},
   "outputs": [
    {
     "data": {
      "text/plain": [
       "인권/성평등         217\n",
       "보건복지           181\n",
       "육아/교육          173\n",
       "안전/환경          157\n",
       "정치개혁           156\n",
       "문화/예술/체육/언론    132\n",
       "기타             130\n",
       "교통/건축/국토       123\n",
       "행정              78\n",
       "일자리             77\n",
       "외교/통일/국방        69\n",
       "반려동물            63\n",
       "경제민주화           62\n",
       "미래              27\n",
       "성장동력            18\n",
       "저출산/고령화대책       13\n",
       "농산어촌            11\n",
       "Name: category, dtype: int64"
      ]
     },
     "execution_count": 6,
     "metadata": {},
     "output_type": "execute_result"
    }
   ],
   "source": [
    "category_count = df['category'].value_counts()\n",
    "category_count"
   ]
  },
  {
   "cell_type": "code",
   "execution_count": 7,
   "metadata": {},
   "outputs": [
    {
     "data": {
      "text/plain": [
       "<matplotlib.axes._subplots.AxesSubplot at 0x11550aa58>"
      ]
     },
     "execution_count": 7,
     "metadata": {},
     "output_type": "execute_result"
    },
    {
     "data": {
      "image/png": "[encoded data removed]",
      "text/plain": [
       "<matplotlib.figure.Figure at 0x1154ff198>"
      ]
     },
     "metadata": {},
     "output_type": "display_data"
    }
   ],
   "source": [
    "%matplotlib inline \n",
    "import matplotlib.pyplot as plt\n",
    "\n",
    "# 나눔 바른고딕이 설치되어 있어야 합니다.\n",
    "# 해당 폰트가 없다면 설치된 폰트명으로 지정해 주어야 합니다.\n",
    "plt.rcParams[\"font.family\"] = 'NanumBarunGothic'\n",
    "category_count.plot(kind='bar')"
   ]
  },
  {
   "cell_type": "code",
   "execution_count": 8,
   "metadata": {},
   "outputs": [],
   "source": [
    "# 예측값과 실제값 비교를 위해 컬럼을 하나 더 생성합니다.\n",
    "df['category_pred'] = df['category'].copy()"
   ]
  },
  {
   "cell_type": "code",
   "execution_count": 9,
   "metadata": {},
   "outputs": [
    {
     "data": {
      "text/html": [
       "<div>\n",
       "<style scoped>\n",
       "    .dataframe tbody tr th:only-of-type {\n",
       "        vertical-align: middle;\n",
       "    }\n",
       "\n",
       "    .dataframe tbody tr th {\n",
       "        vertical-align: top;\n",
       "    }\n",
       "\n",
       "    .dataframe thead th {\n",
       "        text-align: right;\n",
       "    }\n",
       "</style>\n",
       "<table border=\"1\" class=\"dataframe\">\n",
       "  <thead>\n",
       "    <tr style=\"text-align: right;\">\n",
       "      <th></th>\n",
       "      <th>article_id</th>\n",
       "      <th>start</th>\n",
       "      <th>end</th>\n",
       "      <th>answered</th>\n",
       "      <th>votes</th>\n",
       "      <th>category</th>\n",
       "      <th>title</th>\n",
       "      <th>content</th>\n",
       "      <th>category_pred</th>\n",
       "    </tr>\n",
       "  </thead>\n",
       "  <tbody>\n",
       "    <tr>\n",
       "      <th>7</th>\n",
       "      <td>28</td>\n",
       "      <td>2017-08-19</td>\n",
       "      <td>2017-08-26</td>\n",
       "      <td>0</td>\n",
       "      <td>2137</td>\n",
       "      <td>경제민주화</td>\n",
       "      <td>소액주주를 보호해주십시오</td>\n",
       "      <td>**  존경하옵는 문재인대통령님께\\n저는 중국원양자원이라는 KOSPI상장사의 소액 ...</td>\n",
       "      <td>경제민주화</td>\n",
       "    </tr>\n",
       "    <tr>\n",
       "      <th>21</th>\n",
       "      <td>43</td>\n",
       "      <td>2017-08-19</td>\n",
       "      <td>2017-09-18</td>\n",
       "      <td>0</td>\n",
       "      <td>11293</td>\n",
       "      <td>육아/교육</td>\n",
       "      <td>기간제 교사의 정규직화를 반대합니다.</td>\n",
       "      <td>대통령님, 안녕하세요. 저는 임용을 준비하고 수험생입니다. 처음 기간제 정규직화 된...</td>\n",
       "      <td>육아/교육</td>\n",
       "    </tr>\n",
       "    <tr>\n",
       "      <th>24</th>\n",
       "      <td>46</td>\n",
       "      <td>2017-08-19</td>\n",
       "      <td>2017-09-18</td>\n",
       "      <td>0</td>\n",
       "      <td>1933</td>\n",
       "      <td>육아/교육</td>\n",
       "      <td>기간제교사의 정규직화를 반대합니다.</td>\n",
       "      <td>대통령님, 안녕하세요. 저는 임용을 준비하고 수험생입니다. 처음 기간제 정규직화 된...</td>\n",
       "      <td>육아/교육</td>\n",
       "    </tr>\n",
       "    <tr>\n",
       "      <th>28</th>\n",
       "      <td>50</td>\n",
       "      <td>2017-08-19</td>\n",
       "      <td>2017-10-18</td>\n",
       "      <td>0</td>\n",
       "      <td>1251</td>\n",
       "      <td>일자리</td>\n",
       "      <td>치과위생사 국가고시 날짜 변경 억울합니다</td>\n",
       "      <td>안녕하십니까? 대통령님 간단하게 제소개 부터 하겠습니다. 저는 치위생과 3학년 학생...</td>\n",
       "      <td>일자리</td>\n",
       "    </tr>\n",
       "    <tr>\n",
       "      <th>38</th>\n",
       "      <td>61</td>\n",
       "      <td>2017-08-19</td>\n",
       "      <td>2017-08-26</td>\n",
       "      <td>0</td>\n",
       "      <td>1185</td>\n",
       "      <td>일자리</td>\n",
       "      <td>영어회화전문강사제도는 유지되어야합니다.</td>\n",
       "      <td>1. 영전강의고용안정을 원합니다\\n2.1년단위계약직으로 임신 출산육아 매우 곤란합니...</td>\n",
       "      <td>일자리</td>\n",
       "    </tr>\n",
       "  </tbody>\n",
       "</table>\n",
       "</div>"
      ],
      "text/plain": [
       "    article_id      start        end  answered  votes category  \\\n",
       "7           28 2017-08-19 2017-08-26         0   2137    경제민주화   \n",
       "21          43 2017-08-19 2017-09-18         0  11293    육아/교육   \n",
       "24          46 2017-08-19 2017-09-18         0   1933    육아/교육   \n",
       "28          50 2017-08-19 2017-10-18         0   1251      일자리   \n",
       "38          61 2017-08-19 2017-08-26         0   1185      일자리   \n",
       "\n",
       "                     title                                            content  \\\n",
       "7            소액주주를 보호해주십시오  **  존경하옵는 문재인대통령님께\\n저는 중국원양자원이라는 KOSPI상장사의 소액 ...   \n",
       "21    기간제 교사의 정규직화를 반대합니다.  대통령님, 안녕하세요. 저는 임용을 준비하고 수험생입니다. 처음 기간제 정규직화 된...   \n",
       "24     기간제교사의 정규직화를 반대합니다.  대통령님, 안녕하세요. 저는 임용을 준비하고 수험생입니다. 처음 기간제 정규직화 된...   \n",
       "28  치과위생사 국가고시 날짜 변경 억울합니다  안녕하십니까? 대통령님 간단하게 제소개 부터 하겠습니다. 저는 치위생과 3학년 학생...   \n",
       "38   영어회화전문강사제도는 유지되어야합니다.  1. 영전강의고용안정을 원합니다\\n2.1년단위계약직으로 임신 출산육아 매우 곤란합니...   \n",
       "\n",
       "   category_pred  \n",
       "7          경제민주화  \n",
       "21         육아/교육  \n",
       "24         육아/교육  \n",
       "28           일자리  \n",
       "38           일자리  "
      ]
     },
     "execution_count": 9,
     "metadata": {},
     "output_type": "execute_result"
    }
   ],
   "source": [
    "df.head()"
   ]
  },
  {
   "cell_type": "code",
   "execution_count": 10,
   "metadata": {},
   "outputs": [
    {
     "data": {
      "text/plain": [
       "28"
      ]
     },
     "execution_count": 10,
     "metadata": {},
     "output_type": "execute_result"
    }
   ],
   "source": [
    "# 첫 번째 인덱스를 가져와 봅니다.\n",
    "sample_index = df.iloc[0][0]\n",
    "sample_index"
   ]
  },
  {
   "cell_type": "code",
   "execution_count": 11,
   "metadata": {},
   "outputs": [
    {
     "data": {
      "text/plain": [
       "'치과위생사 국가고시 날짜 변경 억울합니다'"
      ]
     },
     "execution_count": 11,
     "metadata": {},
     "output_type": "execute_result"
    }
   ],
   "source": [
    "sample_title = df['title'][sample_index]\n",
    "sample_title"
   ]
  },
  {
   "cell_type": "code",
   "execution_count": 12,
   "metadata": {},
   "outputs": [
    {
     "data": {
      "text/plain": [
       "'안녕하십니까? 대통령님 간단하게 제소개 부터 하겠습니다. 저는 치위생과 3학년 학생입니다. 다름이 아니라 너무 억울한\\\\n일이 생겨  이렇게 글을 적어봅니다. 저희 3학년들은 올해 아주 중요한 시험이  있었습니다.3년동안 힘들게 고생하여 이제곧\\\\n끝난다.조금만 힘을내자 라는 생각으로 견뎌내고 있었는데 갑자기 어제 과 단톡방의  이내용이 사실이냐면서 한장의 사진을\\\\n보내주었습니다. 그사진은 국시원에서 올린 공지글을 캡쳐한 사진이였습니다.국시원에서 국가고시 날짜가 변경 되었다.\\\\n그러니 이글을  널리퍼트려줘라라는 의미를 가진 내용이였습니다. 그내용을 읽고 너무 황당하고 어이가 없어서 국시원쪽으로 전화를 해보니 자신들은 어쩔수없었다 나라에서 그날 공무원 시험을 봐야한다 하루의 2번 국시를 볼수없다\\\\n그래서 자신들과 보건복지부에서  다시 날짜를 정했는데 그날이 내년 18년 1월 5일이다 라는것입니다.\\\\n그 말을  듣고 더욱 이해할수가 없었습니다. 먼저 그날 시험을 보기로한 국시생은 저희였는데 갑자기 아무런 말도 문자도\\\\n없고 그공지글도 그냥 통보였습니다. 국가에서보는 시험이 일반 초중고 수행평가도 아니고 갑자기 이런식으로  바뀐다는게\\\\n말이 됩니까? 고등학생들이 보는 모의고사,수능도 이런식으로  변경 하지않습니다.  통보로 날짜를 변경하는건  저희\\\\n에비 의료기사들을 무시하는걸로 보입니다. 저희학교 교수님들은 학생들에게 자부심을 가져라 치과위생사라는 직업을 아끼고 사랑하고 자부심을 가져도 되는 직업이니깐  당당 해져도 괜찮다고  말씀하셨습니다. 하지만 저는  그러지 못할꺼같습니다.  아마 저뿐만이아니라 마음 학생들도 자존심도 낮아지고 무시받는다고 생각했을것입니다.\\\\n17년 12월16일날의 시험을 봐야하는  국시생들은 저희 예비 치과위생사들 입니다. 공무원 시험이 갑자기 잡혀서  봐야한다면 다른날로 정하는게 맞지않을까요? 먼저 그날의 시험을 보기로 한 학생들은 저희입니다\\\\n왜 갑자기 저희가 양보해야하고  피해를봐야합니까?  저희국시 앞으로 4달남은상태였고 지금 많은 학생들이 지쳐지만\\\\n12월만 참으면 된다 라는 생각으로  견딘 학생들에게는 1월에 본다는 통보는 너무 가혹합니다.\\\\n제발  원래대로12월 16일날 국시를 볼수 있도록  도와주세요  제발 다시 정정 해주세요.\\\\n부탁드립니다.\\\\n꼭  끝까지  읽어보셨으면 좋겠습니다.'"
      ]
     },
     "execution_count": 12,
     "metadata": {},
     "output_type": "execute_result"
    }
   ],
   "source": [
    "sample_content = petitions['content'][sample_index]\n",
    "sample_content"
   ]
  },
  {
   "cell_type": "markdown",
   "metadata": {},
   "source": [
    "# 전처리 하기 \n",
    "* 특수문자 제거\n",
    "* 개행문자 제거\n",
    "* 불용어 처리"
   ]
  },
  {
   "cell_type": "code",
   "execution_count": 13,
   "metadata": {},
   "outputs": [],
   "source": [
    "def preprocessing(text):\n",
    "    # 개행문자 제거\n",
    "    text= str(text)\n",
    "    text = re.sub('\\\\\\\\n', ' ', text)\n",
    "    # 특수문자 제거\n",
    "    # 특수문자나 이모티콘 등은 때로는 의미를 갖기도 하지만 여기에서는 제거했습니다.\n",
    "    # text = re.sub('[?.,;:|\\)*~`’!^\\-_+<>@\\#$%&-=#}※]', '', text)\n",
    "    # 한글, 영문, 숫자만 남기고 모두 제거하도록 합니다.\n",
    "    # text = re.sub('[^가-힣ㄱ-ㅎㅏ-ㅣa-zA-Z0-9]', ' ', text)\n",
    "    # 한글, 영문만 남기고 모두 제거하도록 합니다.\n",
    "    text = re.sub('[^가-힣ㄱ-ㅎㅏ-ㅣa-zA-Z]', ' ', text)\n",
    "    return text"
   ]
  },
  {
   "cell_type": "code",
   "execution_count": 14,
   "metadata": {},
   "outputs": [],
   "source": [
    "# 불용어 제거\n",
    "def remove_stopwords(text):\n",
    "    tokens = text.split(' ')\n",
    "    stops = ['수', '현', '있는', '있습니다', '그', '년도', '합니다', '하는', '및', '제', '할', '하고', '더', '대한', '한', '그리고', '월', '저는', '없는', '입니다', '등', '일', '많은', '이런', '것은', '왜','같은', '같습니다', '없습니다', '위해', '한다']\n",
    "    meaningful_words = [w for w in tokens if not w in stops]\n",
    "    return ' '.join(meaningful_words)"
   ]
  },
  {
   "cell_type": "markdown",
   "metadata": {},
   "source": [
    "## 샘플데이터에 먼저 적용해 보기"
   ]
  },
  {
   "cell_type": "code",
   "execution_count": 15,
   "metadata": {},
   "outputs": [],
   "source": [
    "# 샘플데이터에 적용\n",
    "pre_sample_content = preprocessing(sample_content)"
   ]
  },
  {
   "cell_type": "code",
   "execution_count": 16,
   "metadata": {},
   "outputs": [],
   "source": [
    "pre_sample_content = remove_stopwords(pre_sample_content)"
   ]
  },
  {
   "cell_type": "code",
   "execution_count": 17,
   "metadata": {},
   "outputs": [
    {
     "data": {
      "text/plain": [
       "'안녕하십니까  대통령님 간단하게 제소개 부터 하겠습니다  치위생과  학년 학생입니다  다름이 아니라 너무 억울한 일이 생겨  이렇게 글을 적어봅니다  저희  학년들은 올해 아주 중요한 시험이  있었습니다  년동안 힘들게 고생하여 이제곧 끝난다 조금만 힘을내자 라는 생각으로 견뎌내고 있었는데 갑자기 어제 과 단톡방의  이내용이 사실이냐면서 한장의 사진을 보내주었습니다  그사진은 국시원에서 올린 공지글을 캡쳐한 사진이였습니다 국시원에서 국가고시 날짜가 변경 되었다  그러니 이글을  널리퍼트려줘라라는 의미를 가진 내용이였습니다  그내용을 읽고 너무 황당하고 어이가 없어서 국시원쪽으로 전화를 해보니 자신들은 어쩔수없었다 나라에서 그날 공무원 시험을 봐야한다 하루의  번 국시를 볼수없다 그래서 자신들과 보건복지부에서  다시 날짜를 정했는데 그날이 내년   년   일이다 라는것입니다  말을  듣고 더욱 이해할수가 없었습니다  먼저 그날 시험을 보기로한 국시생은 저희였는데 갑자기 아무런 말도 문자도 없고 그공지글도 그냥 통보였습니다  국가에서보는 시험이 일반 초중고 수행평가도 아니고 갑자기 이런식으로  바뀐다는게 말이 됩니까  고등학생들이 보는 모의고사 수능도 이런식으로  변경 하지않습니다   통보로 날짜를 변경하는건  저희 에비 의료기사들을 무시하는걸로 보입니다  저희학교 교수님들은 학생들에게 자부심을 가져라 치과위생사라는 직업을 아끼고 사랑하고 자부심을 가져도 되는 직업이니깐  당당 해져도 괜찮다고  말씀하셨습니다  하지만  그러지 못할꺼같습니다   아마 저뿐만이아니라 마음 학생들도 자존심도 낮아지고 무시받는다고 생각했을것입니다    년    일날의 시험을 봐야하는  국시생들은 저희 예비 치과위생사들  공무원 시험이 갑자기 잡혀서  봐야한다면 다른날로 정하는게 맞지않을까요  먼저 그날의 시험을 보기로 학생들은 저희입니다 갑자기 저희가 양보해야하고  피해를봐야합니까   저희국시 앞으로  달남은상태였고 지금 학생들이 지쳐지만   월만 참으면 된다 라는 생각으로  견딘 학생들에게는  월에 본다는 통보는 너무 가혹합니다  제발  원래대로    일날 국시를 볼수 있도록  도와주세요  제발 다시 정정 해주세요  부탁드립니다  꼭  끝까지  읽어보셨으면 좋겠습니다 '"
      ]
     },
     "execution_count": 17,
     "metadata": {},
     "output_type": "execute_result"
    }
   ],
   "source": [
    "pre_sample_content"
   ]
  },
  {
   "cell_type": "markdown",
   "metadata": {},
   "source": [
    "## 전체 데이터에 적용하기"
   ]
  },
  {
   "cell_type": "code",
   "execution_count": 18,
   "metadata": {},
   "outputs": [
    {
     "name": "stdout",
     "output_type": "stream",
     "text": [
      "CPU times: user 186 ms, sys: 4.83 ms, total: 191 ms\n",
      "Wall time: 192 ms\n"
     ]
    }
   ],
   "source": [
    "%time df['content_preprocessing'] = df['content'].apply(preprocessing)"
   ]
  },
  {
   "cell_type": "code",
   "execution_count": 19,
   "metadata": {},
   "outputs": [
    {
     "name": "stdout",
     "output_type": "stream",
     "text": [
      "CPU times: user 328 ms, sys: 4.24 ms, total: 332 ms\n",
      "Wall time: 331 ms\n"
     ]
    }
   ],
   "source": [
    "%time df['content_preprocessing2'] = df['content_preprocessing'].apply(remove_stopwords)"
   ]
  },
  {
   "cell_type": "markdown",
   "metadata": {},
   "source": [
    "# 학습세트와 테스트세트 만들기\n",
    "* 학습세트와 테스트세트를 7:3의 비율로 나눠 줍니다."
   ]
  },
  {
   "cell_type": "code",
   "execution_count": 20,
   "metadata": {},
   "outputs": [],
   "source": [
    "df = df.reindex()"
   ]
  },
  {
   "cell_type": "code",
   "execution_count": 21,
   "metadata": {},
   "outputs": [
    {
     "data": {
      "text/plain": [
       "(1687, 11)"
      ]
     },
     "execution_count": 21,
     "metadata": {},
     "output_type": "execute_result"
    }
   ],
   "source": [
    "df.shape"
   ]
  },
  {
   "cell_type": "code",
   "execution_count": 22,
   "metadata": {},
   "outputs": [
    {
     "data": {
      "text/plain": [
       "1180"
      ]
     },
     "execution_count": 22,
     "metadata": {},
     "output_type": "execute_result"
    }
   ],
   "source": [
    "split_count = int(df.shape[0] * 0.7)\n",
    "split_count"
   ]
  },
  {
   "cell_type": "code",
   "execution_count": 23,
   "metadata": {},
   "outputs": [
    {
     "data": {
      "text/plain": [
       "(1180, 11)"
      ]
     },
     "execution_count": 23,
     "metadata": {},
     "output_type": "execute_result"
    }
   ],
   "source": [
    "df_train = df[:split_count].copy()\n",
    "df_train.shape"
   ]
  },
  {
   "cell_type": "code",
   "execution_count": 24,
   "metadata": {},
   "outputs": [
    {
     "data": {
      "text/html": [
       "<div>\n",
       "<style scoped>\n",
       "    .dataframe tbody tr th:only-of-type {\n",
       "        vertical-align: middle;\n",
       "    }\n",
       "\n",
       "    .dataframe tbody tr th {\n",
       "        vertical-align: top;\n",
       "    }\n",
       "\n",
       "    .dataframe thead th {\n",
       "        text-align: right;\n",
       "    }\n",
       "</style>\n",
       "<table border=\"1\" class=\"dataframe\">\n",
       "  <thead>\n",
       "    <tr style=\"text-align: right;\">\n",
       "      <th></th>\n",
       "      <th>article_id</th>\n",
       "      <th>start</th>\n",
       "      <th>end</th>\n",
       "      <th>answered</th>\n",
       "      <th>votes</th>\n",
       "      <th>category</th>\n",
       "      <th>title</th>\n",
       "      <th>content</th>\n",
       "      <th>category_pred</th>\n",
       "      <th>content_preprocessing</th>\n",
       "      <th>content_preprocessing2</th>\n",
       "    </tr>\n",
       "  </thead>\n",
       "  <tbody>\n",
       "    <tr>\n",
       "      <th>7</th>\n",
       "      <td>28</td>\n",
       "      <td>2017-08-19</td>\n",
       "      <td>2017-08-26</td>\n",
       "      <td>0</td>\n",
       "      <td>2137</td>\n",
       "      <td>경제민주화</td>\n",
       "      <td>소액주주를 보호해주십시오</td>\n",
       "      <td>**  존경하옵는 문재인대통령님께\\n저는 중국원양자원이라는 KOSPI상장사의 소액 ...</td>\n",
       "      <td>경제민주화</td>\n",
       "      <td>존경하옵는 문재인대통령님께 저는 중국원양자원이라는 KOSPI상장사의 소액 주...</td>\n",
       "      <td>존경하옵는 문재인대통령님께 중국원양자원이라는 KOSPI상장사의 소액 주주입니...</td>\n",
       "    </tr>\n",
       "    <tr>\n",
       "      <th>21</th>\n",
       "      <td>43</td>\n",
       "      <td>2017-08-19</td>\n",
       "      <td>2017-09-18</td>\n",
       "      <td>0</td>\n",
       "      <td>11293</td>\n",
       "      <td>육아/교육</td>\n",
       "      <td>기간제 교사의 정규직화를 반대합니다.</td>\n",
       "      <td>대통령님, 안녕하세요. 저는 임용을 준비하고 수험생입니다. 처음 기간제 정규직화 된...</td>\n",
       "      <td>육아/교육</td>\n",
       "      <td>대통령님  안녕하세요  저는 임용을 준비하고 수험생입니다  처음 기간제 정규직화 된...</td>\n",
       "      <td>대통령님  안녕하세요  임용을 준비하고 수험생입니다  처음 기간제 정규직화 된다고 ...</td>\n",
       "    </tr>\n",
       "    <tr>\n",
       "      <th>24</th>\n",
       "      <td>46</td>\n",
       "      <td>2017-08-19</td>\n",
       "      <td>2017-09-18</td>\n",
       "      <td>0</td>\n",
       "      <td>1933</td>\n",
       "      <td>육아/교육</td>\n",
       "      <td>기간제교사의 정규직화를 반대합니다.</td>\n",
       "      <td>대통령님, 안녕하세요. 저는 임용을 준비하고 수험생입니다. 처음 기간제 정규직화 된...</td>\n",
       "      <td>육아/교육</td>\n",
       "      <td>대통령님  안녕하세요  저는 임용을 준비하고 수험생입니다  처음 기간제 정규직화 된...</td>\n",
       "      <td>대통령님  안녕하세요  임용을 준비하고 수험생입니다  처음 기간제 정규직화 된다고 ...</td>\n",
       "    </tr>\n",
       "    <tr>\n",
       "      <th>28</th>\n",
       "      <td>50</td>\n",
       "      <td>2017-08-19</td>\n",
       "      <td>2017-10-18</td>\n",
       "      <td>0</td>\n",
       "      <td>1251</td>\n",
       "      <td>일자리</td>\n",
       "      <td>치과위생사 국가고시 날짜 변경 억울합니다</td>\n",
       "      <td>안녕하십니까? 대통령님 간단하게 제소개 부터 하겠습니다. 저는 치위생과 3학년 학생...</td>\n",
       "      <td>일자리</td>\n",
       "      <td>안녕하십니까  대통령님 간단하게 제소개 부터 하겠습니다  저는 치위생과  학년 학생...</td>\n",
       "      <td>안녕하십니까  대통령님 간단하게 제소개 부터 하겠습니다  치위생과  학년 학생입니다...</td>\n",
       "    </tr>\n",
       "    <tr>\n",
       "      <th>38</th>\n",
       "      <td>61</td>\n",
       "      <td>2017-08-19</td>\n",
       "      <td>2017-08-26</td>\n",
       "      <td>0</td>\n",
       "      <td>1185</td>\n",
       "      <td>일자리</td>\n",
       "      <td>영어회화전문강사제도는 유지되어야합니다.</td>\n",
       "      <td>1. 영전강의고용안정을 원합니다\\n2.1년단위계약직으로 임신 출산육아 매우 곤란합니...</td>\n",
       "      <td>일자리</td>\n",
       "      <td>영전강의고용안정을 원합니다    년단위계약직으로 임신 출산육아 매우 곤란합니다...</td>\n",
       "      <td>영전강의고용안정을 원합니다    년단위계약직으로 임신 출산육아 매우 곤란합니다...</td>\n",
       "    </tr>\n",
       "  </tbody>\n",
       "</table>\n",
       "</div>"
      ],
      "text/plain": [
       "    article_id      start        end  answered  votes category  \\\n",
       "7           28 2017-08-19 2017-08-26         0   2137    경제민주화   \n",
       "21          43 2017-08-19 2017-09-18         0  11293    육아/교육   \n",
       "24          46 2017-08-19 2017-09-18         0   1933    육아/교육   \n",
       "28          50 2017-08-19 2017-10-18         0   1251      일자리   \n",
       "38          61 2017-08-19 2017-08-26         0   1185      일자리   \n",
       "\n",
       "                     title                                            content  \\\n",
       "7            소액주주를 보호해주십시오  **  존경하옵는 문재인대통령님께\\n저는 중국원양자원이라는 KOSPI상장사의 소액 ...   \n",
       "21    기간제 교사의 정규직화를 반대합니다.  대통령님, 안녕하세요. 저는 임용을 준비하고 수험생입니다. 처음 기간제 정규직화 된...   \n",
       "24     기간제교사의 정규직화를 반대합니다.  대통령님, 안녕하세요. 저는 임용을 준비하고 수험생입니다. 처음 기간제 정규직화 된...   \n",
       "28  치과위생사 국가고시 날짜 변경 억울합니다  안녕하십니까? 대통령님 간단하게 제소개 부터 하겠습니다. 저는 치위생과 3학년 학생...   \n",
       "38   영어회화전문강사제도는 유지되어야합니다.  1. 영전강의고용안정을 원합니다\\n2.1년단위계약직으로 임신 출산육아 매우 곤란합니...   \n",
       "\n",
       "   category_pred                              content_preprocessing  \\\n",
       "7          경제민주화      존경하옵는 문재인대통령님께 저는 중국원양자원이라는 KOSPI상장사의 소액 주...   \n",
       "21         육아/교육  대통령님  안녕하세요  저는 임용을 준비하고 수험생입니다  처음 기간제 정규직화 된...   \n",
       "24         육아/교육  대통령님  안녕하세요  저는 임용을 준비하고 수험생입니다  처음 기간제 정규직화 된...   \n",
       "28           일자리  안녕하십니까  대통령님 간단하게 제소개 부터 하겠습니다  저는 치위생과  학년 학생...   \n",
       "38           일자리     영전강의고용안정을 원합니다    년단위계약직으로 임신 출산육아 매우 곤란합니다...   \n",
       "\n",
       "                               content_preprocessing2  \n",
       "7       존경하옵는 문재인대통령님께 중국원양자원이라는 KOSPI상장사의 소액 주주입니...  \n",
       "21  대통령님  안녕하세요  임용을 준비하고 수험생입니다  처음 기간제 정규직화 된다고 ...  \n",
       "24  대통령님  안녕하세요  임용을 준비하고 수험생입니다  처음 기간제 정규직화 된다고 ...  \n",
       "28  안녕하십니까  대통령님 간단하게 제소개 부터 하겠습니다  치위생과  학년 학생입니다...  \n",
       "38     영전강의고용안정을 원합니다    년단위계약직으로 임신 출산육아 매우 곤란합니다...  "
      ]
     },
     "execution_count": 24,
     "metadata": {},
     "output_type": "execute_result"
    }
   ],
   "source": [
    "df_train.head()"
   ]
  },
  {
   "cell_type": "code",
   "execution_count": 25,
   "metadata": {},
   "outputs": [
    {
     "data": {
      "text/plain": [
       "(507, 11)"
      ]
     },
     "execution_count": 25,
     "metadata": {},
     "output_type": "execute_result"
    }
   ],
   "source": [
    "df_test = df[split_count:].copy()\n",
    "df_test.shape"
   ]
  },
  {
   "cell_type": "code",
   "execution_count": 26,
   "metadata": {},
   "outputs": [
    {
     "data": {
      "text/html": [
       "<div>\n",
       "<style scoped>\n",
       "    .dataframe tbody tr th:only-of-type {\n",
       "        vertical-align: middle;\n",
       "    }\n",
       "\n",
       "    .dataframe tbody tr th {\n",
       "        vertical-align: top;\n",
       "    }\n",
       "\n",
       "    .dataframe thead th {\n",
       "        text-align: right;\n",
       "    }\n",
       "</style>\n",
       "<table border=\"1\" class=\"dataframe\">\n",
       "  <thead>\n",
       "    <tr style=\"text-align: right;\">\n",
       "      <th></th>\n",
       "      <th>article_id</th>\n",
       "      <th>start</th>\n",
       "      <th>end</th>\n",
       "      <th>answered</th>\n",
       "      <th>votes</th>\n",
       "      <th>category</th>\n",
       "      <th>title</th>\n",
       "      <th>content</th>\n",
       "      <th>category_pred</th>\n",
       "      <th>content_preprocessing</th>\n",
       "      <th>content_preprocessing2</th>\n",
       "    </tr>\n",
       "  </thead>\n",
       "  <tbody>\n",
       "    <tr>\n",
       "      <th>148370</th>\n",
       "      <td>178795</td>\n",
       "      <td>2018-03-28</td>\n",
       "      <td>2018-04-27</td>\n",
       "      <td>0</td>\n",
       "      <td>9096</td>\n",
       "      <td>미래</td>\n",
       "      <td>★★★하남 자족U2(8-3,4,5,6) 이마트 대형 물류센터건립 절대 반대 합니다★★★</td>\n",
       "      <td>관련 기사입니다\\nhttp://daily.hankooki.com/lpage/econ...</td>\n",
       "      <td>미래</td>\n",
       "      <td>관련 기사입니다 http   daily hankooki com lpage econo...</td>\n",
       "      <td>관련 기사입니다 http   daily hankooki com lpage econo...</td>\n",
       "    </tr>\n",
       "    <tr>\n",
       "      <th>148387</th>\n",
       "      <td>178819</td>\n",
       "      <td>2018-03-28</td>\n",
       "      <td>2018-04-27</td>\n",
       "      <td>0</td>\n",
       "      <td>3270</td>\n",
       "      <td>기타</td>\n",
       "      <td>실적압박으로 인한 자살 기억하시는지요...현재도 진행형입니다..</td>\n",
       "      <td>안녕하십니까.\\nkt 통신사 고객센터에 근무하는 와이프를 둔 가장입니다\\n알고계실지...</td>\n",
       "      <td>기타</td>\n",
       "      <td>안녕하십니까  kt 통신사 고객센터에 근무하는 와이프를 둔 가장입니다 알고계실지 모...</td>\n",
       "      <td>안녕하십니까  kt 통신사 고객센터에 근무하는 와이프를 둔 가장입니다 알고계실지 모...</td>\n",
       "    </tr>\n",
       "    <tr>\n",
       "      <th>148492</th>\n",
       "      <td>178954</td>\n",
       "      <td>2018-03-28</td>\n",
       "      <td>2018-04-27</td>\n",
       "      <td>0</td>\n",
       "      <td>2030</td>\n",
       "      <td>안전/환경</td>\n",
       "      <td>김부겸 행정안전부 장관님께 정확한  사실관계 확인 부탁드립니다.</td>\n",
       "      <td>道 기획조정실, 일방적 사업 축소 반발 일자 신규채용 관련 감사도\\n소방관들 “업무...</td>\n",
       "      <td>안전/환경</td>\n",
       "      <td>기획조정실  일방적 사업 축소 반발 일자 신규채용 관련 감사도 소방관들  업무영...</td>\n",
       "      <td>기획조정실  일방적 사업 축소 반발 일자 신규채용 관련 감사도 소방관들  업무영...</td>\n",
       "    </tr>\n",
       "    <tr>\n",
       "      <th>148635</th>\n",
       "      <td>179146</td>\n",
       "      <td>2018-03-29</td>\n",
       "      <td>2018-04-28</td>\n",
       "      <td>0</td>\n",
       "      <td>16216</td>\n",
       "      <td>보건복지</td>\n",
       "      <td>저희 엄마 사망의 진실을 알려주십시오</td>\n",
       "      <td>저는 며칠 전 병원에서 엄마를 잃었습니다.\\n그런데 병원측의 너무나 어처구니 없는 ...</td>\n",
       "      <td>보건복지</td>\n",
       "      <td>저는 며칠 전 병원에서 엄마를 잃었습니다  그런데 병원측의 너무나 어처구니 없는 대...</td>\n",
       "      <td>며칠 전 병원에서 엄마를 잃었습니다  그런데 병원측의 너무나 어처구니 대처로 억울하...</td>\n",
       "    </tr>\n",
       "    <tr>\n",
       "      <th>148648</th>\n",
       "      <td>179162</td>\n",
       "      <td>2018-03-29</td>\n",
       "      <td>2018-04-28</td>\n",
       "      <td>0</td>\n",
       "      <td>6698</td>\n",
       "      <td>육아/교육</td>\n",
       "      <td>총신대 사태의 희생양이된 학생들을 전과자로 만들어서는 결코 안됩니다.</td>\n",
       "      <td>간섭하려는 총회와 간섭 받지 않으려는 재단 사이의 갈등을 책임자들이 대화로 풀 수 ...</td>\n",
       "      <td>육아/교육</td>\n",
       "      <td>간섭하려는 총회와 간섭 받지 않으려는 재단 사이의 갈등을 책임자들이 대화로 풀 수 ...</td>\n",
       "      <td>간섭하려는 총회와 간섭 받지 않으려는 재단 사이의 갈등을 책임자들이 대화로 풀 없어...</td>\n",
       "    </tr>\n",
       "  </tbody>\n",
       "</table>\n",
       "</div>"
      ],
      "text/plain": [
       "        article_id      start        end  answered  votes category  \\\n",
       "148370      178795 2018-03-28 2018-04-27         0   9096       미래   \n",
       "148387      178819 2018-03-28 2018-04-27         0   3270       기타   \n",
       "148492      178954 2018-03-28 2018-04-27         0   2030    안전/환경   \n",
       "148635      179146 2018-03-29 2018-04-28         0  16216     보건복지   \n",
       "148648      179162 2018-03-29 2018-04-28         0   6698    육아/교육   \n",
       "\n",
       "                                                   title  \\\n",
       "148370  ★★★하남 자족U2(8-3,4,5,6) 이마트 대형 물류센터건립 절대 반대 합니다★★★   \n",
       "148387               실적압박으로 인한 자살 기억하시는지요...현재도 진행형입니다..   \n",
       "148492               김부겸 행정안전부 장관님께 정확한  사실관계 확인 부탁드립니다.   \n",
       "148635                              저희 엄마 사망의 진실을 알려주십시오   \n",
       "148648            총신대 사태의 희생양이된 학생들을 전과자로 만들어서는 결코 안됩니다.   \n",
       "\n",
       "                                                  content category_pred  \\\n",
       "148370  관련 기사입니다\\nhttp://daily.hankooki.com/lpage/econ...            미래   \n",
       "148387  안녕하십니까.\\nkt 통신사 고객센터에 근무하는 와이프를 둔 가장입니다\\n알고계실지...            기타   \n",
       "148492  道 기획조정실, 일방적 사업 축소 반발 일자 신규채용 관련 감사도\\n소방관들 “업무...         안전/환경   \n",
       "148635  저는 며칠 전 병원에서 엄마를 잃었습니다.\\n그런데 병원측의 너무나 어처구니 없는 ...          보건복지   \n",
       "148648  간섭하려는 총회와 간섭 받지 않으려는 재단 사이의 갈등을 책임자들이 대화로 풀 수 ...         육아/교육   \n",
       "\n",
       "                                    content_preprocessing  \\\n",
       "148370  관련 기사입니다 http   daily hankooki com lpage econo...   \n",
       "148387  안녕하십니까  kt 통신사 고객센터에 근무하는 와이프를 둔 가장입니다 알고계실지 모...   \n",
       "148492    기획조정실  일방적 사업 축소 반발 일자 신규채용 관련 감사도 소방관들  업무영...   \n",
       "148635  저는 며칠 전 병원에서 엄마를 잃었습니다  그런데 병원측의 너무나 어처구니 없는 대...   \n",
       "148648  간섭하려는 총회와 간섭 받지 않으려는 재단 사이의 갈등을 책임자들이 대화로 풀 수 ...   \n",
       "\n",
       "                                   content_preprocessing2  \n",
       "148370  관련 기사입니다 http   daily hankooki com lpage econo...  \n",
       "148387  안녕하십니까  kt 통신사 고객센터에 근무하는 와이프를 둔 가장입니다 알고계실지 모...  \n",
       "148492    기획조정실  일방적 사업 축소 반발 일자 신규채용 관련 감사도 소방관들  업무영...  \n",
       "148635  며칠 전 병원에서 엄마를 잃었습니다  그런데 병원측의 너무나 어처구니 대처로 억울하...  \n",
       "148648  간섭하려는 총회와 간섭 받지 않으려는 재단 사이의 갈등을 책임자들이 대화로 풀 없어...  "
      ]
     },
     "execution_count": 26,
     "metadata": {},
     "output_type": "execute_result"
    }
   ],
   "source": [
    "df_test.head()"
   ]
  },
  {
   "cell_type": "markdown",
   "metadata": {},
   "source": [
    "# 카테고리\n",
    "## 학습 세트의 카테고리 보기"
   ]
  },
  {
   "cell_type": "code",
   "execution_count": 27,
   "metadata": {},
   "outputs": [
    {
     "data": {
      "text/html": [
       "<div>\n",
       "<style scoped>\n",
       "    .dataframe tbody tr th:only-of-type {\n",
       "        vertical-align: middle;\n",
       "    }\n",
       "\n",
       "    .dataframe tbody tr th {\n",
       "        vertical-align: top;\n",
       "    }\n",
       "\n",
       "    .dataframe thead th {\n",
       "        text-align: right;\n",
       "    }\n",
       "</style>\n",
       "<table border=\"1\" class=\"dataframe\">\n",
       "  <thead>\n",
       "    <tr style=\"text-align: right;\">\n",
       "      <th></th>\n",
       "      <th>청원수</th>\n",
       "      <th>청원비율</th>\n",
       "    </tr>\n",
       "  </thead>\n",
       "  <tbody>\n",
       "    <tr>\n",
       "      <th>인권/성평등</th>\n",
       "      <td>137</td>\n",
       "      <td>0.116102</td>\n",
       "    </tr>\n",
       "    <tr>\n",
       "      <th>보건복지</th>\n",
       "      <td>136</td>\n",
       "      <td>0.115254</td>\n",
       "    </tr>\n",
       "    <tr>\n",
       "      <th>육아/교육</th>\n",
       "      <td>127</td>\n",
       "      <td>0.107627</td>\n",
       "    </tr>\n",
       "    <tr>\n",
       "      <th>안전/환경</th>\n",
       "      <td>110</td>\n",
       "      <td>0.093220</td>\n",
       "    </tr>\n",
       "    <tr>\n",
       "      <th>정치개혁</th>\n",
       "      <td>101</td>\n",
       "      <td>0.085593</td>\n",
       "    </tr>\n",
       "    <tr>\n",
       "      <th>문화/예술/체육/언론</th>\n",
       "      <td>99</td>\n",
       "      <td>0.083898</td>\n",
       "    </tr>\n",
       "    <tr>\n",
       "      <th>교통/건축/국토</th>\n",
       "      <td>88</td>\n",
       "      <td>0.074576</td>\n",
       "    </tr>\n",
       "    <tr>\n",
       "      <th>기타</th>\n",
       "      <td>83</td>\n",
       "      <td>0.070339</td>\n",
       "    </tr>\n",
       "    <tr>\n",
       "      <th>일자리</th>\n",
       "      <td>59</td>\n",
       "      <td>0.050000</td>\n",
       "    </tr>\n",
       "    <tr>\n",
       "      <th>행정</th>\n",
       "      <td>55</td>\n",
       "      <td>0.046610</td>\n",
       "    </tr>\n",
       "    <tr>\n",
       "      <th>외교/통일/국방</th>\n",
       "      <td>51</td>\n",
       "      <td>0.043220</td>\n",
       "    </tr>\n",
       "    <tr>\n",
       "      <th>반려동물</th>\n",
       "      <td>44</td>\n",
       "      <td>0.037288</td>\n",
       "    </tr>\n",
       "    <tr>\n",
       "      <th>경제민주화</th>\n",
       "      <td>36</td>\n",
       "      <td>0.030508</td>\n",
       "    </tr>\n",
       "    <tr>\n",
       "      <th>미래</th>\n",
       "      <td>24</td>\n",
       "      <td>0.020339</td>\n",
       "    </tr>\n",
       "    <tr>\n",
       "      <th>성장동력</th>\n",
       "      <td>15</td>\n",
       "      <td>0.012712</td>\n",
       "    </tr>\n",
       "    <tr>\n",
       "      <th>저출산/고령화대책</th>\n",
       "      <td>9</td>\n",
       "      <td>0.007627</td>\n",
       "    </tr>\n",
       "    <tr>\n",
       "      <th>농산어촌</th>\n",
       "      <td>6</td>\n",
       "      <td>0.005085</td>\n",
       "    </tr>\n",
       "  </tbody>\n",
       "</table>\n",
       "</div>"
      ],
      "text/plain": [
       "             청원수      청원비율\n",
       "인권/성평등       137  0.116102\n",
       "보건복지         136  0.115254\n",
       "육아/교육        127  0.107627\n",
       "안전/환경        110  0.093220\n",
       "정치개혁         101  0.085593\n",
       "문화/예술/체육/언론   99  0.083898\n",
       "교통/건축/국토      88  0.074576\n",
       "기타            83  0.070339\n",
       "일자리           59  0.050000\n",
       "행정            55  0.046610\n",
       "외교/통일/국방      51  0.043220\n",
       "반려동물          44  0.037288\n",
       "경제민주화         36  0.030508\n",
       "미래            24  0.020339\n",
       "성장동력          15  0.012712\n",
       "저출산/고령화대책      9  0.007627\n",
       "농산어촌           6  0.005085"
      ]
     },
     "execution_count": 27,
     "metadata": {},
     "output_type": "execute_result"
    }
   ],
   "source": [
    "df_train_category_value = pd.DataFrame(df_train['category'].value_counts())\n",
    "df_train_category_percent = pd.DataFrame(df_train['category'].value_counts(normalize=True))\n",
    "df_train_category= df_train_category_value.merge(df_train_category_percent, left_index=True, right_index=True)\n",
    "df_train_category.columns = ['청원수', '청원비율']\n",
    "df_train_category"
   ]
  },
  {
   "cell_type": "code",
   "execution_count": 28,
   "metadata": {},
   "outputs": [
    {
     "data": {
      "text/html": [
       "<div>\n",
       "<style scoped>\n",
       "    .dataframe tbody tr th:only-of-type {\n",
       "        vertical-align: middle;\n",
       "    }\n",
       "\n",
       "    .dataframe tbody tr th {\n",
       "        vertical-align: top;\n",
       "    }\n",
       "\n",
       "    .dataframe thead th {\n",
       "        text-align: right;\n",
       "    }\n",
       "</style>\n",
       "<table border=\"1\" class=\"dataframe\">\n",
       "  <thead>\n",
       "    <tr style=\"text-align: right;\">\n",
       "      <th></th>\n",
       "      <th>청원수</th>\n",
       "      <th>청원비율</th>\n",
       "    </tr>\n",
       "  </thead>\n",
       "  <tbody>\n",
       "    <tr>\n",
       "      <th>인권/성평등</th>\n",
       "      <td>80</td>\n",
       "      <td>0.157791</td>\n",
       "    </tr>\n",
       "    <tr>\n",
       "      <th>정치개혁</th>\n",
       "      <td>55</td>\n",
       "      <td>0.108481</td>\n",
       "    </tr>\n",
       "    <tr>\n",
       "      <th>안전/환경</th>\n",
       "      <td>47</td>\n",
       "      <td>0.092702</td>\n",
       "    </tr>\n",
       "    <tr>\n",
       "      <th>기타</th>\n",
       "      <td>47</td>\n",
       "      <td>0.092702</td>\n",
       "    </tr>\n",
       "    <tr>\n",
       "      <th>육아/교육</th>\n",
       "      <td>46</td>\n",
       "      <td>0.090730</td>\n",
       "    </tr>\n",
       "    <tr>\n",
       "      <th>보건복지</th>\n",
       "      <td>45</td>\n",
       "      <td>0.088757</td>\n",
       "    </tr>\n",
       "    <tr>\n",
       "      <th>교통/건축/국토</th>\n",
       "      <td>35</td>\n",
       "      <td>0.069034</td>\n",
       "    </tr>\n",
       "    <tr>\n",
       "      <th>문화/예술/체육/언론</th>\n",
       "      <td>33</td>\n",
       "      <td>0.065089</td>\n",
       "    </tr>\n",
       "    <tr>\n",
       "      <th>경제민주화</th>\n",
       "      <td>26</td>\n",
       "      <td>0.051282</td>\n",
       "    </tr>\n",
       "    <tr>\n",
       "      <th>행정</th>\n",
       "      <td>23</td>\n",
       "      <td>0.045365</td>\n",
       "    </tr>\n",
       "    <tr>\n",
       "      <th>반려동물</th>\n",
       "      <td>19</td>\n",
       "      <td>0.037475</td>\n",
       "    </tr>\n",
       "    <tr>\n",
       "      <th>일자리</th>\n",
       "      <td>18</td>\n",
       "      <td>0.035503</td>\n",
       "    </tr>\n",
       "    <tr>\n",
       "      <th>외교/통일/국방</th>\n",
       "      <td>18</td>\n",
       "      <td>0.035503</td>\n",
       "    </tr>\n",
       "    <tr>\n",
       "      <th>농산어촌</th>\n",
       "      <td>5</td>\n",
       "      <td>0.009862</td>\n",
       "    </tr>\n",
       "    <tr>\n",
       "      <th>저출산/고령화대책</th>\n",
       "      <td>4</td>\n",
       "      <td>0.007890</td>\n",
       "    </tr>\n",
       "    <tr>\n",
       "      <th>미래</th>\n",
       "      <td>3</td>\n",
       "      <td>0.005917</td>\n",
       "    </tr>\n",
       "    <tr>\n",
       "      <th>성장동력</th>\n",
       "      <td>3</td>\n",
       "      <td>0.005917</td>\n",
       "    </tr>\n",
       "  </tbody>\n",
       "</table>\n",
       "</div>"
      ],
      "text/plain": [
       "             청원수      청원비율\n",
       "인권/성평등        80  0.157791\n",
       "정치개혁          55  0.108481\n",
       "안전/환경         47  0.092702\n",
       "기타            47  0.092702\n",
       "육아/교육         46  0.090730\n",
       "보건복지          45  0.088757\n",
       "교통/건축/국토      35  0.069034\n",
       "문화/예술/체육/언론   33  0.065089\n",
       "경제민주화         26  0.051282\n",
       "행정            23  0.045365\n",
       "반려동물          19  0.037475\n",
       "일자리           18  0.035503\n",
       "외교/통일/국방      18  0.035503\n",
       "농산어촌           5  0.009862\n",
       "저출산/고령화대책      4  0.007890\n",
       "미래             3  0.005917\n",
       "성장동력           3  0.005917"
      ]
     },
     "execution_count": 28,
     "metadata": {},
     "output_type": "execute_result"
    }
   ],
   "source": [
    "df_test_category_value = pd.DataFrame(df_test['category'].value_counts())\n",
    "df_test_category_percent = pd.DataFrame(df_test['category'].value_counts(normalize=True))\n",
    "df_test_category = df_test_category_value.merge(df_test_category_percent, left_index=True, right_index=True)\n",
    "df_test_category.columns = ['청원수', '청원비율']\n",
    "df_test_category"
   ]
  },
  {
   "cell_type": "code",
   "execution_count": 29,
   "metadata": {},
   "outputs": [
    {
     "data": {
      "text/plain": [
       "<matplotlib.axes._subplots.AxesSubplot at 0x115b9fc88>"
      ]
     },
     "execution_count": 29,
     "metadata": {},
     "output_type": "execute_result"
    },
    {
     "data": {
      "image/png": "[encoded data removed]",
      "text/plain": [
       "<matplotlib.figure.Figure at 0x115531400>"
      ]
     },
     "metadata": {},
     "output_type": "display_data"
    },
    {
     "data": {
      "image/png": "[encoded data removed]",
      "text/plain": [
       "<matplotlib.figure.Figure at 0x115b2f550>"
      ]
     },
     "metadata": {},
     "output_type": "display_data"
    }
   ],
   "source": [
    "df_train_category_value.plot(kind='bar')\n",
    "df_test_category_value.plot(kind='bar')"
   ]
  },
  {
   "cell_type": "markdown",
   "metadata": {},
   "source": [
    "# 단어 벡터화 하기"
   ]
  },
  {
   "cell_type": "markdown",
   "metadata": {},
   "source": [
    "## BOW(Bag of Words)"
   ]
  },
  {
   "cell_type": "code",
   "execution_count": 30,
   "metadata": {},
   "outputs": [
    {
     "data": {
      "text/plain": [
       "CountVectorizer(analyzer='word', binary=False, decode_error='strict',\n",
       "        dtype=<class 'numpy.int64'>, encoding='utf-8', input='content',\n",
       "        lowercase=True, max_df=1.0, max_features=2000, min_df=2,\n",
       "        ngram_range=(1, 3), preprocessor=None,\n",
       "        stop_words=['and', 'article', 'html', '수', '현', '있는', '있습니다', '그', '년도', '합니다', '하는', '및', '제', '할', '하고', '더', '대한', '한', '그리고', '월', '저는', '없는', '입니다', '등', '일', '많은', '이런', '것은', '왜', '같은', '같습니다', '없습니다', '위해', '한다'],\n",
       "        strip_accents=None, token_pattern='(?u)\\\\b\\\\w\\\\w+\\\\b',\n",
       "        tokenizer=None, vocabulary=None)"
      ]
     },
     "execution_count": 30,
     "metadata": {},
     "output_type": "execute_result"
    }
   ],
   "source": [
    "from sklearn.feature_extraction.text import CountVectorizer\n",
    "\n",
    "stops = ['and', 'article', 'html', '수', '현', '있는', '있습니다', '그', '년도', '합니다', '하는', '및', '제', '할', '하고', '더', '대한', '한', '그리고', '월', '저는', '없는', '입니다', '등', '일', '많은', '이런', '것은', '왜','같은', '같습니다', '없습니다', '위해', '한다']\n",
    "vectorizer = CountVectorizer(analyzer = 'word', # 캐릭터 단위로 벡터화 할 수도 있습니다.\n",
    "                             tokenizer = None, # 토크나이저를 따로 지정해 줄 수도 있습니다.\n",
    "                             preprocessor = None, # 전처리 도구\n",
    "                             stop_words = stops, # 불용어 nltk등의 도구를 사용할 수도 있습니다.\n",
    "                             min_df = 2, # 토큰이 나타날 최소 문서 개수로 오타나 자주 나오지 않는 특수한 전문용어 제거에 좋다. \n",
    "                             ngram_range=(1, 3), # BOW의 단위를 1~3개로 지정합니다.\n",
    "                             max_features = 2000 # 만들 피처의 수, 단어의 수가 된다.\n",
    "                            )\n",
    "vectorizer"
   ]
  },
  {
   "cell_type": "code",
   "execution_count": 31,
   "metadata": {},
   "outputs": [
    {
     "name": "stdout",
     "output_type": "stream",
     "text": [
      "CPU times: user 3.11 s, sys: 109 ms, total: 3.22 s\n",
      "Wall time: 3.23 s\n"
     ]
    }
   ],
   "source": [
    "%%time \n",
    "train_feature_vector = vectorizer.fit_transform(df_train['content_preprocessing2'])\n",
    "train_feature_vector.shape"
   ]
  },
  {
   "cell_type": "code",
   "execution_count": 32,
   "metadata": {},
   "outputs": [
    {
     "name": "stdout",
     "output_type": "stream",
     "text": [
      "CPU times: user 1.36 s, sys: 44.2 ms, total: 1.4 s\n",
      "Wall time: 1.41 s\n"
     ]
    }
   ],
   "source": [
    "%%time \n",
    "test_feature_vector = vectorizer.fit_transform(df_test['content_preprocessing2'])\n",
    "test_feature_vector.shape"
   ]
  },
  {
   "cell_type": "code",
   "execution_count": 33,
   "metadata": {},
   "outputs": [
    {
     "name": "stdout",
     "output_type": "stream",
     "text": [
      "2000\n"
     ]
    },
    {
     "data": {
      "text/plain": [
       "['aid',\n",
       " 'as',\n",
       " 'co',\n",
       " 'co kr',\n",
       " 'co kr news',\n",
       " 'com',\n",
       " 'com main',\n",
       " 'com main read',\n",
       " 'do',\n",
       " 'http']"
      ]
     },
     "execution_count": 33,
     "metadata": {},
     "output_type": "execute_result"
    }
   ],
   "source": [
    "vocab = vectorizer.get_feature_names()\n",
    "print(len(vocab))\n",
    "vocab[:10]"
   ]
  },
  {
   "cell_type": "code",
   "execution_count": 34,
   "metadata": {},
   "outputs": [
    {
     "data": {
      "text/html": [
       "<div>\n",
       "<style scoped>\n",
       "    .dataframe tbody tr th:only-of-type {\n",
       "        vertical-align: middle;\n",
       "    }\n",
       "\n",
       "    .dataframe tbody tr th {\n",
       "        vertical-align: top;\n",
       "    }\n",
       "\n",
       "    .dataframe thead th {\n",
       "        text-align: right;\n",
       "    }\n",
       "</style>\n",
       "<table border=\"1\" class=\"dataframe\">\n",
       "  <thead>\n",
       "    <tr style=\"text-align: right;\">\n",
       "      <th></th>\n",
       "      <th>aid</th>\n",
       "      <th>as</th>\n",
       "      <th>co</th>\n",
       "      <th>co kr</th>\n",
       "      <th>co kr news</th>\n",
       "      <th>com</th>\n",
       "      <th>com main</th>\n",
       "      <th>com main read</th>\n",
       "      <th>do</th>\n",
       "      <th>http</th>\n",
       "      <th>...</th>\n",
       "      <th>효과를</th>\n",
       "      <th>후에</th>\n",
       "      <th>훨씬</th>\n",
       "      <th>휴게시간</th>\n",
       "      <th>힘든</th>\n",
       "      <th>힘들게</th>\n",
       "      <th>힘들어</th>\n",
       "      <th>힘없는</th>\n",
       "      <th>힘을</th>\n",
       "      <th>힘이</th>\n",
       "    </tr>\n",
       "  </thead>\n",
       "  <tbody>\n",
       "    <tr>\n",
       "      <th>0</th>\n",
       "      <td>41</td>\n",
       "      <td>63</td>\n",
       "      <td>63</td>\n",
       "      <td>19</td>\n",
       "      <td>19</td>\n",
       "      <td>115</td>\n",
       "      <td>109</td>\n",
       "      <td>47</td>\n",
       "      <td>203</td>\n",
       "      <td>36</td>\n",
       "      <td>...</td>\n",
       "      <td>42</td>\n",
       "      <td>33</td>\n",
       "      <td>70</td>\n",
       "      <td>32</td>\n",
       "      <td>20</td>\n",
       "      <td>18</td>\n",
       "      <td>22</td>\n",
       "      <td>19</td>\n",
       "      <td>43</td>\n",
       "      <td>25</td>\n",
       "    </tr>\n",
       "  </tbody>\n",
       "</table>\n",
       "<p>1 rows × 2000 columns</p>\n",
       "</div>"
      ],
      "text/plain": [
       "   aid  as  co  co kr  co kr news  com  com main  com main read   do  http  \\\n",
       "0   41  63  63     19          19  115       109             47  203    36   \n",
       "\n",
       "  ...  효과를  후에  훨씬  휴게시간  힘든  힘들게  힘들어  힘없는  힘을  힘이  \n",
       "0 ...   42  33  70    32  20   18   22   19  43  25  \n",
       "\n",
       "[1 rows x 2000 columns]"
      ]
     },
     "execution_count": 34,
     "metadata": {},
     "output_type": "execute_result"
    }
   ],
   "source": [
    "dist = np.sum(train_feature_vector, axis=0)\n",
    "\n",
    "pd.DataFrame(dist, columns=vocab)"
   ]
  },
  {
   "cell_type": "markdown",
   "metadata": {},
   "source": [
    "## TF-IDF 로 가중치 적용하기"
   ]
  },
  {
   "cell_type": "code",
   "execution_count": 35,
   "metadata": {},
   "outputs": [
    {
     "data": {
      "text/plain": [
       "TfidfTransformer(norm='l2', smooth_idf=False, sublinear_tf=False,\n",
       "         use_idf=True)"
      ]
     },
     "execution_count": 35,
     "metadata": {},
     "output_type": "execute_result"
    }
   ],
   "source": [
    "from sklearn.feature_extraction.text import TfidfTransformer\n",
    "transformer = TfidfTransformer(smooth_idf=False)\n",
    "transformer"
   ]
  },
  {
   "cell_type": "code",
   "execution_count": 36,
   "metadata": {},
   "outputs": [
    {
     "name": "stdout",
     "output_type": "stream",
     "text": [
      "CPU times: user 5.62 ms, sys: 2.66 ms, total: 8.28 ms\n",
      "Wall time: 9.63 ms\n"
     ]
    }
   ],
   "source": [
    "%%time \n",
    "train_feature_tfidf = transformer.fit_transform(train_feature_vector)\n",
    "train_feature_tfidf.shape"
   ]
  },
  {
   "cell_type": "code",
   "execution_count": 37,
   "metadata": {},
   "outputs": [
    {
     "name": "stdout",
     "output_type": "stream",
     "text": [
      "CPU times: user 3.11 ms, sys: 1.86 ms, total: 4.97 ms\n",
      "Wall time: 3.21 ms\n"
     ]
    }
   ],
   "source": [
    "%%time \n",
    "test_feature_tfidf = transformer.fit_transform(test_feature_vector)\n",
    "test_feature_tfidf.shape"
   ]
  },
  {
   "cell_type": "code",
   "execution_count": 38,
   "metadata": {},
   "outputs": [
    {
     "data": {
      "text/plain": [
       "(507, 2000)"
      ]
     },
     "execution_count": 38,
     "metadata": {},
     "output_type": "execute_result"
    }
   ],
   "source": [
    "test_feature_tfidf.shape"
   ]
  },
  {
   "cell_type": "markdown",
   "metadata": {},
   "source": [
    "# 랜덤 포레스트로 학습시키기\n",
    "* 공식문서 : http://scikit-learn.org/stable/modules/generated/sklearn.ensemble.RandomForestClassifier.html"
   ]
  },
  {
   "cell_type": "code",
   "execution_count": 39,
   "metadata": {},
   "outputs": [
    {
     "data": {
      "text/plain": [
       "RandomForestClassifier(bootstrap=True, class_weight=None, criterion='gini',\n",
       "            max_depth=None, max_features='auto', max_leaf_nodes=None,\n",
       "            min_impurity_decrease=0.0, min_impurity_split=None,\n",
       "            min_samples_leaf=1, min_samples_split=2,\n",
       "            min_weight_fraction_leaf=0.0, n_estimators=100, n_jobs=-1,\n",
       "            oob_score=False, random_state=2018, verbose=0,\n",
       "            warm_start=False)"
      ]
     },
     "execution_count": 39,
     "metadata": {},
     "output_type": "execute_result"
    }
   ],
   "source": [
    "from sklearn.ensemble import RandomForestClassifier\n",
    "\n",
    "# 랜덤포레스트 분류기를 사용\n",
    "forest = RandomForestClassifier(\n",
    "    n_estimators = 100, n_jobs = -1, random_state=2018)\n",
    "forest"
   ]
  },
  {
   "cell_type": "code",
   "execution_count": 40,
   "metadata": {},
   "outputs": [
    {
     "name": "stdout",
     "output_type": "stream",
     "text": [
      "CPU times: user 1.51 s, sys: 38.9 ms, total: 1.55 s\n",
      "Wall time: 638 ms\n"
     ]
    }
   ],
   "source": [
    "# 학습에 사용할 y_label 을 넣어줍니다.\n",
    "# 어떤 분야의 청원인지 예측할 것이기 때문에 category를 넣어줍니다.\n",
    "y_label = df_train['category']\n",
    "%time forest = forest.fit(train_feature_tfidf, y_label)"
   ]
  },
  {
   "cell_type": "markdown",
   "metadata": {},
   "source": [
    "# 학습이 잘 되었는지 평가하기\n",
    "\n",
    "시험공부에 비유해 보면, (feat.애란쌤)\n",
    "1. 기출문제를 모은다\n",
    "2. 공부한다\n",
    "3. 시험본다\n",
    "\n",
    "여기에서 2번 단계를 하는 여러 전략이 있을텐데요, 기출문제를 모두 외워버리면 과연 내가 실제 시험을 잘 치룰 수 있을지 아니면 공부를 더 해야할지 판단하기가 애매합니다. 괜찮은 전략 중 하나는 기출문제 중 일부를 임의로 뽑아내서 공부하고(training set을 이용한 학습), 나머지 기출문제를 풀어보며 내가 얼마나 잘 푸는지 평가를 해보는겁니다(validation set을 통해 학습의 성과를 검증). 잘 된다 싶으면 시험을 볼 준비가 된 것입니다(실전 투입).\n",
    "\n",
    "\n",
    "기출문제를 몽땅 외우면 기출문제 내에서는 100점을 받겠지만(overfitting), 실전에서도 그러한 성적을 가두리라 기대하기 어렵습니다."
   ]
  },
  {
   "cell_type": "code",
   "execution_count": 41,
   "metadata": {},
   "outputs": [
    {
     "name": "stdout",
     "output_type": "stream",
     "text": [
      "CPU times: user 90 ms, sys: 29.8 ms, total: 120 ms\n",
      "Wall time: 1.93 s\n"
     ]
    },
    {
     "data": {
      "text/plain": [
       "array([0.37711864, 0.39830508, 0.36440678, 0.4279661 , 0.38135593])"
      ]
     },
     "execution_count": 41,
     "metadata": {},
     "output_type": "execute_result"
    }
   ],
   "source": [
    "from sklearn.model_selection import KFold\n",
    "from sklearn.model_selection import cross_val_score\n",
    "k_fold = KFold(n_splits=5, shuffle=True, random_state=0)\n",
    "\n",
    "scoring = 'accuracy'\n",
    "%time score = cross_val_score(forest, train_feature_vector, y_label, cv=k_fold, n_jobs=-1, scoring=scoring)\n",
    "score"
   ]
  },
  {
   "cell_type": "code",
   "execution_count": 42,
   "metadata": {},
   "outputs": [
    {
     "data": {
      "text/plain": [
       "38.98"
      ]
     },
     "execution_count": 42,
     "metadata": {},
     "output_type": "execute_result"
    }
   ],
   "source": [
    "round(np.mean(score)*100,2)"
   ]
  },
  {
   "cell_type": "markdown",
   "metadata": {},
   "source": [
    "# 예측"
   ]
  },
  {
   "cell_type": "code",
   "execution_count": 43,
   "metadata": {},
   "outputs": [
    {
     "data": {
      "text/plain": [
       "array(['안전/환경', '인권/성평등', '인권/성평등'], dtype=object)"
      ]
     },
     "execution_count": 43,
     "metadata": {},
     "output_type": "execute_result"
    }
   ],
   "source": [
    "# 테스트 데이터를 넣고 예측합니다.\n",
    "y_pred = forest.predict(test_feature_vector)\n",
    "y_pred[:3]"
   ]
  },
  {
   "cell_type": "code",
   "execution_count": 44,
   "metadata": {},
   "outputs": [
    {
     "data": {
      "text/plain": [
       "(507,)"
      ]
     },
     "execution_count": 44,
     "metadata": {},
     "output_type": "execute_result"
    }
   ],
   "source": [
    "y_pred.shape"
   ]
  },
  {
   "cell_type": "code",
   "execution_count": 45,
   "metadata": {},
   "outputs": [
    {
     "data": {
      "text/html": [
       "<div>\n",
       "<style scoped>\n",
       "    .dataframe tbody tr th:only-of-type {\n",
       "        vertical-align: middle;\n",
       "    }\n",
       "\n",
       "    .dataframe tbody tr th {\n",
       "        vertical-align: top;\n",
       "    }\n",
       "\n",
       "    .dataframe thead th {\n",
       "        text-align: right;\n",
       "    }\n",
       "</style>\n",
       "<table border=\"1\" class=\"dataframe\">\n",
       "  <thead>\n",
       "    <tr style=\"text-align: right;\">\n",
       "      <th></th>\n",
       "      <th>category_pred</th>\n",
       "    </tr>\n",
       "  </thead>\n",
       "  <tbody>\n",
       "    <tr>\n",
       "      <th>0</th>\n",
       "      <td>안전/환경</td>\n",
       "    </tr>\n",
       "    <tr>\n",
       "      <th>1</th>\n",
       "      <td>인권/성평등</td>\n",
       "    </tr>\n",
       "    <tr>\n",
       "      <th>2</th>\n",
       "      <td>인권/성평등</td>\n",
       "    </tr>\n",
       "    <tr>\n",
       "      <th>3</th>\n",
       "      <td>육아/교육</td>\n",
       "    </tr>\n",
       "    <tr>\n",
       "      <th>4</th>\n",
       "      <td>정치개혁</td>\n",
       "    </tr>\n",
       "  </tbody>\n",
       "</table>\n",
       "</div>"
      ],
      "text/plain": [
       "  category_pred\n",
       "0         안전/환경\n",
       "1        인권/성평등\n",
       "2        인권/성평등\n",
       "3         육아/교육\n",
       "4          정치개혁"
      ]
     },
     "execution_count": 45,
     "metadata": {},
     "output_type": "execute_result"
    }
   ],
   "source": [
    "# 예측 결과를 저장하기 위해 데이터프레임에 담아 줍니다.\n",
    "output = pd.DataFrame(data={'category_pred':y_pred})\n",
    "output.head()"
   ]
  },
  {
   "cell_type": "code",
   "execution_count": 46,
   "metadata": {},
   "outputs": [
    {
     "data": {
      "text/plain": [
       "육아/교육          171\n",
       "보건복지            87\n",
       "기타              47\n",
       "인권/성평등          42\n",
       "문화/예술/체육/언론     29\n",
       "반려동물            27\n",
       "안전/환경           26\n",
       "정치개혁            25\n",
       "교통/건축/국토        18\n",
       "경제민주화           15\n",
       "외교/통일/국방        12\n",
       "일자리              4\n",
       "미래               4\n",
       "Name: category_pred, dtype: int64"
      ]
     },
     "execution_count": 46,
     "metadata": {},
     "output_type": "execute_result"
    }
   ],
   "source": [
    "# 0과 1이 어떻게 집계 되었는지 확인합니다.\n",
    "output['category_pred'].value_counts()"
   ]
  },
  {
   "cell_type": "code",
   "execution_count": 47,
   "metadata": {},
   "outputs": [],
   "source": [
    "df_test['category_pred'] = y_pred"
   ]
  },
  {
   "cell_type": "markdown",
   "metadata": {},
   "source": [
    "## 예측결과 미리보기"
   ]
  },
  {
   "cell_type": "code",
   "execution_count": 48,
   "metadata": {},
   "outputs": [
    {
     "data": {
      "text/html": [
       "<div>\n",
       "<style scoped>\n",
       "    .dataframe tbody tr th:only-of-type {\n",
       "        vertical-align: middle;\n",
       "    }\n",
       "\n",
       "    .dataframe tbody tr th {\n",
       "        vertical-align: top;\n",
       "    }\n",
       "\n",
       "    .dataframe thead th {\n",
       "        text-align: right;\n",
       "    }\n",
       "</style>\n",
       "<table border=\"1\" class=\"dataframe\">\n",
       "  <thead>\n",
       "    <tr style=\"text-align: right;\">\n",
       "      <th></th>\n",
       "      <th>article_id</th>\n",
       "      <th>start</th>\n",
       "      <th>end</th>\n",
       "      <th>answered</th>\n",
       "      <th>votes</th>\n",
       "      <th>category</th>\n",
       "      <th>title</th>\n",
       "      <th>content</th>\n",
       "      <th>category_pred</th>\n",
       "      <th>content_preprocessing</th>\n",
       "      <th>content_preprocessing2</th>\n",
       "      <th>pred_diff</th>\n",
       "    </tr>\n",
       "  </thead>\n",
       "  <tbody>\n",
       "    <tr>\n",
       "      <th>148370</th>\n",
       "      <td>178795</td>\n",
       "      <td>2018-03-28</td>\n",
       "      <td>2018-04-27</td>\n",
       "      <td>0</td>\n",
       "      <td>9096</td>\n",
       "      <td>미래</td>\n",
       "      <td>★★★하남 자족U2(8-3,4,5,6) 이마트 대형 물류센터건립 절대 반대 합니다★★★</td>\n",
       "      <td>관련 기사입니다\\nhttp://daily.hankooki.com/lpage/econ...</td>\n",
       "      <td>안전/환경</td>\n",
       "      <td>관련 기사입니다 http   daily hankooki com lpage econo...</td>\n",
       "      <td>관련 기사입니다 http   daily hankooki com lpage econo...</td>\n",
       "      <td>0</td>\n",
       "    </tr>\n",
       "    <tr>\n",
       "      <th>148387</th>\n",
       "      <td>178819</td>\n",
       "      <td>2018-03-28</td>\n",
       "      <td>2018-04-27</td>\n",
       "      <td>0</td>\n",
       "      <td>3270</td>\n",
       "      <td>기타</td>\n",
       "      <td>실적압박으로 인한 자살 기억하시는지요...현재도 진행형입니다..</td>\n",
       "      <td>안녕하십니까.\\nkt 통신사 고객센터에 근무하는 와이프를 둔 가장입니다\\n알고계실지...</td>\n",
       "      <td>인권/성평등</td>\n",
       "      <td>안녕하십니까  kt 통신사 고객센터에 근무하는 와이프를 둔 가장입니다 알고계실지 모...</td>\n",
       "      <td>안녕하십니까  kt 통신사 고객센터에 근무하는 와이프를 둔 가장입니다 알고계실지 모...</td>\n",
       "      <td>0</td>\n",
       "    </tr>\n",
       "    <tr>\n",
       "      <th>148492</th>\n",
       "      <td>178954</td>\n",
       "      <td>2018-03-28</td>\n",
       "      <td>2018-04-27</td>\n",
       "      <td>0</td>\n",
       "      <td>2030</td>\n",
       "      <td>안전/환경</td>\n",
       "      <td>김부겸 행정안전부 장관님께 정확한  사실관계 확인 부탁드립니다.</td>\n",
       "      <td>道 기획조정실, 일방적 사업 축소 반발 일자 신규채용 관련 감사도\\n소방관들 “업무...</td>\n",
       "      <td>인권/성평등</td>\n",
       "      <td>기획조정실  일방적 사업 축소 반발 일자 신규채용 관련 감사도 소방관들  업무영...</td>\n",
       "      <td>기획조정실  일방적 사업 축소 반발 일자 신규채용 관련 감사도 소방관들  업무영...</td>\n",
       "      <td>0</td>\n",
       "    </tr>\n",
       "    <tr>\n",
       "      <th>148635</th>\n",
       "      <td>179146</td>\n",
       "      <td>2018-03-29</td>\n",
       "      <td>2018-04-28</td>\n",
       "      <td>0</td>\n",
       "      <td>16216</td>\n",
       "      <td>보건복지</td>\n",
       "      <td>저희 엄마 사망의 진실을 알려주십시오</td>\n",
       "      <td>저는 며칠 전 병원에서 엄마를 잃었습니다.\\n그런데 병원측의 너무나 어처구니 없는 ...</td>\n",
       "      <td>육아/교육</td>\n",
       "      <td>저는 며칠 전 병원에서 엄마를 잃었습니다  그런데 병원측의 너무나 어처구니 없는 대...</td>\n",
       "      <td>며칠 전 병원에서 엄마를 잃었습니다  그런데 병원측의 너무나 어처구니 대처로 억울하...</td>\n",
       "      <td>0</td>\n",
       "    </tr>\n",
       "    <tr>\n",
       "      <th>148648</th>\n",
       "      <td>179162</td>\n",
       "      <td>2018-03-29</td>\n",
       "      <td>2018-04-28</td>\n",
       "      <td>0</td>\n",
       "      <td>6698</td>\n",
       "      <td>육아/교육</td>\n",
       "      <td>총신대 사태의 희생양이된 학생들을 전과자로 만들어서는 결코 안됩니다.</td>\n",
       "      <td>간섭하려는 총회와 간섭 받지 않으려는 재단 사이의 갈등을 책임자들이 대화로 풀 수 ...</td>\n",
       "      <td>정치개혁</td>\n",
       "      <td>간섭하려는 총회와 간섭 받지 않으려는 재단 사이의 갈등을 책임자들이 대화로 풀 수 ...</td>\n",
       "      <td>간섭하려는 총회와 간섭 받지 않으려는 재단 사이의 갈등을 책임자들이 대화로 풀 없어...</td>\n",
       "      <td>0</td>\n",
       "    </tr>\n",
       "  </tbody>\n",
       "</table>\n",
       "</div>"
      ],
      "text/plain": [
       "        article_id      start        end  answered  votes category  \\\n",
       "148370      178795 2018-03-28 2018-04-27         0   9096       미래   \n",
       "148387      178819 2018-03-28 2018-04-27         0   3270       기타   \n",
       "148492      178954 2018-03-28 2018-04-27         0   2030    안전/환경   \n",
       "148635      179146 2018-03-29 2018-04-28         0  16216     보건복지   \n",
       "148648      179162 2018-03-29 2018-04-28         0   6698    육아/교육   \n",
       "\n",
       "                                                   title  \\\n",
       "148370  ★★★하남 자족U2(8-3,4,5,6) 이마트 대형 물류센터건립 절대 반대 합니다★★★   \n",
       "148387               실적압박으로 인한 자살 기억하시는지요...현재도 진행형입니다..   \n",
       "148492               김부겸 행정안전부 장관님께 정확한  사실관계 확인 부탁드립니다.   \n",
       "148635                              저희 엄마 사망의 진실을 알려주십시오   \n",
       "148648            총신대 사태의 희생양이된 학생들을 전과자로 만들어서는 결코 안됩니다.   \n",
       "\n",
       "                                                  content category_pred  \\\n",
       "148370  관련 기사입니다\\nhttp://daily.hankooki.com/lpage/econ...         안전/환경   \n",
       "148387  안녕하십니까.\\nkt 통신사 고객센터에 근무하는 와이프를 둔 가장입니다\\n알고계실지...        인권/성평등   \n",
       "148492  道 기획조정실, 일방적 사업 축소 반발 일자 신규채용 관련 감사도\\n소방관들 “업무...        인권/성평등   \n",
       "148635  저는 며칠 전 병원에서 엄마를 잃었습니다.\\n그런데 병원측의 너무나 어처구니 없는 ...         육아/교육   \n",
       "148648  간섭하려는 총회와 간섭 받지 않으려는 재단 사이의 갈등을 책임자들이 대화로 풀 수 ...          정치개혁   \n",
       "\n",
       "                                    content_preprocessing  \\\n",
       "148370  관련 기사입니다 http   daily hankooki com lpage econo...   \n",
       "148387  안녕하십니까  kt 통신사 고객센터에 근무하는 와이프를 둔 가장입니다 알고계실지 모...   \n",
       "148492    기획조정실  일방적 사업 축소 반발 일자 신규채용 관련 감사도 소방관들  업무영...   \n",
       "148635  저는 며칠 전 병원에서 엄마를 잃었습니다  그런데 병원측의 너무나 어처구니 없는 대...   \n",
       "148648  간섭하려는 총회와 간섭 받지 않으려는 재단 사이의 갈등을 책임자들이 대화로 풀 수 ...   \n",
       "\n",
       "                                   content_preprocessing2  pred_diff  \n",
       "148370  관련 기사입니다 http   daily hankooki com lpage econo...          0  \n",
       "148387  안녕하십니까  kt 통신사 고객센터에 근무하는 와이프를 둔 가장입니다 알고계실지 모...          0  \n",
       "148492    기획조정실  일방적 사업 축소 반발 일자 신규채용 관련 감사도 소방관들  업무영...          0  \n",
       "148635  며칠 전 병원에서 엄마를 잃었습니다  그런데 병원측의 너무나 어처구니 대처로 억울하...          0  \n",
       "148648  간섭하려는 총회와 간섭 받지 않으려는 재단 사이의 갈등을 책임자들이 대화로 풀 없어...          0  "
      ]
     },
     "execution_count": 48,
     "metadata": {},
     "output_type": "execute_result"
    }
   ],
   "source": [
    "df_test['pred_diff'] = 0\n",
    "df_test['pred_diff'] = (df_test['category'] == df_test['category_pred'] ) == 1\n",
    "df_test['pred_diff'] = df_test['pred_diff'].astype(int)\n",
    "df_test.head()"
   ]
  },
  {
   "cell_type": "code",
   "execution_count": 49,
   "metadata": {},
   "outputs": [
    {
     "data": {
      "text/plain": [
       "0    447\n",
       "1     60\n",
       "Name: pred_diff, dtype: int64"
      ]
     },
     "execution_count": 49,
     "metadata": {},
     "output_type": "execute_result"
    }
   ],
   "source": [
    "# 맞게 예측한 청원은 1, 틀린 예측은 0으로 표기되었습니다.\n",
    "pred_diff = df_test['pred_diff'].value_counts()\n",
    "pred_diff"
   ]
  },
  {
   "cell_type": "code",
   "execution_count": 50,
   "metadata": {},
   "outputs": [
    {
     "name": "stdout",
     "output_type": "stream",
     "text": [
      "전체 507건의 데이터 중 60건 예측\n"
     ]
    }
   ],
   "source": [
    "print('전체 {}건의 데이터 중 {}건 예측'.format(y_pred.shape[0], pred_diff[1]))"
   ]
  },
  {
   "cell_type": "code",
   "execution_count": 51,
   "metadata": {},
   "outputs": [
    {
     "name": "stdout",
     "output_type": "stream",
     "text": [
      "예측 비율 11.834319526627219\n"
     ]
    }
   ],
   "source": [
    "acc = ( pred_diff[1] / y_pred.shape[0] )*100 \n",
    "print('예측 비율 {}'.format(acc))"
   ]
  },
  {
   "cell_type": "code",
   "execution_count": 52,
   "metadata": {},
   "outputs": [
    {
     "data": {
      "text/html": [
       "<div>\n",
       "<style scoped>\n",
       "    .dataframe tbody tr th:only-of-type {\n",
       "        vertical-align: middle;\n",
       "    }\n",
       "\n",
       "    .dataframe tbody tr th {\n",
       "        vertical-align: top;\n",
       "    }\n",
       "\n",
       "    .dataframe thead th {\n",
       "        text-align: right;\n",
       "    }\n",
       "</style>\n",
       "<table border=\"1\" class=\"dataframe\">\n",
       "  <thead>\n",
       "    <tr style=\"text-align: right;\">\n",
       "      <th></th>\n",
       "      <th>article_id</th>\n",
       "      <th>start</th>\n",
       "      <th>end</th>\n",
       "      <th>answered</th>\n",
       "      <th>votes</th>\n",
       "      <th>category</th>\n",
       "      <th>title</th>\n",
       "      <th>content</th>\n",
       "      <th>category_pred</th>\n",
       "      <th>content_preprocessing</th>\n",
       "      <th>content_preprocessing2</th>\n",
       "      <th>pred_diff</th>\n",
       "    </tr>\n",
       "  </thead>\n",
       "  <tbody>\n",
       "    <tr>\n",
       "      <th>149493</th>\n",
       "      <td>180212</td>\n",
       "      <td>2018-03-29</td>\n",
       "      <td>2018-04-28</td>\n",
       "      <td>0</td>\n",
       "      <td>41365</td>\n",
       "      <td>보건복지</td>\n",
       "      <td>어린이집 점심시간을 근무시간으로 인정해주세요</td>\n",
       "      <td>어린이집에 근무중인 교사입니다\\n저흰 주40시간 노동자입니다\\n그러나 현실은 주50...</td>\n",
       "      <td>보건복지</td>\n",
       "      <td>어린이집에 근무중인 교사입니다 저흰 주  시간 노동자입니다 그러나 현실은 주  시간...</td>\n",
       "      <td>어린이집에 근무중인 교사입니다 저흰 주  시간 노동자입니다 그러나 현실은 주  시간...</td>\n",
       "      <td>1</td>\n",
       "    </tr>\n",
       "    <tr>\n",
       "      <th>149650</th>\n",
       "      <td>180387</td>\n",
       "      <td>2018-03-30</td>\n",
       "      <td>2018-04-29</td>\n",
       "      <td>0</td>\n",
       "      <td>1424</td>\n",
       "      <td>기타</td>\n",
       "      <td>조여옥 이슬비 대위를 수사하여 주시기 바랍니다</td>\n",
       "      <td>아직도 청문회 장면이 생생합니다\\n뻔한 거짓말로 눈하나 까딱않고 위증을 하던 증인~...</td>\n",
       "      <td>기타</td>\n",
       "      <td>아직도 청문회 장면이 생생합니다 뻔한 거짓말로 눈하나 까딱않고 위증을 하던 증인  ...</td>\n",
       "      <td>아직도 청문회 장면이 생생합니다 뻔한 거짓말로 눈하나 까딱않고 위증을 하던 증인  ...</td>\n",
       "      <td>1</td>\n",
       "    </tr>\n",
       "    <tr>\n",
       "      <th>149877</th>\n",
       "      <td>180668</td>\n",
       "      <td>2018-03-30</td>\n",
       "      <td>2018-04-29</td>\n",
       "      <td>0</td>\n",
       "      <td>1817</td>\n",
       "      <td>육아/교육</td>\n",
       "      <td>4차 산업혁명 시대에 맞게 학교 우유급식 신청을 앱이나 컴퓨터로 간편하게 하고 가정...</td>\n",
       "      <td>4차 산업혁명의 시대에 학교에서 수십 년 동안 가장 변하지 않는 것이 있다면 우유급...</td>\n",
       "      <td>육아/교육</td>\n",
       "      <td>차 산업혁명의 시대에 학교에서 수십 년 동안 가장 변하지 않는 것이 있다면 우유급...</td>\n",
       "      <td>차 산업혁명의 시대에 학교에서 수십 년 동안 가장 변하지 않는 것이 있다면 우유급...</td>\n",
       "      <td>1</td>\n",
       "    </tr>\n",
       "    <tr>\n",
       "      <th>150071</th>\n",
       "      <td>180903</td>\n",
       "      <td>2018-03-30</td>\n",
       "      <td>2018-04-29</td>\n",
       "      <td>0</td>\n",
       "      <td>1241</td>\n",
       "      <td>육아/교육</td>\n",
       "      <td>남성의 출산휴가 의무화, 그에 대한 기대와 문제점</td>\n",
       "      <td>저는 31세 이고, 회사를 다니다가 작년 12월에 출산 후 4개월된 아기를 집에서 ...</td>\n",
       "      <td>육아/교육</td>\n",
       "      <td>저는   세 이고  회사를 다니다가 작년   월에 출산 후  개월된 아기를 집에서 ...</td>\n",
       "      <td>세 이고  회사를 다니다가 작년   월에 출산 후  개월된 아기를 집에서 돌보는...</td>\n",
       "      <td>1</td>\n",
       "    </tr>\n",
       "    <tr>\n",
       "      <th>150294</th>\n",
       "      <td>181201</td>\n",
       "      <td>2018-03-30</td>\n",
       "      <td>2018-04-29</td>\n",
       "      <td>0</td>\n",
       "      <td>13992</td>\n",
       "      <td>기타</td>\n",
       "      <td>이번에 순직한 예비소방관이 순직처리 안될수도 있다는 얘기가 있습니다.</td>\n",
       "      <td>이번에 순직한 예비소방관이 순직처리 안될수도 있다는 얘기가 있습니다.\\n예비 소방관...</td>\n",
       "      <td>기타</td>\n",
       "      <td>이번에 순직한 예비소방관이 순직처리 안될수도 있다는 얘기가 있습니다  예비 소방관이...</td>\n",
       "      <td>이번에 순직한 예비소방관이 순직처리 안될수도 있다는 얘기가  예비 소방관이더라도 공...</td>\n",
       "      <td>1</td>\n",
       "    </tr>\n",
       "  </tbody>\n",
       "</table>\n",
       "</div>"
      ],
      "text/plain": [
       "        article_id      start        end  answered  votes category  \\\n",
       "149493      180212 2018-03-29 2018-04-28         0  41365     보건복지   \n",
       "149650      180387 2018-03-30 2018-04-29         0   1424       기타   \n",
       "149877      180668 2018-03-30 2018-04-29         0   1817    육아/교육   \n",
       "150071      180903 2018-03-30 2018-04-29         0   1241    육아/교육   \n",
       "150294      181201 2018-03-30 2018-04-29         0  13992       기타   \n",
       "\n",
       "                                                    title  \\\n",
       "149493                           어린이집 점심시간을 근무시간으로 인정해주세요   \n",
       "149650                          조여옥 이슬비 대위를 수사하여 주시기 바랍니다   \n",
       "149877  4차 산업혁명 시대에 맞게 학교 우유급식 신청을 앱이나 컴퓨터로 간편하게 하고 가정...   \n",
       "150071                        남성의 출산휴가 의무화, 그에 대한 기대와 문제점   \n",
       "150294             이번에 순직한 예비소방관이 순직처리 안될수도 있다는 얘기가 있습니다.   \n",
       "\n",
       "                                                  content category_pred  \\\n",
       "149493  어린이집에 근무중인 교사입니다\\n저흰 주40시간 노동자입니다\\n그러나 현실은 주50...          보건복지   \n",
       "149650  아직도 청문회 장면이 생생합니다\\n뻔한 거짓말로 눈하나 까딱않고 위증을 하던 증인~...            기타   \n",
       "149877  4차 산업혁명의 시대에 학교에서 수십 년 동안 가장 변하지 않는 것이 있다면 우유급...         육아/교육   \n",
       "150071  저는 31세 이고, 회사를 다니다가 작년 12월에 출산 후 4개월된 아기를 집에서 ...         육아/교육   \n",
       "150294  이번에 순직한 예비소방관이 순직처리 안될수도 있다는 얘기가 있습니다.\\n예비 소방관...            기타   \n",
       "\n",
       "                                    content_preprocessing  \\\n",
       "149493  어린이집에 근무중인 교사입니다 저흰 주  시간 노동자입니다 그러나 현실은 주  시간...   \n",
       "149650  아직도 청문회 장면이 생생합니다 뻔한 거짓말로 눈하나 까딱않고 위증을 하던 증인  ...   \n",
       "149877   차 산업혁명의 시대에 학교에서 수십 년 동안 가장 변하지 않는 것이 있다면 우유급...   \n",
       "150071  저는   세 이고  회사를 다니다가 작년   월에 출산 후  개월된 아기를 집에서 ...   \n",
       "150294  이번에 순직한 예비소방관이 순직처리 안될수도 있다는 얘기가 있습니다  예비 소방관이...   \n",
       "\n",
       "                                   content_preprocessing2  pred_diff  \n",
       "149493  어린이집에 근무중인 교사입니다 저흰 주  시간 노동자입니다 그러나 현실은 주  시간...          1  \n",
       "149650  아직도 청문회 장면이 생생합니다 뻔한 거짓말로 눈하나 까딱않고 위증을 하던 증인  ...          1  \n",
       "149877   차 산업혁명의 시대에 학교에서 수십 년 동안 가장 변하지 않는 것이 있다면 우유급...          1  \n",
       "150071    세 이고  회사를 다니다가 작년   월에 출산 후  개월된 아기를 집에서 돌보는...          1  \n",
       "150294  이번에 순직한 예비소방관이 순직처리 안될수도 있다는 얘기가  예비 소방관이더라도 공...          1  "
      ]
     },
     "execution_count": 52,
     "metadata": {},
     "output_type": "execute_result"
    }
   ],
   "source": [
    "# 제대로 예측한 카테고리 데이터를 봅니다.\n",
    "predict_correct = df_test.loc[df_test['pred_diff'] == 1]\n",
    "predict_correct.head()"
   ]
  },
  {
   "cell_type": "markdown",
   "metadata": {},
   "source": [
    "## 잘못 예측한 카테고리 보기"
   ]
  },
  {
   "cell_type": "code",
   "execution_count": 53,
   "metadata": {},
   "outputs": [
    {
     "data": {
      "text/html": [
       "<div>\n",
       "<style scoped>\n",
       "    .dataframe tbody tr th:only-of-type {\n",
       "        vertical-align: middle;\n",
       "    }\n",
       "\n",
       "    .dataframe tbody tr th {\n",
       "        vertical-align: top;\n",
       "    }\n",
       "\n",
       "    .dataframe thead th {\n",
       "        text-align: right;\n",
       "    }\n",
       "</style>\n",
       "<table border=\"1\" class=\"dataframe\">\n",
       "  <thead>\n",
       "    <tr style=\"text-align: right;\">\n",
       "      <th></th>\n",
       "      <th>article_id</th>\n",
       "      <th>start</th>\n",
       "      <th>end</th>\n",
       "      <th>answered</th>\n",
       "      <th>votes</th>\n",
       "      <th>category</th>\n",
       "      <th>title</th>\n",
       "      <th>content</th>\n",
       "      <th>category_pred</th>\n",
       "      <th>content_preprocessing</th>\n",
       "      <th>content_preprocessing2</th>\n",
       "      <th>pred_diff</th>\n",
       "    </tr>\n",
       "  </thead>\n",
       "  <tbody>\n",
       "    <tr>\n",
       "      <th>148370</th>\n",
       "      <td>178795</td>\n",
       "      <td>2018-03-28</td>\n",
       "      <td>2018-04-27</td>\n",
       "      <td>0</td>\n",
       "      <td>9096</td>\n",
       "      <td>미래</td>\n",
       "      <td>★★★하남 자족U2(8-3,4,5,6) 이마트 대형 물류센터건립 절대 반대 합니다★★★</td>\n",
       "      <td>관련 기사입니다\\nhttp://daily.hankooki.com/lpage/econ...</td>\n",
       "      <td>안전/환경</td>\n",
       "      <td>관련 기사입니다 http   daily hankooki com lpage econo...</td>\n",
       "      <td>관련 기사입니다 http   daily hankooki com lpage econo...</td>\n",
       "      <td>0</td>\n",
       "    </tr>\n",
       "    <tr>\n",
       "      <th>148387</th>\n",
       "      <td>178819</td>\n",
       "      <td>2018-03-28</td>\n",
       "      <td>2018-04-27</td>\n",
       "      <td>0</td>\n",
       "      <td>3270</td>\n",
       "      <td>기타</td>\n",
       "      <td>실적압박으로 인한 자살 기억하시는지요...현재도 진행형입니다..</td>\n",
       "      <td>안녕하십니까.\\nkt 통신사 고객센터에 근무하는 와이프를 둔 가장입니다\\n알고계실지...</td>\n",
       "      <td>인권/성평등</td>\n",
       "      <td>안녕하십니까  kt 통신사 고객센터에 근무하는 와이프를 둔 가장입니다 알고계실지 모...</td>\n",
       "      <td>안녕하십니까  kt 통신사 고객센터에 근무하는 와이프를 둔 가장입니다 알고계실지 모...</td>\n",
       "      <td>0</td>\n",
       "    </tr>\n",
       "    <tr>\n",
       "      <th>148492</th>\n",
       "      <td>178954</td>\n",
       "      <td>2018-03-28</td>\n",
       "      <td>2018-04-27</td>\n",
       "      <td>0</td>\n",
       "      <td>2030</td>\n",
       "      <td>안전/환경</td>\n",
       "      <td>김부겸 행정안전부 장관님께 정확한  사실관계 확인 부탁드립니다.</td>\n",
       "      <td>道 기획조정실, 일방적 사업 축소 반발 일자 신규채용 관련 감사도\\n소방관들 “업무...</td>\n",
       "      <td>인권/성평등</td>\n",
       "      <td>기획조정실  일방적 사업 축소 반발 일자 신규채용 관련 감사도 소방관들  업무영...</td>\n",
       "      <td>기획조정실  일방적 사업 축소 반발 일자 신규채용 관련 감사도 소방관들  업무영...</td>\n",
       "      <td>0</td>\n",
       "    </tr>\n",
       "    <tr>\n",
       "      <th>148635</th>\n",
       "      <td>179146</td>\n",
       "      <td>2018-03-29</td>\n",
       "      <td>2018-04-28</td>\n",
       "      <td>0</td>\n",
       "      <td>16216</td>\n",
       "      <td>보건복지</td>\n",
       "      <td>저희 엄마 사망의 진실을 알려주십시오</td>\n",
       "      <td>저는 며칠 전 병원에서 엄마를 잃었습니다.\\n그런데 병원측의 너무나 어처구니 없는 ...</td>\n",
       "      <td>육아/교육</td>\n",
       "      <td>저는 며칠 전 병원에서 엄마를 잃었습니다  그런데 병원측의 너무나 어처구니 없는 대...</td>\n",
       "      <td>며칠 전 병원에서 엄마를 잃었습니다  그런데 병원측의 너무나 어처구니 대처로 억울하...</td>\n",
       "      <td>0</td>\n",
       "    </tr>\n",
       "    <tr>\n",
       "      <th>148648</th>\n",
       "      <td>179162</td>\n",
       "      <td>2018-03-29</td>\n",
       "      <td>2018-04-28</td>\n",
       "      <td>0</td>\n",
       "      <td>6698</td>\n",
       "      <td>육아/교육</td>\n",
       "      <td>총신대 사태의 희생양이된 학생들을 전과자로 만들어서는 결코 안됩니다.</td>\n",
       "      <td>간섭하려는 총회와 간섭 받지 않으려는 재단 사이의 갈등을 책임자들이 대화로 풀 수 ...</td>\n",
       "      <td>정치개혁</td>\n",
       "      <td>간섭하려는 총회와 간섭 받지 않으려는 재단 사이의 갈등을 책임자들이 대화로 풀 수 ...</td>\n",
       "      <td>간섭하려는 총회와 간섭 받지 않으려는 재단 사이의 갈등을 책임자들이 대화로 풀 없어...</td>\n",
       "      <td>0</td>\n",
       "    </tr>\n",
       "  </tbody>\n",
       "</table>\n",
       "</div>"
      ],
      "text/plain": [
       "        article_id      start        end  answered  votes category  \\\n",
       "148370      178795 2018-03-28 2018-04-27         0   9096       미래   \n",
       "148387      178819 2018-03-28 2018-04-27         0   3270       기타   \n",
       "148492      178954 2018-03-28 2018-04-27         0   2030    안전/환경   \n",
       "148635      179146 2018-03-29 2018-04-28         0  16216     보건복지   \n",
       "148648      179162 2018-03-29 2018-04-28         0   6698    육아/교육   \n",
       "\n",
       "                                                   title  \\\n",
       "148370  ★★★하남 자족U2(8-3,4,5,6) 이마트 대형 물류센터건립 절대 반대 합니다★★★   \n",
       "148387               실적압박으로 인한 자살 기억하시는지요...현재도 진행형입니다..   \n",
       "148492               김부겸 행정안전부 장관님께 정확한  사실관계 확인 부탁드립니다.   \n",
       "148635                              저희 엄마 사망의 진실을 알려주십시오   \n",
       "148648            총신대 사태의 희생양이된 학생들을 전과자로 만들어서는 결코 안됩니다.   \n",
       "\n",
       "                                                  content category_pred  \\\n",
       "148370  관련 기사입니다\\nhttp://daily.hankooki.com/lpage/econ...         안전/환경   \n",
       "148387  안녕하십니까.\\nkt 통신사 고객센터에 근무하는 와이프를 둔 가장입니다\\n알고계실지...        인권/성평등   \n",
       "148492  道 기획조정실, 일방적 사업 축소 반발 일자 신규채용 관련 감사도\\n소방관들 “업무...        인권/성평등   \n",
       "148635  저는 며칠 전 병원에서 엄마를 잃었습니다.\\n그런데 병원측의 너무나 어처구니 없는 ...         육아/교육   \n",
       "148648  간섭하려는 총회와 간섭 받지 않으려는 재단 사이의 갈등을 책임자들이 대화로 풀 수 ...          정치개혁   \n",
       "\n",
       "                                    content_preprocessing  \\\n",
       "148370  관련 기사입니다 http   daily hankooki com lpage econo...   \n",
       "148387  안녕하십니까  kt 통신사 고객센터에 근무하는 와이프를 둔 가장입니다 알고계실지 모...   \n",
       "148492    기획조정실  일방적 사업 축소 반발 일자 신규채용 관련 감사도 소방관들  업무영...   \n",
       "148635  저는 며칠 전 병원에서 엄마를 잃었습니다  그런데 병원측의 너무나 어처구니 없는 대...   \n",
       "148648  간섭하려는 총회와 간섭 받지 않으려는 재단 사이의 갈등을 책임자들이 대화로 풀 수 ...   \n",
       "\n",
       "                                   content_preprocessing2  pred_diff  \n",
       "148370  관련 기사입니다 http   daily hankooki com lpage econo...          0  \n",
       "148387  안녕하십니까  kt 통신사 고객센터에 근무하는 와이프를 둔 가장입니다 알고계실지 모...          0  \n",
       "148492    기획조정실  일방적 사업 축소 반발 일자 신규채용 관련 감사도 소방관들  업무영...          0  \n",
       "148635  며칠 전 병원에서 엄마를 잃었습니다  그런데 병원측의 너무나 어처구니 대처로 억울하...          0  \n",
       "148648  간섭하려는 총회와 간섭 받지 않으려는 재단 사이의 갈등을 책임자들이 대화로 풀 없어...          0  "
      ]
     },
     "execution_count": 53,
     "metadata": {},
     "output_type": "execute_result"
    }
   ],
   "source": [
    "predict_incorrect = df_test.loc[df_test['pred_diff'] == 0].copy()\n",
    "predict_incorrect.head()"
   ]
  },
  {
   "cell_type": "code",
   "execution_count": 54,
   "metadata": {},
   "outputs": [
    {
     "data": {
      "text/plain": [
       "인권/성평등         72\n",
       "정치개혁           51\n",
       "안전/환경          43\n",
       "기타             41\n",
       "보건복지           38\n",
       "교통/건축/국토       33\n",
       "문화/예술/체육/언론    32\n",
       "경제민주화          25\n",
       "행정             23\n",
       "육아/교육          21\n",
       "반려동물           19\n",
       "일자리            17\n",
       "외교/통일/국방       17\n",
       "농산어촌            5\n",
       "저출산/고령화대책       4\n",
       "미래              3\n",
       "성장동력            3\n",
       "Name: category, dtype: int64"
      ]
     },
     "execution_count": 54,
     "metadata": {},
     "output_type": "execute_result"
    }
   ],
   "source": [
    "predict_incorrect_value = predict_incorrect['category'].value_counts()\n",
    "predict_incorrect_value"
   ]
  },
  {
   "cell_type": "code",
   "execution_count": 55,
   "metadata": {},
   "outputs": [
    {
     "data": {
      "text/plain": [
       "<matplotlib.axes._subplots.AxesSubplot at 0x11b1545f8>"
      ]
     },
     "execution_count": 55,
     "metadata": {},
     "output_type": "execute_result"
    },
    {
     "data": {
      "image/png": "[encoded data removed]",
      "text/plain": [
       "<matplotlib.figure.Figure at 0x113a39ba8>"
      ]
     },
     "metadata": {},
     "output_type": "display_data"
    }
   ],
   "source": [
    "# 잘못 예측한 카테고리 중 인권/성평등 카테고리가 가장 많습니다.\n",
    "predict_incorrect_value.plot(kind='bar')"
   ]
  },
  {
   "cell_type": "markdown",
   "metadata": {},
   "source": [
    "# 왜 예측의 정확도가 낮을까요?\n",
    "* 청원을 입력하는 사람마다 카테고리 분류 기준이 정확하지 않은 것 같습니다.\n",
    "* 기타로 예측한 분류도 특정 카테고리로 분류해도 될 것으로 보여집니다."
   ]
  },
  {
   "cell_type": "code",
   "execution_count": 56,
   "metadata": {},
   "outputs": [
    {
     "data": {
      "text/html": [
       "<div>\n",
       "<style scoped>\n",
       "    .dataframe tbody tr th:only-of-type {\n",
       "        vertical-align: middle;\n",
       "    }\n",
       "\n",
       "    .dataframe tbody tr th {\n",
       "        vertical-align: top;\n",
       "    }\n",
       "\n",
       "    .dataframe thead th {\n",
       "        text-align: right;\n",
       "    }\n",
       "</style>\n",
       "<table border=\"1\" class=\"dataframe\">\n",
       "  <thead>\n",
       "    <tr style=\"text-align: right;\">\n",
       "      <th></th>\n",
       "      <th>category</th>\n",
       "      <th>category_pred</th>\n",
       "      <th>title</th>\n",
       "      <th>content</th>\n",
       "    </tr>\n",
       "  </thead>\n",
       "  <tbody>\n",
       "    <tr>\n",
       "      <th>148370</th>\n",
       "      <td>미래</td>\n",
       "      <td>안전/환경</td>\n",
       "      <td>★★★하남 자족U2(8-3,4,5,6) 이마트 대형 물류센터건립 절대 반대 합니다★★★</td>\n",
       "      <td>관련 기사입니다\\nhttp://daily.hankooki.com/lpage/econ...</td>\n",
       "    </tr>\n",
       "    <tr>\n",
       "      <th>148387</th>\n",
       "      <td>기타</td>\n",
       "      <td>인권/성평등</td>\n",
       "      <td>실적압박으로 인한 자살 기억하시는지요...현재도 진행형입니다..</td>\n",
       "      <td>안녕하십니까.\\nkt 통신사 고객센터에 근무하는 와이프를 둔 가장입니다\\n알고계실지...</td>\n",
       "    </tr>\n",
       "    <tr>\n",
       "      <th>148492</th>\n",
       "      <td>안전/환경</td>\n",
       "      <td>인권/성평등</td>\n",
       "      <td>김부겸 행정안전부 장관님께 정확한  사실관계 확인 부탁드립니다.</td>\n",
       "      <td>道 기획조정실, 일방적 사업 축소 반발 일자 신규채용 관련 감사도\\n소방관들 “업무...</td>\n",
       "    </tr>\n",
       "    <tr>\n",
       "      <th>148635</th>\n",
       "      <td>보건복지</td>\n",
       "      <td>육아/교육</td>\n",
       "      <td>저희 엄마 사망의 진실을 알려주십시오</td>\n",
       "      <td>저는 며칠 전 병원에서 엄마를 잃었습니다.\\n그런데 병원측의 너무나 어처구니 없는 ...</td>\n",
       "    </tr>\n",
       "    <tr>\n",
       "      <th>148648</th>\n",
       "      <td>육아/교육</td>\n",
       "      <td>정치개혁</td>\n",
       "      <td>총신대 사태의 희생양이된 학생들을 전과자로 만들어서는 결코 안됩니다.</td>\n",
       "      <td>간섭하려는 총회와 간섭 받지 않으려는 재단 사이의 갈등을 책임자들이 대화로 풀 수 ...</td>\n",
       "    </tr>\n",
       "    <tr>\n",
       "      <th>148763</th>\n",
       "      <td>교통/건축/국토</td>\n",
       "      <td>육아/교육</td>\n",
       "      <td>무책임한 집주인 및 임대사업자에 대한 대책을 마련해주세요</td>\n",
       "      <td>요즘 깡통전세 등 전세 세입자의 전재산으로 볼 수 있는 전세 보증금을 보장 받지 못...</td>\n",
       "    </tr>\n",
       "    <tr>\n",
       "      <th>148854</th>\n",
       "      <td>반려동물</td>\n",
       "      <td>육아/교육</td>\n",
       "      <td>동물보호법 강화 부탁드립니다</td>\n",
       "      <td>\"한 나라의 위대성과 그 도덕성은 동물들을 다루는 태도로 판단할 수 있다. 나는 나...</td>\n",
       "    </tr>\n",
       "    <tr>\n",
       "      <th>148958</th>\n",
       "      <td>안전/환경</td>\n",
       "      <td>기타</td>\n",
       "      <td>세월호 관련 청문회 위증한 조여옥 대위 징계바랍니다~</td>\n",
       "      <td>청문회때  실망했습니다.\\n조여옥대위는 징계해야 마땅합니다.</td>\n",
       "    </tr>\n",
       "    <tr>\n",
       "      <th>148990</th>\n",
       "      <td>보건복지</td>\n",
       "      <td>육아/교육</td>\n",
       "      <td>중국인들 건강보험 악용 막아주세요.</td>\n",
       "      <td>중국인들이  건강보험 악용하고 돌아가는 경우가 많은데 대책을 빨리 안세우고 뭐하는 ...</td>\n",
       "    </tr>\n",
       "    <tr>\n",
       "      <th>148999</th>\n",
       "      <td>문화/예술/체육/언론</td>\n",
       "      <td>기타</td>\n",
       "      <td>블랙하우스 폐지 반대</td>\n",
       "      <td>블랙하우스 폐지를 외치는자들에게 경종을 울리기 위해 이글을 씁니다\\n고 노무현 대통...</td>\n",
       "    </tr>\n",
       "  </tbody>\n",
       "</table>\n",
       "</div>"
      ],
      "text/plain": [
       "           category category_pred  \\\n",
       "148370           미래         안전/환경   \n",
       "148387           기타        인권/성평등   \n",
       "148492        안전/환경        인권/성평등   \n",
       "148635         보건복지         육아/교육   \n",
       "148648        육아/교육          정치개혁   \n",
       "148763     교통/건축/국토         육아/교육   \n",
       "148854         반려동물         육아/교육   \n",
       "148958        안전/환경            기타   \n",
       "148990         보건복지         육아/교육   \n",
       "148999  문화/예술/체육/언론            기타   \n",
       "\n",
       "                                                   title  \\\n",
       "148370  ★★★하남 자족U2(8-3,4,5,6) 이마트 대형 물류센터건립 절대 반대 합니다★★★   \n",
       "148387               실적압박으로 인한 자살 기억하시는지요...현재도 진행형입니다..   \n",
       "148492               김부겸 행정안전부 장관님께 정확한  사실관계 확인 부탁드립니다.   \n",
       "148635                              저희 엄마 사망의 진실을 알려주십시오   \n",
       "148648            총신대 사태의 희생양이된 학생들을 전과자로 만들어서는 결코 안됩니다.   \n",
       "148763                   무책임한 집주인 및 임대사업자에 대한 대책을 마련해주세요   \n",
       "148854                                   동물보호법 강화 부탁드립니다   \n",
       "148958                     세월호 관련 청문회 위증한 조여옥 대위 징계바랍니다~   \n",
       "148990                               중국인들 건강보험 악용 막아주세요.   \n",
       "148999                                       블랙하우스 폐지 반대   \n",
       "\n",
       "                                                  content  \n",
       "148370  관련 기사입니다\\nhttp://daily.hankooki.com/lpage/econ...  \n",
       "148387  안녕하십니까.\\nkt 통신사 고객센터에 근무하는 와이프를 둔 가장입니다\\n알고계실지...  \n",
       "148492  道 기획조정실, 일방적 사업 축소 반발 일자 신규채용 관련 감사도\\n소방관들 “업무...  \n",
       "148635  저는 며칠 전 병원에서 엄마를 잃었습니다.\\n그런데 병원측의 너무나 어처구니 없는 ...  \n",
       "148648  간섭하려는 총회와 간섭 받지 않으려는 재단 사이의 갈등을 책임자들이 대화로 풀 수 ...  \n",
       "148763  요즘 깡통전세 등 전세 세입자의 전재산으로 볼 수 있는 전세 보증금을 보장 받지 못...  \n",
       "148854  \"한 나라의 위대성과 그 도덕성은 동물들을 다루는 태도로 판단할 수 있다. 나는 나...  \n",
       "148958                  청문회때  실망했습니다.\\n조여옥대위는 징계해야 마땅합니다.  \n",
       "148990  중국인들이  건강보험 악용하고 돌아가는 경우가 많은데 대책을 빨리 안세우고 뭐하는 ...  \n",
       "148999  블랙하우스 폐지를 외치는자들에게 경종을 울리기 위해 이글을 씁니다\\n고 노무현 대통...  "
      ]
     },
     "execution_count": 56,
     "metadata": {},
     "output_type": "execute_result"
    }
   ],
   "source": [
    "predict_incorrect[['category', 'category_pred', 'title', 'content']].head(10)"
   ]
  },
  {
   "cell_type": "markdown",
   "metadata": {},
   "source": [
    "## 원래 데이터 중 기타로 분류되었으나 분류기가 다르게 예측한 청원을 봅니다."
   ]
  },
  {
   "cell_type": "code",
   "execution_count": 57,
   "metadata": {},
   "outputs": [
    {
     "data": {
      "text/html": [
       "<div>\n",
       "<style scoped>\n",
       "    .dataframe tbody tr th:only-of-type {\n",
       "        vertical-align: middle;\n",
       "    }\n",
       "\n",
       "    .dataframe tbody tr th {\n",
       "        vertical-align: top;\n",
       "    }\n",
       "\n",
       "    .dataframe thead th {\n",
       "        text-align: right;\n",
       "    }\n",
       "</style>\n",
       "<table border=\"1\" class=\"dataframe\">\n",
       "  <thead>\n",
       "    <tr style=\"text-align: right;\">\n",
       "      <th></th>\n",
       "      <th>category</th>\n",
       "      <th>category_pred</th>\n",
       "      <th>title</th>\n",
       "      <th>content</th>\n",
       "    </tr>\n",
       "  </thead>\n",
       "  <tbody>\n",
       "    <tr>\n",
       "      <th>148387</th>\n",
       "      <td>기타</td>\n",
       "      <td>인권/성평등</td>\n",
       "      <td>실적압박으로 인한 자살 기억하시는지요...현재도 진행형입니다..</td>\n",
       "      <td>안녕하십니까.\\nkt 통신사 고객센터에 근무하는 와이프를 둔 가장입니다\\n알고계실지...</td>\n",
       "    </tr>\n",
       "    <tr>\n",
       "      <th>152023</th>\n",
       "      <td>기타</td>\n",
       "      <td>정치개혁</td>\n",
       "      <td>전두환,노태우 경호 중지 시켜주세요.</td>\n",
       "      <td>tv를 보다가 아직도 전두환 경호를 경찰이 해준다는거 보고 놀랐습니다.\\n전두환과 ...</td>\n",
       "    </tr>\n",
       "    <tr>\n",
       "      <th>153495</th>\n",
       "      <td>기타</td>\n",
       "      <td>육아/교육</td>\n",
       "      <td>부모 같지 않은 부모들이 자식 주소지 조회 못 하게 해주세요</td>\n",
       "      <td>가정 폭력 소명하지 않아도 부모 같지 않은 부모들이 자식 주소지 조회 못 하게 해주...</td>\n",
       "    </tr>\n",
       "    <tr>\n",
       "      <th>155041</th>\n",
       "      <td>기타</td>\n",
       "      <td>문화/예술/체육/언론</td>\n",
       "      <td>제주도 24개월 아이 성폭행 사건 재조사를 부탁드립니다</td>\n",
       "      <td>https://www1.president.go.kr/petitions/187544?...</td>\n",
       "    </tr>\n",
       "    <tr>\n",
       "      <th>155272</th>\n",
       "      <td>기타</td>\n",
       "      <td>보건복지</td>\n",
       "      <td>삼성 이재용일가와 삼성증권 처벌과 대한민국 사법부의 개혁을 요구합니다</td>\n",
       "      <td>'승계작업' 존재는 부정... '삼성'만 웃었습니다\\n김 재판장은 \"승계작업과 관련...</td>\n",
       "    </tr>\n",
       "    <tr>\n",
       "      <th>155681</th>\n",
       "      <td>기타</td>\n",
       "      <td>육아/교육</td>\n",
       "      <td>동물들이 고통받는 '체험형 실내 동물원', 규제할 방안을 마련해주세요.</td>\n",
       "      <td>요즘 ‘체험형 실내 동물원’이 유행하고 있습니다. 실내에 있기 때문에 이동이 편하고...</td>\n",
       "    </tr>\n",
       "    <tr>\n",
       "      <th>157353</th>\n",
       "      <td>기타</td>\n",
       "      <td>미래</td>\n",
       "      <td>어버이날 휴일지정 반대합니다</td>\n",
       "      <td>어버이날을 휴일로 지정하여 연휴를 늘리는 것\\n반대합니다.\\n경제적 부담이 크고 명...</td>\n",
       "    </tr>\n",
       "    <tr>\n",
       "      <th>158445</th>\n",
       "      <td>기타</td>\n",
       "      <td>육아/교육</td>\n",
       "      <td>&lt;&lt;불합리한 식품위생법 개정과 청소년 음주 관용에 대한 청소년 보호법 개정을 위한 ...</td>\n",
       "      <td>&lt;&lt;불합리한 식품위생법 개정과 청소년 음주 관용에 대한 청소년 보호법 개정을 위한 ...</td>\n",
       "    </tr>\n",
       "    <tr>\n",
       "      <th>160960</th>\n",
       "      <td>기타</td>\n",
       "      <td>육아/교육</td>\n",
       "      <td>대한항공 개인회사의 \"대한\" , 영문명 \"korean air\" 의 명칭 사용금지 요청</td>\n",
       "      <td>대한항공은 1969년 3월 민영화되어  운영되고 있는 민간 사기업입니다. 더군다나 ...</td>\n",
       "    </tr>\n",
       "    <tr>\n",
       "      <th>161075</th>\n",
       "      <td>기타</td>\n",
       "      <td>미래</td>\n",
       "      <td>대한항공 -&gt; 한진항공으로!!</td>\n",
       "      <td>대한은 대한민국을 의미합니다.\\n처음 조현아의 땅콩회항 사건 때 실시해야 했습니다....</td>\n",
       "    </tr>\n",
       "  </tbody>\n",
       "</table>\n",
       "</div>"
      ],
      "text/plain": [
       "       category category_pred  \\\n",
       "148387       기타        인권/성평등   \n",
       "152023       기타          정치개혁   \n",
       "153495       기타         육아/교육   \n",
       "155041       기타   문화/예술/체육/언론   \n",
       "155272       기타          보건복지   \n",
       "155681       기타         육아/교육   \n",
       "157353       기타            미래   \n",
       "158445       기타         육아/교육   \n",
       "160960       기타         육아/교육   \n",
       "161075       기타            미래   \n",
       "\n",
       "                                                    title  \\\n",
       "148387                실적압박으로 인한 자살 기억하시는지요...현재도 진행형입니다..   \n",
       "152023                               전두환,노태우 경호 중지 시켜주세요.   \n",
       "153495                  부모 같지 않은 부모들이 자식 주소지 조회 못 하게 해주세요   \n",
       "155041                     제주도 24개월 아이 성폭행 사건 재조사를 부탁드립니다   \n",
       "155272             삼성 이재용일가와 삼성증권 처벌과 대한민국 사법부의 개혁을 요구합니다   \n",
       "155681            동물들이 고통받는 '체험형 실내 동물원', 규제할 방안을 마련해주세요.   \n",
       "157353                                    어버이날 휴일지정 반대합니다   \n",
       "158445  <<불합리한 식품위생법 개정과 청소년 음주 관용에 대한 청소년 보호법 개정을 위한 ...   \n",
       "160960    대한항공 개인회사의 \"대한\" , 영문명 \"korean air\" 의 명칭 사용금지 요청   \n",
       "161075                                   대한항공 -> 한진항공으로!!   \n",
       "\n",
       "                                                  content  \n",
       "148387  안녕하십니까.\\nkt 통신사 고객센터에 근무하는 와이프를 둔 가장입니다\\n알고계실지...  \n",
       "152023  tv를 보다가 아직도 전두환 경호를 경찰이 해준다는거 보고 놀랐습니다.\\n전두환과 ...  \n",
       "153495  가정 폭력 소명하지 않아도 부모 같지 않은 부모들이 자식 주소지 조회 못 하게 해주...  \n",
       "155041  https://www1.president.go.kr/petitions/187544?...  \n",
       "155272  '승계작업' 존재는 부정... '삼성'만 웃었습니다\\n김 재판장은 \"승계작업과 관련...  \n",
       "155681  요즘 ‘체험형 실내 동물원’이 유행하고 있습니다. 실내에 있기 때문에 이동이 편하고...  \n",
       "157353  어버이날을 휴일로 지정하여 연휴를 늘리는 것\\n반대합니다.\\n경제적 부담이 크고 명...  \n",
       "158445  <<불합리한 식품위생법 개정과 청소년 음주 관용에 대한 청소년 보호법 개정을 위한 ...  \n",
       "160960  대한항공은 1969년 3월 민영화되어  운영되고 있는 민간 사기업입니다. 더군다나 ...  \n",
       "161075  대한은 대한민국을 의미합니다.\\n처음 조현아의 땅콩회항 사건 때 실시해야 했습니다....  "
      ]
     },
     "execution_count": 57,
     "metadata": {},
     "output_type": "execute_result"
    }
   ],
   "source": [
    "predict_incorrect_etc = predict_incorrect.loc[predict_incorrect['category'] == '기타'].copy()\n",
    "predict_incorrect_etc[['category', 'category_pred', 'title', 'content']].head(10)"
   ]
  },
  {
   "cell_type": "markdown",
   "metadata": {},
   "source": [
    "## 아래의 예측비율을 높여보세요. \n",
    "* 학습 세트와 테스트 세트의 비율을 7:3으로 유지하도록 하고 다음의 방법들을 사용해 볼 수 있습니다. \n",
    "* 아래 항목 외의 기법을 사용해도 됩니다.\n",
    " * 전처리 하기\n",
    " * 불용어 처리\n",
    " * 벡터 기법에 들어가는 파라메터 변경\n",
    " * 분류기의 파라메터 변경\n",
    " * 분류기 변경"
   ]
  },
  {
   "cell_type": "code",
   "execution_count": 58,
   "metadata": {},
   "outputs": [
    {
     "name": "stdout",
     "output_type": "stream",
     "text": [
      "정답 예측 비율 11.834319526627219\n"
     ]
    }
   ],
   "source": [
    "acc = ( pred_diff[1] / y_pred.shape[0] )*100 \n",
    "print('정답 예측 비율 {}'.format(acc))"
   ]
  },
  {
   "cell_type": "code",
   "execution_count": null,
   "metadata": {},
   "outputs": [],
   "source": []
  }
 ],
 "metadata": {
  "kernelspec": {
   "display_name": "Python 3",
   "language": "python",
   "name": "python3"
  },
  "language_info": {
   "codemirror_mode": {
    "name": "ipython",
    "version": 3
   },
   "file_extension": ".py",
   "mimetype": "text/x-python",
   "name": "python",
   "nbconvert_exporter": "python",
   "pygments_lexer": "ipython3",
   "version": "3.6.1"
  }
 },
 "nbformat": 4,
 "nbformat_minor": 2
}
